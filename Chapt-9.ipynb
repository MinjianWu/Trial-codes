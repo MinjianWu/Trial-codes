{
 "cells": [
  {
   "cell_type": "code",
   "execution_count": 98,
   "id": "tight-insurance",
   "metadata": {
    "ExecuteTime": {
     "end_time": "2021-06-06T14:58:40.660722Z",
     "start_time": "2021-06-06T14:58:40.656658Z"
    }
   },
   "outputs": [],
   "source": [
    "import numpy as np\n",
    "import matplotlib.pyplot as plt\n",
    "from sklearn.datasets import make_blobs\n",
    "from sklearn.datasets import load_digits\n",
    "from sklearn.datasets import make_moons\n",
    "\n",
    "from sklearn.model_selection import train_test_split\n",
    "from sklearn.model_selection import GridSearchCV\n",
    "\n",
    "from sklearn.pipeline import Pipeline\n",
    "from sklearn.linear_model import LogisticRegression\n",
    "from sklearn.neighbors import KNeighborsClassifier\n",
    "\n",
    "from sklearn.cluster import KMeans  # distances to k cluster centroids\n",
    "from sklearn.cluster import DBSCAN  # density based for irregular shaped clusters\n",
    "from sklearn.mixture import GaussianMixture  # center (μ), shape & orientation (∑), weight (ϕ)\n",
    "from sklearn.mixture import BayesianGaussianMixture  # helps to remove unnecessary clusters"
   ]
  },
  {
   "cell_type": "code",
   "execution_count": 2,
   "id": "vanilla-scotland",
   "metadata": {
    "ExecuteTime": {
     "end_time": "2021-06-03T22:02:58.170059Z",
     "start_time": "2021-06-03T22:02:57.773185Z"
    }
   },
   "outputs": [
    {
     "data": {
      "image/png": "[encoded data removed]",
      "text/plain": [
       "<Figure size 576x288 with 1 Axes>"
      ]
     },
     "metadata": {
      "needs_background": "light"
     },
     "output_type": "display_data"
    }
   ],
   "source": [
    "# load and plot the cluster dataset\n",
    "blob_centers = np.array(\n",
    "    [[ 0.2,  2.3],\n",
    "     [-1.5 ,  2.3],\n",
    "     [-2.8,  1.8],\n",
    "     [-2.8,  2.8],\n",
    "     [-2.8,  1.3]])\n",
    "blob_std = np.array([0.4, 0.3, 0.1, 0.1, 0.1])\n",
    "\n",
    "X, y = make_blobs(n_samples=2000, centers=blob_centers,\n",
    "                  cluster_std=blob_std, random_state=7)  # y is unknown for unsupervised learning\n",
    "\n",
    "plt.figure(figsize=(8, 4))\n",
    "plt.scatter(X[:, 0], X[:, 1], s=1)\n",
    "plt.xlabel(\"$x_1$\", fontsize=14)\n",
    "plt.ylabel(\"$x_2$\", fontsize=14, rotation=0);"
   ]
  },
  {
   "cell_type": "code",
   "execution_count": 3,
   "id": "patent-sculpture",
   "metadata": {
    "ExecuteTime": {
     "end_time": "2021-06-03T22:02:58.235061Z",
     "start_time": "2021-06-03T22:02:58.171395Z"
    }
   },
   "outputs": [
    {
     "data": {
      "text/plain": [
       "array([0, 4, 3, ..., 2, 3, 4], dtype=int32)"
      ]
     },
     "execution_count": 3,
     "metadata": {},
     "output_type": "execute_result"
    }
   ],
   "source": [
    "# clearly there are 5 clusters\n",
    "k = 5\n",
    "kmeans = KMeans(n_clusters=k)  # random initial cluster centroids, default run for 10 times\n",
    "y_pred = kmeans.fit_predict(X)\n",
    "y_pred"
   ]
  },
  {
   "cell_type": "code",
   "execution_count": 4,
   "id": "loaded-clause",
   "metadata": {
    "ExecuteTime": {
     "end_time": "2021-06-03T22:02:58.241403Z",
     "start_time": "2021-06-03T22:02:58.237048Z"
    }
   },
   "outputs": [
    {
     "data": {
      "text/plain": [
       "array([4, 2, 0, ..., 3, 0, 2])"
      ]
     },
     "execution_count": 4,
     "metadata": {},
     "output_type": "execute_result"
    }
   ],
   "source": [
    "y  # provided by make_blobs dataset"
   ]
  },
  {
   "cell_type": "code",
   "execution_count": 5,
   "id": "raising-answer",
   "metadata": {
    "ExecuteTime": {
     "end_time": "2021-06-03T22:02:58.248056Z",
     "start_time": "2021-06-03T22:02:58.243498Z"
    }
   },
   "outputs": [
    {
     "data": {
      "text/plain": [
       "array([[-2.80037642,  1.30082566],\n",
       "       [-1.46679593,  2.28585348],\n",
       "       [-2.79290307,  2.79641063],\n",
       "       [ 0.20876306,  2.25551336],\n",
       "       [-2.80389616,  1.80117999]])"
      ]
     },
     "execution_count": 5,
     "metadata": {},
     "output_type": "execute_result"
    }
   ],
   "source": [
    "kmeans.cluster_centers_"
   ]
  },
  {
   "cell_type": "code",
   "execution_count": 6,
   "id": "failing-nickname",
   "metadata": {
    "ExecuteTime": {
     "end_time": "2021-06-03T22:02:58.254568Z",
     "start_time": "2021-06-03T22:02:58.250137Z"
    }
   },
   "outputs": [
    {
     "data": {
      "text/plain": [
       "array([[ 0.2,  2.3],\n",
       "       [-1.5,  2.3],\n",
       "       [-2.8,  1.8],\n",
       "       [-2.8,  2.8],\n",
       "       [-2.8,  1.3]])"
      ]
     },
     "execution_count": 6,
     "metadata": {},
     "output_type": "execute_result"
    }
   ],
   "source": [
    "blob_centers  # provided by make_blobs dataset"
   ]
  },
  {
   "cell_type": "code",
   "execution_count": 7,
   "id": "likely-oakland",
   "metadata": {
    "ExecuteTime": {
     "end_time": "2021-06-03T22:02:58.265567Z",
     "start_time": "2021-06-03T22:02:58.261430Z"
    }
   },
   "outputs": [
    {
     "data": {
      "text/plain": [
       "211.59853725816828"
      ]
     },
     "execution_count": 7,
     "metadata": {},
     "output_type": "execute_result"
    }
   ],
   "source": [
    "kmeans.inertia_  # performace metric that measures mean squared distances from all centroids"
   ]
  },
  {
   "cell_type": "code",
   "execution_count": 8,
   "id": "loose-above",
   "metadata": {
    "ExecuteTime": {
     "end_time": "2021-06-03T22:02:58.276285Z",
     "start_time": "2021-06-03T22:02:58.269973Z"
    }
   },
   "outputs": [
    {
     "data": {
      "text/plain": [
       "-211.5985372581683"
      ]
     },
     "execution_count": 8,
     "metadata": {},
     "output_type": "execute_result"
    }
   ],
   "source": [
    "kmeans.score(X)  # no y as unsupervised"
   ]
  },
  {
   "cell_type": "code",
   "execution_count": 9,
   "id": "abandoned-comfort",
   "metadata": {
    "ExecuteTime": {
     "end_time": "2021-06-03T22:02:58.284596Z",
     "start_time": "2021-06-03T22:02:58.278921Z"
    }
   },
   "outputs": [
    {
     "data": {
      "text/plain": [
       "array([3, 3, 2, 2], dtype=int32)"
      ]
     },
     "execution_count": 9,
     "metadata": {},
     "output_type": "execute_result"
    }
   ],
   "source": [
    "X_new = np.array([[0, 2], [3, 2], [-3, 3], [-3, 2.5]])\n",
    "kmeans.predict(X_new)"
   ]
  },
  {
   "cell_type": "code",
   "execution_count": 10,
   "id": "proof-decrease",
   "metadata": {
    "ExecuteTime": {
     "end_time": "2021-06-03T22:02:58.292614Z",
     "start_time": "2021-06-03T22:02:58.286936Z"
    }
   },
   "outputs": [
    {
     "data": {
      "text/plain": [
       "array([[2.88633901, 1.49439034, 2.9042344 , 0.32995317, 2.81093633],\n",
       "       [5.84236351, 4.4759332 , 5.84739223, 2.80290755, 5.80730058],\n",
       "       [1.71086031, 1.69136631, 0.29040966, 3.29399768, 1.21475352],\n",
       "       [1.21567622, 1.54808703, 0.36159148, 3.21806371, 0.72581411]])"
      ]
     },
     "execution_count": 10,
     "metadata": {},
     "output_type": "execute_result"
    }
   ],
   "source": [
    "kmeans.transform(X_new)  # 5 distances to 5 centroids for each of the 4 instances"
   ]
  },
  {
   "cell_type": "code",
   "execution_count": 11,
   "id": "suitable-crossing",
   "metadata": {
    "ExecuteTime": {
     "end_time": "2021-06-03T22:02:58.306655Z",
     "start_time": "2021-06-03T22:02:58.295743Z"
    }
   },
   "outputs": [
    {
     "data": {
      "text/plain": [
       "211.5985372581683"
      ]
     },
     "execution_count": 11,
     "metadata": {},
     "output_type": "execute_result"
    }
   ],
   "source": [
    "good_init = np.array([[-3, 3], [-3, 2], [-3, 1], [-1, 2], [0, 2]])  # guess initial centroids locations\n",
    "kmeans_guessed = KMeans(n_clusters=k, init=good_init, n_init=1)  # initialise once with the good guess\n",
    "kmeans_guessed.fit(X)\n",
    "\n",
    "kmeans_guessed.inertia_"
   ]
  },
  {
   "cell_type": "code",
   "execution_count": 12,
   "id": "portuguese-telling",
   "metadata": {
    "ExecuteTime": {
     "end_time": "2021-06-03T22:02:59.315447Z",
     "start_time": "2021-06-03T22:02:58.309051Z"
    }
   },
   "outputs": [
    {
     "data": {
      "text/plain": [
       "0.96"
      ]
     },
     "execution_count": 12,
     "metadata": {},
     "output_type": "execute_result"
    }
   ],
   "source": [
    "# classification with standard logistic regression\n",
    "X_digits, y_digits = load_digits(return_X_y=True)\n",
    "\n",
    "X_train, X_test, y_train, y_test = train_test_split(X_digits, y_digits)\n",
    "\n",
    "log_reg = LogisticRegression(multi_class=\"ovr\", solver=\"lbfgs\", max_iter=5000)\n",
    "log_reg.fit(X_train, y_train)\n",
    "log_reg.score(X_test, y_test)"
   ]
  },
  {
   "cell_type": "code",
   "execution_count": 13,
   "id": "bored-compound",
   "metadata": {
    "ExecuteTime": {
     "end_time": "2021-06-03T22:03:02.951078Z",
     "start_time": "2021-06-03T22:02:59.317075Z"
    }
   },
   "outputs": [
    {
     "data": {
      "text/plain": [
       "0.9755555555555555"
      ]
     },
     "execution_count": 13,
     "metadata": {},
     "output_type": "execute_result"
    }
   ],
   "source": [
    "# pre-process data with KMeans to boost classification performance:\n",
    "pipeline = Pipeline([('kmeans', KMeans(n_clusters=50)),  # to reduce dimensionality\n",
    "                     ('log_reg', LogisticRegression(multi_class=\"ovr\", solver=\"lbfgs\", max_iter=5000))])\n",
    "pipeline.fit(X_train, y_train)  \n",
    "pipeline.score(X_test, y_test)  # transformed data are more linearly separable"
   ]
  },
  {
   "cell_type": "code",
   "execution_count": 14,
   "id": "authentic-poison",
   "metadata": {
    "ExecuteTime": {
     "end_time": "2021-06-03T22:14:31.583364Z",
     "start_time": "2021-06-03T22:03:02.952754Z"
    }
   },
   "outputs": [
    {
     "name": "stdout",
     "output_type": "stream",
     "text": [
      "{'kmeans__n_clusters': 81}\n"
     ]
    },
    {
     "data": {
      "text/plain": [
       "0.9844444444444445"
      ]
     },
     "execution_count": 14,
     "metadata": {},
     "output_type": "execute_result"
    }
   ],
   "source": [
    "# now we can use grid search to find the best n_clusters parameter \n",
    "# as grid search is only compatible with supervised learning (LR in the pipeline)\n",
    "param_grid = {'kmeans__n_clusters': range(2, 100)}  # double underscore!\n",
    "grid_clf = GridSearchCV(pipeline, param_grid, cv=3)\n",
    "grid_clf.fit(X_train, y_train)\n",
    "\n",
    "print(grid_clf.best_params_)\n",
    "grid_clf.score(X_test, y_test)"
   ]
  },
  {
   "cell_type": "code",
   "execution_count": 35,
   "id": "mexican-vegetable",
   "metadata": {
    "ExecuteTime": {
     "end_time": "2021-06-04T07:33:01.106243Z",
     "start_time": "2021-06-04T07:33:00.779372Z"
    }
   },
   "outputs": [
    {
     "data": {
      "text/plain": [
       "array([ 110, 1092,  539,  345, 1240,  392,  896,  726, 1273, 1003, 1061,\n",
       "       1136, 1305,  511,  676,  386,    6,  141,  627,  341,  577, 1232,\n",
       "        490,  142,  579,  621,  330,  467, 1042,  623, 1035,  768,  322,\n",
       "        457,  971,  499, 1149, 1036,  748,  769, 1109,   30, 1040, 1192,\n",
       "       1058,  880,  810, 1038,  689,  906])"
      ]
     },
     "execution_count": 35,
     "metadata": {},
     "output_type": "execute_result"
    }
   ],
   "source": [
    "# semi-supervised learning (few labeled data)\n",
    "k = 50\n",
    "kmeans = KMeans(n_clusters=k, random_state=42)\n",
    "X_digits_dist = kmeans.fit_transform(X_train)  # distance to each centroid\n",
    "representative_digit_idx = np.argmin(X_digits_dist, axis=0)  # the closest instance to each centroid\n",
    "representative_digit_idx"
   ]
  },
  {
   "cell_type": "code",
   "execution_count": 36,
   "id": "scientific-franklin",
   "metadata": {
    "ExecuteTime": {
     "end_time": "2021-06-04T07:33:04.222930Z",
     "start_time": "2021-06-04T07:33:01.882988Z"
    }
   },
   "outputs": [
    {
     "data": {
      "image/png": "[encoded data removed]",
      "text/plain": [
       "<Figure size 576x144 with 50 Axes>"
      ]
     },
     "metadata": {
      "needs_background": "light"
     },
     "output_type": "display_data"
    }
   ],
   "source": [
    "X_representative_digits = X_train[representative_digit_idx]\n",
    "\n",
    "# plot these representative digits and manually lable the y's\n",
    "plt.figure(figsize=(8, 2))\n",
    "for index, X_representative_digit in enumerate(X_representative_digits):\n",
    "    plt.subplot(k // 10, 10, index + 1)\n",
    "    plt.imshow(X_representative_digit.reshape(8, 8), cmap=\"binary\", interpolation=\"bilinear\");"
   ]
  },
  {
   "cell_type": "code",
   "execution_count": 37,
   "id": "first-workplace",
   "metadata": {
    "ExecuteTime": {
     "end_time": "2021-06-04T07:33:07.629026Z",
     "start_time": "2021-06-04T07:33:07.625383Z"
    }
   },
   "outputs": [],
   "source": [
    "# manually lable the y's as this is unsupervised learning\n",
    "y_representative_digits = np.array([\n",
    "    9, 4, 2, 6, 7, 0, 3, 8, 5, 4,\n",
    "    2, 1, 8, 5, 1, 8, 2, 9, 1, 7,\n",
    "    4, 6, 4, 8, 7, 6, 7, 0, 1, 9,\n",
    "    3, 8, 1, 5, 2, 5, 9, 2, 1, 3,\n",
    "    4, 7, 9, 4, 7, 5, 0, 3, 6, 1])"
   ]
  },
  {
   "cell_type": "code",
   "execution_count": 38,
   "id": "incident-greenhouse",
   "metadata": {
    "ExecuteTime": {
     "end_time": "2021-06-04T07:33:08.393715Z",
     "start_time": "2021-06-04T07:33:08.249538Z"
    }
   },
   "outputs": [
    {
     "data": {
      "text/plain": [
       "0.8866666666666667"
      ]
     },
     "execution_count": 38,
     "metadata": {},
     "output_type": "execute_result"
    }
   ],
   "source": [
    "# now use these representative (~center of each cluster) instances to train the whole dataset\n",
    "log_reg = LogisticRegression(multi_class=\"ovr\", solver=\"lbfgs\", max_iter=5000, random_state=42)\n",
    "log_reg.fit(X_representative_digits, y_representative_digits)\n",
    "log_reg.score(X_test, y_test)  # (if we had those y_test labels)"
   ]
  },
  {
   "cell_type": "code",
   "execution_count": 39,
   "id": "fantastic-armor",
   "metadata": {
    "ExecuteTime": {
     "end_time": "2021-06-04T07:35:35.386975Z",
     "start_time": "2021-06-04T07:35:35.383311Z"
    }
   },
   "outputs": [
    {
     "data": {
      "text/plain": [
       "array([27, 25, 35, ..., 45,  7, 12], dtype=int32)"
      ]
     },
     "execution_count": 39,
     "metadata": {},
     "output_type": "execute_result"
    }
   ],
   "source": [
    "kmeans.labels_"
   ]
  },
  {
   "cell_type": "code",
   "execution_count": 41,
   "id": "adequate-nowhere",
   "metadata": {
    "ExecuteTime": {
     "end_time": "2021-06-04T07:54:10.791568Z",
     "start_time": "2021-06-04T07:54:09.828706Z"
    }
   },
   "outputs": [
    {
     "data": {
      "text/plain": [
       "0.9133333333333333"
      ]
     },
     "execution_count": 41,
     "metadata": {},
     "output_type": "execute_result"
    }
   ],
   "source": [
    "# propagate the representative instances to all instances based on cluster labels\n",
    "y_train_propagated = np.empty(len(X_train), dtype=np.int32)\n",
    "for i in range(k):\n",
    "    y_train_propagated[kmeans.labels_ == i] = y_representative_digits[i]  # k distinct clusters\n",
    "\n",
    "# now use this to train the whole dataset     \n",
    "log_reg_propagated = LogisticRegression(multi_class=\"ovr\", solver=\"lbfgs\", max_iter=5000, random_state=42)\n",
    "log_reg_propagated.fit(X_train, y_train_propagated)\n",
    "log_reg_propagated.score(X_test, y_test)"
   ]
  },
  {
   "cell_type": "code",
   "execution_count": 53,
   "id": "constitutional-dubai",
   "metadata": {
    "ExecuteTime": {
     "end_time": "2021-06-05T09:52:18.915831Z",
     "start_time": "2021-06-05T09:52:18.905416Z"
    }
   },
   "outputs": [
    {
     "data": {
      "text/plain": [
       "DBSCAN(eps=0.05)"
      ]
     },
     "execution_count": 53,
     "metadata": {},
     "output_type": "execute_result"
    }
   ],
   "source": [
    "X, y = make_moons(n_samples=1000, noise=0.05, random_state=42)\n",
    "dbscan = DBSCAN(eps=0.05, min_samples=5)  # radius, number of points required within the radius\n",
    "dbscan.fit(X)"
   ]
  },
  {
   "cell_type": "code",
   "execution_count": 55,
   "id": "alive-enlargement",
   "metadata": {
    "ExecuteTime": {
     "end_time": "2021-06-05T09:52:30.071561Z",
     "start_time": "2021-06-05T09:52:30.067793Z"
    }
   },
   "outputs": [
    {
     "data": {
      "text/plain": [
       "array([ 0,  2, -1, -1,  1,  0,  0,  0,  2,  5,  2,  3,  0,  2,  2,  2,  4,\n",
       "        2,  2,  4])"
      ]
     },
     "execution_count": 55,
     "metadata": {},
     "output_type": "execute_result"
    }
   ],
   "source": [
    "dbscan.labels_[:20]  # '-1' indicates outliers (not clustered)"
   ]
  },
  {
   "cell_type": "code",
   "execution_count": 57,
   "id": "ultimate-advantage",
   "metadata": {
    "ExecuteTime": {
     "end_time": "2021-06-05T09:55:14.422635Z",
     "start_time": "2021-06-05T09:55:14.419013Z"
    }
   },
   "outputs": [
    {
     "data": {
      "text/plain": [
       "808"
      ]
     },
     "execution_count": 57,
     "metadata": {},
     "output_type": "execute_result"
    }
   ],
   "source": [
    "len(dbscan.core_sample_indices_)  # count instances clustered (i.e. excl. outliers)"
   ]
  },
  {
   "cell_type": "code",
   "execution_count": 56,
   "id": "disabled-mainstream",
   "metadata": {
    "ExecuteTime": {
     "end_time": "2021-06-05T09:54:19.565975Z",
     "start_time": "2021-06-05T09:54:19.554856Z"
    }
   },
   "outputs": [
    {
     "data": {
      "text/plain": [
       "array([0, 0, 0, 0, 1, 0, 0, 0, 0, 1, 0, 1, 0, 0, 0, 0, 1, 0, 0, 1])"
      ]
     },
     "execution_count": 56,
     "metadata": {},
     "output_type": "execute_result"
    }
   ],
   "source": [
    "dbscan_better = DBSCAN(eps=0.2, min_samples=5)  # wider scan to cover the 'outliers'\n",
    "dbscan_better.fit(X)\n",
    "dbscan_better.labels_[:20]"
   ]
  },
  {
   "cell_type": "code",
   "execution_count": 58,
   "id": "sunset-session",
   "metadata": {
    "ExecuteTime": {
     "end_time": "2021-06-05T09:55:24.740279Z",
     "start_time": "2021-06-05T09:55:24.736766Z"
    }
   },
   "outputs": [
    {
     "data": {
      "text/plain": [
       "1000"
      ]
     },
     "execution_count": 58,
     "metadata": {},
     "output_type": "execute_result"
    }
   ],
   "source": [
    "len(dbscan_better.core_sample_indices_)"
   ]
  },
  {
   "cell_type": "code",
   "execution_count": 60,
   "id": "hollywood-final",
   "metadata": {
    "ExecuteTime": {
     "end_time": "2021-06-05T10:05:30.397894Z",
     "start_time": "2021-06-05T10:05:30.394098Z"
    }
   },
   "outputs": [
    {
     "data": {
      "text/plain": [
       "array([[-0.02137124,  0.40618608],\n",
       "       [ 0.97670045, -0.45832306],\n",
       "       [ 0.90405882, -0.37651952],\n",
       "       [ 0.37736316, -0.39703717],\n",
       "       [-0.84192557,  0.53058695]])"
      ]
     },
     "execution_count": 60,
     "metadata": {},
     "output_type": "execute_result"
    }
   ],
   "source": [
    "dbscan_better.components_[:5]  # clustered core instances (X)"
   ]
  },
  {
   "cell_type": "code",
   "execution_count": 71,
   "id": "automated-wings",
   "metadata": {
    "ExecuteTime": {
     "end_time": "2021-06-05T16:10:26.474642Z",
     "start_time": "2021-06-05T16:10:26.463697Z"
    }
   },
   "outputs": [
    {
     "data": {
      "text/plain": [
       "array([1, 0, 1, 0])"
      ]
     },
     "execution_count": 71,
     "metadata": {},
     "output_type": "execute_result"
    }
   ],
   "source": [
    "# DBSCAN does NOT have a .predict() method so we have to follow up with other algorithms\n",
    "knn = KNeighborsClassifier(n_neighbors=50)\n",
    "knn.fit(dbscan_better.components_, \n",
    "        dbscan_better.labels_[dbscan_better.core_sample_indices_])  # fit clustered instances to knn classifier\n",
    "\n",
    "X_new = np.array([[-0.5, 0], [0, 0.5], [1, -0.1], [2, 1]])\n",
    "y_pred = knn.predict(X_new)  # use KNN to predict based on clusters fit with DBSCAN\n",
    "y_pred"
   ]
  },
  {
   "cell_type": "code",
   "execution_count": 72,
   "id": "pending-reception",
   "metadata": {
    "ExecuteTime": {
     "end_time": "2021-06-05T16:10:36.322492Z",
     "start_time": "2021-06-05T16:10:36.316906Z"
    }
   },
   "outputs": [
    {
     "data": {
      "text/plain": [
       "array([[0.18, 0.82],\n",
       "       [1.  , 0.  ],\n",
       "       [0.12, 0.88],\n",
       "       [1.  , 0.  ]])"
      ]
     },
     "execution_count": 72,
     "metadata": {},
     "output_type": "execute_result"
    }
   ],
   "source": [
    "knn.predict_proba(X_new)"
   ]
  },
  {
   "cell_type": "code",
   "execution_count": 73,
   "id": "thermal-collar",
   "metadata": {
    "ExecuteTime": {
     "end_time": "2021-06-05T16:10:42.006260Z",
     "start_time": "2021-06-05T16:10:42.001195Z"
    }
   },
   "outputs": [
    {
     "data": {
      "text/plain": [
       "(array([[0.43045422],\n",
       "        [0.02225568],\n",
       "        [0.06010476],\n",
       "        [0.48399468]]),\n",
       " array([[909],\n",
       "        [325],\n",
       "        [915],\n",
       "        [231]]))"
      ]
     },
     "execution_count": 73,
     "metadata": {},
     "output_type": "execute_result"
    }
   ],
   "source": [
    "# we can also control if a prediction should be an outlier (anomaly)\n",
    "y_dist, y_pred_idx = knn.kneighbors(X_new, n_neighbors=1)\n",
    "y_dist, y_pred_idx  # new instances' distance to the closest neighbor and the id of that neighbor "
   ]
  },
  {
   "cell_type": "code",
   "execution_count": 75,
   "id": "congressional-clearance",
   "metadata": {
    "ExecuteTime": {
     "end_time": "2021-06-05T16:11:42.377013Z",
     "start_time": "2021-06-05T16:11:42.373056Z"
    }
   },
   "outputs": [
    {
     "data": {
      "text/plain": [
       "array([-1,  0,  1, -1])"
      ]
     },
     "execution_count": 75,
     "metadata": {},
     "output_type": "execute_result"
    }
   ],
   "source": [
    "# make instances further than 0.2 distances from the closest neighbor an outlier\n",
    "y_pred.reshape(-1, 1)[y_dist > 0.2] = -1  \n",
    "y_pred.ravel()"
   ]
  },
  {
   "cell_type": "code",
   "execution_count": 76,
   "id": "extreme-boating",
   "metadata": {
    "ExecuteTime": {
     "end_time": "2021-06-05T23:20:45.713110Z",
     "start_time": "2021-06-05T23:20:45.693934Z"
    }
   },
   "outputs": [],
   "source": [
    "# prepare data for Gaussian Mixture Model (EM algorithm)\n",
    "X1, y1 = make_blobs(n_samples=1000, centers=((4, -4), (0, 0)), random_state=42)\n",
    "X1 = X1.dot(np.array([[0.374, 0.95], [0.732, 0.598]]))\n",
    "X2, y2 = make_blobs(n_samples=250, centers=1, random_state=42)\n",
    "X2 = X2 + [6, -8]\n",
    "X = np.r_[X1, X2]\n",
    "y = np.r_[y1, y2]"
   ]
  },
  {
   "cell_type": "code",
   "execution_count": 78,
   "id": "presidential-symposium",
   "metadata": {
    "ExecuteTime": {
     "end_time": "2021-06-05T23:25:47.719188Z",
     "start_time": "2021-06-05T23:25:47.606317Z"
    }
   },
   "outputs": [
    {
     "data": {
      "text/plain": [
       "GaussianMixture(n_components=3, n_init=10)"
      ]
     },
     "execution_count": 78,
     "metadata": {},
     "output_type": "execute_result"
    }
   ],
   "source": [
    "gmm = GaussianMixture(n_components=3, n_init=10)  # 3 Gaussian clusters, repeat 10 times\n",
    "gmm.fit(X)"
   ]
  },
  {
   "cell_type": "code",
   "execution_count": 79,
   "id": "impossible-learning",
   "metadata": {
    "ExecuteTime": {
     "end_time": "2021-06-05T23:26:41.772933Z",
     "start_time": "2021-06-05T23:26:41.768903Z"
    }
   },
   "outputs": [
    {
     "data": {
      "text/plain": [
       "array([0.20970929, 0.40008431, 0.3902064 ])"
      ]
     },
     "execution_count": 79,
     "metadata": {},
     "output_type": "execute_result"
    }
   ],
   "source": [
    "gmm.weights_  # probability that data fall in each cluster"
   ]
  },
  {
   "cell_type": "code",
   "execution_count": 80,
   "id": "sunrise-command",
   "metadata": {
    "ExecuteTime": {
     "end_time": "2021-06-05T23:26:52.931135Z",
     "start_time": "2021-06-05T23:26:52.927375Z"
    }
   },
   "outputs": [
    {
     "data": {
      "text/plain": [
       "array([[ 3.39854326,  1.05926051],\n",
       "       [-1.4076241 ,  1.42704927],\n",
       "       [ 0.0512132 ,  0.07512971]])"
      ]
     },
     "execution_count": 80,
     "metadata": {},
     "output_type": "execute_result"
    }
   ],
   "source": [
    "gmm.means_  # cluster centers"
   ]
  },
  {
   "cell_type": "code",
   "execution_count": 81,
   "id": "portable-sampling",
   "metadata": {
    "ExecuteTime": {
     "end_time": "2021-06-05T23:27:05.353434Z",
     "start_time": "2021-06-05T23:27:05.349067Z"
    }
   },
   "outputs": [
    {
     "data": {
      "text/plain": [
       "array([[[ 1.14901133, -0.03241901],\n",
       "        [-0.03241901,  0.95484861]],\n",
       "\n",
       "       [[ 0.63480459,  0.72971575],\n",
       "        [ 0.72971575,  1.16110086]],\n",
       "\n",
       "       [[ 0.68780591,  0.79597839],\n",
       "        [ 0.79597839,  1.21232694]]])"
      ]
     },
     "execution_count": 81,
     "metadata": {},
     "output_type": "execute_result"
    }
   ],
   "source": [
    "gmm.covariances_  # cluster shape and orientation"
   ]
  },
  {
   "cell_type": "code",
   "execution_count": 82,
   "id": "killing-department",
   "metadata": {
    "ExecuteTime": {
     "end_time": "2021-06-05T23:28:47.687922Z",
     "start_time": "2021-06-05T23:28:47.684301Z"
    }
   },
   "outputs": [
    {
     "data": {
      "text/plain": [
       "True"
      ]
     },
     "execution_count": 82,
     "metadata": {},
     "output_type": "execute_result"
    }
   ],
   "source": [
    "gmm.converged_  # check if the model converges in the end"
   ]
  },
  {
   "cell_type": "code",
   "execution_count": 83,
   "id": "joint-viewer",
   "metadata": {
    "ExecuteTime": {
     "end_time": "2021-06-05T23:29:00.907506Z",
     "start_time": "2021-06-05T23:29:00.903815Z"
    }
   },
   "outputs": [
    {
     "data": {
      "text/plain": [
       "4"
      ]
     },
     "execution_count": 83,
     "metadata": {},
     "output_type": "execute_result"
    }
   ],
   "source": [
    "gmm.n_iter_  # check the number of EM iterations to convergence"
   ]
  },
  {
   "cell_type": "code",
   "execution_count": 84,
   "id": "confident-baghdad",
   "metadata": {
    "ExecuteTime": {
     "end_time": "2021-06-05T23:31:03.466284Z",
     "start_time": "2021-06-05T23:31:03.461586Z"
    }
   },
   "outputs": [
    {
     "data": {
      "text/plain": [
       "array([2, 2, 1, ..., 0, 0, 0])"
      ]
     },
     "execution_count": 84,
     "metadata": {},
     "output_type": "execute_result"
    }
   ],
   "source": [
    "gmm.predict(X)  # 3 Gaussian clusters"
   ]
  },
  {
   "cell_type": "code",
   "execution_count": 85,
   "id": "tired-trout",
   "metadata": {
    "ExecuteTime": {
     "end_time": "2021-06-05T23:31:12.232223Z",
     "start_time": "2021-06-05T23:31:12.226976Z"
    }
   },
   "outputs": [
    {
     "data": {
      "text/plain": [
       "array([[2.33107018e-02, 6.80230786e-07, 9.76688618e-01],\n",
       "       [1.65481663e-02, 6.77302883e-04, 9.82774531e-01],\n",
       "       [2.04358925e-06, 9.99923748e-01, 7.42085667e-05],\n",
       "       ...,\n",
       "       [9.99999578e-01, 2.17682412e-26, 4.21582331e-07],\n",
       "       [1.00000000e+00, 1.50345348e-41, 4.93027253e-16],\n",
       "       [1.00000000e+00, 8.24833927e-41, 2.19825399e-15]])"
      ]
     },
     "execution_count": 85,
     "metadata": {},
     "output_type": "execute_result"
    }
   ],
   "source": [
    "gmm.predict_proba(X)  # probabilities based on Gaussian distribution"
   ]
  },
  {
   "cell_type": "code",
   "execution_count": 87,
   "id": "fifteen-boost",
   "metadata": {
    "ExecuteTime": {
     "end_time": "2021-06-06T10:32:27.124552Z",
     "start_time": "2021-06-06T10:32:27.119802Z"
    }
   },
   "outputs": [
    {
     "data": {
      "text/plain": [
       "array([-2.60753797, -3.57117632, -3.32962239, ..., -3.51337454,\n",
       "       -4.39800533, -3.80760349])"
      ]
     },
     "execution_count": 87,
     "metadata": {},
     "output_type": "execute_result"
    }
   ],
   "source": [
    "densities = gmm.score_samples(X)  \n",
    "densities  # log of probability distribution function for each instance (within its Gaussian cluster)"
   ]
  },
  {
   "cell_type": "code",
   "execution_count": 88,
   "id": "classified-plaza",
   "metadata": {
    "ExecuteTime": {
     "end_time": "2021-06-06T10:32:32.360968Z",
     "start_time": "2021-06-06T10:32:32.357271Z"
    }
   },
   "outputs": [
    {
     "data": {
      "text/plain": [
       "array([0.07371581, 0.02812275, 0.03580662, ..., 0.0297962 , 0.01230185,\n",
       "       0.02220132])"
      ]
     },
     "execution_count": 88,
     "metadata": {},
     "output_type": "execute_result"
    }
   ],
   "source": [
    "np.exp(densities)"
   ]
  },
  {
   "cell_type": "code",
   "execution_count": 90,
   "id": "subject-greeting",
   "metadata": {
    "ExecuteTime": {
     "end_time": "2021-06-06T10:34:58.839068Z",
     "start_time": "2021-06-06T10:34:58.836068Z"
    }
   },
   "outputs": [],
   "source": [
    "# anomaly detection (rid of the lowest probability instances)\n",
    "density_threshold = np.percentile(densities, 4)  # cut off at the lowest 4%\n",
    "anomalies = X[densities < density_threshold]"
   ]
  },
  {
   "cell_type": "code",
   "execution_count": 91,
   "id": "occupational-discrimination",
   "metadata": {
    "ExecuteTime": {
     "end_time": "2021-06-06T14:04:51.934571Z",
     "start_time": "2021-06-06T14:04:51.915834Z"
    }
   },
   "outputs": [
    {
     "data": {
      "text/plain": [
       "8189.756836104972"
      ]
     },
     "execution_count": 91,
     "metadata": {},
     "output_type": "execute_result"
    }
   ],
   "source": [
    "# performance metrics for GMM are based on MLE vs. size of data and feature space - lower the better\n",
    "gmm.bic(X)  # Bayesian Information Criterion ~fn(m, n, -log(L))"
   ]
  },
  {
   "cell_type": "code",
   "execution_count": 92,
   "id": "quiet-possible",
   "metadata": {
    "ExecuteTime": {
     "end_time": "2021-06-06T14:43:41.250875Z",
     "start_time": "2021-06-06T14:43:41.246125Z"
    }
   },
   "outputs": [
    {
     "data": {
      "text/plain": [
       "8102.531555989934"
      ]
     },
     "execution_count": 92,
     "metadata": {},
     "output_type": "execute_result"
    }
   ],
   "source": [
    "gmm.aic(X)  # Akaike Information Criterion ~fn(n, -log(L))"
   ]
  },
  {
   "cell_type": "code",
   "execution_count": 97,
   "id": "balanced-dietary",
   "metadata": {
    "ExecuteTime": {
     "end_time": "2021-06-06T14:54:19.328354Z",
     "start_time": "2021-06-06T14:54:17.720583Z"
    }
   },
   "outputs": [
    {
     "data": {
      "image/png": "[encoded data removed]",
      "text/plain": [
       "<Figure size 720x360 with 1 Axes>"
      ]
     },
     "metadata": {
      "needs_background": "light"
     },
     "output_type": "display_data"
    }
   ],
   "source": [
    "# AIC and BIC determine the optimal number of clusters (k) to set in GMM\n",
    "gmms_per_k = [GaussianMixture(n_components=k, n_init=10, random_state=42).fit(X)\n",
    "              for k in range(1, 11)]\n",
    "bics = [model.bic(X) for model in gmms_per_k]\n",
    "aics = [model.aic(X) for model in gmms_per_k]\n",
    "\n",
    "# plot the BIC's and AIC's against k - find the lowest point\n",
    "plt.figure(figsize=(10, 5))\n",
    "plt.plot(range(1, 11), bics, \"bo-\", label=\"BIC\")\n",
    "plt.plot(range(1, 11), aics, \"go--\", label=\"AIC\")\n",
    "plt.xlabel(\"$k$\", fontsize=14)\n",
    "plt.ylabel(\"Information Criterion\", fontsize=14)\n",
    "plt.axis([1, 9.5, np.min(aics) - 50, np.max(aics) + 50])\n",
    "plt.annotate('Minimum',\n",
    "             xy=(3, bics[2]),\n",
    "             xytext=(0.35, 0.6),\n",
    "             textcoords='figure fraction',\n",
    "             fontsize=14,\n",
    "             arrowprops=dict(facecolor='black', shrink=0.1)\n",
    "            )\n",
    "plt.legend(fontsize=14);  # indeed the optimal k is 3 Gaussian clusters"
   ]
  },
  {
   "cell_type": "code",
   "execution_count": 99,
   "id": "expired-delta",
   "metadata": {
    "ExecuteTime": {
     "end_time": "2021-06-06T15:00:52.303472Z",
     "start_time": "2021-06-06T15:00:50.181043Z"
    }
   },
   "outputs": [
    {
     "data": {
      "text/plain": [
       "array([0.  , 0.21, 0.39, 0.4 , 0.  , 0.  , 0.  , 0.  , 0.  , 0.  ])"
      ]
     },
     "execution_count": 99,
     "metadata": {},
     "output_type": "execute_result"
    }
   ],
   "source": [
    "# alternatively, use Bayesian GMM to determine the optimal number of clusters\n",
    "bgmm = BayesianGaussianMixture(n_components=10, n_init=10)  # set a high enough k to start with\n",
    "bgmm.fit(X)\n",
    "np.round(bgmm.weights_, 2)  # the weights indicate importance of each of k clusters"
   ]
  },
  {
   "cell_type": "code",
   "execution_count": 100,
   "id": "hazardous-crisis",
   "metadata": {
    "ExecuteTime": {
     "end_time": "2021-06-06T15:01:29.164715Z",
     "start_time": "2021-06-06T15:01:29.162611Z"
    }
   },
   "outputs": [],
   "source": [
    "# indeed we need only 3 clusters"
   ]
  },
  {
   "cell_type": "code",
   "execution_count": null,
   "id": "stopped-banana",
   "metadata": {},
   "outputs": [],
   "source": []
  }
 ],
 "metadata": {
  "kernelspec": {
   "display_name": "Python 3",
   "language": "python",
   "name": "python3"
  },
  "language_info": {
   "codemirror_mode": {
    "name": "ipython",
    "version": 3
   },
   "file_extension": ".py",
   "mimetype": "text/x-python",
   "name": "python",
   "nbconvert_exporter": "python",
   "pygments_lexer": "ipython3",
   "version": "3.8.5"
  },
  "latex_envs": {
   "LaTeX_envs_menu_present": true,
   "autoclose": true,
   "autocomplete": true,
   "bibliofile": "biblio.bib",
   "cite_by": "apalike",
   "current_citInitial": 1,
   "eqLabelWithNumbers": true,
   "eqNumInitial": 1,
   "hotkeys": {
    "equation": "Ctrl-E",
    "itemize": "Ctrl-I"
   },
   "labels_anchors": false,
   "latex_user_defs": false,
   "report_style_numbering": false,
   "user_envs_cfg": false
  },
  "toc": {
   "base_numbering": 1,
   "nav_menu": {},
   "number_sections": true,
   "sideBar": true,
   "skip_h1_title": false,
   "title_cell": "Table of Contents",
   "title_sidebar": "Contents",
   "toc_cell": false,
   "toc_position": {},
   "toc_section_display": true,
   "toc_window_display": true
  },
  "varInspector": {
   "cols": {
    "lenName": 16,
    "lenType": 16,
    "lenVar": 40
   },
   "kernels_config": {
    "python": {
     "delete_cmd_postfix": "",
     "delete_cmd_prefix": "del ",
     "library": "var_list.py",
     "varRefreshCmd": "print(var_dic_list())"
    },
    "r": {
     "delete_cmd_postfix": ") ",
     "delete_cmd_prefix": "rm(",
     "library": "var_list.r",
     "varRefreshCmd": "cat(var_dic_list()) "
    }
   },
   "position": {
    "height": "593px",
    "left": "4px",
    "right": "20px",
    "top": "381px",
    "width": "350px"
   },
   "types_to_exclude": [
    "module",
    "function",
    "builtin_function_or_method",
    "instance",
    "_Feature"
   ],
   "window_display": true
  }
 },
 "nbformat": 4,
 "nbformat_minor": 5
}
