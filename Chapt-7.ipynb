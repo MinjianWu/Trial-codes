{
 "cells": [
  {
   "cell_type": "code",
   "execution_count": 44,
   "id": "available-immigration",
   "metadata": {
    "ExecuteTime": {
     "end_time": "2021-06-02T07:11:45.898218Z",
     "start_time": "2021-06-02T07:11:45.783860Z"
    }
   },
   "outputs": [],
   "source": [
    "import numpy as np\n",
    "import matplotlib.pyplot as plt\n",
    "from sklearn.datasets import make_moons\n",
    "from sklearn.datasets import load_iris\n",
    "\n",
    "from sklearn.model_selection import train_test_split\n",
    "\n",
    "from sklearn.linear_model import LogisticRegression\n",
    "from sklearn.svm import SVC\n",
    "from sklearn.tree import DecisionTreeClassifier\n",
    "from sklearn.ensemble import RandomForestClassifier\n",
    "from sklearn.ensemble import VotingClassifier  # let several estimators vote\n",
    "from sklearn.ensemble import BaggingClassifier  # bootstrap aggregation from a single estimator\n",
    "from sklearn.ensemble import AdaBoostClassifier  # boost weak learners\n",
    "from sklearn.ensemble import GradientBoostingRegressor  # superimpose all residual error regression trees\n",
    "from xgboost import XGBRegressor  # faster alternative of sklearn's gbrt\n",
    "\n",
    "from sklearn.metrics import accuracy_score\n",
    "from sklearn.metrics import mean_squared_error"
   ]
  },
  {
   "cell_type": "code",
   "execution_count": 2,
   "id": "civil-friendship",
   "metadata": {
    "ExecuteTime": {
     "end_time": "2021-05-31T12:05:34.455065Z",
     "start_time": "2021-05-31T12:05:34.450474Z"
    }
   },
   "outputs": [],
   "source": [
    "X, y = make_moons(n_samples=500, noise=0.30, random_state=42)\n",
    "X_train, X_test, y_train, y_test = train_test_split(X, y, random_state=42)"
   ]
  },
  {
   "cell_type": "code",
   "execution_count": 3,
   "id": "miniature-consumer",
   "metadata": {
    "ExecuteTime": {
     "end_time": "2021-05-31T12:05:34.592484Z",
     "start_time": "2021-05-31T12:05:34.456713Z"
    }
   },
   "outputs": [
    {
     "data": {
      "text/plain": [
       "VotingClassifier(estimators=[('lrc', LogisticRegression()),\n",
       "                             ('rfc', RandomForestClassifier(random_state=42)),\n",
       "                             ('svc', SVC())])"
      ]
     },
     "execution_count": 3,
     "metadata": {},
     "output_type": "execute_result"
    }
   ],
   "source": [
    "# three distinct estimators\n",
    "log_clf = LogisticRegression()\n",
    "rnd_clf = RandomForestClassifier(random_state=42)\n",
    "svm_clf = SVC()\n",
    "\n",
    "# ensemble all three and get votes\n",
    "voting_clf = VotingClassifier(estimators=[('lrc', log_clf), ('rfc', rnd_clf), ('svc', svm_clf)], \n",
    "                              voting='hard')  # the majority vote wins\n",
    "voting_clf.fit(X_train, y_train)"
   ]
  },
  {
   "cell_type": "code",
   "execution_count": 4,
   "id": "frozen-domestic",
   "metadata": {
    "ExecuteTime": {
     "end_time": "2021-05-31T12:05:34.901710Z",
     "start_time": "2021-05-31T12:05:34.594124Z"
    }
   },
   "outputs": [
    {
     "name": "stdout",
     "output_type": "stream",
     "text": [
      "LogisticRegression 0.864\n",
      "RandomForestClassifier 0.896\n",
      "SVC 0.896\n",
      "VotingClassifier 0.912\n"
     ]
    }
   ],
   "source": [
    "for clf in (log_clf, rnd_clf, svm_clf, voting_clf):\n",
    "    clf.fit(X_train, y_train)\n",
    "    y_pred = clf.predict(X_test)\n",
    "    print(clf.__class__.__name__, accuracy_score(y_test, y_pred))"
   ]
  },
  {
   "cell_type": "code",
   "execution_count": 5,
   "id": "coupled-livestock",
   "metadata": {
    "ExecuteTime": {
     "end_time": "2021-05-31T12:05:35.191151Z",
     "start_time": "2021-05-31T12:05:34.903693Z"
    }
   },
   "outputs": [
    {
     "name": "stdout",
     "output_type": "stream",
     "text": [
      "LogisticRegression 0.864\n",
      "RandomForestClassifier 0.896\n",
      "SVC 0.896\n",
      "VotingClassifier 0.92\n"
     ]
    }
   ],
   "source": [
    "# soft voting (with predict_proba enabled)\n",
    "svm_clf_with_prob = SVC(probability=True)\n",
    "\n",
    "# ensemble and soft vote\n",
    "voting_clf = VotingClassifier(estimators=[('lrc', log_clf), ('rfc', rnd_clf), ('svc', svm_clf_with_prob)], \n",
    "                              voting='soft')  # the highest weighted class probability wins\n",
    "\n",
    "for clf in (log_clf, rnd_clf, svm_clf_with_prob, voting_clf):\n",
    "    clf.fit(X_train, y_train)\n",
    "    y_pred = clf.predict(X_test)\n",
    "    print(clf.__class__.__name__, accuracy_score(y_test, y_pred))"
   ]
  },
  {
   "cell_type": "code",
   "execution_count": 6,
   "id": "destroyed-charles",
   "metadata": {
    "ExecuteTime": {
     "end_time": "2021-05-31T12:05:37.025306Z",
     "start_time": "2021-05-31T12:05:35.192821Z"
    }
   },
   "outputs": [
    {
     "name": "stdout",
     "output_type": "stream",
     "text": [
      "BaggingClassifier 0.904\n"
     ]
    }
   ],
   "source": [
    "bag_clf = BaggingClassifier(base_estimator=DecisionTreeClassifier(),  # similar to RandomForestClassifier()\n",
    "                            n_estimators=500,  # run the base estimator 500 times \n",
    "                            max_samples=100,   \n",
    "                            bootstrap=True,    # with replacement; False for without replacement\n",
    "                            random_state=42,\n",
    "                            n_jobs=-1)         # parallel computing - use all CPU cores\n",
    "bag_clf.fit(X_train, y_train)\n",
    "y_pred = bag_clf.predict(X_test)\n",
    "print(bag_clf.__class__.__name__, accuracy_score(y_test, y_pred))"
   ]
  },
  {
   "cell_type": "code",
   "execution_count": 8,
   "id": "dominant-insight",
   "metadata": {
    "ExecuteTime": {
     "end_time": "2021-05-31T21:02:37.545539Z",
     "start_time": "2021-05-31T21:02:36.896742Z"
    }
   },
   "outputs": [
    {
     "name": "stdout",
     "output_type": "stream",
     "text": [
      "sepal length (cm) 0.11249225099876375\n",
      "sepal width (cm) 0.02311928828251033\n",
      "petal length (cm) 0.4410304643639577\n",
      "petal width (cm) 0.4233579963547682\n"
     ]
    }
   ],
   "source": [
    "# use random forest (.feature_importances_) for feature selection\n",
    "iris = load_iris()\n",
    "rnd_clf = RandomForestClassifier(n_estimators=500, n_jobs=-1, random_state=42)\n",
    "rnd_clf.fit(iris['data'], iris['target'])  # fit all features to target classes\n",
    "\n",
    "for name, score in zip(iris['feature_names'], rnd_clf.feature_importances_):\n",
    "    print(name, score)  # indeed, petal length & width are the most important features"
   ]
  },
  {
   "cell_type": "code",
   "execution_count": 10,
   "id": "periodic-chorus",
   "metadata": {
    "ExecuteTime": {
     "end_time": "2021-06-01T17:12:31.784966Z",
     "start_time": "2021-06-01T17:12:31.513567Z"
    }
   },
   "outputs": [
    {
     "name": "stdout",
     "output_type": "stream",
     "text": [
      "AdaBoostClassifier 0.896\n"
     ]
    }
   ],
   "source": [
    "ada_clf = AdaBoostClassifier(base_estimator=DecisionTreeClassifier(max_depth=1), \n",
    "                             n_estimators=200, \n",
    "                             algorithm='SAMME.R',  # for multiclass AdaBoost\n",
    "                             learning_rate=0.5)    # how fast the weights ('boost') are added\n",
    "ada_clf.fit(X_train, y_train)\n",
    "y_pred = ada_clf.predict(X_test)\n",
    "print(ada_clf.__class__.__name__, accuracy_score(y_test, y_pred))"
   ]
  },
  {
   "cell_type": "code",
   "execution_count": 30,
   "id": "infrared-partition",
   "metadata": {
    "ExecuteTime": {
     "end_time": "2021-06-01T21:35:45.694298Z",
     "start_time": "2021-06-01T21:35:45.638562Z"
    }
   },
   "outputs": [
    {
     "data": {
      "text/plain": [
       "GradientBoostingRegressor(max_depth=2, n_estimators=200, random_state=42)"
      ]
     },
     "execution_count": 30,
     "metadata": {},
     "output_type": "execute_result"
    }
   ],
   "source": [
    "np.random.seed(42)\n",
    "X = np.random.rand(100, 1) - 0.5\n",
    "y = 3*X[:, 0]**2 + 0.05 * np.random.randn(100)\n",
    "\n",
    "# gradient boosted regression trees (GBRT)\n",
    "gbrt = GradientBoostingRegressor(max_depth=2, \n",
    "                                 n_estimators=3,   # 3 superimposes of depth-2 regression trees\n",
    "                                 learning_rate=1,  # to scale the size of each superimpose\n",
    "                                 random_state=42)\n",
    "gbrt.fit(X, y)\n",
    "\n",
    "gbrt_slow = GradientBoostingRegressor(max_depth=2, \n",
    "                                      n_estimators=200,  # more superimposes, but,\n",
    "                                      learning_rate=0.1, # each at a smaller increment\n",
    "                                      random_state=42)\n",
    "gbrt_slow.fit(X, y)"
   ]
  },
  {
   "cell_type": "code",
   "execution_count": 34,
   "id": "covered-bahrain",
   "metadata": {
    "ExecuteTime": {
     "end_time": "2021-06-01T21:37:04.537823Z",
     "start_time": "2021-06-01T21:37:04.534443Z"
    }
   },
   "outputs": [
    {
     "data": {
      "text/plain": [
       "3"
      ]
     },
     "execution_count": 34,
     "metadata": {},
     "output_type": "execute_result"
    }
   ],
   "source": [
    "len(gbrt)  # gbrt is a list of residual error regressors"
   ]
  },
  {
   "cell_type": "code",
   "execution_count": 23,
   "id": "alone-mechanism",
   "metadata": {
    "ExecuteTime": {
     "end_time": "2021-06-01T21:18:51.260297Z",
     "start_time": "2021-06-01T21:18:51.256846Z"
    }
   },
   "outputs": [
    {
     "data": {
      "text/plain": [
       "200"
      ]
     },
     "execution_count": 23,
     "metadata": {},
     "output_type": "execute_result"
    }
   ],
   "source": [
    "len(gbrt_slow)"
   ]
  },
  {
   "cell_type": "code",
   "execution_count": 38,
   "id": "featured-martial",
   "metadata": {
    "ExecuteTime": {
     "end_time": "2021-06-01T21:37:46.300322Z",
     "start_time": "2021-06-01T21:37:46.069193Z"
    }
   },
   "outputs": [
    {
     "data": {
      "image/png": "[encoded data removed]",
      "text/plain": [
       "<Figure size 1008x360 with 2 Axes>"
      ]
     },
     "metadata": {
      "needs_background": "light"
     },
     "output_type": "display_data"
    }
   ],
   "source": [
    "# fast - underfit vs slow - overfit\n",
    "fig, ax = plt.subplots(ncols=2, figsize=(14,5), sharey=True)\n",
    "axes=[-0.5, 0.5, -0.1, 0.8]\n",
    "x1 = np.linspace(axes[0], axes[1], 500)\n",
    "\n",
    "plt.sca(ax[0])\n",
    "y_pred = sum(reg.predict(x1.reshape(-1, 1)) for reg in [gbrt])  # superimpose all residual error regressions\n",
    "plt.plot(X[:, 0], y, 'b.')               # data points\n",
    "plt.plot(x1, y_pred, 'r-', linewidth=2)  # gbrt predictions\n",
    "plt.axis(axes)\n",
    "plt.title(\"learning_rate=1, n_estimators=3\", fontsize=14)\n",
    "\n",
    "plt.sca(ax[1])\n",
    "y_pred_slow = sum(reg.predict(x1.reshape(-1, 1)) for reg in [gbrt_slow])\n",
    "plt.plot(X[:, 0], y, 'b.')\n",
    "plt.plot(x1, y_pred_slow, 'r-', linewidth=2)\n",
    "plt.axis(axes)\n",
    "plt.title(\"learning_rate=0.1, n_estimators=200\", fontsize=14);"
   ]
  },
  {
   "cell_type": "code",
   "execution_count": 41,
   "id": "marine-locking",
   "metadata": {
    "ExecuteTime": {
     "end_time": "2021-06-01T22:07:55.534872Z",
     "start_time": "2021-06-01T22:07:55.435379Z"
    }
   },
   "outputs": [
    {
     "data": {
      "text/plain": [
       "GradientBoostingRegressor(max_depth=2, n_estimators=56)"
      ]
     },
     "execution_count": 41,
     "metadata": {},
     "output_type": "execute_result"
    }
   ],
   "source": [
    "# find the optimum n_estimator (number of trees)\n",
    "X_train, X_test, y_train, y_test = train_test_split(X, y)\n",
    "\n",
    "gbrt = GradientBoostingRegressor(max_depth=2, n_estimators=200)  # try within 200 trees\n",
    "gbrt.fit(X_train, y_train)\n",
    "\n",
    "errors = [mean_squared_error(y_test, y_pred) \n",
    "          for y_pred in gbrt.staged_predict(X_test)]  # staged_predict for 1 tree, 2 trees,..., 200 trees\n",
    "best_n_estimators = np.argmin(errors) + 1  # n trees with lowest mse\n",
    "\n",
    "gbrt_best = GradientBoostingRegressor(max_depth=2, n_estimators=best_n_estimators)  # 56 trees is the best\n",
    "gbrt_best.fit(X_train, y_train)  "
   ]
  },
  {
   "cell_type": "code",
   "execution_count": 50,
   "id": "internal-collect",
   "metadata": {
    "ExecuteTime": {
     "end_time": "2021-06-02T07:20:10.937997Z",
     "start_time": "2021-06-02T07:20:10.882636Z"
    }
   },
   "outputs": [
    {
     "name": "stdout",
     "output_type": "stream",
     "text": [
      "[0]\tvalidation_0-rmse:0.21804\n",
      "[1]\tvalidation_0-rmse:0.15596\n",
      "[2]\tvalidation_0-rmse:0.11596\n",
      "[3]\tvalidation_0-rmse:0.09330\n",
      "[4]\tvalidation_0-rmse:0.07697\n",
      "[5]\tvalidation_0-rmse:0.06758\n",
      "[6]\tvalidation_0-rmse:0.06200\n",
      "[7]\tvalidation_0-rmse:0.05891\n",
      "[8]\tvalidation_0-rmse:0.05744\n",
      "[9]\tvalidation_0-rmse:0.05676\n",
      "[10]\tvalidation_0-rmse:0.05675\n",
      "[11]\tvalidation_0-rmse:0.05652\n",
      "[12]\tvalidation_0-rmse:0.05678\n"
     ]
    }
   ],
   "source": [
    "# alternative python library for gbrt:\n",
    "xgb_reg = XGBRegressor()\n",
    "xgb_reg.fit(X_train, y_train, eval_set=[(X_test, y_test)], early_stopping_rounds=2)\n",
    "y_pred = xgb_reg.predict(X_test)"
   ]
  },
  {
   "cell_type": "code",
   "execution_count": null,
   "id": "swiss-criminal",
   "metadata": {},
   "outputs": [],
   "source": []
  }
 ],
 "metadata": {
  "kernelspec": {
   "display_name": "Python 3",
   "language": "python",
   "name": "python3"
  },
  "language_info": {
   "codemirror_mode": {
    "name": "ipython",
    "version": 3
   },
   "file_extension": ".py",
   "mimetype": "text/x-python",
   "name": "python",
   "nbconvert_exporter": "python",
   "pygments_lexer": "ipython3",
   "version": "3.8.5"
  },
  "latex_envs": {
   "LaTeX_envs_menu_present": true,
   "autoclose": true,
   "autocomplete": true,
   "bibliofile": "biblio.bib",
   "cite_by": "apalike",
   "current_citInitial": 1,
   "eqLabelWithNumbers": true,
   "eqNumInitial": 1,
   "hotkeys": {
    "equation": "Ctrl-E",
    "itemize": "Ctrl-I"
   },
   "labels_anchors": false,
   "latex_user_defs": false,
   "report_style_numbering": false,
   "user_envs_cfg": false
  },
  "toc": {
   "base_numbering": 1,
   "nav_menu": {},
   "number_sections": true,
   "sideBar": true,
   "skip_h1_title": false,
   "title_cell": "Table of Contents",
   "title_sidebar": "Contents",
   "toc_cell": false,
   "toc_position": {},
   "toc_section_display": true,
   "toc_window_display": true
  },
  "varInspector": {
   "cols": {
    "lenName": 16,
    "lenType": 16,
    "lenVar": 40
   },
   "kernels_config": {
    "python": {
     "delete_cmd_postfix": "",
     "delete_cmd_prefix": "del ",
     "library": "var_list.py",
     "varRefreshCmd": "print(var_dic_list())"
    },
    "r": {
     "delete_cmd_postfix": ") ",
     "delete_cmd_prefix": "rm(",
     "library": "var_list.r",
     "varRefreshCmd": "cat(var_dic_list()) "
    }
   },
   "position": {
    "height": "666px",
    "left": "4px",
    "right": "20px",
    "top": "267px",
    "width": "350px"
   },
   "types_to_exclude": [
    "module",
    "function",
    "builtin_function_or_method",
    "instance",
    "_Feature"
   ],
   "window_display": true
  }
 },
 "nbformat": 4,
 "nbformat_minor": 5
}
