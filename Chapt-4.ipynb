{
 "cells": [
  {
   "cell_type": "code",
   "execution_count": 46,
   "id": "popular-photograph",
   "metadata": {
    "ExecuteTime": {
     "end_time": "2021-05-23T19:25:20.043097Z",
     "start_time": "2021-05-23T19:25:20.039362Z"
    }
   },
   "outputs": [],
   "source": [
    "import numpy as np\n",
    "import matplotlib.pyplot as plt\n",
    "\n",
    "from sklearn.preprocessing import PolynomialFeatures  # generate polynomial features e.g. [1, a, b, a2, ab, b2]\n",
    "\n",
    "from sklearn.model_selection import train_test_split\n",
    "\n",
    "from sklearn.pipeline import Pipeline\n",
    "from sklearn.linear_model import LinearRegression  # Ordinary Least Squares (by SVD) method\n",
    "from sklearn.linear_model import SGDRegressor  # Stochastic Gradient Descent method\n",
    "from sklearn.linear_model import Ridge  # OLS method L2 regularisation\n",
    "from sklearn.linear_model import Lasso  # OLS method L1 regularisation\n",
    "from sklearn.linear_model import ElasticNet  # mix (ratio'd avg) of L1 & L2 terms\n",
    "from sklearn.linear_model import LogisticRegression  # linear model at its base, comes default with L2 reg\n",
    "\n",
    "from sklearn.metrics import mean_squared_error\n"
   ]
  },
  {
   "cell_type": "code",
   "execution_count": 2,
   "id": "decimal-trash",
   "metadata": {
    "ExecuteTime": {
     "end_time": "2021-05-22T22:22:18.553012Z",
     "start_time": "2021-05-22T22:22:18.212812Z"
    }
   },
   "outputs": [
    {
     "data": {
      "image/png": "[encoded data removed]",
      "text/plain": [
       "<Figure size 576x432 with 1 Axes>"
      ]
     },
     "metadata": {
      "needs_background": "light"
     },
     "output_type": "display_data"
    }
   ],
   "source": [
    "# simulate y = 3x + 4 + Gaussian noise\n",
    "np.random.seed(42)\n",
    "X_1 = 2 * np.random.rand(100, 1)  # X_0 is all ones, 100 data points\n",
    "y   = 4 + 3 * X_1 + np.random.randn(100, 1)\n",
    "\n",
    "plt.figure(figsize=(8, 6))\n",
    "plt.plot(X_1, y, 'b.')  # same as scatter plot with '.'\n",
    "plt.axis([0, 2, 0, 15])\n",
    "plt.xlabel('$X_1$', fontsize=16),\n",
    "plt.ylabel('$y$', fontsize=16, rotation=0);"
   ]
  },
  {
   "cell_type": "code",
   "execution_count": 3,
   "id": "following-douglas",
   "metadata": {
    "ExecuteTime": {
     "end_time": "2021-05-22T22:22:18.559340Z",
     "start_time": "2021-05-22T22:22:18.554850Z"
    }
   },
   "outputs": [
    {
     "data": {
      "text/plain": [
       "array([[4.21509616],\n",
       "       [2.77011339]])"
      ]
     },
     "execution_count": 3,
     "metadata": {},
     "output_type": "execute_result"
    }
   ],
   "source": [
    "# Closed-form linear regression by Normal Equation:\n",
    "# theta = (X_T.X)^(-1).X_T.y\n",
    "X_0 = np.ones(shape=(100, 1))  # dummy variable with intercept parameter theta_0\n",
    "X = np.c_[X_0, X_1]  # add x0 = 1 to each instance\n",
    "\n",
    "theta_best_ne = np.linalg.inv(X.T.dot(X)).dot(X.T).dot(y)\n",
    "theta_best_ne  # [theta_0, theta_1] in 2 x 1 column vector"
   ]
  },
  {
   "cell_type": "code",
   "execution_count": 4,
   "id": "proof-sampling",
   "metadata": {
    "ExecuteTime": {
     "end_time": "2021-05-22T22:22:18.564917Z",
     "start_time": "2021-05-22T22:22:18.561041Z"
    }
   },
   "outputs": [
    {
     "data": {
      "text/plain": [
       "array([[4.21509616],\n",
       "       [2.77011339]])"
      ]
     },
     "execution_count": 4,
     "metadata": {},
     "output_type": "execute_result"
    }
   ],
   "source": [
    "# Closed-form linear regression by OLS, Ordinary Least Squares:\n",
    "theta_best_ols, residuals, rank, s = np.linalg.lstsq(X, y, rcond=None)\n",
    "theta_best_ols"
   ]
  },
  {
   "cell_type": "code",
   "execution_count": 5,
   "id": "greek-rouge",
   "metadata": {
    "ExecuteTime": {
     "end_time": "2021-05-22T22:22:18.570020Z",
     "start_time": "2021-05-22T22:22:18.566578Z"
    }
   },
   "outputs": [
    {
     "data": {
      "text/plain": [
       "array([[4.21509616],\n",
       "       [2.77011339]])"
      ]
     },
     "execution_count": 5,
     "metadata": {},
     "output_type": "execute_result"
    }
   ],
   "source": [
    "# OLS basically uses SVD, singular value decomposition\n",
    "# X.theta=y -> theta=X_pseudoinv.y -> decompose X_pseudoinv\n",
    "np.linalg.pinv(X).dot(y)"
   ]
  },
  {
   "cell_type": "code",
   "execution_count": 6,
   "id": "german-steal",
   "metadata": {
    "ExecuteTime": {
     "end_time": "2021-05-22T22:22:18.578830Z",
     "start_time": "2021-05-22T22:22:18.574311Z"
    }
   },
   "outputs": [
    {
     "data": {
      "text/plain": [
       "(array([4.21509616]), array([[2.77011339]]))"
      ]
     },
     "execution_count": 6,
     "metadata": {},
     "output_type": "execute_result"
    }
   ],
   "source": [
    "# OLS (SVD) is what sklearn LinearRegression() uses to compute parameters theta\n",
    "lin_reg = LinearRegression()\n",
    "lin_reg.fit(X_1, y)  # no need to include the dummy intercept x0 vector\n",
    "lin_reg.intercept_, lin_reg.coef_"
   ]
  },
  {
   "cell_type": "code",
   "execution_count": 7,
   "id": "indoor-chicken",
   "metadata": {
    "ExecuteTime": {
     "end_time": "2021-05-22T22:22:18.587708Z",
     "start_time": "2021-05-22T22:22:18.582684Z"
    }
   },
   "outputs": [
    {
     "data": {
      "text/plain": [
       "(array([4.2105325]), array([2.77484204]))"
      ]
     },
     "execution_count": 7,
     "metadata": {},
     "output_type": "execute_result"
    }
   ],
   "source": [
    "# gradient descent SGDRegressor() is faster than ordinary LinearRegression()\n",
    "# stochastic gradient descent:\n",
    "sgd_reg = SGDRegressor(max_iter=1000, tol=1e-3, penalty=None, eta0=0.1)  # iterative, loss tolerance, learning rate\n",
    "sgd_reg.fit(X_1, y.ravel())\n",
    "sgd_reg.intercept_, sgd_reg.coef_"
   ]
  },
  {
   "cell_type": "code",
   "execution_count": 8,
   "id": "bored-meeting",
   "metadata": {
    "ExecuteTime": {
     "end_time": "2021-05-22T22:22:18.600623Z",
     "start_time": "2021-05-22T22:22:18.589657Z"
    }
   },
   "outputs": [
    {
     "data": {
      "text/plain": [
       "array([[4.21509616],\n",
       "       [2.77011339]])"
      ]
     },
     "execution_count": 8,
     "metadata": {},
     "output_type": "execute_result"
    }
   ],
   "source": [
    "# batch gradient descent (for 100 data points):\n",
    "eta = 0.1  # learning rate\n",
    "n_iterations = 1000\n",
    "m = 100  # number of data points as used above\n",
    "\n",
    "theta = np.random.randn(2, 1)  # random initial guess of intercept & coef theta\n",
    "\n",
    "for iteration in range(n_iterations):\n",
    "    gradients = 2 / m * X.T.dot(X.dot(theta) - y)\n",
    "    theta = theta - eta * gradients\n",
    "\n",
    "theta"
   ]
  },
  {
   "cell_type": "code",
   "execution_count": 9,
   "id": "complete-corporation",
   "metadata": {
    "ExecuteTime": {
     "end_time": "2021-05-22T22:22:18.821736Z",
     "start_time": "2021-05-22T22:22:18.602706Z"
    }
   },
   "outputs": [
    {
     "data": {
      "image/png": "[encoded data removed]",
      "text/plain": [
       "<Figure size 576x432 with 1 Axes>"
      ]
     },
     "metadata": {
      "needs_background": "light"
     },
     "output_type": "display_data"
    }
   ],
   "source": [
    "# polynomial equation\n",
    "m = 100\n",
    "X = 6 * np.random.rand(m, 1) - 3\n",
    "y = 0.5 * X**2 + X + 2 + np.random.randn(m, 1)  # quadratic\n",
    "\n",
    "plt.figure(figsize=(8, 6))\n",
    "plt.plot(X, y, 'b.')\n",
    "plt.xlabel(\"$x_1$\", fontsize=18)\n",
    "plt.ylabel(\"$y$\", rotation=0, fontsize=18)\n",
    "plt.axis([-3, 3, 0, 10]);"
   ]
  },
  {
   "cell_type": "code",
   "execution_count": 10,
   "id": "correct-passing",
   "metadata": {
    "ExecuteTime": {
     "end_time": "2021-05-22T22:22:18.827096Z",
     "start_time": "2021-05-22T22:22:18.823617Z"
    }
   },
   "outputs": [
    {
     "data": {
      "text/plain": [
       "array([[-4.48938371e-02,  2.01545661e-03],\n",
       "       [-1.82854207e+00,  3.34356611e+00],\n",
       "       [ 1.33471269e+00,  1.78145797e+00],\n",
       "       [-1.31536583e+00,  1.73018725e+00],\n",
       "       [-2.85410420e+00,  8.14591079e+00]])"
      ]
     },
     "execution_count": 10,
     "metadata": {},
     "output_type": "execute_result"
    }
   ],
   "source": [
    "# polynomial regression (~mapping polynomial to linear regression)\n",
    "\n",
    "# step-1: transform variables to polynomial:\n",
    "poly_features = PolynomialFeatures(degree=2, include_bias=False)  # quadratic, no intercept (1) term\n",
    "X_poly = poly_features.fit_transform(X)  # transform each x to [x, x2]\n",
    "X_poly[:5]  # [x, x2] for each data point"
   ]
  },
  {
   "cell_type": "code",
   "execution_count": 11,
   "id": "american-contest",
   "metadata": {
    "ExecuteTime": {
     "end_time": "2021-05-22T22:22:18.832421Z",
     "start_time": "2021-05-22T22:22:18.828995Z"
    }
   },
   "outputs": [
    {
     "data": {
      "text/plain": [
       "array([[-0.04489384],\n",
       "       [-1.82854207],\n",
       "       [ 1.33471269],\n",
       "       [-1.31536583],\n",
       "       [-2.8541042 ]])"
      ]
     },
     "execution_count": 11,
     "metadata": {},
     "output_type": "execute_result"
    }
   ],
   "source": [
    "X[:5]"
   ]
  },
  {
   "cell_type": "code",
   "execution_count": 12,
   "id": "overall-tours",
   "metadata": {
    "ExecuteTime": {
     "end_time": "2021-05-22T22:22:18.838802Z",
     "start_time": "2021-05-22T22:22:18.833842Z"
    }
   },
   "outputs": [
    {
     "data": {
      "text/plain": [
       "(array([2.13145886]), array([[1.04692782, 0.49909642]]))"
      ]
     },
     "execution_count": 12,
     "metadata": {},
     "output_type": "execute_result"
    }
   ],
   "source": [
    "# step-2: fit linear regression to transformed polynomial features (x & x2):\n",
    "lin_reg = LinearRegression()\n",
    "lin_reg.fit(X_poly, y)\n",
    "lin_reg.intercept_, lin_reg.coef_"
   ]
  },
  {
   "cell_type": "code",
   "execution_count": 13,
   "id": "heard-termination",
   "metadata": {
    "ExecuteTime": {
     "end_time": "2021-05-22T22:22:19.060139Z",
     "start_time": "2021-05-22T22:22:18.840626Z"
    }
   },
   "outputs": [
    {
     "data": {
      "image/png": "[encoded data removed]",
      "text/plain": [
       "<Figure size 576x432 with 1 Axes>"
      ]
     },
     "metadata": {
      "needs_background": "light"
     },
     "output_type": "display_data"
    }
   ],
   "source": [
    "# order X for plot of a curve\n",
    "X_ordered = np.linspace(-3, 3, 100).reshape(100, 1)  # reshape to 100 x 1 array!\n",
    "X_ordered_poly = poly_features.fit_transform(X_ordered)\n",
    "y_hat = lin_reg.predict(X_ordered_poly)\n",
    "\n",
    "plt.figure(figsize=(8, 6))\n",
    "plt.plot(X, y, 'b.')\n",
    "plt.plot(X_ordered, y_hat, 'r-', label=\"Predictions\")\n",
    "\n",
    "plt.xlabel(\"$x_1$\", fontsize=18)\n",
    "plt.ylabel(\"$y$\", rotation=0, fontsize=18)\n",
    "plt.legend(fontsize=14)\n",
    "plt.axis([-3, 3, 0, 10]);"
   ]
  },
  {
   "cell_type": "code",
   "execution_count": 14,
   "id": "hired-meeting",
   "metadata": {
    "ExecuteTime": {
     "end_time": "2021-05-22T22:22:19.066508Z",
     "start_time": "2021-05-22T22:22:19.061772Z"
    }
   },
   "outputs": [],
   "source": [
    "# learning curves plot - to see performance improvement trend over more and more training data\n",
    "def plot_training_curves(model, X, y):\n",
    "    # set aside a test set\n",
    "    X_train, X_test, y_train, y_test = train_test_split(X, y, test_size=0.2, random_state=10)  \n",
    "    train_errors, test_errors = [], []\n",
    "    # calculate performance metrics for each subset of the training set\n",
    "    for m in range(1, len(X_train)):\n",
    "        model.fit(X_train[:m], y_train[:m])\n",
    "        y_train_predict = model.predict(X_train[:m])  # train an increasing training set,\n",
    "        y_test_predict = model.predict(X_test)  # but test on the same test set,\n",
    "        train_errors.append(mean_squared_error(y_train[:m], y_train_predict))\n",
    "        test_errors.append(mean_squared_error(y_test, y_test_predict))  \n",
    "    # plot the test RMSE vs. different training subset RMSE\n",
    "    plt.plot(np.sqrt(train_errors), \"r-+\", linewidth=2, label=\"train\")\n",
    "    plt.plot(np.sqrt(test_errors), \"b-\", linewidth=3, label=\"test\")   \n",
    "    plt.xlabel(\"Training (sub)set size\", fontsize=14)\n",
    "    plt.ylabel(\"RMSE\", fontsize=14)\n",
    "    plt.legend(fontsize=14)"
   ]
  },
  {
   "cell_type": "code",
   "execution_count": 15,
   "id": "operational-prophet",
   "metadata": {
    "ExecuteTime": {
     "end_time": "2021-05-22T22:22:19.284471Z",
     "start_time": "2021-05-22T22:22:19.068107Z"
    }
   },
   "outputs": [
    {
     "data": {
      "image/png": "[encoded data removed]",
      "text/plain": [
       "<Figure size 576x432 with 1 Axes>"
      ]
     },
     "metadata": {
      "needs_background": "light"
     },
     "output_type": "display_data"
    }
   ],
   "source": [
    "# typical plot for an underfit model (by tempting to fit a quadratic function with a linear relationship)\n",
    "lin_reg = LinearRegression()\n",
    "\n",
    "plt.figure(figsize=(8, 6))\n",
    "plot_training_curves(lin_reg, X, y)  # data from above: y ~ quadratic(X)\n",
    "plt.axis([0, 80, 0, 3]);"
   ]
  },
  {
   "cell_type": "code",
   "execution_count": 17,
   "id": "decreased-maker",
   "metadata": {
    "ExecuteTime": {
     "end_time": "2021-05-22T22:44:44.306182Z",
     "start_time": "2021-05-22T22:44:44.033725Z"
    }
   },
   "outputs": [
    {
     "data": {
      "image/png": "[encoded data removed]",
      "text/plain": [
       "<Figure size 576x432 with 1 Axes>"
      ]
     },
     "metadata": {
      "needs_background": "light"
     },
     "output_type": "display_data"
    }
   ],
   "source": [
    "# typical plot for an overfit model (by fit_transform too high degree polynomial features)\n",
    "poly_reg = Pipeline([\n",
    "    ('poly_feat', PolynomialFeatures(degree=10, include_bias=False)),  # ideal degree is 2, i.e. quadratic\n",
    "    ('lin_reg', LinearRegression())\n",
    "])\n",
    "\n",
    "plt.figure(figsize=(8, 6))\n",
    "plot_training_curves(poly_reg, X, y)\n",
    "plt.axis([0, 80, 0, 3]);"
   ]
  },
  {
   "cell_type": "code",
   "execution_count": 19,
   "id": "strange-worst",
   "metadata": {
    "ExecuteTime": {
     "end_time": "2021-05-23T14:28:09.620715Z",
     "start_time": "2021-05-23T14:28:09.606985Z"
    }
   },
   "outputs": [
    {
     "data": {
      "text/plain": [
       "Ridge(alpha=1, solver='cholesky')"
      ]
     },
     "execution_count": 19,
     "metadata": {},
     "output_type": "execute_result"
    }
   ],
   "source": [
    "# Ridge / Lasso regression are variations of linear (or adapted polynomial) regression\n",
    "# OLS approach (similar to direct LinearRegression class):\n",
    "ridge_reg = Ridge(alpha=1, solver='cholesky')  # closed-form solver\n",
    "ridge_reg.fit(X, y)"
   ]
  },
  {
   "cell_type": "code",
   "execution_count": 23,
   "id": "transsexual-charter",
   "metadata": {
    "ExecuteTime": {
     "end_time": "2021-05-23T14:43:04.234711Z",
     "start_time": "2021-05-23T14:43:04.227623Z"
    }
   },
   "outputs": [
    {
     "data": {
      "text/plain": [
       "Lasso(alpha=0.1)"
      ]
     },
     "execution_count": 23,
     "metadata": {},
     "output_type": "execute_result"
    }
   ],
   "source": [
    "lasso_reg = Lasso(alpha=0.1)\n",
    "lasso_reg.fit(X, y)"
   ]
  },
  {
   "cell_type": "code",
   "execution_count": 25,
   "id": "interpreted-ready",
   "metadata": {
    "ExecuteTime": {
     "end_time": "2021-05-23T14:43:45.398175Z",
     "start_time": "2021-05-23T14:43:45.393500Z"
    }
   },
   "outputs": [
    {
     "data": {
      "text/plain": [
       "SGDRegressor()"
      ]
     },
     "execution_count": 25,
     "metadata": {},
     "output_type": "execute_result"
    }
   ],
   "source": [
    "# SGD approach:\n",
    "sgd_ridge_reg = SGDRegressor(penalty='l2')  # Ridge\n",
    "sgd_ridge_reg.fit(X, y.ravel())"
   ]
  },
  {
   "cell_type": "code",
   "execution_count": 24,
   "id": "executive-group",
   "metadata": {
    "ExecuteTime": {
     "end_time": "2021-05-23T14:43:34.545430Z",
     "start_time": "2021-05-23T14:43:34.540503Z"
    }
   },
   "outputs": [
    {
     "data": {
      "text/plain": [
       "SGDRegressor(penalty='l1')"
      ]
     },
     "execution_count": 24,
     "metadata": {},
     "output_type": "execute_result"
    }
   ],
   "source": [
    "sgd_lasso_reg = SGDRegressor(penalty='l1')  # Lasso\n",
    "sgd_lasso_reg.fit(X, y.ravel())"
   ]
  },
  {
   "cell_type": "code",
   "execution_count": 27,
   "id": "little-financing",
   "metadata": {
    "ExecuteTime": {
     "end_time": "2021-05-23T14:50:18.787586Z",
     "start_time": "2021-05-23T14:50:18.782894Z"
    }
   },
   "outputs": [
    {
     "data": {
      "text/plain": [
       "ElasticNet(alpha=0.1)"
      ]
     },
     "execution_count": 27,
     "metadata": {},
     "output_type": "execute_result"
    }
   ],
   "source": [
    "# mix of both Ridge and Lasso with ElasticNet:\n",
    "elastic_net_reg = ElasticNet(alpha=0.1, l1_ratio=0.5)  # half Lasso, also half Ridge\n",
    "elastic_net_reg.fit(X, y)"
   ]
  },
  {
   "cell_type": "code",
   "execution_count": 28,
   "id": "interpreted-arabic",
   "metadata": {
    "ExecuteTime": {
     "end_time": "2021-05-23T14:52:20.138726Z",
     "start_time": "2021-05-23T14:52:20.133901Z"
    }
   },
   "outputs": [
    {
     "data": {
      "text/plain": [
       "SGDRegressor(l1_ratio=0.5)"
      ]
     },
     "execution_count": 28,
     "metadata": {},
     "output_type": "execute_result"
    }
   ],
   "source": [
    "sgd_en_reg = SGDRegressor(l1_ratio=0.5)  # as above\n",
    "sgd_en_reg.fit(X, y.ravel())"
   ]
  },
  {
   "cell_type": "code",
   "execution_count": 30,
   "id": "catholic-contest",
   "metadata": {
    "ExecuteTime": {
     "end_time": "2021-05-23T19:18:11.999108Z",
     "start_time": "2021-05-23T19:18:11.993363Z"
    }
   },
   "outputs": [
    {
     "data": {
      "text/plain": [
       "['data',\n",
       " 'target',\n",
       " 'frame',\n",
       " 'target_names',\n",
       " 'DESCR',\n",
       " 'feature_names',\n",
       " 'filename']"
      ]
     },
     "execution_count": 30,
     "metadata": {},
     "output_type": "execute_result"
    }
   ],
   "source": [
    "from sklearn import datasets\n",
    "iris = datasets.load_iris()\n",
    "list(iris.keys())"
   ]
  },
  {
   "cell_type": "code",
   "execution_count": 45,
   "id": "micro-master",
   "metadata": {
    "ExecuteTime": {
     "end_time": "2021-05-23T19:24:27.007738Z",
     "start_time": "2021-05-23T19:24:27.004388Z"
    }
   },
   "outputs": [
    {
     "data": {
      "text/plain": [
       "['sepal length (cm)',\n",
       " 'sepal width (cm)',\n",
       " 'petal length (cm)',\n",
       " 'petal width (cm)']"
      ]
     },
     "execution_count": 45,
     "metadata": {},
     "output_type": "execute_result"
    }
   ],
   "source": [
    "iris['feature_names']"
   ]
  },
  {
   "cell_type": "code",
   "execution_count": 42,
   "id": "electronic-taxation",
   "metadata": {
    "ExecuteTime": {
     "end_time": "2021-05-23T19:22:35.112049Z",
     "start_time": "2021-05-23T19:22:35.107252Z"
    }
   },
   "outputs": [
    {
     "data": {
      "text/plain": [
       "array(['setosa', 'versicolor', 'virginica'], dtype='<U10')"
      ]
     },
     "execution_count": 42,
     "metadata": {},
     "output_type": "execute_result"
    }
   ],
   "source": [
    "iris['target_names']"
   ]
  },
  {
   "cell_type": "code",
   "execution_count": 48,
   "id": "dense-washington",
   "metadata": {
    "ExecuteTime": {
     "end_time": "2021-05-23T19:27:24.331818Z",
     "start_time": "2021-05-23T19:27:24.329238Z"
    }
   },
   "outputs": [],
   "source": [
    "X = iris['data'][:, 3:]  # column 3 is petal width - but need to form a 2D array\n",
    "y = (iris['target'] == 2).astype(int)  # if is virginica (0's for no and 1's for yes)"
   ]
  },
  {
   "cell_type": "code",
   "execution_count": 49,
   "id": "western-playback",
   "metadata": {
    "ExecuteTime": {
     "end_time": "2021-05-23T19:27:25.522747Z",
     "start_time": "2021-05-23T19:27:25.509714Z"
    }
   },
   "outputs": [
    {
     "data": {
      "text/plain": [
       "LogisticRegression()"
      ]
     },
     "execution_count": 49,
     "metadata": {},
     "output_type": "execute_result"
    }
   ],
   "source": [
    "log_reg = LogisticRegression()  # penalty='l2', i.e. this is regularised by default\n",
    "log_reg.fit(X, y)"
   ]
  },
  {
   "cell_type": "code",
   "execution_count": 64,
   "id": "trained-sherman",
   "metadata": {
    "ExecuteTime": {
     "end_time": "2021-05-23T20:52:32.795784Z",
     "start_time": "2021-05-23T20:52:32.609262Z"
    }
   },
   "outputs": [
    {
     "data": {
      "image/png": "[encoded data removed]",
      "text/plain": [
       "<Figure size 720x288 with 1 Axes>"
      ]
     },
     "metadata": {
      "needs_background": "light"
     },
     "output_type": "display_data"
    }
   ],
   "source": [
    "X_new = np.linspace(0, 3, 1000).reshape(-1, 1)\n",
    "y_proba = log_reg.predict_proba(X_new)  # logit values between 0 and 1\n",
    "y_label = log_reg.predict(X_new)  # decision: 0 or 1 (the larger logit value wins)\n",
    "\n",
    "plt.figure(figsize=(10, 4))\n",
    "\n",
    "# actual data points\n",
    "plt.plot(X[y==0], y[y==0], \"bs\")\n",
    "plt.plot(X[y==1], y[y==1], \"g^\")\n",
    "# predicted logit values with boundary line at logit = 0.5\n",
    "plt.plot(X_new, y_proba[:, 1], 'g-', label='virginica')      # 1 column logit values ->\n",
    "plt.plot(X_new, y_proba[:, 0], 'b-', label='Not virginica')  # 0 column logit values -> sum equals 1\n",
    "# decision boundary\n",
    "plt.plot(X_new, y_label, 'r--')\n",
    "\n",
    "plt.xlabel(\"Petal width (cm)\", fontsize=14)\n",
    "plt.ylabel(\"Probability\", fontsize=14)\n",
    "plt.legend(fontsize=12);"
   ]
  },
  {
   "cell_type": "code",
   "execution_count": 65,
   "id": "eastern-patrick",
   "metadata": {
    "ExecuteTime": {
     "end_time": "2021-05-23T21:38:19.008779Z",
     "start_time": "2021-05-23T21:38:18.984067Z"
    }
   },
   "outputs": [
    {
     "data": {
      "text/plain": [
       "LogisticRegression(C=10, multi_class='multinomial')"
      ]
     },
     "execution_count": 65,
     "metadata": {},
     "output_type": "execute_result"
    }
   ],
   "source": [
    "# by default, LogisticRegresssion() uses \"OvR\" for multiclass\n",
    "# but, can also switch to use Softmax:\n",
    "X_multi = iris['data'][:, (2, 3)]\n",
    "y_multi = iris['target']  # 3 classes\n",
    "\n",
    "softmax_reg = LogisticRegression(multi_class='multinomial',  # softmax ('multinomial') or 'ovr'\n",
    "                                 solver='lbfgs',  # compatible solver algorithm\n",
    "                                 C=10)  # l2 penalty parameter\n",
    "softmax_reg.fit(X_multi, y_multi)"
   ]
  },
  {
   "cell_type": "code",
   "execution_count": 66,
   "id": "stretch-indication",
   "metadata": {
    "ExecuteTime": {
     "end_time": "2021-05-23T21:38:23.234104Z",
     "start_time": "2021-05-23T21:38:23.230089Z"
    }
   },
   "outputs": [
    {
     "data": {
      "text/plain": [
       "array([[6.38014896e-07, 5.74929995e-02, 9.42506362e-01]])"
      ]
     },
     "execution_count": 66,
     "metadata": {},
     "output_type": "execute_result"
    }
   ],
   "source": [
    "softmax_reg.predict_proba([[5, 2]])  # [patel length, patel width]"
   ]
  },
  {
   "cell_type": "code",
   "execution_count": 67,
   "id": "packed-workstation",
   "metadata": {
    "ExecuteTime": {
     "end_time": "2021-05-23T21:38:38.526052Z",
     "start_time": "2021-05-23T21:38:38.521932Z"
    }
   },
   "outputs": [
    {
     "data": {
      "text/plain": [
       "array([2])"
      ]
     },
     "execution_count": 67,
     "metadata": {},
     "output_type": "execute_result"
    }
   ],
   "source": [
    "softmax_reg.predict([[5, 2]])  # class 2 has the largest logit value"
   ]
  },
  {
   "cell_type": "code",
   "execution_count": null,
   "id": "copyrighted-celtic",
   "metadata": {},
   "outputs": [],
   "source": []
  }
 ],
 "metadata": {
  "kernelspec": {
   "display_name": "Python 3",
   "language": "python",
   "name": "python3"
  },
  "language_info": {
   "codemirror_mode": {
    "name": "ipython",
    "version": 3
   },
   "file_extension": ".py",
   "mimetype": "text/x-python",
   "name": "python",
   "nbconvert_exporter": "python",
   "pygments_lexer": "ipython3",
   "version": "3.8.5"
  },
  "latex_envs": {
   "LaTeX_envs_menu_present": true,
   "autoclose": true,
   "autocomplete": true,
   "bibliofile": "biblio.bib",
   "cite_by": "apalike",
   "current_citInitial": 1,
   "eqLabelWithNumbers": true,
   "eqNumInitial": 1,
   "hotkeys": {
    "equation": "Ctrl-E",
    "itemize": "Ctrl-I"
   },
   "labels_anchors": false,
   "latex_user_defs": false,
   "report_style_numbering": false,
   "user_envs_cfg": false
  },
  "toc": {
   "base_numbering": 1,
   "nav_menu": {},
   "number_sections": true,
   "sideBar": true,
   "skip_h1_title": false,
   "title_cell": "Table of Contents",
   "title_sidebar": "Contents",
   "toc_cell": false,
   "toc_position": {},
   "toc_section_display": true,
   "toc_window_display": true
  },
  "varInspector": {
   "cols": {
    "lenName": 16,
    "lenType": 16,
    "lenVar": 40
   },
   "kernels_config": {
    "python": {
     "delete_cmd_postfix": "",
     "delete_cmd_prefix": "del ",
     "library": "var_list.py",
     "varRefreshCmd": "print(var_dic_list())"
    },
    "r": {
     "delete_cmd_postfix": ") ",
     "delete_cmd_prefix": "rm(",
     "library": "var_list.r",
     "varRefreshCmd": "cat(var_dic_list()) "
    }
   },
   "position": {
    "height": "563px",
    "left": "4px",
    "right": "20px",
    "top": "431px",
    "width": "349px"
   },
   "types_to_exclude": [
    "module",
    "function",
    "builtin_function_or_method",
    "instance",
    "_Feature"
   ],
   "window_display": true
  }
 },
 "nbformat": 4,
 "nbformat_minor": 5
}
