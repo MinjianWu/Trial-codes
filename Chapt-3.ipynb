{
 "cells": [
  {
   "cell_type": "code",
   "execution_count": 48,
   "id": "alpine-statistics",
   "metadata": {
    "ExecuteTime": {
     "end_time": "2021-05-17T14:10:55.761518Z",
     "start_time": "2021-05-17T14:10:55.751382Z"
    }
   },
   "outputs": [],
   "source": [
    "import numpy as np\n",
    "from sklearn.datasets import fetch_openml\n",
    "import matplotlib.pyplot as plt\n",
    "from sklearn.base import clone\n",
    "\n",
    "from sklearn.linear_model import SGDClassifier  # Stochastic Gradient Descent classifier for online training\n",
    "from sklearn.ensemble import RandomForestClassifier  # ensembled decision trees\n",
    "from sklearn.svm import SVC  # binary but can adapt to multiclass with OvO / OvR strategies\n",
    "\n",
    "from sklearn.model_selection import StratifiedKFold  \n",
    "# k-fold train_test_split (stratified): n_splits is the number of folds, >= 2\n",
    "from sklearn.model_selection import StratifiedShuffleSplit  \n",
    "# % test ratio train_test_split (stratified): n_splits is the number of shuffles, >= 1\n",
    "from sklearn.model_selection import cross_val_score  # regular k-fold cross validation\n",
    "from sklearn.model_selection import cross_val_predict  # returns predictions for all cv test folds\n",
    "\n",
    "from sklearn.metrics import confusion_matrix\n",
    "from sklearn.metrics import precision_score, recall_score\n",
    "from sklearn.metrics import f1_score  # harmonic mean of precision & recall\n",
    "from sklearn.metrics import precision_recall_curve  # by comparing decision function scores vs. thresholds\n",
    "from sklearn.metrics import roc_curve  # TP rate against FP rate\n",
    "from sklearn.metrics import roc_auc_score  # area under ROC curve: the greater the better\n"
   ]
  },
  {
   "cell_type": "code",
   "execution_count": 2,
   "id": "disturbed-freight",
   "metadata": {
    "ExecuteTime": {
     "end_time": "2021-05-17T07:48:11.137398Z",
     "start_time": "2021-05-17T07:48:11.133426Z"
    }
   },
   "outputs": [
    {
     "data": {
      "text/plain": [
       "'0.24.1'"
      ]
     },
     "execution_count": 2,
     "metadata": {},
     "output_type": "execute_result"
    }
   ],
   "source": [
    "import sklearn\n",
    "sklearn.__version__"
   ]
  },
  {
   "cell_type": "code",
   "execution_count": 3,
   "id": "strong-afternoon",
   "metadata": {
    "ExecuteTime": {
     "end_time": "2021-05-17T07:48:45.601330Z",
     "start_time": "2021-05-17T07:48:11.138660Z"
    }
   },
   "outputs": [
    {
     "data": {
      "text/plain": [
       "dict_keys(['data', 'target', 'frame', 'categories', 'feature_names', 'target_names', 'DESCR', 'details', 'url'])"
      ]
     },
     "execution_count": 3,
     "metadata": {},
     "output_type": "execute_result"
    }
   ],
   "source": [
    "# import the MNIST dataset\n",
    "mnist = fetch_openml('mnist_784', version=1)\n",
    "mnist.keys()"
   ]
  },
  {
   "cell_type": "code",
   "execution_count": 4,
   "id": "becoming-huntington",
   "metadata": {
    "ExecuteTime": {
     "end_time": "2021-05-17T07:48:45.631651Z",
     "start_time": "2021-05-17T07:48:45.604786Z"
    }
   },
   "outputs": [
    {
     "data": {
      "text/html": [
       "<div>\n",
       "<style scoped>\n",
       "    .dataframe tbody tr th:only-of-type {\n",
       "        vertical-align: middle;\n",
       "    }\n",
       "\n",
       "    .dataframe tbody tr th {\n",
       "        vertical-align: top;\n",
       "    }\n",
       "\n",
       "    .dataframe thead th {\n",
       "        text-align: right;\n",
       "    }\n",
       "</style>\n",
       "<table border=\"1\" class=\"dataframe\">\n",
       "  <thead>\n",
       "    <tr style=\"text-align: right;\">\n",
       "      <th></th>\n",
       "      <th>pixel1</th>\n",
       "      <th>pixel2</th>\n",
       "      <th>pixel3</th>\n",
       "      <th>pixel4</th>\n",
       "      <th>pixel5</th>\n",
       "      <th>pixel6</th>\n",
       "      <th>pixel7</th>\n",
       "      <th>pixel8</th>\n",
       "      <th>pixel9</th>\n",
       "      <th>pixel10</th>\n",
       "      <th>...</th>\n",
       "      <th>pixel775</th>\n",
       "      <th>pixel776</th>\n",
       "      <th>pixel777</th>\n",
       "      <th>pixel778</th>\n",
       "      <th>pixel779</th>\n",
       "      <th>pixel780</th>\n",
       "      <th>pixel781</th>\n",
       "      <th>pixel782</th>\n",
       "      <th>pixel783</th>\n",
       "      <th>pixel784</th>\n",
       "    </tr>\n",
       "  </thead>\n",
       "  <tbody>\n",
       "    <tr>\n",
       "      <th>0</th>\n",
       "      <td>0.0</td>\n",
       "      <td>0.0</td>\n",
       "      <td>0.0</td>\n",
       "      <td>0.0</td>\n",
       "      <td>0.0</td>\n",
       "      <td>0.0</td>\n",
       "      <td>0.0</td>\n",
       "      <td>0.0</td>\n",
       "      <td>0.0</td>\n",
       "      <td>0.0</td>\n",
       "      <td>...</td>\n",
       "      <td>0.0</td>\n",
       "      <td>0.0</td>\n",
       "      <td>0.0</td>\n",
       "      <td>0.0</td>\n",
       "      <td>0.0</td>\n",
       "      <td>0.0</td>\n",
       "      <td>0.0</td>\n",
       "      <td>0.0</td>\n",
       "      <td>0.0</td>\n",
       "      <td>0.0</td>\n",
       "    </tr>\n",
       "    <tr>\n",
       "      <th>1</th>\n",
       "      <td>0.0</td>\n",
       "      <td>0.0</td>\n",
       "      <td>0.0</td>\n",
       "      <td>0.0</td>\n",
       "      <td>0.0</td>\n",
       "      <td>0.0</td>\n",
       "      <td>0.0</td>\n",
       "      <td>0.0</td>\n",
       "      <td>0.0</td>\n",
       "      <td>0.0</td>\n",
       "      <td>...</td>\n",
       "      <td>0.0</td>\n",
       "      <td>0.0</td>\n",
       "      <td>0.0</td>\n",
       "      <td>0.0</td>\n",
       "      <td>0.0</td>\n",
       "      <td>0.0</td>\n",
       "      <td>0.0</td>\n",
       "      <td>0.0</td>\n",
       "      <td>0.0</td>\n",
       "      <td>0.0</td>\n",
       "    </tr>\n",
       "  </tbody>\n",
       "</table>\n",
       "<p>2 rows × 784 columns</p>\n",
       "</div>"
      ],
      "text/plain": [
       "   pixel1  pixel2  pixel3  pixel4  pixel5  pixel6  pixel7  pixel8  pixel9  \\\n",
       "0     0.0     0.0     0.0     0.0     0.0     0.0     0.0     0.0     0.0   \n",
       "1     0.0     0.0     0.0     0.0     0.0     0.0     0.0     0.0     0.0   \n",
       "\n",
       "   pixel10  ...  pixel775  pixel776  pixel777  pixel778  pixel779  pixel780  \\\n",
       "0      0.0  ...       0.0       0.0       0.0       0.0       0.0       0.0   \n",
       "1      0.0  ...       0.0       0.0       0.0       0.0       0.0       0.0   \n",
       "\n",
       "   pixel781  pixel782  pixel783  pixel784  \n",
       "0       0.0       0.0       0.0       0.0  \n",
       "1       0.0       0.0       0.0       0.0  \n",
       "\n",
       "[2 rows x 784 columns]"
      ]
     },
     "execution_count": 4,
     "metadata": {},
     "output_type": "execute_result"
    }
   ],
   "source": [
    "mnist['data'].head(2)  # attributes"
   ]
  },
  {
   "cell_type": "code",
   "execution_count": 5,
   "id": "coral-delicious",
   "metadata": {
    "ExecuteTime": {
     "end_time": "2021-05-17T07:48:45.638532Z",
     "start_time": "2021-05-17T07:48:45.633468Z"
    }
   },
   "outputs": [
    {
     "data": {
      "text/plain": [
       "0    5\n",
       "1    0\n",
       "Name: class, dtype: category\n",
       "Categories (10, object): ['0', '1', '2', '3', ..., '6', '7', '8', '9']"
      ]
     },
     "execution_count": 5,
     "metadata": {},
     "output_type": "execute_result"
    }
   ],
   "source": [
    "mnist['target'].head(2)  # labels"
   ]
  },
  {
   "cell_type": "code",
   "execution_count": 6,
   "id": "enclosed-bidder",
   "metadata": {
    "ExecuteTime": {
     "end_time": "2021-05-17T07:48:45.660942Z",
     "start_time": "2021-05-17T07:48:45.640234Z"
    }
   },
   "outputs": [
    {
     "data": {
      "text/html": [
       "<div>\n",
       "<style scoped>\n",
       "    .dataframe tbody tr th:only-of-type {\n",
       "        vertical-align: middle;\n",
       "    }\n",
       "\n",
       "    .dataframe tbody tr th {\n",
       "        vertical-align: top;\n",
       "    }\n",
       "\n",
       "    .dataframe thead th {\n",
       "        text-align: right;\n",
       "    }\n",
       "</style>\n",
       "<table border=\"1\" class=\"dataframe\">\n",
       "  <thead>\n",
       "    <tr style=\"text-align: right;\">\n",
       "      <th></th>\n",
       "      <th>pixel1</th>\n",
       "      <th>pixel2</th>\n",
       "      <th>pixel3</th>\n",
       "      <th>pixel4</th>\n",
       "      <th>pixel5</th>\n",
       "      <th>pixel6</th>\n",
       "      <th>pixel7</th>\n",
       "      <th>pixel8</th>\n",
       "      <th>pixel9</th>\n",
       "      <th>pixel10</th>\n",
       "      <th>...</th>\n",
       "      <th>pixel776</th>\n",
       "      <th>pixel777</th>\n",
       "      <th>pixel778</th>\n",
       "      <th>pixel779</th>\n",
       "      <th>pixel780</th>\n",
       "      <th>pixel781</th>\n",
       "      <th>pixel782</th>\n",
       "      <th>pixel783</th>\n",
       "      <th>pixel784</th>\n",
       "      <th>class</th>\n",
       "    </tr>\n",
       "  </thead>\n",
       "  <tbody>\n",
       "    <tr>\n",
       "      <th>0</th>\n",
       "      <td>0.0</td>\n",
       "      <td>0.0</td>\n",
       "      <td>0.0</td>\n",
       "      <td>0.0</td>\n",
       "      <td>0.0</td>\n",
       "      <td>0.0</td>\n",
       "      <td>0.0</td>\n",
       "      <td>0.0</td>\n",
       "      <td>0.0</td>\n",
       "      <td>0.0</td>\n",
       "      <td>...</td>\n",
       "      <td>0.0</td>\n",
       "      <td>0.0</td>\n",
       "      <td>0.0</td>\n",
       "      <td>0.0</td>\n",
       "      <td>0.0</td>\n",
       "      <td>0.0</td>\n",
       "      <td>0.0</td>\n",
       "      <td>0.0</td>\n",
       "      <td>0.0</td>\n",
       "      <td>5</td>\n",
       "    </tr>\n",
       "    <tr>\n",
       "      <th>1</th>\n",
       "      <td>0.0</td>\n",
       "      <td>0.0</td>\n",
       "      <td>0.0</td>\n",
       "      <td>0.0</td>\n",
       "      <td>0.0</td>\n",
       "      <td>0.0</td>\n",
       "      <td>0.0</td>\n",
       "      <td>0.0</td>\n",
       "      <td>0.0</td>\n",
       "      <td>0.0</td>\n",
       "      <td>...</td>\n",
       "      <td>0.0</td>\n",
       "      <td>0.0</td>\n",
       "      <td>0.0</td>\n",
       "      <td>0.0</td>\n",
       "      <td>0.0</td>\n",
       "      <td>0.0</td>\n",
       "      <td>0.0</td>\n",
       "      <td>0.0</td>\n",
       "      <td>0.0</td>\n",
       "      <td>0</td>\n",
       "    </tr>\n",
       "  </tbody>\n",
       "</table>\n",
       "<p>2 rows × 785 columns</p>\n",
       "</div>"
      ],
      "text/plain": [
       "   pixel1  pixel2  pixel3  pixel4  pixel5  pixel6  pixel7  pixel8  pixel9  \\\n",
       "0     0.0     0.0     0.0     0.0     0.0     0.0     0.0     0.0     0.0   \n",
       "1     0.0     0.0     0.0     0.0     0.0     0.0     0.0     0.0     0.0   \n",
       "\n",
       "   pixel10  ...  pixel776  pixel777  pixel778  pixel779  pixel780  pixel781  \\\n",
       "0      0.0  ...       0.0       0.0       0.0       0.0       0.0       0.0   \n",
       "1      0.0  ...       0.0       0.0       0.0       0.0       0.0       0.0   \n",
       "\n",
       "   pixel782  pixel783  pixel784  class  \n",
       "0       0.0       0.0       0.0      5  \n",
       "1       0.0       0.0       0.0      0  \n",
       "\n",
       "[2 rows x 785 columns]"
      ]
     },
     "execution_count": 6,
     "metadata": {},
     "output_type": "execute_result"
    }
   ],
   "source": [
    "mnist['frame'].head(2)  # all columns (= data + target)"
   ]
  },
  {
   "cell_type": "code",
   "execution_count": 7,
   "id": "radical-peeing",
   "metadata": {
    "ExecuteTime": {
     "end_time": "2021-05-17T07:48:45.668172Z",
     "start_time": "2021-05-17T07:48:45.664784Z"
    }
   },
   "outputs": [
    {
     "data": {
      "text/plain": [
       "((70000, 784), (70000,))"
      ]
     },
     "execution_count": 7,
     "metadata": {},
     "output_type": "execute_result"
    }
   ],
   "source": [
    "X, y = mnist['data'], mnist['target']\n",
    "X.shape, y.shape  \n",
    "# 28 x 28 = 784 pixels of black ink intesity [0,255] per digit, 70000 recorded digits"
   ]
  },
  {
   "cell_type": "code",
   "execution_count": 8,
   "id": "cardiovascular-yemen",
   "metadata": {
    "ExecuteTime": {
     "end_time": "2021-05-17T07:48:45.674384Z",
     "start_time": "2021-05-17T07:48:45.671201Z"
    }
   },
   "outputs": [
    {
     "data": {
      "text/plain": [
       "(784,)"
      ]
     },
     "execution_count": 8,
     "metadata": {},
     "output_type": "execute_result"
    }
   ],
   "source": [
    "X.iloc[0].shape"
   ]
  },
  {
   "cell_type": "code",
   "execution_count": 9,
   "id": "dependent-chassis",
   "metadata": {
    "ExecuteTime": {
     "end_time": "2021-05-17T07:48:45.736410Z",
     "start_time": "2021-05-17T07:48:45.675944Z"
    }
   },
   "outputs": [
    {
     "data": {
      "image/png": "[encoded data removed]",
      "text/plain": [
       "<Figure size 432x288 with 1 Axes>"
      ]
     },
     "metadata": {
      "needs_background": "light"
     },
     "output_type": "display_data"
    }
   ],
   "source": [
    "some_digit = X.iloc[0].values  # pixel array of the 0th digit (y[0])\n",
    "some_digit_image = some_digit.reshape(28, 28)  # unflatten the pixel array\n",
    "\n",
    "plt.imshow(some_digit_image, cmap='binary')\n",
    "plt.axis('off');"
   ]
  },
  {
   "cell_type": "code",
   "execution_count": 10,
   "id": "after-adolescent",
   "metadata": {
    "ExecuteTime": {
     "end_time": "2021-05-17T07:48:45.740829Z",
     "start_time": "2021-05-17T07:48:45.738018Z"
    }
   },
   "outputs": [
    {
     "data": {
      "text/plain": [
       "'5'"
      ]
     },
     "execution_count": 10,
     "metadata": {},
     "output_type": "execute_result"
    }
   ],
   "source": [
    "y.iloc[0]"
   ]
  },
  {
   "cell_type": "code",
   "execution_count": 11,
   "id": "cleared-weapon",
   "metadata": {
    "ExecuteTime": {
     "end_time": "2021-05-17T07:48:45.746405Z",
     "start_time": "2021-05-17T07:48:45.742339Z"
    }
   },
   "outputs": [
    {
     "data": {
      "text/plain": [
       "5"
      ]
     },
     "execution_count": 11,
     "metadata": {},
     "output_type": "execute_result"
    }
   ],
   "source": [
    "# convert y labels from str to int\n",
    "y = y.astype(np.uint8)\n",
    "\n",
    "y.iloc[0]"
   ]
  },
  {
   "cell_type": "code",
   "execution_count": 12,
   "id": "handled-johns",
   "metadata": {
    "ExecuteTime": {
     "end_time": "2021-05-17T07:48:45.750513Z",
     "start_time": "2021-05-17T07:48:45.747901Z"
    }
   },
   "outputs": [],
   "source": [
    "X_train, X_test, y_train, y_test = X[:60000], X[60000:], y[:60000], y[60000:]"
   ]
  },
  {
   "cell_type": "code",
   "execution_count": 13,
   "id": "going-cutting",
   "metadata": {
    "ExecuteTime": {
     "end_time": "2021-05-17T07:49:04.351322Z",
     "start_time": "2021-05-17T07:48:45.752110Z"
    }
   },
   "outputs": [
    {
     "data": {
      "text/plain": [
       "SGDClassifier(random_state=42)"
      ]
     },
     "execution_count": 13,
     "metadata": {},
     "output_type": "execute_result"
    }
   ],
   "source": [
    "# a simple \"digit 5 detector\" - binary classifier\n",
    "y_train_5 = (y_train == 5)  # array of 0 & 1's\n",
    "y_test_5 = (y_test == 5)\n",
    "\n",
    "# stochastic gradient descent classifier\n",
    "sgd_clf = SGDClassifier(random_state=42)\n",
    "sgd_clf.fit(X_train, y_train_5)"
   ]
  },
  {
   "cell_type": "code",
   "execution_count": 14,
   "id": "considerable-commission",
   "metadata": {
    "ExecuteTime": {
     "end_time": "2021-05-17T07:49:04.357823Z",
     "start_time": "2021-05-17T07:49:04.353929Z"
    }
   },
   "outputs": [
    {
     "data": {
      "text/plain": [
       "array([ True])"
      ]
     },
     "execution_count": 14,
     "metadata": {},
     "output_type": "execute_result"
    }
   ],
   "source": [
    "sgd_clf.predict([some_digit])  # some_digit should be 5"
   ]
  },
  {
   "cell_type": "code",
   "execution_count": 38,
   "id": "civic-advantage",
   "metadata": {
    "ExecuteTime": {
     "end_time": "2021-05-17T10:08:01.906178Z",
     "start_time": "2021-05-17T10:08:01.902388Z"
    }
   },
   "outputs": [
    {
     "data": {
      "text/plain": [
       "array([ True])"
      ]
     },
     "execution_count": 38,
     "metadata": {},
     "output_type": "execute_result"
    }
   ],
   "source": [
    "# a decision function score for this digit\n",
    "decision_score = sgd_clf.decision_function([some_digit])\n",
    "\n",
    "threshold = 0  # default threshold used in SGDClassifier()\n",
    "decision_score > threshold  # should get the same result as above"
   ]
  },
  {
   "cell_type": "code",
   "execution_count": 39,
   "id": "accepting-funds",
   "metadata": {
    "ExecuteTime": {
     "end_time": "2021-05-17T10:11:57.434485Z",
     "start_time": "2021-05-17T10:11:57.430659Z"
    }
   },
   "outputs": [
    {
     "data": {
      "text/plain": [
       "array([2164.22030239])"
      ]
     },
     "execution_count": 39,
     "metadata": {},
     "output_type": "execute_result"
    }
   ],
   "source": [
    "decision_score  # set threshold to > 2165 would shift the prediction to False"
   ]
  },
  {
   "cell_type": "markdown",
   "id": "sound-success",
   "metadata": {},
   "source": [
    "The decision function (and predict_proba) returns an array of scores that represents whether a predicted sample for x_test by the classifier lies to the right or left side of the Hyperplane (threshold) and also how far from the HyperPlane.\n",
    "\n",
    "It also tells us that how confidently each value predicted for x_test by the classifier is Positive ( large-magnitude Positive value ) or Negative ( large-magnitude Negative value).\n",
    "\n",
    "We can manipulate classifier decisions by setting a decision threshold ourselves, such that we get desired precision or recall value if our project is precision-oriented or recall-oriented respectively."
   ]
  },
  {
   "cell_type": "code",
   "execution_count": 15,
   "id": "reserved-burlington",
   "metadata": {
    "ExecuteTime": {
     "end_time": "2021-05-17T07:49:35.425801Z",
     "start_time": "2021-05-17T07:49:04.359484Z"
    }
   },
   "outputs": [
    {
     "name": "stdout",
     "output_type": "stream",
     "text": [
      "accuracy ratio:  0.9669\n",
      "accuracy ratio:  0.91625\n",
      "accuracy ratio:  0.96785\n"
     ]
    }
   ],
   "source": [
    "# stratified k-fold cv (each fold retains the percentage of samples for each class)\n",
    "skfolds = StratifiedKFold(n_splits=3, shuffle=True, random_state=42)  # 3 folds so 3 test runs\n",
    "\n",
    "# for each of the 3 folds (tests):\n",
    "for train_index, test_index in skfolds.split(X_train, y_train_5):\n",
    "    # test the same copy of the original model (from above)\n",
    "    clone_clf = clone(sgd_clf)\n",
    "    \n",
    "    # 2 folds for training and 1 fold for test\n",
    "    X_train_folds = X_train.iloc[train_index]\n",
    "    X_test_fold = X_train.iloc[test_index]\n",
    "    y_train_folds = y_train_5.iloc[train_index]\n",
    "    y_test_fold = y_train_5.iloc[test_index]\n",
    "    \n",
    "    # fit and test the same model (for 3 times)\n",
    "    clone_clf.fit(X_train_folds, y_train_folds)\n",
    "    y_pred = clone_clf.predict(X_test_fold)\n",
    "    n_correct = sum(y_pred == y_test_fold)\n",
    "    print('accuracy ratio: ', n_correct / len(y_pred))"
   ]
  },
  {
   "cell_type": "code",
   "execution_count": 16,
   "id": "derived-queue",
   "metadata": {
    "ExecuteTime": {
     "end_time": "2021-05-17T07:49:59.474608Z",
     "start_time": "2021-05-17T07:49:35.429061Z"
    }
   },
   "outputs": [
    {
     "name": "stdout",
     "output_type": "stream",
     "text": [
      "accruacy ratio:  0.95035\n",
      "accruacy ratio:  0.96035\n",
      "accruacy ratio:  0.9604\n"
     ]
    }
   ],
   "source": [
    "# regular k-fold cv\n",
    "for score in cross_val_score(sgd_clf, X_train, y_train_5, cv=3, scoring='accuracy'):  # 3 folds\n",
    "    print('accruacy ratio: ', score)"
   ]
  },
  {
   "cell_type": "markdown",
   "id": "rolled-basis",
   "metadata": {},
   "source": [
    "__Note: However, for classifiers, accuracy by ratio of correct predictions is NOT a good measure - should use confusion matrix instead.__"
   ]
  },
  {
   "cell_type": "code",
   "execution_count": 17,
   "id": "conscious-confidence",
   "metadata": {
    "ExecuteTime": {
     "end_time": "2021-05-17T07:50:23.234657Z",
     "start_time": "2021-05-17T07:49:59.477331Z"
    }
   },
   "outputs": [
    {
     "data": {
      "text/plain": [
       "array([ True, False, False, ...,  True, False, False])"
      ]
     },
     "execution_count": 17,
     "metadata": {},
     "output_type": "execute_result"
    }
   ],
   "source": [
    "# model prediction for each of the 3 test folds - stacking to the full labels array\n",
    "y_train_pred = cross_val_predict(sgd_clf, X_train, y_train_5, cv=3)\n",
    "y_train_pred"
   ]
  },
  {
   "cell_type": "code",
   "execution_count": 18,
   "id": "immediate-cookbook",
   "metadata": {
    "ExecuteTime": {
     "end_time": "2021-05-17T07:50:23.287277Z",
     "start_time": "2021-05-17T07:50:23.237492Z"
    }
   },
   "outputs": [
    {
     "data": {
      "text/plain": [
       "array([[53892,   687],\n",
       "       [ 1891,  3530]])"
      ]
     },
     "execution_count": 18,
     "metadata": {},
     "output_type": "execute_result"
    }
   ],
   "source": [
    "confusion_matrix(y_train_5, y_train_pred)  # (y, y_hat)"
   ]
  },
  {
   "cell_type": "code",
   "execution_count": 19,
   "id": "driving-concentrate",
   "metadata": {
    "ExecuteTime": {
     "end_time": "2021-05-17T07:50:23.312754Z",
     "start_time": "2021-05-17T07:50:23.289255Z"
    }
   },
   "outputs": [
    {
     "data": {
      "text/plain": [
       "0.8370879772350012"
      ]
     },
     "execution_count": 19,
     "metadata": {},
     "output_type": "execute_result"
    }
   ],
   "source": [
    "precision_score(y_train_5, y_train_pred)  # TP/(TP+FP)"
   ]
  },
  {
   "cell_type": "code",
   "execution_count": 20,
   "id": "operational-tumor",
   "metadata": {
    "ExecuteTime": {
     "end_time": "2021-05-17T07:50:23.333907Z",
     "start_time": "2021-05-17T07:50:23.314336Z"
    }
   },
   "outputs": [
    {
     "data": {
      "text/plain": [
       "0.6511713705958311"
      ]
     },
     "execution_count": 20,
     "metadata": {},
     "output_type": "execute_result"
    }
   ],
   "source": [
    "recall_score(y_train_5, y_train_pred)  # TP/(TP+FN)"
   ]
  },
  {
   "cell_type": "code",
   "execution_count": 21,
   "id": "seventh-browser",
   "metadata": {
    "ExecuteTime": {
     "end_time": "2021-05-17T07:50:23.360916Z",
     "start_time": "2021-05-17T07:50:23.335743Z"
    }
   },
   "outputs": [
    {
     "data": {
      "text/plain": [
       "0.7325171197343846"
      ]
     },
     "execution_count": 21,
     "metadata": {},
     "output_type": "execute_result"
    }
   ],
   "source": [
    "f1_score(y_train_5, y_train_pred)  # 2 / (1 / precision + 1 / recall)"
   ]
  },
  {
   "cell_type": "code",
   "execution_count": 22,
   "id": "twenty-missile",
   "metadata": {
    "ExecuteTime": {
     "end_time": "2021-05-17T07:50:50.166629Z",
     "start_time": "2021-05-17T07:50:23.362889Z"
    }
   },
   "outputs": [
    {
     "data": {
      "text/plain": [
       "array([-106527.45300471, -105763.22240074, -105406.2965229 , ...,\n",
       "         38871.26391927,   42216.05562787,   49441.43765905])"
      ]
     },
     "execution_count": 22,
     "metadata": {},
     "output_type": "execute_result"
    }
   ],
   "source": [
    "# precision-recall trade off\n",
    "y_scores = cross_val_predict(sgd_clf, X_train, y_train_5, cv=3,  # default method returns y labels, but...\n",
    "                             method=\"decision_function\")  # this returns classifier decision scores for each y\n",
    "\n",
    "precisions, recalls, thresholds = precision_recall_curve(y_train_5, y_scores)  \n",
    "# only works with binary classification\n",
    "\n",
    "thresholds\n",
    "# Increasing thresholds on the decision function used to compute precision and recall"
   ]
  },
  {
   "cell_type": "code",
   "execution_count": 23,
   "id": "handmade-underwear",
   "metadata": {
    "ExecuteTime": {
     "end_time": "2021-05-17T07:50:50.176988Z",
     "start_time": "2021-05-17T07:50:50.168723Z"
    }
   },
   "outputs": [
    {
     "data": {
      "text/plain": [
       "array([-146348.56726174, -142300.00705404, -137588.97581744, ...,\n",
       "         38871.26391927,   42216.05562787,   49441.43765905])"
      ]
     },
     "execution_count": 23,
     "metadata": {},
     "output_type": "execute_result"
    }
   ],
   "source": [
    "np.sort(y_scores)  # thresholds ~ desicion function scores"
   ]
  },
  {
   "cell_type": "code",
   "execution_count": 24,
   "id": "naked-vancouver",
   "metadata": {
    "ExecuteTime": {
     "end_time": "2021-05-17T07:50:50.403168Z",
     "start_time": "2021-05-17T07:50:50.179184Z"
    }
   },
   "outputs": [
    {
     "data": {
      "image/png": "[encoded data removed]",
      "text/plain": [
       "<Figure size 576x288 with 1 Axes>"
      ]
     },
     "metadata": {
      "needs_background": "light"
     },
     "output_type": "display_data"
    }
   ],
   "source": [
    "plt.figure(figsize=(8, 4))\n",
    "\n",
    "# plot each precision and recall against their correspoding evaluation threshold\n",
    "plt.plot(thresholds, precisions[:-1], 'b--', label='Precision')\n",
    "plt.plot(thresholds, recalls[:-1], 'g-', label='Recall')\n",
    "\n",
    "plt.legend(fontsize=16)\n",
    "plt.xlabel(\"Threshold\", fontsize=16)\n",
    "plt.grid(True)\n",
    "plt.axis([-50000, 50000, 0, 1]);"
   ]
  },
  {
   "cell_type": "code",
   "execution_count": 31,
   "id": "alien-spectacular",
   "metadata": {
    "ExecuteTime": {
     "end_time": "2021-05-17T08:30:29.228199Z",
     "start_time": "2021-05-17T08:30:29.091880Z"
    }
   },
   "outputs": [
    {
     "data": {
      "image/png": "[encoded data removed]",
      "text/plain": [
       "<Figure size 432x288 with 1 Axes>"
      ]
     },
     "metadata": {
      "needs_background": "light"
     },
     "output_type": "display_data"
    }
   ],
   "source": [
    "plt.plot(recalls, precisions, \"b-\", linewidth=2)\n",
    "plt.xlabel(\"Recall\", fontsize=12)\n",
    "plt.ylabel(\"Precision\", fontsize=12)\n",
    "plt.axis([0, 1, 0, 1])\n",
    "plt.grid(True)"
   ]
  },
  {
   "cell_type": "code",
   "execution_count": 25,
   "id": "included-vector",
   "metadata": {
    "ExecuteTime": {
     "end_time": "2021-05-17T07:50:50.412642Z",
     "start_time": "2021-05-17T07:50:50.410425Z"
    }
   },
   "outputs": [],
   "source": [
    "ind_p90 = np.argmax(precisions >= 0.90)  # index of the first precision value that satisfies the criteria"
   ]
  },
  {
   "cell_type": "code",
   "execution_count": 26,
   "id": "industrial-amber",
   "metadata": {
    "ExecuteTime": {
     "end_time": "2021-05-17T07:50:50.420436Z",
     "start_time": "2021-05-17T07:50:50.417517Z"
    }
   },
   "outputs": [
    {
     "data": {
      "text/plain": [
       "0.9000345901072293"
      ]
     },
     "execution_count": 26,
     "metadata": {},
     "output_type": "execute_result"
    }
   ],
   "source": [
    "precisions[ind_p90]"
   ]
  },
  {
   "cell_type": "code",
   "execution_count": 27,
   "id": "talented-olive",
   "metadata": {
    "ExecuteTime": {
     "end_time": "2021-05-17T07:50:50.425725Z",
     "start_time": "2021-05-17T07:50:50.422234Z"
    }
   },
   "outputs": [
    {
     "data": {
      "text/plain": [
       "0.4799852425751706"
      ]
     },
     "execution_count": 27,
     "metadata": {},
     "output_type": "execute_result"
    }
   ],
   "source": [
    "recalls[ind_p90]  # trade-off vs. the value above"
   ]
  },
  {
   "cell_type": "code",
   "execution_count": 28,
   "id": "animated-moses",
   "metadata": {
    "ExecuteTime": {
     "end_time": "2021-05-17T07:50:50.430563Z",
     "start_time": "2021-05-17T07:50:50.427746Z"
    }
   },
   "outputs": [
    {
     "data": {
      "text/plain": [
       "3370.019499143958"
      ]
     },
     "execution_count": 28,
     "metadata": {},
     "output_type": "execute_result"
    }
   ],
   "source": [
    "thresholds[ind_p90]  # this is the threshold value that gets the two values above"
   ]
  },
  {
   "cell_type": "code",
   "execution_count": 29,
   "id": "joined-findings",
   "metadata": {
    "ExecuteTime": {
     "end_time": "2021-05-17T07:50:50.453727Z",
     "start_time": "2021-05-17T07:50:50.432191Z"
    }
   },
   "outputs": [
    {
     "data": {
      "text/plain": [
       "0.9000345901072293"
      ]
     },
     "execution_count": 29,
     "metadata": {},
     "output_type": "execute_result"
    }
   ],
   "source": [
    "criteria_p90 = (y_scores >= thresholds[ind_p90])\n",
    "precision_score(y_train_5, criteria_p90)  # same as indexing the \"precisions\" array above"
   ]
  },
  {
   "cell_type": "code",
   "execution_count": 35,
   "id": "increased-niagara",
   "metadata": {
    "ExecuteTime": {
     "end_time": "2021-05-17T08:49:52.444555Z",
     "start_time": "2021-05-17T08:49:52.294316Z"
    }
   },
   "outputs": [
    {
     "data": {
      "image/png": "[encoded data removed]",
      "text/plain": [
       "<Figure size 576x288 with 1 Axes>"
      ]
     },
     "metadata": {
      "needs_background": "light"
     },
     "output_type": "display_data"
    }
   ],
   "source": [
    "fpr, tpr, thresholds = roc_curve(y_train_5, y_scores)  # actual against decision func scores\n",
    "\n",
    "plt.figure(figsize=(8, 4))\n",
    "\n",
    "# plot ROC curve: \n",
    "plt.plot(fpr, tpr, linewidth=2)  # ROC curve\n",
    "plt.plot([0, 1], [0, 1], 'k--')  # diagonal - the ROC curve should better stay as far away as possible\n",
    "\n",
    "plt.xlabel('False Positive Rate (Fall-Out)', fontsize=16)\n",
    "plt.ylabel('True Positive Rate (Recall)', fontsize=16)    \n",
    "plt.grid(True)    \n",
    "plt.axis([0, 1, 0, 1]);"
   ]
  },
  {
   "cell_type": "code",
   "execution_count": 37,
   "id": "stuck-mainstream",
   "metadata": {
    "ExecuteTime": {
     "end_time": "2021-05-17T10:00:27.607158Z",
     "start_time": "2021-05-17T10:00:27.581818Z"
    }
   },
   "outputs": [
    {
     "data": {
      "text/plain": [
       "0.9604938554008616"
      ]
     },
     "execution_count": 37,
     "metadata": {},
     "output_type": "execute_result"
    }
   ],
   "source": [
    "# the larger the area under the ROC (i.e. AUC value), the better\n",
    "roc_auc_score(y_train_5, y_scores)  # actual against decision func scores"
   ]
  },
  {
   "cell_type": "code",
   "execution_count": 42,
   "id": "conditional-intelligence",
   "metadata": {
    "ExecuteTime": {
     "end_time": "2021-05-17T10:55:27.741238Z",
     "start_time": "2021-05-17T10:54:43.074976Z"
    }
   },
   "outputs": [
    {
     "data": {
      "text/plain": [
       "array([[0.11, 0.89],\n",
       "       [0.99, 0.01],\n",
       "       [0.96, 0.04],\n",
       "       ...,\n",
       "       [0.02, 0.98],\n",
       "       [0.92, 0.08],\n",
       "       [0.94, 0.06]])"
      ]
     },
     "execution_count": 42,
     "metadata": {},
     "output_type": "execute_result"
    }
   ],
   "source": [
    "# predict_proba vs. decision_function\n",
    "forest_clf = RandomForestClassifier(random_state=42)\n",
    "y_probas_forest = cross_val_predict(forest_clf, X_train, y_train_5, cv=3, \n",
    "                                    method='predict_proba')  # alternative to decision_function\n",
    "y_probas_forest  # a column per class (binary classification here)"
   ]
  },
  {
   "cell_type": "code",
   "execution_count": 46,
   "id": "minimal-richmond",
   "metadata": {
    "ExecuteTime": {
     "end_time": "2021-05-17T11:12:21.687426Z",
     "start_time": "2021-05-17T11:12:21.498252Z"
    }
   },
   "outputs": [
    {
     "data": {
      "image/png": "[encoded data removed]",
      "text/plain": [
       "<Figure size 576x432 with 1 Axes>"
      ]
     },
     "metadata": {
      "needs_background": "light"
     },
     "output_type": "display_data"
    }
   ],
   "source": [
    "# get the ROC curve for RandomForestClassifier() with the positive scores from predict_proba\n",
    "y_scores_forest = y_probas_forest[:, 1]  # proba of positive class (second column)\n",
    "fpr_forest, tpr_forest, thresholds_forest = roc_curve(y_train_5, y_scores_forest)  # use the 'positive' column!\n",
    "\n",
    "# plot the ROC curve for RandomForestClassifier() vs. SGDClassifier()\n",
    "plt.figure(figsize=(8, 6))\n",
    "\n",
    "plt.plot(fpr, tpr, 'b:', label=\"SGD\")  # SGD, decision_function scores\n",
    "plt.plot(fpr_forest, tpr_forest, 'g', label=\"Random Forest\")  # forest, predict_proba scores\n",
    "plt.plot([0, 1], [0, 1], 'k--')  # diagonal\n",
    "\n",
    "plt.grid(True)\n",
    "plt.xlabel('False Positive Rate (Fall-Out)', fontsize=16)\n",
    "plt.ylabel('True Positive Rate (Recall)', fontsize=16)\n",
    "plt.axis([0, 1, 0, 1])\n",
    "plt.legend(fontsize=16);  # Random forest is better due to a larger AUC"
   ]
  },
  {
   "cell_type": "code",
   "execution_count": 47,
   "id": "spanish-price",
   "metadata": {
    "ExecuteTime": {
     "end_time": "2021-05-17T11:13:32.122987Z",
     "start_time": "2021-05-17T11:13:32.108162Z"
    }
   },
   "outputs": [
    {
     "data": {
      "text/plain": [
       "0.9983436731328145"
      ]
     },
     "execution_count": 47,
     "metadata": {},
     "output_type": "execute_result"
    }
   ],
   "source": [
    "roc_auc_score(y_train_5, y_scores_forest)"
   ]
  },
  {
   "cell_type": "code",
   "execution_count": null,
   "id": "desperate-history",
   "metadata": {},
   "outputs": [],
   "source": []
  }
 ],
 "metadata": {
  "kernelspec": {
   "display_name": "Python 3",
   "language": "python",
   "name": "python3"
  },
  "language_info": {
   "codemirror_mode": {
    "name": "ipython",
    "version": 3
   },
   "file_extension": ".py",
   "mimetype": "text/x-python",
   "name": "python",
   "nbconvert_exporter": "python",
   "pygments_lexer": "ipython3",
   "version": "3.8.5"
  },
  "latex_envs": {
   "LaTeX_envs_menu_present": true,
   "autoclose": true,
   "autocomplete": true,
   "bibliofile": "biblio.bib",
   "cite_by": "apalike",
   "current_citInitial": 1,
   "eqLabelWithNumbers": true,
   "eqNumInitial": 1,
   "hotkeys": {
    "equation": "Ctrl-E",
    "itemize": "Ctrl-I"
   },
   "labels_anchors": false,
   "latex_user_defs": false,
   "report_style_numbering": false,
   "user_envs_cfg": false
  },
  "toc": {
   "base_numbering": 1,
   "nav_menu": {},
   "number_sections": true,
   "sideBar": true,
   "skip_h1_title": false,
   "title_cell": "Table of Contents",
   "title_sidebar": "Contents",
   "toc_cell": false,
   "toc_position": {},
   "toc_section_display": true,
   "toc_window_display": true
  },
  "varInspector": {
   "cols": {
    "lenName": 16,
    "lenType": 16,
    "lenVar": 40
   },
   "kernels_config": {
    "python": {
     "delete_cmd_postfix": "",
     "delete_cmd_prefix": "del ",
     "library": "var_list.py",
     "varRefreshCmd": "print(var_dic_list())"
    },
    "r": {
     "delete_cmd_postfix": ") ",
     "delete_cmd_prefix": "rm(",
     "library": "var_list.r",
     "varRefreshCmd": "cat(var_dic_list()) "
    }
   },
   "position": {
    "height": "473px",
    "left": "3px",
    "right": "20px",
    "top": "420px",
    "width": "345px"
   },
   "types_to_exclude": [
    "module",
    "function",
    "builtin_function_or_method",
    "instance",
    "_Feature"
   ],
   "window_display": true
  }
 },
 "nbformat": 4,
 "nbformat_minor": 5
}
