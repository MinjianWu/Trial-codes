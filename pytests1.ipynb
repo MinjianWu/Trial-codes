{
 "cells": [
  {
   "cell_type": "code",
   "execution_count": 1,
   "metadata": {},
   "outputs": [],
   "source": [
    "import numpy as np\n",
    "import pandas as pd"
   ]
  },
  {
   "cell_type": "markdown",
   "metadata": {},
   "source": [
    "# Numpy arrays"
   ]
  },
  {
   "cell_type": "code",
   "execution_count": 2,
   "metadata": {},
   "outputs": [
    {
     "data": {
      "text/plain": [
       "array([1. , 2. , 3.9, 5. , 7. ])"
      ]
     },
     "execution_count": 2,
     "metadata": {},
     "output_type": "execute_result"
    }
   ],
   "source": [
    "np.array([1, 2, 3.9, 5, 7])"
   ]
  },
  {
   "cell_type": "code",
   "execution_count": 3,
   "metadata": {},
   "outputs": [
    {
     "data": {
      "text/plain": [
       "array(2)"
      ]
     },
     "execution_count": 3,
     "metadata": {},
     "output_type": "execute_result"
    }
   ],
   "source": [
    "np.array(2)"
   ]
  },
  {
   "cell_type": "code",
   "execution_count": 4,
   "metadata": {},
   "outputs": [
    {
     "data": {
      "text/plain": [
       "numpy.ndarray"
      ]
     },
     "execution_count": 4,
     "metadata": {},
     "output_type": "execute_result"
    }
   ],
   "source": [
    "type(np.array(2))"
   ]
  },
  {
   "cell_type": "code",
   "execution_count": 5,
   "metadata": {},
   "outputs": [
    {
     "data": {
      "text/plain": [
       "array([6, 7, 8, 0, 1])"
      ]
     },
     "execution_count": 5,
     "metadata": {},
     "output_type": "execute_result"
    }
   ],
   "source": [
    "data1 = [6, 7.7, 8, 0, 1]\n",
    "np.array(data1, dtype=int)"
   ]
  },
  {
   "cell_type": "code",
   "execution_count": 6,
   "metadata": {},
   "outputs": [
    {
     "data": {
      "text/plain": [
       "array([[1, 2, 3, 4],\n",
       "       [5, 6, 7, 8]])"
      ]
     },
     "execution_count": 6,
     "metadata": {},
     "output_type": "execute_result"
    }
   ],
   "source": [
    "data2 = [[1, 2, 3, 4], [5, 6, 7, 8]]\n",
    "np.array(data2)"
   ]
  },
  {
   "cell_type": "code",
   "execution_count": 7,
   "metadata": {},
   "outputs": [
    {
     "data": {
      "text/plain": [
       "array([0., 0., 0., 0., 0., 0., 0., 0., 0., 0.])"
      ]
     },
     "execution_count": 7,
     "metadata": {},
     "output_type": "execute_result"
    }
   ],
   "source": [
    "np.zeros(10)"
   ]
  },
  {
   "cell_type": "code",
   "execution_count": 8,
   "metadata": {},
   "outputs": [
    {
     "data": {
      "text/plain": [
       "array([0, 0, 0, 0, 0, 0, 0, 0, 0, 0])"
      ]
     },
     "execution_count": 8,
     "metadata": {},
     "output_type": "execute_result"
    }
   ],
   "source": [
    "np.zeros(10, dtype=int)"
   ]
  },
  {
   "cell_type": "code",
   "execution_count": 9,
   "metadata": {},
   "outputs": [
    {
     "data": {
      "text/plain": [
       "array([1., 1., 1., 1., 1., 1., 1., 1., 1., 1.])"
      ]
     },
     "execution_count": 9,
     "metadata": {},
     "output_type": "execute_result"
    }
   ],
   "source": [
    "np.ones(10)"
   ]
  },
  {
   "cell_type": "code",
   "execution_count": 10,
   "metadata": {},
   "outputs": [
    {
     "data": {
      "text/plain": [
       "array([[1., 1., 1., 1., 1., 1.],\n",
       "       [1., 1., 1., 1., 1., 1.],\n",
       "       [1., 1., 1., 1., 1., 1.]])"
      ]
     },
     "execution_count": 10,
     "metadata": {},
     "output_type": "execute_result"
    }
   ],
   "source": [
    "arr1 = np.ones((3,6))\n",
    "# a tuple for rows and columns\n",
    "arr1"
   ]
  },
  {
   "cell_type": "code",
   "execution_count": 11,
   "metadata": {},
   "outputs": [
    {
     "data": {
      "text/plain": [
       "(3, 6)"
      ]
     },
     "execution_count": 11,
     "metadata": {},
     "output_type": "execute_result"
    }
   ],
   "source": [
    "arr1.shape"
   ]
  },
  {
   "cell_type": "code",
   "execution_count": 12,
   "metadata": {},
   "outputs": [
    {
     "data": {
      "text/plain": [
       "3"
      ]
     },
     "execution_count": 12,
     "metadata": {},
     "output_type": "execute_result"
    }
   ],
   "source": [
    "len(arr1)"
   ]
  },
  {
   "cell_type": "code",
   "execution_count": 13,
   "metadata": {},
   "outputs": [
    {
     "data": {
      "text/plain": [
       "3"
      ]
     },
     "execution_count": 13,
     "metadata": {},
     "output_type": "execute_result"
    }
   ],
   "source": [
    "arr1.shape[0]"
   ]
  },
  {
   "cell_type": "code",
   "execution_count": 14,
   "metadata": {},
   "outputs": [
    {
     "data": {
      "text/plain": [
       "array([[ 3458764513820540928, -1152912720694840368],\n",
       "       [                   3,                    0],\n",
       "       [                   0,      844424930131968]])"
      ]
     },
     "execution_count": 14,
     "metadata": {},
     "output_type": "execute_result"
    }
   ],
   "source": [
    "np.empty((3,2), dtype=int)"
   ]
  },
  {
   "cell_type": "code",
   "execution_count": 15,
   "metadata": {},
   "outputs": [
    {
     "data": {
      "text/plain": [
       "array([[1, 0, 0],\n",
       "       [0, 1, 0]])"
      ]
     },
     "execution_count": 15,
     "metadata": {},
     "output_type": "execute_result"
    }
   ],
   "source": [
    "np.eye(2, 3, dtype=int)"
   ]
  },
  {
   "cell_type": "code",
   "execution_count": 16,
   "metadata": {},
   "outputs": [
    {
     "data": {
      "text/plain": [
       "array([ 0,  1,  2,  3,  4,  5,  6,  7,  8,  9, 10])"
      ]
     },
     "execution_count": 16,
     "metadata": {},
     "output_type": "execute_result"
    }
   ],
   "source": [
    "np.arange(10.5, dtype=int)"
   ]
  },
  {
   "cell_type": "code",
   "execution_count": 17,
   "metadata": {},
   "outputs": [
    {
     "data": {
      "text/plain": [
       "array([0, 1, 2, 3, 4, 5, 6, 7, 8, 9])"
      ]
     },
     "execution_count": 17,
     "metadata": {},
     "output_type": "execute_result"
    }
   ],
   "source": [
    "np.arange(10)"
   ]
  },
  {
   "cell_type": "code",
   "execution_count": 283,
   "metadata": {},
   "outputs": [
    {
     "data": {
      "application/javascript": [
       "/* Put everything inside the global mpl namespace */\n",
       "/* global mpl */\n",
       "window.mpl = {};\n",
       "\n",
       "mpl.get_websocket_type = function () {\n",
       "    if (typeof WebSocket !== 'undefined') {\n",
       "        return WebSocket;\n",
       "    } else if (typeof MozWebSocket !== 'undefined') {\n",
       "        return MozWebSocket;\n",
       "    } else {\n",
       "        alert(\n",
       "            'Your browser does not have WebSocket support. ' +\n",
       "                'Please try Chrome, Safari or Firefox ≥ 6. ' +\n",
       "                'Firefox 4 and 5 are also supported but you ' +\n",
       "                'have to enable WebSockets in about:config.'\n",
       "        );\n",
       "    }\n",
       "};\n",
       "\n",
       "mpl.figure = function (figure_id, websocket, ondownload, parent_element) {\n",
       "    this.id = figure_id;\n",
       "\n",
       "    this.ws = websocket;\n",
       "\n",
       "    this.supports_binary = this.ws.binaryType !== undefined;\n",
       "\n",
       "    if (!this.supports_binary) {\n",
       "        var warnings = document.getElementById('mpl-warnings');\n",
       "        if (warnings) {\n",
       "            warnings.style.display = 'block';\n",
       "            warnings.textContent =\n",
       "                'This browser does not support binary websocket messages. ' +\n",
       "                'Performance may be slow.';\n",
       "        }\n",
       "    }\n",
       "\n",
       "    this.imageObj = new Image();\n",
       "\n",
       "    this.context = undefined;\n",
       "    this.message = undefined;\n",
       "    this.canvas = undefined;\n",
       "    this.rubberband_canvas = undefined;\n",
       "    this.rubberband_context = undefined;\n",
       "    this.format_dropdown = undefined;\n",
       "\n",
       "    this.image_mode = 'full';\n",
       "\n",
       "    this.root = document.createElement('div');\n",
       "    this.root.setAttribute('style', 'display: inline-block');\n",
       "    this._root_extra_style(this.root);\n",
       "\n",
       "    parent_element.appendChild(this.root);\n",
       "\n",
       "    this._init_header(this);\n",
       "    this._init_canvas(this);\n",
       "    this._init_toolbar(this);\n",
       "\n",
       "    var fig = this;\n",
       "\n",
       "    this.waiting = false;\n",
       "\n",
       "    this.ws.onopen = function () {\n",
       "        fig.send_message('supports_binary', { value: fig.supports_binary });\n",
       "        fig.send_message('send_image_mode', {});\n",
       "        if (fig.ratio !== 1) {\n",
       "            fig.send_message('set_dpi_ratio', { dpi_ratio: fig.ratio });\n",
       "        }\n",
       "        fig.send_message('refresh', {});\n",
       "    };\n",
       "\n",
       "    this.imageObj.onload = function () {\n",
       "        if (fig.image_mode === 'full') {\n",
       "            // Full images could contain transparency (where diff images\n",
       "            // almost always do), so we need to clear the canvas so that\n",
       "            // there is no ghosting.\n",
       "            fig.context.clearRect(0, 0, fig.canvas.width, fig.canvas.height);\n",
       "        }\n",
       "        fig.context.drawImage(fig.imageObj, 0, 0);\n",
       "    };\n",
       "\n",
       "    this.imageObj.onunload = function () {\n",
       "        fig.ws.close();\n",
       "    };\n",
       "\n",
       "    this.ws.onmessage = this._make_on_message_function(this);\n",
       "\n",
       "    this.ondownload = ondownload;\n",
       "};\n",
       "\n",
       "mpl.figure.prototype._init_header = function () {\n",
       "    var titlebar = document.createElement('div');\n",
       "    titlebar.classList =\n",
       "        'ui-dialog-titlebar ui-widget-header ui-corner-all ui-helper-clearfix';\n",
       "    var titletext = document.createElement('div');\n",
       "    titletext.classList = 'ui-dialog-title';\n",
       "    titletext.setAttribute(\n",
       "        'style',\n",
       "        'width: 100%; text-align: center; padding: 3px;'\n",
       "    );\n",
       "    titlebar.appendChild(titletext);\n",
       "    this.root.appendChild(titlebar);\n",
       "    this.header = titletext;\n",
       "};\n",
       "\n",
       "mpl.figure.prototype._canvas_extra_style = function (_canvas_div) {};\n",
       "\n",
       "mpl.figure.prototype._root_extra_style = function (_canvas_div) {};\n",
       "\n",
       "mpl.figure.prototype._init_canvas = function () {\n",
       "    var fig = this;\n",
       "\n",
       "    var canvas_div = (this.canvas_div = document.createElement('div'));\n",
       "    canvas_div.setAttribute(\n",
       "        'style',\n",
       "        'border: 1px solid #ddd;' +\n",
       "            'box-sizing: content-box;' +\n",
       "            'clear: both;' +\n",
       "            'min-height: 1px;' +\n",
       "            'min-width: 1px;' +\n",
       "            'outline: 0;' +\n",
       "            'overflow: hidden;' +\n",
       "            'position: relative;' +\n",
       "            'resize: both;'\n",
       "    );\n",
       "\n",
       "    function on_keyboard_event_closure(name) {\n",
       "        return function (event) {\n",
       "            return fig.key_event(event, name);\n",
       "        };\n",
       "    }\n",
       "\n",
       "    canvas_div.addEventListener(\n",
       "        'keydown',\n",
       "        on_keyboard_event_closure('key_press')\n",
       "    );\n",
       "    canvas_div.addEventListener(\n",
       "        'keyup',\n",
       "        on_keyboard_event_closure('key_release')\n",
       "    );\n",
       "\n",
       "    this._canvas_extra_style(canvas_div);\n",
       "    this.root.appendChild(canvas_div);\n",
       "\n",
       "    var canvas = (this.canvas = document.createElement('canvas'));\n",
       "    canvas.classList.add('mpl-canvas');\n",
       "    canvas.setAttribute('style', 'box-sizing: content-box;');\n",
       "\n",
       "    this.context = canvas.getContext('2d');\n",
       "\n",
       "    var backingStore =\n",
       "        this.context.backingStorePixelRatio ||\n",
       "        this.context.webkitBackingStorePixelRatio ||\n",
       "        this.context.mozBackingStorePixelRatio ||\n",
       "        this.context.msBackingStorePixelRatio ||\n",
       "        this.context.oBackingStorePixelRatio ||\n",
       "        this.context.backingStorePixelRatio ||\n",
       "        1;\n",
       "\n",
       "    this.ratio = (window.devicePixelRatio || 1) / backingStore;\n",
       "    if (this.ratio !== 1) {\n",
       "        fig.send_message('set_dpi_ratio', { dpi_ratio: this.ratio });\n",
       "    }\n",
       "\n",
       "    var rubberband_canvas = (this.rubberband_canvas = document.createElement(\n",
       "        'canvas'\n",
       "    ));\n",
       "    rubberband_canvas.setAttribute(\n",
       "        'style',\n",
       "        'box-sizing: content-box; position: absolute; left: 0; top: 0; z-index: 1;'\n",
       "    );\n",
       "\n",
       "    var resizeObserver = new ResizeObserver(function (entries) {\n",
       "        var nentries = entries.length;\n",
       "        for (var i = 0; i < nentries; i++) {\n",
       "            var entry = entries[i];\n",
       "            var width, height;\n",
       "            if (entry.contentBoxSize) {\n",
       "                if (entry.contentBoxSize instanceof Array) {\n",
       "                    // Chrome 84 implements new version of spec.\n",
       "                    width = entry.contentBoxSize[0].inlineSize;\n",
       "                    height = entry.contentBoxSize[0].blockSize;\n",
       "                } else {\n",
       "                    // Firefox implements old version of spec.\n",
       "                    width = entry.contentBoxSize.inlineSize;\n",
       "                    height = entry.contentBoxSize.blockSize;\n",
       "                }\n",
       "            } else {\n",
       "                // Chrome <84 implements even older version of spec.\n",
       "                width = entry.contentRect.width;\n",
       "                height = entry.contentRect.height;\n",
       "            }\n",
       "\n",
       "            // Keep the size of the canvas and rubber band canvas in sync with\n",
       "            // the canvas container.\n",
       "            if (entry.devicePixelContentBoxSize) {\n",
       "                // Chrome 84 implements new version of spec.\n",
       "                canvas.setAttribute(\n",
       "                    'width',\n",
       "                    entry.devicePixelContentBoxSize[0].inlineSize\n",
       "                );\n",
       "                canvas.setAttribute(\n",
       "                    'height',\n",
       "                    entry.devicePixelContentBoxSize[0].blockSize\n",
       "                );\n",
       "            } else {\n",
       "                canvas.setAttribute('width', width * fig.ratio);\n",
       "                canvas.setAttribute('height', height * fig.ratio);\n",
       "            }\n",
       "            canvas.setAttribute(\n",
       "                'style',\n",
       "                'width: ' + width + 'px; height: ' + height + 'px;'\n",
       "            );\n",
       "\n",
       "            rubberband_canvas.setAttribute('width', width);\n",
       "            rubberband_canvas.setAttribute('height', height);\n",
       "\n",
       "            // And update the size in Python. We ignore the initial 0/0 size\n",
       "            // that occurs as the element is placed into the DOM, which should\n",
       "            // otherwise not happen due to the minimum size styling.\n",
       "            if (width != 0 && height != 0) {\n",
       "                fig.request_resize(width, height);\n",
       "            }\n",
       "        }\n",
       "    });\n",
       "    resizeObserver.observe(canvas_div);\n",
       "\n",
       "    function on_mouse_event_closure(name) {\n",
       "        return function (event) {\n",
       "            return fig.mouse_event(event, name);\n",
       "        };\n",
       "    }\n",
       "\n",
       "    rubberband_canvas.addEventListener(\n",
       "        'mousedown',\n",
       "        on_mouse_event_closure('button_press')\n",
       "    );\n",
       "    rubberband_canvas.addEventListener(\n",
       "        'mouseup',\n",
       "        on_mouse_event_closure('button_release')\n",
       "    );\n",
       "    // Throttle sequential mouse events to 1 every 20ms.\n",
       "    rubberband_canvas.addEventListener(\n",
       "        'mousemove',\n",
       "        on_mouse_event_closure('motion_notify')\n",
       "    );\n",
       "\n",
       "    rubberband_canvas.addEventListener(\n",
       "        'mouseenter',\n",
       "        on_mouse_event_closure('figure_enter')\n",
       "    );\n",
       "    rubberband_canvas.addEventListener(\n",
       "        'mouseleave',\n",
       "        on_mouse_event_closure('figure_leave')\n",
       "    );\n",
       "\n",
       "    canvas_div.addEventListener('wheel', function (event) {\n",
       "        if (event.deltaY < 0) {\n",
       "            event.step = 1;\n",
       "        } else {\n",
       "            event.step = -1;\n",
       "        }\n",
       "        on_mouse_event_closure('scroll')(event);\n",
       "    });\n",
       "\n",
       "    canvas_div.appendChild(canvas);\n",
       "    canvas_div.appendChild(rubberband_canvas);\n",
       "\n",
       "    this.rubberband_context = rubberband_canvas.getContext('2d');\n",
       "    this.rubberband_context.strokeStyle = '#000000';\n",
       "\n",
       "    this._resize_canvas = function (width, height, forward) {\n",
       "        if (forward) {\n",
       "            canvas_div.style.width = width + 'px';\n",
       "            canvas_div.style.height = height + 'px';\n",
       "        }\n",
       "    };\n",
       "\n",
       "    // Disable right mouse context menu.\n",
       "    this.rubberband_canvas.addEventListener('contextmenu', function (_e) {\n",
       "        event.preventDefault();\n",
       "        return false;\n",
       "    });\n",
       "\n",
       "    function set_focus() {\n",
       "        canvas.focus();\n",
       "        canvas_div.focus();\n",
       "    }\n",
       "\n",
       "    window.setTimeout(set_focus, 100);\n",
       "};\n",
       "\n",
       "mpl.figure.prototype._init_toolbar = function () {\n",
       "    var fig = this;\n",
       "\n",
       "    var toolbar = document.createElement('div');\n",
       "    toolbar.classList = 'mpl-toolbar';\n",
       "    this.root.appendChild(toolbar);\n",
       "\n",
       "    function on_click_closure(name) {\n",
       "        return function (_event) {\n",
       "            return fig.toolbar_button_onclick(name);\n",
       "        };\n",
       "    }\n",
       "\n",
       "    function on_mouseover_closure(tooltip) {\n",
       "        return function (event) {\n",
       "            if (!event.currentTarget.disabled) {\n",
       "                return fig.toolbar_button_onmouseover(tooltip);\n",
       "            }\n",
       "        };\n",
       "    }\n",
       "\n",
       "    fig.buttons = {};\n",
       "    var buttonGroup = document.createElement('div');\n",
       "    buttonGroup.classList = 'mpl-button-group';\n",
       "    for (var toolbar_ind in mpl.toolbar_items) {\n",
       "        var name = mpl.toolbar_items[toolbar_ind][0];\n",
       "        var tooltip = mpl.toolbar_items[toolbar_ind][1];\n",
       "        var image = mpl.toolbar_items[toolbar_ind][2];\n",
       "        var method_name = mpl.toolbar_items[toolbar_ind][3];\n",
       "\n",
       "        if (!name) {\n",
       "            /* Instead of a spacer, we start a new button group. */\n",
       "            if (buttonGroup.hasChildNodes()) {\n",
       "                toolbar.appendChild(buttonGroup);\n",
       "            }\n",
       "            buttonGroup = document.createElement('div');\n",
       "            buttonGroup.classList = 'mpl-button-group';\n",
       "            continue;\n",
       "        }\n",
       "\n",
       "        var button = (fig.buttons[name] = document.createElement('button'));\n",
       "        button.classList = 'mpl-widget';\n",
       "        button.setAttribute('role', 'button');\n",
       "        button.setAttribute('aria-disabled', 'false');\n",
       "        button.addEventListener('click', on_click_closure(method_name));\n",
       "        button.addEventListener('mouseover', on_mouseover_closure(tooltip));\n",
       "\n",
       "        var icon_img = document.createElement('img');\n",
       "        icon_img.src = '_images/' + image + '.png';\n",
       "        icon_img.srcset = '_images/' + image + '_large.png 2x';\n",
       "        icon_img.alt = tooltip;\n",
       "        button.appendChild(icon_img);\n",
       "\n",
       "        buttonGroup.appendChild(button);\n",
       "    }\n",
       "\n",
       "    if (buttonGroup.hasChildNodes()) {\n",
       "        toolbar.appendChild(buttonGroup);\n",
       "    }\n",
       "\n",
       "    var fmt_picker = document.createElement('select');\n",
       "    fmt_picker.classList = 'mpl-widget';\n",
       "    toolbar.appendChild(fmt_picker);\n",
       "    this.format_dropdown = fmt_picker;\n",
       "\n",
       "    for (var ind in mpl.extensions) {\n",
       "        var fmt = mpl.extensions[ind];\n",
       "        var option = document.createElement('option');\n",
       "        option.selected = fmt === mpl.default_extension;\n",
       "        option.innerHTML = fmt;\n",
       "        fmt_picker.appendChild(option);\n",
       "    }\n",
       "\n",
       "    var status_bar = document.createElement('span');\n",
       "    status_bar.classList = 'mpl-message';\n",
       "    toolbar.appendChild(status_bar);\n",
       "    this.message = status_bar;\n",
       "};\n",
       "\n",
       "mpl.figure.prototype.request_resize = function (x_pixels, y_pixels) {\n",
       "    // Request matplotlib to resize the figure. Matplotlib will then trigger a resize in the client,\n",
       "    // which will in turn request a refresh of the image.\n",
       "    this.send_message('resize', { width: x_pixels, height: y_pixels });\n",
       "};\n",
       "\n",
       "mpl.figure.prototype.send_message = function (type, properties) {\n",
       "    properties['type'] = type;\n",
       "    properties['figure_id'] = this.id;\n",
       "    this.ws.send(JSON.stringify(properties));\n",
       "};\n",
       "\n",
       "mpl.figure.prototype.send_draw_message = function () {\n",
       "    if (!this.waiting) {\n",
       "        this.waiting = true;\n",
       "        this.ws.send(JSON.stringify({ type: 'draw', figure_id: this.id }));\n",
       "    }\n",
       "};\n",
       "\n",
       "mpl.figure.prototype.handle_save = function (fig, _msg) {\n",
       "    var format_dropdown = fig.format_dropdown;\n",
       "    var format = format_dropdown.options[format_dropdown.selectedIndex].value;\n",
       "    fig.ondownload(fig, format);\n",
       "};\n",
       "\n",
       "mpl.figure.prototype.handle_resize = function (fig, msg) {\n",
       "    var size = msg['size'];\n",
       "    if (size[0] !== fig.canvas.width || size[1] !== fig.canvas.height) {\n",
       "        fig._resize_canvas(size[0], size[1], msg['forward']);\n",
       "        fig.send_message('refresh', {});\n",
       "    }\n",
       "};\n",
       "\n",
       "mpl.figure.prototype.handle_rubberband = function (fig, msg) {\n",
       "    var x0 = msg['x0'] / fig.ratio;\n",
       "    var y0 = (fig.canvas.height - msg['y0']) / fig.ratio;\n",
       "    var x1 = msg['x1'] / fig.ratio;\n",
       "    var y1 = (fig.canvas.height - msg['y1']) / fig.ratio;\n",
       "    x0 = Math.floor(x0) + 0.5;\n",
       "    y0 = Math.floor(y0) + 0.5;\n",
       "    x1 = Math.floor(x1) + 0.5;\n",
       "    y1 = Math.floor(y1) + 0.5;\n",
       "    var min_x = Math.min(x0, x1);\n",
       "    var min_y = Math.min(y0, y1);\n",
       "    var width = Math.abs(x1 - x0);\n",
       "    var height = Math.abs(y1 - y0);\n",
       "\n",
       "    fig.rubberband_context.clearRect(\n",
       "        0,\n",
       "        0,\n",
       "        fig.canvas.width / fig.ratio,\n",
       "        fig.canvas.height / fig.ratio\n",
       "    );\n",
       "\n",
       "    fig.rubberband_context.strokeRect(min_x, min_y, width, height);\n",
       "};\n",
       "\n",
       "mpl.figure.prototype.handle_figure_label = function (fig, msg) {\n",
       "    // Updates the figure title.\n",
       "    fig.header.textContent = msg['label'];\n",
       "};\n",
       "\n",
       "mpl.figure.prototype.handle_cursor = function (fig, msg) {\n",
       "    var cursor = msg['cursor'];\n",
       "    switch (cursor) {\n",
       "        case 0:\n",
       "            cursor = 'pointer';\n",
       "            break;\n",
       "        case 1:\n",
       "            cursor = 'default';\n",
       "            break;\n",
       "        case 2:\n",
       "            cursor = 'crosshair';\n",
       "            break;\n",
       "        case 3:\n",
       "            cursor = 'move';\n",
       "            break;\n",
       "    }\n",
       "    fig.rubberband_canvas.style.cursor = cursor;\n",
       "};\n",
       "\n",
       "mpl.figure.prototype.handle_message = function (fig, msg) {\n",
       "    fig.message.textContent = msg['message'];\n",
       "};\n",
       "\n",
       "mpl.figure.prototype.handle_draw = function (fig, _msg) {\n",
       "    // Request the server to send over a new figure.\n",
       "    fig.send_draw_message();\n",
       "};\n",
       "\n",
       "mpl.figure.prototype.handle_image_mode = function (fig, msg) {\n",
       "    fig.image_mode = msg['mode'];\n",
       "};\n",
       "\n",
       "mpl.figure.prototype.handle_history_buttons = function (fig, msg) {\n",
       "    for (var key in msg) {\n",
       "        if (!(key in fig.buttons)) {\n",
       "            continue;\n",
       "        }\n",
       "        fig.buttons[key].disabled = !msg[key];\n",
       "        fig.buttons[key].setAttribute('aria-disabled', !msg[key]);\n",
       "    }\n",
       "};\n",
       "\n",
       "mpl.figure.prototype.handle_navigate_mode = function (fig, msg) {\n",
       "    if (msg['mode'] === 'PAN') {\n",
       "        fig.buttons['Pan'].classList.add('active');\n",
       "        fig.buttons['Zoom'].classList.remove('active');\n",
       "    } else if (msg['mode'] === 'ZOOM') {\n",
       "        fig.buttons['Pan'].classList.remove('active');\n",
       "        fig.buttons['Zoom'].classList.add('active');\n",
       "    } else {\n",
       "        fig.buttons['Pan'].classList.remove('active');\n",
       "        fig.buttons['Zoom'].classList.remove('active');\n",
       "    }\n",
       "};\n",
       "\n",
       "mpl.figure.prototype.updated_canvas_event = function () {\n",
       "    // Called whenever the canvas gets updated.\n",
       "    this.send_message('ack', {});\n",
       "};\n",
       "\n",
       "// A function to construct a web socket function for onmessage handling.\n",
       "// Called in the figure constructor.\n",
       "mpl.figure.prototype._make_on_message_function = function (fig) {\n",
       "    return function socket_on_message(evt) {\n",
       "        if (evt.data instanceof Blob) {\n",
       "            /* FIXME: We get \"Resource interpreted as Image but\n",
       "             * transferred with MIME type text/plain:\" errors on\n",
       "             * Chrome.  But how to set the MIME type?  It doesn't seem\n",
       "             * to be part of the websocket stream */\n",
       "            evt.data.type = 'image/png';\n",
       "\n",
       "            /* Free the memory for the previous frames */\n",
       "            if (fig.imageObj.src) {\n",
       "                (window.URL || window.webkitURL).revokeObjectURL(\n",
       "                    fig.imageObj.src\n",
       "                );\n",
       "            }\n",
       "\n",
       "            fig.imageObj.src = (window.URL || window.webkitURL).createObjectURL(\n",
       "                evt.data\n",
       "            );\n",
       "            fig.updated_canvas_event();\n",
       "            fig.waiting = false;\n",
       "            return;\n",
       "        } else if (\n",
       "            typeof evt.data === 'string' &&\n",
       "            evt.data.slice(0, 21) === 'data:image/png;base64'\n",
       "        ) {\n",
       "            fig.imageObj.src = evt.data;\n",
       "            fig.updated_canvas_event();\n",
       "            fig.waiting = false;\n",
       "            return;\n",
       "        }\n",
       "\n",
       "        var msg = JSON.parse(evt.data);\n",
       "        var msg_type = msg['type'];\n",
       "\n",
       "        // Call the  \"handle_{type}\" callback, which takes\n",
       "        // the figure and JSON message as its only arguments.\n",
       "        try {\n",
       "            var callback = fig['handle_' + msg_type];\n",
       "        } catch (e) {\n",
       "            console.log(\n",
       "                \"No handler for the '\" + msg_type + \"' message type: \",\n",
       "                msg\n",
       "            );\n",
       "            return;\n",
       "        }\n",
       "\n",
       "        if (callback) {\n",
       "            try {\n",
       "                // console.log(\"Handling '\" + msg_type + \"' message: \", msg);\n",
       "                callback(fig, msg);\n",
       "            } catch (e) {\n",
       "                console.log(\n",
       "                    \"Exception inside the 'handler_\" + msg_type + \"' callback:\",\n",
       "                    e,\n",
       "                    e.stack,\n",
       "                    msg\n",
       "                );\n",
       "            }\n",
       "        }\n",
       "    };\n",
       "};\n",
       "\n",
       "// from http://stackoverflow.com/questions/1114465/getting-mouse-location-in-canvas\n",
       "mpl.findpos = function (e) {\n",
       "    //this section is from http://www.quirksmode.org/js/events_properties.html\n",
       "    var targ;\n",
       "    if (!e) {\n",
       "        e = window.event;\n",
       "    }\n",
       "    if (e.target) {\n",
       "        targ = e.target;\n",
       "    } else if (e.srcElement) {\n",
       "        targ = e.srcElement;\n",
       "    }\n",
       "    if (targ.nodeType === 3) {\n",
       "        // defeat Safari bug\n",
       "        targ = targ.parentNode;\n",
       "    }\n",
       "\n",
       "    // pageX,Y are the mouse positions relative to the document\n",
       "    var boundingRect = targ.getBoundingClientRect();\n",
       "    var x = e.pageX - (boundingRect.left + document.body.scrollLeft);\n",
       "    var y = e.pageY - (boundingRect.top + document.body.scrollTop);\n",
       "\n",
       "    return { x: x, y: y };\n",
       "};\n",
       "\n",
       "/*\n",
       " * return a copy of an object with only non-object keys\n",
       " * we need this to avoid circular references\n",
       " * http://stackoverflow.com/a/24161582/3208463\n",
       " */\n",
       "function simpleKeys(original) {\n",
       "    return Object.keys(original).reduce(function (obj, key) {\n",
       "        if (typeof original[key] !== 'object') {\n",
       "            obj[key] = original[key];\n",
       "        }\n",
       "        return obj;\n",
       "    }, {});\n",
       "}\n",
       "\n",
       "mpl.figure.prototype.mouse_event = function (event, name) {\n",
       "    var canvas_pos = mpl.findpos(event);\n",
       "\n",
       "    if (name === 'button_press') {\n",
       "        this.canvas.focus();\n",
       "        this.canvas_div.focus();\n",
       "    }\n",
       "\n",
       "    var x = canvas_pos.x * this.ratio;\n",
       "    var y = canvas_pos.y * this.ratio;\n",
       "\n",
       "    this.send_message(name, {\n",
       "        x: x,\n",
       "        y: y,\n",
       "        button: event.button,\n",
       "        step: event.step,\n",
       "        guiEvent: simpleKeys(event),\n",
       "    });\n",
       "\n",
       "    /* This prevents the web browser from automatically changing to\n",
       "     * the text insertion cursor when the button is pressed.  We want\n",
       "     * to control all of the cursor setting manually through the\n",
       "     * 'cursor' event from matplotlib */\n",
       "    event.preventDefault();\n",
       "    return false;\n",
       "};\n",
       "\n",
       "mpl.figure.prototype._key_event_extra = function (_event, _name) {\n",
       "    // Handle any extra behaviour associated with a key event\n",
       "};\n",
       "\n",
       "mpl.figure.prototype.key_event = function (event, name) {\n",
       "    // Prevent repeat events\n",
       "    if (name === 'key_press') {\n",
       "        if (event.which === this._key) {\n",
       "            return;\n",
       "        } else {\n",
       "            this._key = event.which;\n",
       "        }\n",
       "    }\n",
       "    if (name === 'key_release') {\n",
       "        this._key = null;\n",
       "    }\n",
       "\n",
       "    var value = '';\n",
       "    if (event.ctrlKey && event.which !== 17) {\n",
       "        value += 'ctrl+';\n",
       "    }\n",
       "    if (event.altKey && event.which !== 18) {\n",
       "        value += 'alt+';\n",
       "    }\n",
       "    if (event.shiftKey && event.which !== 16) {\n",
       "        value += 'shift+';\n",
       "    }\n",
       "\n",
       "    value += 'k';\n",
       "    value += event.which.toString();\n",
       "\n",
       "    this._key_event_extra(event, name);\n",
       "\n",
       "    this.send_message(name, { key: value, guiEvent: simpleKeys(event) });\n",
       "    return false;\n",
       "};\n",
       "\n",
       "mpl.figure.prototype.toolbar_button_onclick = function (name) {\n",
       "    if (name === 'download') {\n",
       "        this.handle_save(this, null);\n",
       "    } else {\n",
       "        this.send_message('toolbar_button', { name: name });\n",
       "    }\n",
       "};\n",
       "\n",
       "mpl.figure.prototype.toolbar_button_onmouseover = function (tooltip) {\n",
       "    this.message.textContent = tooltip;\n",
       "};\n",
       "mpl.toolbar_items = [[\"Home\", \"Reset original view\", \"fa fa-home icon-home\", \"home\"], [\"Back\", \"Back to previous view\", \"fa fa-arrow-left icon-arrow-left\", \"back\"], [\"Forward\", \"Forward to next view\", \"fa fa-arrow-right icon-arrow-right\", \"forward\"], [\"\", \"\", \"\", \"\"], [\"Pan\", \"Left button pans, Right button zooms\\nx/y fixes axis, CTRL fixes aspect\", \"fa fa-arrows icon-move\", \"pan\"], [\"Zoom\", \"Zoom to rectangle\\nx/y fixes axis, CTRL fixes aspect\", \"fa fa-square-o icon-check-empty\", \"zoom\"], [\"\", \"\", \"\", \"\"], [\"Download\", \"Download plot\", \"fa fa-floppy-o icon-save\", \"download\"]];\n",
       "\n",
       "mpl.extensions = [\"eps\", \"jpeg\", \"pdf\", \"png\", \"ps\", \"raw\", \"svg\", \"tif\"];\n",
       "\n",
       "mpl.default_extension = \"png\";/* global mpl */\n",
       "\n",
       "var comm_websocket_adapter = function (comm) {\n",
       "    // Create a \"websocket\"-like object which calls the given IPython comm\n",
       "    // object with the appropriate methods. Currently this is a non binary\n",
       "    // socket, so there is still some room for performance tuning.\n",
       "    var ws = {};\n",
       "\n",
       "    ws.close = function () {\n",
       "        comm.close();\n",
       "    };\n",
       "    ws.send = function (m) {\n",
       "        //console.log('sending', m);\n",
       "        comm.send(m);\n",
       "    };\n",
       "    // Register the callback with on_msg.\n",
       "    comm.on_msg(function (msg) {\n",
       "        //console.log('receiving', msg['content']['data'], msg);\n",
       "        // Pass the mpl event to the overridden (by mpl) onmessage function.\n",
       "        ws.onmessage(msg['content']['data']);\n",
       "    });\n",
       "    return ws;\n",
       "};\n",
       "\n",
       "mpl.mpl_figure_comm = function (comm, msg) {\n",
       "    // This is the function which gets called when the mpl process\n",
       "    // starts-up an IPython Comm through the \"matplotlib\" channel.\n",
       "\n",
       "    var id = msg.content.data.id;\n",
       "    // Get hold of the div created by the display call when the Comm\n",
       "    // socket was opened in Python.\n",
       "    var element = document.getElementById(id);\n",
       "    var ws_proxy = comm_websocket_adapter(comm);\n",
       "\n",
       "    function ondownload(figure, _format) {\n",
       "        window.open(figure.canvas.toDataURL());\n",
       "    }\n",
       "\n",
       "    var fig = new mpl.figure(id, ws_proxy, ondownload, element);\n",
       "\n",
       "    // Call onopen now - mpl needs it, as it is assuming we've passed it a real\n",
       "    // web socket which is closed, not our websocket->open comm proxy.\n",
       "    ws_proxy.onopen();\n",
       "\n",
       "    fig.parent_element = element;\n",
       "    fig.cell_info = mpl.find_output_cell(\"<div id='\" + id + \"'></div>\");\n",
       "    if (!fig.cell_info) {\n",
       "        console.error('Failed to find cell for figure', id, fig);\n",
       "        return;\n",
       "    }\n",
       "    fig.cell_info[0].output_area.element.one(\n",
       "        'cleared',\n",
       "        { fig: fig },\n",
       "        fig._remove_fig_handler\n",
       "    );\n",
       "};\n",
       "\n",
       "mpl.figure.prototype.handle_close = function (fig, msg) {\n",
       "    var width = fig.canvas.width / fig.ratio;\n",
       "    fig.cell_info[0].output_area.element.off(\n",
       "        'cleared',\n",
       "        fig._remove_fig_handler\n",
       "    );\n",
       "\n",
       "    // Update the output cell to use the data from the current canvas.\n",
       "    fig.push_to_output();\n",
       "    var dataURL = fig.canvas.toDataURL();\n",
       "    // Re-enable the keyboard manager in IPython - without this line, in FF,\n",
       "    // the notebook keyboard shortcuts fail.\n",
       "    IPython.keyboard_manager.enable();\n",
       "    fig.parent_element.innerHTML =\n",
       "        '<img src=\"' + dataURL + '\" width=\"' + width + '\">';\n",
       "    fig.close_ws(fig, msg);\n",
       "};\n",
       "\n",
       "mpl.figure.prototype.close_ws = function (fig, msg) {\n",
       "    fig.send_message('closing', msg);\n",
       "    // fig.ws.close()\n",
       "};\n",
       "\n",
       "mpl.figure.prototype.push_to_output = function (_remove_interactive) {\n",
       "    // Turn the data on the canvas into data in the output cell.\n",
       "    var width = this.canvas.width / this.ratio;\n",
       "    var dataURL = this.canvas.toDataURL();\n",
       "    this.cell_info[1]['text/html'] =\n",
       "        '<img src=\"' + dataURL + '\" width=\"' + width + '\">';\n",
       "};\n",
       "\n",
       "mpl.figure.prototype.updated_canvas_event = function () {\n",
       "    // Tell IPython that the notebook contents must change.\n",
       "    IPython.notebook.set_dirty(true);\n",
       "    this.send_message('ack', {});\n",
       "    var fig = this;\n",
       "    // Wait a second, then push the new image to the DOM so\n",
       "    // that it is saved nicely (might be nice to debounce this).\n",
       "    setTimeout(function () {\n",
       "        fig.push_to_output();\n",
       "    }, 1000);\n",
       "};\n",
       "\n",
       "mpl.figure.prototype._init_toolbar = function () {\n",
       "    var fig = this;\n",
       "\n",
       "    var toolbar = document.createElement('div');\n",
       "    toolbar.classList = 'btn-toolbar';\n",
       "    this.root.appendChild(toolbar);\n",
       "\n",
       "    function on_click_closure(name) {\n",
       "        return function (_event) {\n",
       "            return fig.toolbar_button_onclick(name);\n",
       "        };\n",
       "    }\n",
       "\n",
       "    function on_mouseover_closure(tooltip) {\n",
       "        return function (event) {\n",
       "            if (!event.currentTarget.disabled) {\n",
       "                return fig.toolbar_button_onmouseover(tooltip);\n",
       "            }\n",
       "        };\n",
       "    }\n",
       "\n",
       "    fig.buttons = {};\n",
       "    var buttonGroup = document.createElement('div');\n",
       "    buttonGroup.classList = 'btn-group';\n",
       "    var button;\n",
       "    for (var toolbar_ind in mpl.toolbar_items) {\n",
       "        var name = mpl.toolbar_items[toolbar_ind][0];\n",
       "        var tooltip = mpl.toolbar_items[toolbar_ind][1];\n",
       "        var image = mpl.toolbar_items[toolbar_ind][2];\n",
       "        var method_name = mpl.toolbar_items[toolbar_ind][3];\n",
       "\n",
       "        if (!name) {\n",
       "            /* Instead of a spacer, we start a new button group. */\n",
       "            if (buttonGroup.hasChildNodes()) {\n",
       "                toolbar.appendChild(buttonGroup);\n",
       "            }\n",
       "            buttonGroup = document.createElement('div');\n",
       "            buttonGroup.classList = 'btn-group';\n",
       "            continue;\n",
       "        }\n",
       "\n",
       "        button = fig.buttons[name] = document.createElement('button');\n",
       "        button.classList = 'btn btn-default';\n",
       "        button.href = '#';\n",
       "        button.title = name;\n",
       "        button.innerHTML = '<i class=\"fa ' + image + ' fa-lg\"></i>';\n",
       "        button.addEventListener('click', on_click_closure(method_name));\n",
       "        button.addEventListener('mouseover', on_mouseover_closure(tooltip));\n",
       "        buttonGroup.appendChild(button);\n",
       "    }\n",
       "\n",
       "    if (buttonGroup.hasChildNodes()) {\n",
       "        toolbar.appendChild(buttonGroup);\n",
       "    }\n",
       "\n",
       "    // Add the status bar.\n",
       "    var status_bar = document.createElement('span');\n",
       "    status_bar.classList = 'mpl-message pull-right';\n",
       "    toolbar.appendChild(status_bar);\n",
       "    this.message = status_bar;\n",
       "\n",
       "    // Add the close button to the window.\n",
       "    var buttongrp = document.createElement('div');\n",
       "    buttongrp.classList = 'btn-group inline pull-right';\n",
       "    button = document.createElement('button');\n",
       "    button.classList = 'btn btn-mini btn-primary';\n",
       "    button.href = '#';\n",
       "    button.title = 'Stop Interaction';\n",
       "    button.innerHTML = '<i class=\"fa fa-power-off icon-remove icon-large\"></i>';\n",
       "    button.addEventListener('click', function (_evt) {\n",
       "        fig.handle_close(fig, {});\n",
       "    });\n",
       "    button.addEventListener(\n",
       "        'mouseover',\n",
       "        on_mouseover_closure('Stop Interaction')\n",
       "    );\n",
       "    buttongrp.appendChild(button);\n",
       "    var titlebar = this.root.querySelector('.ui-dialog-titlebar');\n",
       "    titlebar.insertBefore(buttongrp, titlebar.firstChild);\n",
       "};\n",
       "\n",
       "mpl.figure.prototype._remove_fig_handler = function (event) {\n",
       "    var fig = event.data.fig;\n",
       "    fig.close_ws(fig, {});\n",
       "};\n",
       "\n",
       "mpl.figure.prototype._root_extra_style = function (el) {\n",
       "    el.style.boxSizing = 'content-box'; // override notebook setting of border-box.\n",
       "};\n",
       "\n",
       "mpl.figure.prototype._canvas_extra_style = function (el) {\n",
       "    // this is important to make the div 'focusable\n",
       "    el.setAttribute('tabindex', 0);\n",
       "    // reach out to IPython and tell the keyboard manager to turn it's self\n",
       "    // off when our div gets focus\n",
       "\n",
       "    // location in version 3\n",
       "    if (IPython.notebook.keyboard_manager) {\n",
       "        IPython.notebook.keyboard_manager.register_events(el);\n",
       "    } else {\n",
       "        // location in version 2\n",
       "        IPython.keyboard_manager.register_events(el);\n",
       "    }\n",
       "};\n",
       "\n",
       "mpl.figure.prototype._key_event_extra = function (event, _name) {\n",
       "    var manager = IPython.notebook.keyboard_manager;\n",
       "    if (!manager) {\n",
       "        manager = IPython.keyboard_manager;\n",
       "    }\n",
       "\n",
       "    // Check for shift+enter\n",
       "    if (event.shiftKey && event.which === 13) {\n",
       "        this.canvas_div.blur();\n",
       "        // select the cell after this one\n",
       "        var index = IPython.notebook.find_cell_index(this.cell_info[0]);\n",
       "        IPython.notebook.select(index + 1);\n",
       "    }\n",
       "};\n",
       "\n",
       "mpl.figure.prototype.handle_save = function (fig, _msg) {\n",
       "    fig.ondownload(fig, null);\n",
       "};\n",
       "\n",
       "mpl.find_output_cell = function (html_output) {\n",
       "    // Return the cell and output element which can be found *uniquely* in the notebook.\n",
       "    // Note - this is a bit hacky, but it is done because the \"notebook_saving.Notebook\"\n",
       "    // IPython event is triggered only after the cells have been serialised, which for\n",
       "    // our purposes (turning an active figure into a static one), is too late.\n",
       "    var cells = IPython.notebook.get_cells();\n",
       "    var ncells = cells.length;\n",
       "    for (var i = 0; i < ncells; i++) {\n",
       "        var cell = cells[i];\n",
       "        if (cell.cell_type === 'code') {\n",
       "            for (var j = 0; j < cell.output_area.outputs.length; j++) {\n",
       "                var data = cell.output_area.outputs[j];\n",
       "                if (data.data) {\n",
       "                    // IPython >= 3 moved mimebundle to data attribute of output\n",
       "                    data = data.data;\n",
       "                }\n",
       "                if (data['text/html'] === html_output) {\n",
       "                    return [cell, data, j];\n",
       "                }\n",
       "            }\n",
       "        }\n",
       "    }\n",
       "};\n",
       "\n",
       "// Register the function which deals with the matplotlib target/channel.\n",
       "// The kernel may be null if the page has been refreshed.\n",
       "if (IPython.notebook.kernel !== null) {\n",
       "    IPython.notebook.kernel.comm_manager.register_target(\n",
       "        'matplotlib',\n",
       "        mpl.mpl_figure_comm\n",
       "    );\n",
       "}\n"
      ],
      "text/plain": [
       "<IPython.core.display.Javascript object>"
      ]
     },
     "metadata": {},
     "output_type": "display_data"
    },
    {
     "data": {
      "text/html": [
       "<img src=\"data:image/png;base64,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\" width=\"640\">"
      ],
      "text/plain": [
       "<IPython.core.display.HTML object>"
      ]
     },
     "metadata": {},
     "output_type": "display_data"
    },
    {
     "data": {
      "text/plain": [
       "[<matplotlib.lines.Line2D at 0x7fd2a2c1a4f0>]"
      ]
     },
     "execution_count": 283,
     "metadata": {},
     "output_type": "execute_result"
    }
   ],
   "source": [
    "%matplotlib notebook\n",
    "import matplotlib.pyplot as plt\n",
    "plt.plot(np.arange(10,20))"
   ]
  },
  {
   "cell_type": "code",
   "execution_count": 18,
   "metadata": {},
   "outputs": [
    {
     "data": {
      "text/plain": [
       "array([10., 11., 12., 13., 14., 15., 16., 17., 18., 19.])"
      ]
     },
     "execution_count": 18,
     "metadata": {},
     "output_type": "execute_result"
    }
   ],
   "source": [
    "np.arange(10.,20.)"
   ]
  },
  {
   "cell_type": "code",
   "execution_count": 19,
   "metadata": {},
   "outputs": [
    {
     "data": {
      "text/plain": [
       "array([10, 11, 12, 13, 14, 15, 16, 17, 18, 19])"
      ]
     },
     "execution_count": 19,
     "metadata": {},
     "output_type": "execute_result"
    }
   ],
   "source": [
    "np.arange(10,20)"
   ]
  },
  {
   "cell_type": "code",
   "execution_count": 20,
   "metadata": {
    "scrolled": true
   },
   "outputs": [
    {
     "data": {
      "text/plain": [
       "array([[10, 11, 12, 13, 14],\n",
       "       [15, 16, 17, 18, 19]])"
      ]
     },
     "execution_count": 20,
     "metadata": {},
     "output_type": "execute_result"
    }
   ],
   "source": [
    "np.arange(10,20).reshape(2,5)"
   ]
  },
  {
   "cell_type": "code",
   "execution_count": 21,
   "metadata": {},
   "outputs": [
    {
     "data": {
      "text/plain": [
       "array([10, 30, 50, 70, 90])"
      ]
     },
     "execution_count": 21,
     "metadata": {},
     "output_type": "execute_result"
    }
   ],
   "source": [
    "np.arange(10,110, 20)       # (from,to, spacing), returns int, end EX-clusive "
   ]
  },
  {
   "cell_type": "code",
   "execution_count": 22,
   "metadata": {},
   "outputs": [
    {
     "data": {
      "text/plain": [
       "array([ 10.,  20.,  30.,  40.,  50.,  60.,  70.,  80.,  90., 100., 110.])"
      ]
     },
     "execution_count": 22,
     "metadata": {},
     "output_type": "execute_result"
    }
   ],
   "source": [
    "np.linspace(10,110, 11)     # (from,to, counts), returns float, both ends In-clusive!"
   ]
  },
  {
   "cell_type": "code",
   "execution_count": 23,
   "metadata": {},
   "outputs": [
    {
     "data": {
      "text/plain": [
       "array([-0.85399333,  0.41752663, -0.14963776,  1.98005697])"
      ]
     },
     "execution_count": 23,
     "metadata": {},
     "output_type": "execute_result"
    }
   ],
   "source": [
    "np.random.randn(4)\n",
    "# this returns a range of numbers in an ndarray"
   ]
  },
  {
   "cell_type": "code",
   "execution_count": 24,
   "metadata": {},
   "outputs": [
    {
     "data": {
      "text/plain": [
       "array([[-1.28954443,  1.2815355 ],\n",
       "       [ 0.60703066,  1.1420186 ],\n",
       "       [-1.14884681, -0.39616566]])"
      ]
     },
     "execution_count": 24,
     "metadata": {},
     "output_type": "execute_result"
    }
   ],
   "source": [
    "np.random.randn(3, 2)       # (row counts, column counts)\n",
    "#help(np.random.randn)"
   ]
  },
  {
   "cell_type": "code",
   "execution_count": 25,
   "metadata": {},
   "outputs": [
    {
     "data": {
      "text/plain": [
       "42"
      ]
     },
     "execution_count": 25,
     "metadata": {},
     "output_type": "execute_result"
    }
   ],
   "source": [
    "np.random.randint(96)       # (from,to, (row counts, column counts))\n",
    "# this returns a number in a range"
   ]
  },
  {
   "cell_type": "code",
   "execution_count": 26,
   "metadata": {},
   "outputs": [],
   "source": [
    "# again, a number in a range:"
   ]
  },
  {
   "cell_type": "code",
   "execution_count": 27,
   "metadata": {},
   "outputs": [
    {
     "data": {
      "text/plain": [
       "27"
      ]
     },
     "execution_count": 27,
     "metadata": {},
     "output_type": "execute_result"
    }
   ],
   "source": [
    "np.random.randint(18,96)"
   ]
  },
  {
   "cell_type": "code",
   "execution_count": 28,
   "metadata": {},
   "outputs": [
    {
     "data": {
      "text/plain": [
       "array([[37, 94, 82],\n",
       "       [41, 35, 58]])"
      ]
     },
     "execution_count": 28,
     "metadata": {},
     "output_type": "execute_result"
    }
   ],
   "source": [
    "np.random.randint(18,96, size=(2,3))     "
   ]
  },
  {
   "cell_type": "code",
   "execution_count": 29,
   "metadata": {},
   "outputs": [],
   "source": [
    "# need to give an ndarray size as a tuple in randint!\n",
    "# help(np.random.randint)"
   ]
  },
  {
   "cell_type": "code",
   "execution_count": 30,
   "metadata": {},
   "outputs": [
    {
     "name": "stdout",
     "output_type": "stream",
     "text": [
      "95\n"
     ]
    }
   ],
   "source": [
    "while True:\n",
    "    max_randint = np.random.randint(18,96)\n",
    "    if max_randint >= 95:\n",
    "        break\n",
    "print(max_randint)"
   ]
  },
  {
   "cell_type": "code",
   "execution_count": 31,
   "metadata": {},
   "outputs": [],
   "source": [
    "# so...randint ends are non-inclusice\n",
    "#help(np.random.randint)"
   ]
  },
  {
   "cell_type": "code",
   "execution_count": 32,
   "metadata": {},
   "outputs": [
    {
     "data": {
      "text/plain": [
       "array([[9, 6, 8, 8, 5, 9, 6],\n",
       "       [6, 7, 7, 5, 7, 9, 7],\n",
       "       [7, 7, 9, 5, 6, 5, 6],\n",
       "       [7, 7, 7, 6, 6, 8, 5],\n",
       "       [7, 6, 5, 9, 9, 9, 7]])"
      ]
     },
     "execution_count": 32,
     "metadata": {},
     "output_type": "execute_result"
    }
   ],
   "source": [
    "arr2 = np.random.randint(5,10, (5,7))\n",
    "arr2"
   ]
  },
  {
   "cell_type": "code",
   "execution_count": 33,
   "metadata": {},
   "outputs": [
    {
     "data": {
      "text/plain": [
       "array([8, 9, 9, 6, 6, 5, 5])"
      ]
     },
     "execution_count": 33,
     "metadata": {},
     "output_type": "execute_result"
    }
   ],
   "source": [
    "np.random.randint(5,10, 7)"
   ]
  },
  {
   "cell_type": "code",
   "execution_count": 34,
   "metadata": {},
   "outputs": [
    {
     "data": {
      "text/plain": [
       "array([[6, 7, 7, 5, 7, 9, 7],\n",
       "       [7, 7, 9, 5, 6, 5, 6],\n",
       "       [7, 7, 7, 6, 6, 8, 5]])"
      ]
     },
     "execution_count": 34,
     "metadata": {},
     "output_type": "execute_result"
    }
   ],
   "source": [
    "arr2[1:4]"
   ]
  },
  {
   "cell_type": "code",
   "execution_count": 35,
   "metadata": {},
   "outputs": [
    {
     "data": {
      "text/plain": [
       "array([[9, 6, 8, 8, 5, 9, 6],\n",
       "       [6, 7, 7, 5, 7, 9, 7],\n",
       "       [7, 7, 9, 5, 6, 5, 6],\n",
       "       [7, 7, 7, 6, 6, 8, 5],\n",
       "       [3, 3, 3, 3, 3, 3, 3]])"
      ]
     },
     "execution_count": 35,
     "metadata": {},
     "output_type": "execute_result"
    }
   ],
   "source": [
    "arr2[4:] = 3\n",
    "arr2"
   ]
  },
  {
   "cell_type": "code",
   "execution_count": 36,
   "metadata": {},
   "outputs": [
    {
     "data": {
      "text/plain": [
       "5"
      ]
     },
     "execution_count": 36,
     "metadata": {},
     "output_type": "execute_result"
    }
   ],
   "source": [
    "arr2[2][3]"
   ]
  },
  {
   "cell_type": "code",
   "execution_count": 37,
   "metadata": {},
   "outputs": [
    {
     "data": {
      "text/plain": [
       "5"
      ]
     },
     "execution_count": 37,
     "metadata": {},
     "output_type": "execute_result"
    }
   ],
   "source": [
    "arr2[2, 3]"
   ]
  },
  {
   "cell_type": "code",
   "execution_count": 38,
   "metadata": {},
   "outputs": [
    {
     "data": {
      "text/plain": [
       "array([[5, 6, 5],\n",
       "       [6, 6, 8]])"
      ]
     },
     "execution_count": 38,
     "metadata": {},
     "output_type": "execute_result"
    }
   ],
   "source": [
    "arr2[2:4, 3:6]"
   ]
  },
  {
   "cell_type": "code",
   "execution_count": 39,
   "metadata": {},
   "outputs": [
    {
     "data": {
      "text/plain": [
       "array([], shape=(0, 7), dtype=int64)"
      ]
     },
     "execution_count": 39,
     "metadata": {},
     "output_type": "execute_result"
    }
   ],
   "source": [
    "arr2[2:4][3:6]      # this actually selects rows 3-5 of \n",
    "                    # the sliced rows 2-3 of arr2, which are outside/nothing "
   ]
  },
  {
   "cell_type": "code",
   "execution_count": 40,
   "metadata": {},
   "outputs": [
    {
     "data": {
      "text/plain": [
       "array([[7, 7, 9, 5, 6, 5, 6],\n",
       "       [7, 7, 7, 6, 6, 8, 5]])"
      ]
     },
     "execution_count": 40,
     "metadata": {},
     "output_type": "execute_result"
    }
   ],
   "source": [
    "arr2[2:4][:]        # this then selects all the rows of the sliced rows 2-3"
   ]
  },
  {
   "cell_type": "code",
   "execution_count": 41,
   "metadata": {},
   "outputs": [
    {
     "data": {
      "text/plain": [
       "array([[5, 6, 5],\n",
       "       [6, 6, 8]])"
      ]
     },
     "execution_count": 41,
     "metadata": {},
     "output_type": "execute_result"
    }
   ],
   "source": [
    "arr2[2:4][:, 3:6]   # and then select the desired columns 3-5"
   ]
  },
  {
   "cell_type": "code",
   "execution_count": 42,
   "metadata": {},
   "outputs": [
    {
     "data": {
      "text/plain": [
       "array(['Bob', 'Joe', 'Will', 'Bob', 'Will', 'Joe', 'Joe'], dtype='<U4')"
      ]
     },
     "execution_count": 42,
     "metadata": {},
     "output_type": "execute_result"
    }
   ],
   "source": [
    "arr3 = np.array(['Bob', 'Joe', 'Will', 'Bob', 'Will', 'Joe', 'Joe'])\n",
    "arr3"
   ]
  },
  {
   "cell_type": "code",
   "execution_count": 43,
   "metadata": {},
   "outputs": [
    {
     "data": {
      "text/plain": [
       "array([[ 1.06986682, -1.46741507,  0.70455169, -0.68032918, -0.62540507,\n",
       "         0.53950591, -0.27911247],\n",
       "       [ 0.22105058, -0.88532963,  0.4769203 , -0.45815351, -1.37542517,\n",
       "         1.57029467, -0.38025971],\n",
       "       [ 0.69869846,  0.50299885, -0.08912894,  0.67960704, -0.80273425,\n",
       "         0.38533151,  0.3204486 ],\n",
       "       [-0.07805039,  0.57092228, -2.3405982 ,  0.2418273 , -1.11036526,\n",
       "        -1.01531973, -2.26353391],\n",
       "       [ 0.47763279, -0.2795806 , -0.70290448, -0.17173549,  0.6389993 ,\n",
       "         2.01103554, -0.10833858],\n",
       "       [-0.48702496, -0.60586811, -1.0944216 ,  1.00991892,  0.45684489,\n",
       "        -3.39359134,  0.20570953],\n",
       "       [-0.39753332,  0.20466921,  1.0220389 , -2.30256387,  0.17757577,\n",
       "        -1.97025328,  0.96037975]])"
      ]
     },
     "execution_count": 43,
     "metadata": {},
     "output_type": "execute_result"
    }
   ],
   "source": [
    "data0 = np.random.randn(7,7)\n",
    "data0"
   ]
  },
  {
   "cell_type": "code",
   "execution_count": 44,
   "metadata": {},
   "outputs": [
    {
     "data": {
      "text/plain": [
       "array([ True, False, False,  True, False, False, False])"
      ]
     },
     "execution_count": 44,
     "metadata": {},
     "output_type": "execute_result"
    }
   ],
   "source": [
    "arr3 == 'Bob'"
   ]
  },
  {
   "cell_type": "code",
   "execution_count": 45,
   "metadata": {},
   "outputs": [
    {
     "data": {
      "text/plain": [
       "array([[ 1.06986682, -1.46741507,  0.70455169, -0.68032918, -0.62540507,\n",
       "         0.53950591, -0.27911247],\n",
       "       [-0.07805039,  0.57092228, -2.3405982 ,  0.2418273 , -1.11036526,\n",
       "        -1.01531973, -2.26353391]])"
      ]
     },
     "execution_count": 45,
     "metadata": {},
     "output_type": "execute_result"
    }
   ],
   "source": [
    "data0[arr3 == 'Bob']     # this returns the 0th and 3rd rows\n",
    "                         # dimensions (7) must match for indexing to work!"
   ]
  },
  {
   "cell_type": "code",
   "execution_count": 46,
   "metadata": {},
   "outputs": [
    {
     "data": {
      "text/plain": [
       "array([[ 0.70455169, -0.68032918, -0.62540507,  0.53950591, -0.27911247],\n",
       "       [-2.3405982 ,  0.2418273 , -1.11036526, -1.01531973, -2.26353391]])"
      ]
     },
     "execution_count": 46,
     "metadata": {},
     "output_type": "execute_result"
    }
   ],
   "source": [
    "data0[arr3 == 'Bob', 2:]"
   ]
  },
  {
   "cell_type": "code",
   "execution_count": 47,
   "metadata": {},
   "outputs": [
    {
     "data": {
      "text/plain": [
       "array([[ 0.69869846,  0.67960704],\n",
       "       [-0.07805039,  0.2418273 ],\n",
       "       [ 0.47763279, -0.17173549],\n",
       "       [-0.48702496,  1.00991892],\n",
       "       [-0.39753332, -2.30256387]])"
      ]
     },
     "execution_count": 47,
     "metadata": {},
     "output_type": "execute_result"
    }
   ],
   "source": [
    "data0[2:, arr3 == 'Bob']"
   ]
  },
  {
   "cell_type": "code",
   "execution_count": 48,
   "metadata": {},
   "outputs": [
    {
     "data": {
      "text/plain": [
       "array([[0, 0, 0, 0, 0, 0, 0],\n",
       "       [1, 1, 1, 1, 1, 1, 1],\n",
       "       [2, 2, 2, 2, 2, 2, 2],\n",
       "       [3, 3, 3, 3, 3, 3, 3],\n",
       "       [4, 4, 4, 4, 4, 4, 4],\n",
       "       [5, 5, 5, 5, 5, 5, 5],\n",
       "       [6, 6, 6, 6, 6, 6, 6]])"
      ]
     },
     "execution_count": 48,
     "metadata": {},
     "output_type": "execute_result"
    }
   ],
   "source": [
    "for i in range(7):\n",
    "    data0[i] = i\n",
    "    data0.dtype = int\n",
    "data0"
   ]
  },
  {
   "cell_type": "code",
   "execution_count": 49,
   "metadata": {},
   "outputs": [
    {
     "data": {
      "text/plain": [
       "array([[99,  0,  0,  0,  0,  0,  0],\n",
       "       [ 1, 99,  1,  1,  1,  1,  1],\n",
       "       [ 2,  2, 99,  2,  2,  2,  2],\n",
       "       [ 3,  3,  3, 99,  3,  3,  3],\n",
       "       [ 4,  4,  4,  4, 99,  4,  4],\n",
       "       [ 5,  5,  5,  5,  5, 99,  5],\n",
       "       [ 6,  6,  6,  6,  6,  6, 99]])"
      ]
     },
     "execution_count": 49,
     "metadata": {},
     "output_type": "execute_result"
    }
   ],
   "source": [
    "for i in range(7):\n",
    "    data0[i,i] = 99\n",
    "data0"
   ]
  },
  {
   "cell_type": "code",
   "execution_count": 50,
   "metadata": {},
   "outputs": [
    {
     "data": {
      "text/plain": [
       "array([[ 5,  5,  5,  5,  5, 99,  5],\n",
       "       [ 2,  2, 99,  2,  2,  2,  2],\n",
       "       [99,  0,  0,  0,  0,  0,  0]])"
      ]
     },
     "execution_count": 50,
     "metadata": {},
     "output_type": "execute_result"
    }
   ],
   "source": [
    "data0[[5,2,0]]         # sub a list of rows"
   ]
  },
  {
   "cell_type": "code",
   "execution_count": 51,
   "metadata": {},
   "outputs": [
    {
     "data": {
      "text/plain": [
       "array([ 0,  0, 99])"
      ]
     },
     "execution_count": 51,
     "metadata": {},
     "output_type": "execute_result"
    }
   ],
   "source": [
    "data0.take([5,2,0])    # by default this takes itmes from the first (0th) row"
   ]
  },
  {
   "cell_type": "code",
   "execution_count": 52,
   "metadata": {},
   "outputs": [
    {
     "data": {
      "text/plain": [
       "array([[ 5,  5,  5,  5,  5, 99,  5],\n",
       "       [ 2,  2, 99,  2,  2,  2,  2],\n",
       "       [99,  0,  0,  0,  0,  0,  0]])"
      ]
     },
     "execution_count": 52,
     "metadata": {},
     "output_type": "execute_result"
    }
   ],
   "source": [
    "data0.take([5,2,0], axis=0)"
   ]
  },
  {
   "cell_type": "code",
   "execution_count": 53,
   "metadata": {},
   "outputs": [
    {
     "data": {
      "text/plain": [
       "array([[ 0,  0, 99],\n",
       "       [ 1,  1,  1],\n",
       "       [ 2, 99,  2],\n",
       "       [ 3,  3,  3],\n",
       "       [ 4,  4,  4],\n",
       "       [99,  5,  5],\n",
       "       [ 6,  6,  6]])"
      ]
     },
     "execution_count": 53,
     "metadata": {},
     "output_type": "execute_result"
    }
   ],
   "source": [
    "data0.take([5,2,0], axis=1)"
   ]
  },
  {
   "cell_type": "code",
   "execution_count": 54,
   "metadata": {},
   "outputs": [
    {
     "data": {
      "text/plain": [
       "array([[99,  0,  0,  0,  0,  0,  0],\n",
       "       [ 1, 99,  1,  1,  1,  1,  1],\n",
       "       [ 2,  2, 99,  2,  2,  2,  2],\n",
       "       [ 3,  3,  3, 99,  3,  3,  3],\n",
       "       [ 4,  4,  4,  4, 99,  4,  4],\n",
       "       [ 5,  5,  5,  5,  5, 99,  5],\n",
       "       [ 6,  6,  6,  6,  6,  6, 99]])"
      ]
     },
     "execution_count": 54,
     "metadata": {},
     "output_type": "execute_result"
    }
   ],
   "source": [
    "data0"
   ]
  },
  {
   "cell_type": "code",
   "execution_count": 55,
   "metadata": {},
   "outputs": [
    {
     "data": {
      "text/plain": [
       "(3, 6)"
      ]
     },
     "execution_count": 55,
     "metadata": {},
     "output_type": "execute_result"
    }
   ],
   "source": [
    "arr1.shape"
   ]
  },
  {
   "cell_type": "code",
   "execution_count": 56,
   "metadata": {},
   "outputs": [
    {
     "data": {
      "text/plain": [
       "(2, 9)"
      ]
     },
     "execution_count": 56,
     "metadata": {},
     "output_type": "execute_result"
    }
   ],
   "source": [
    "arr4 = arr1.reshape(2,9)\n",
    "arr4.shape"
   ]
  },
  {
   "cell_type": "code",
   "execution_count": 57,
   "metadata": {},
   "outputs": [
    {
     "data": {
      "text/plain": [
       "array([[ 1,  3,  5,  7,  9],\n",
       "       [ 2,  4,  6,  8, 10],\n",
       "       [11, 13, 15, 17, 19]])"
      ]
     },
     "execution_count": 57,
     "metadata": {},
     "output_type": "execute_result"
    }
   ],
   "source": [
    "arr5 = np.array([[1, 3, 5, 7, 9], [2, 4, 6, 8, 10], [11, 13, 15, 17, 19]])\n",
    "arr5"
   ]
  },
  {
   "cell_type": "code",
   "execution_count": 58,
   "metadata": {},
   "outputs": [
    {
     "data": {
      "text/plain": [
       "array([[ 1,  2, 11],\n",
       "       [ 3,  4, 13],\n",
       "       [ 5,  6, 15],\n",
       "       [ 7,  8, 17],\n",
       "       [ 9, 10, 19]])"
      ]
     },
     "execution_count": 58,
     "metadata": {},
     "output_type": "execute_result"
    }
   ],
   "source": [
    "arr5.T"
   ]
  },
  {
   "cell_type": "code",
   "execution_count": 59,
   "metadata": {},
   "outputs": [
    {
     "data": {
      "text/plain": [
       "array([[ 1,  2, 11],\n",
       "       [ 3,  4, 13],\n",
       "       [ 5,  6, 15],\n",
       "       [ 7,  8, 17],\n",
       "       [ 9, 10, 19]])"
      ]
     },
     "execution_count": 59,
     "metadata": {},
     "output_type": "execute_result"
    }
   ],
   "source": [
    "arr5.transpose()"
   ]
  },
  {
   "cell_type": "code",
   "execution_count": 60,
   "metadata": {},
   "outputs": [
    {
     "data": {
      "text/plain": [
       "array([[ 1,  2, 11],\n",
       "       [ 3,  4, 13],\n",
       "       [ 5,  6, 15],\n",
       "       [ 7,  8, 17],\n",
       "       [ 9, 10, 19]])"
      ]
     },
     "execution_count": 60,
     "metadata": {},
     "output_type": "execute_result"
    }
   ],
   "source": [
    "arr5.swapaxes(0, 1)"
   ]
  },
  {
   "cell_type": "code",
   "execution_count": 61,
   "metadata": {},
   "outputs": [
    {
     "data": {
      "text/plain": [
       "array([[ 1,  3,  5,  7,  9],\n",
       "       [ 2,  4,  6,  8, 10],\n",
       "       [11, 13, 15, 17, 19]])"
      ]
     },
     "execution_count": 61,
     "metadata": {},
     "output_type": "execute_result"
    }
   ],
   "source": [
    "arr5"
   ]
  },
  {
   "cell_type": "code",
   "execution_count": 62,
   "metadata": {},
   "outputs": [
    {
     "data": {
      "text/plain": [
       "array([1, 3, 5, 7, 9])"
      ]
     },
     "execution_count": 62,
     "metadata": {},
     "output_type": "execute_result"
    }
   ],
   "source": [
    "arr5[0]"
   ]
  },
  {
   "cell_type": "code",
   "execution_count": 63,
   "metadata": {},
   "outputs": [
    {
     "data": {
      "text/plain": [
       "array([[ 0,  0,  0,  0,  0],\n",
       "       [ 1,  1,  1,  1,  1],\n",
       "       [10, 10, 10, 10, 10]])"
      ]
     },
     "execution_count": 63,
     "metadata": {},
     "output_type": "execute_result"
    }
   ],
   "source": [
    "arr5 - arr5[0]      # not just operate on the first row but EVERY row! "
   ]
  },
  {
   "cell_type": "code",
   "execution_count": 64,
   "metadata": {},
   "outputs": [
    {
     "data": {
      "text/plain": [
       "array([[ 0,  0,  0,  0,  0],\n",
       "       [ 1,  1,  1,  1,  1],\n",
       "       [10, 10, 10, 10, 10]])"
      ]
     },
     "execution_count": 64,
     "metadata": {},
     "output_type": "execute_result"
    }
   ],
   "source": [
    "arr5 - np.array([1, 3, 5, 7, 9])     # so this is the same as below..."
   ]
  },
  {
   "cell_type": "code",
   "execution_count": 65,
   "metadata": {},
   "outputs": [
    {
     "data": {
      "text/plain": [
       "array([[ 0,  0,  0,  0,  0],\n",
       "       [ 1,  1,  1,  1,  1],\n",
       "       [10, 10, 10, 10, 10]])"
      ]
     },
     "execution_count": 65,
     "metadata": {},
     "output_type": "execute_result"
    }
   ],
   "source": [
    "arr5 - np.array([[1, 3, 5, 7, 9], [1, 3, 5, 7, 9], [1, 3, 5, 7, 9]])"
   ]
  },
  {
   "cell_type": "code",
   "execution_count": 66,
   "metadata": {},
   "outputs": [
    {
     "name": "stdout",
     "output_type": "stream",
     "text": [
      "[[1 2 3]\n",
      " [4 5 6]] \n",
      "\n",
      " [[ 7  8  9]\n",
      " [10 11 12]]\n"
     ]
    }
   ],
   "source": [
    "arr6 = np.array([[1, 2, 3], [4, 5, 6]])\n",
    "arr7 = np.array([[7, 8, 9], [10, 11, 12]])\n",
    "print(arr6, '\\n\\n', arr7)"
   ]
  },
  {
   "cell_type": "code",
   "execution_count": 67,
   "metadata": {},
   "outputs": [
    {
     "data": {
      "text/plain": [
       "array([[ 1,  2,  3],\n",
       "       [ 4,  5,  6],\n",
       "       [ 7,  8,  9],\n",
       "       [10, 11, 12]])"
      ]
     },
     "execution_count": 67,
     "metadata": {},
     "output_type": "execute_result"
    }
   ],
   "source": [
    "np.concatenate([arr6, arr7])    # .concatenate([]) rows on rows (by default) ---or--- \n",
    "                                # .vstack([]) ---or---\n",
    "                                # .r_[]"
   ]
  },
  {
   "cell_type": "code",
   "execution_count": 68,
   "metadata": {},
   "outputs": [
    {
     "data": {
      "text/plain": [
       "array([[ 1,  2,  3],\n",
       "       [ 4,  5,  6],\n",
       "       [ 7,  8,  9],\n",
       "       [10, 11, 12]])"
      ]
     },
     "execution_count": 68,
     "metadata": {},
     "output_type": "execute_result"
    }
   ],
   "source": [
    "np.vstack([arr6, arr7])         # same as above..."
   ]
  },
  {
   "cell_type": "code",
   "execution_count": 69,
   "metadata": {},
   "outputs": [
    {
     "data": {
      "text/plain": [
       "array([[ 1,  2,  3],\n",
       "       [ 4,  5,  6],\n",
       "       [ 7,  8,  9],\n",
       "       [10, 11, 12]])"
      ]
     },
     "execution_count": 69,
     "metadata": {},
     "output_type": "execute_result"
    }
   ],
   "source": [
    "np.r_[arr6, arr7]               # same as above..."
   ]
  },
  {
   "cell_type": "code",
   "execution_count": 70,
   "metadata": {},
   "outputs": [
    {
     "data": {
      "text/plain": [
       "array([[ 1,  2,  3,  7,  8,  9],\n",
       "       [ 4,  5,  6, 10, 11, 12]])"
      ]
     },
     "execution_count": 70,
     "metadata": {},
     "output_type": "execute_result"
    }
   ],
   "source": [
    "np.concatenate([arr6, arr7], axis=1)"
   ]
  },
  {
   "cell_type": "code",
   "execution_count": 71,
   "metadata": {},
   "outputs": [
    {
     "data": {
      "text/plain": [
       "array([[ 1,  2,  3,  7,  8,  9],\n",
       "       [ 4,  5,  6, 10, 11, 12]])"
      ]
     },
     "execution_count": 71,
     "metadata": {},
     "output_type": "execute_result"
    }
   ],
   "source": [
    "np.hstack([arr6, arr7])"
   ]
  },
  {
   "cell_type": "code",
   "execution_count": 72,
   "metadata": {},
   "outputs": [
    {
     "data": {
      "text/plain": [
       "array([[ 1,  2,  3,  7,  8,  9],\n",
       "       [ 4,  5,  6, 10, 11, 12]])"
      ]
     },
     "execution_count": 72,
     "metadata": {},
     "output_type": "execute_result"
    }
   ],
   "source": [
    "np.c_[arr6, arr7]"
   ]
  },
  {
   "cell_type": "code",
   "execution_count": 73,
   "metadata": {},
   "outputs": [
    {
     "data": {
      "text/plain": [
       "array([[72, 53, 24, 65, 10,  9, 85],\n",
       "       [85, 83, 67, 48, 36, 13, 53],\n",
       "       [ 7, 44,  7, 60, 30, 55, 34],\n",
       "       [94, 75, 15, 64,  7, 12, 36],\n",
       "       [97, 63, 36, 62, 56, 46, 14],\n",
       "       [67, 89, 89, 64, 18, 10, 17],\n",
       "       [98, 22, 33, 28, 41, 38, 53],\n",
       "       [13, 67, 26, 30, 90, 78, 57],\n",
       "       [66, 62, 66, 92, 78, 42,  3]])"
      ]
     },
     "execution_count": 73,
     "metadata": {},
     "output_type": "execute_result"
    }
   ],
   "source": [
    "arr8 = np.random.randint(0,99, (9,7))\n",
    "arr8"
   ]
  },
  {
   "cell_type": "code",
   "execution_count": 74,
   "metadata": {},
   "outputs": [
    {
     "data": {
      "text/plain": [
       "[array([[72, 53, 24, 65, 10,  9, 85]]),\n",
       " array([[85, 83, 67, 48, 36, 13, 53],\n",
       "        [ 7, 44,  7, 60, 30, 55, 34],\n",
       "        [94, 75, 15, 64,  7, 12, 36]]),\n",
       " array([[97, 63, 36, 62, 56, 46, 14],\n",
       "        [67, 89, 89, 64, 18, 10, 17],\n",
       "        [98, 22, 33, 28, 41, 38, 53],\n",
       "        [13, 67, 26, 30, 90, 78, 57],\n",
       "        [66, 62, 66, 92, 78, 42,  3]])]"
      ]
     },
     "execution_count": 74,
     "metadata": {},
     "output_type": "execute_result"
    }
   ],
   "source": [
    "np.split(arr8, [1,4])         # split to arr[:1], arr[1:4], arr[4:], default on rows\n",
    "#np.split()\n",
    "# vertical split does the same...\n",
    "#np.vsplit(arr8, [1,4])"
   ]
  },
  {
   "cell_type": "code",
   "execution_count": 75,
   "metadata": {},
   "outputs": [
    {
     "data": {
      "text/plain": [
       "[array([[72, 53, 24, 65, 10,  9, 85],\n",
       "        [85, 83, 67, 48, 36, 13, 53],\n",
       "        [ 7, 44,  7, 60, 30, 55, 34]]),\n",
       " array([[94, 75, 15, 64,  7, 12, 36],\n",
       "        [97, 63, 36, 62, 56, 46, 14],\n",
       "        [67, 89, 89, 64, 18, 10, 17],\n",
       "        [98, 22, 33, 28, 41, 38, 53],\n",
       "        [13, 67, 26, 30, 90, 78, 57],\n",
       "        [66, 62, 66, 92, 78, 42,  3]])]"
      ]
     },
     "execution_count": 75,
     "metadata": {},
     "output_type": "execute_result"
    }
   ],
   "source": [
    "np.split(arr8, [3])           # need a list [] (i.e. indexing with a sub)! \n",
    "                              # for split by position"
   ]
  },
  {
   "cell_type": "code",
   "execution_count": 76,
   "metadata": {},
   "outputs": [
    {
     "data": {
      "text/plain": [
       "[array([[72, 53, 24, 65, 10,  9, 85],\n",
       "        [85, 83, 67, 48, 36, 13, 53],\n",
       "        [ 7, 44,  7, 60, 30, 55, 34]]),\n",
       " array([[94, 75, 15, 64,  7, 12, 36],\n",
       "        [97, 63, 36, 62, 56, 46, 14],\n",
       "        [67, 89, 89, 64, 18, 10, 17]]),\n",
       " array([[98, 22, 33, 28, 41, 38, 53],\n",
       "        [13, 67, 26, 30, 90, 78, 57],\n",
       "        [66, 62, 66, 92, 78, 42,  3]])]"
      ]
     },
     "execution_count": 76,
     "metadata": {},
     "output_type": "execute_result"
    }
   ],
   "source": [
    "np.split(arr8, 3)             # ...otherwise, split to equal number of divisions!"
   ]
  },
  {
   "cell_type": "code",
   "execution_count": 77,
   "metadata": {},
   "outputs": [
    {
     "name": "stdout",
     "output_type": "stream",
     "text": [
      "[[72 53 24 65 10  9 85]] \n",
      "\n",
      " [[85 83 67 48 36 13 53]\n",
      " [ 7 44  7 60 30 55 34]\n",
      " [94 75 15 64  7 12 36]] \n",
      "\n",
      " [[97 63 36 62 56 46 14]\n",
      " [67 89 89 64 18 10 17]\n",
      " [98 22 33 28 41 38 53]\n",
      " [13 67 26 30 90 78 57]\n",
      " [66 62 66 92 78 42  3]]\n"
     ]
    },
    {
     "data": {
      "text/html": [
       "<div>\n",
       "<style scoped>\n",
       "    .dataframe tbody tr th:only-of-type {\n",
       "        vertical-align: middle;\n",
       "    }\n",
       "\n",
       "    .dataframe tbody tr th {\n",
       "        vertical-align: top;\n",
       "    }\n",
       "\n",
       "    .dataframe thead th {\n",
       "        text-align: right;\n",
       "    }\n",
       "</style>\n",
       "<table border=\"1\" class=\"dataframe\">\n",
       "  <thead>\n",
       "    <tr style=\"text-align: right;\">\n",
       "      <th></th>\n",
       "      <th>0</th>\n",
       "      <th>1</th>\n",
       "      <th>2</th>\n",
       "      <th>3</th>\n",
       "      <th>4</th>\n",
       "      <th>5</th>\n",
       "      <th>6</th>\n",
       "    </tr>\n",
       "  </thead>\n",
       "  <tbody>\n",
       "    <tr>\n",
       "      <th>0</th>\n",
       "      <td>72</td>\n",
       "      <td>53</td>\n",
       "      <td>24</td>\n",
       "      <td>65</td>\n",
       "      <td>10</td>\n",
       "      <td>9</td>\n",
       "      <td>85</td>\n",
       "    </tr>\n",
       "  </tbody>\n",
       "</table>\n",
       "</div>"
      ],
      "text/plain": [
       "    0   1   2   3   4  5   6\n",
       "0  72  53  24  65  10  9  85"
      ]
     },
     "execution_count": 77,
     "metadata": {},
     "output_type": "execute_result"
    }
   ],
   "source": [
    "# list unpacking:\n",
    "arr8_1, arr8_2, arr8_3 = np.split(arr8, [1,4])\n",
    "print(arr8_1, '\\n\\n', arr8_2, '\\n\\n', arr8_3)\n",
    "\n",
    "# pd.Series(arr8_1) will return an error!! \n",
    "# because this array is multi-dimensional with list in a list [[]]! So, instead:\n",
    "pd.DataFrame(arr8_1)"
   ]
  },
  {
   "cell_type": "code",
   "execution_count": 78,
   "metadata": {
    "scrolled": true
   },
   "outputs": [
    {
     "data": {
      "text/html": [
       "<div>\n",
       "<style scoped>\n",
       "    .dataframe tbody tr th:only-of-type {\n",
       "        vertical-align: middle;\n",
       "    }\n",
       "\n",
       "    .dataframe tbody tr th {\n",
       "        vertical-align: top;\n",
       "    }\n",
       "\n",
       "    .dataframe thead th {\n",
       "        text-align: right;\n",
       "    }\n",
       "</style>\n",
       "<table border=\"1\" class=\"dataframe\">\n",
       "  <thead>\n",
       "    <tr style=\"text-align: right;\">\n",
       "      <th></th>\n",
       "      <th>0</th>\n",
       "    </tr>\n",
       "  </thead>\n",
       "  <tbody>\n",
       "    <tr>\n",
       "      <th>0</th>\n",
       "      <td>72</td>\n",
       "    </tr>\n",
       "    <tr>\n",
       "      <th>1</th>\n",
       "      <td>85</td>\n",
       "    </tr>\n",
       "    <tr>\n",
       "      <th>2</th>\n",
       "      <td>7</td>\n",
       "    </tr>\n",
       "    <tr>\n",
       "      <th>3</th>\n",
       "      <td>94</td>\n",
       "    </tr>\n",
       "    <tr>\n",
       "      <th>4</th>\n",
       "      <td>97</td>\n",
       "    </tr>\n",
       "    <tr>\n",
       "      <th>5</th>\n",
       "      <td>67</td>\n",
       "    </tr>\n",
       "    <tr>\n",
       "      <th>6</th>\n",
       "      <td>98</td>\n",
       "    </tr>\n",
       "    <tr>\n",
       "      <th>7</th>\n",
       "      <td>13</td>\n",
       "    </tr>\n",
       "    <tr>\n",
       "      <th>8</th>\n",
       "      <td>66</td>\n",
       "    </tr>\n",
       "  </tbody>\n",
       "</table>\n",
       "</div>"
      ],
      "text/plain": [
       "    0\n",
       "0  72\n",
       "1  85\n",
       "2   7\n",
       "3  94\n",
       "4  97\n",
       "5  67\n",
       "6  98\n",
       "7  13\n",
       "8  66"
      ]
     },
     "execution_count": 78,
     "metadata": {},
     "output_type": "execute_result"
    }
   ],
   "source": [
    "#np.split(arr8, [1,4], axis=1)\n",
    "#np.hsplit(arr8, [1,4])\n",
    "pd.DataFrame(np.hsplit(arr8, [1])[0])"
   ]
  },
  {
   "cell_type": "markdown",
   "metadata": {},
   "source": [
    "# Pandas Series"
   ]
  },
  {
   "cell_type": "code",
   "execution_count": 79,
   "metadata": {},
   "outputs": [
    {
     "name": "stdout",
     "output_type": "stream",
     "text": [
      "[6, 7.7, 8, 0, 1]\n"
     ]
    },
    {
     "data": {
      "text/plain": [
       "0    6.0\n",
       "1    7.7\n",
       "2    8.0\n",
       "3    0.0\n",
       "4    1.0\n",
       "dtype: float64"
      ]
     },
     "execution_count": 79,
     "metadata": {},
     "output_type": "execute_result"
    }
   ],
   "source": [
    "print(data1)\n",
    "pd.Series(data1)"
   ]
  },
  {
   "cell_type": "code",
   "execution_count": 80,
   "metadata": {},
   "outputs": [
    {
     "data": {
      "text/plain": [
       "d    6.0\n",
       "c    7.7\n",
       "a    8.0\n",
       "g    0.0\n",
       "f    1.0\n",
       "dtype: float64"
      ]
     },
     "execution_count": 80,
     "metadata": {},
     "output_type": "execute_result"
    }
   ],
   "source": [
    "s1 = pd.Series(data1, index=['d','c','a','g','f'])\n",
    "s1"
   ]
  },
  {
   "cell_type": "code",
   "execution_count": 81,
   "metadata": {
    "scrolled": true
   },
   "outputs": [
    {
     "data": {
      "text/plain": [
       "0    6.0\n",
       "1    7.7\n",
       "2    8.0\n",
       "3    0.0\n",
       "4    1.0\n",
       "dtype: float64"
      ]
     },
     "execution_count": 81,
     "metadata": {},
     "output_type": "execute_result"
    }
   ],
   "source": [
    "s1.reset_index(drop=True)"
   ]
  },
  {
   "cell_type": "code",
   "execution_count": 82,
   "metadata": {},
   "outputs": [
    {
     "data": {
      "text/html": [
       "<div>\n",
       "<style scoped>\n",
       "    .dataframe tbody tr th:only-of-type {\n",
       "        vertical-align: middle;\n",
       "    }\n",
       "\n",
       "    .dataframe tbody tr th {\n",
       "        vertical-align: top;\n",
       "    }\n",
       "\n",
       "    .dataframe thead th {\n",
       "        text-align: right;\n",
       "    }\n",
       "</style>\n",
       "<table border=\"1\" class=\"dataframe\">\n",
       "  <thead>\n",
       "    <tr style=\"text-align: right;\">\n",
       "      <th></th>\n",
       "      <th>index</th>\n",
       "      <th>0</th>\n",
       "    </tr>\n",
       "  </thead>\n",
       "  <tbody>\n",
       "    <tr>\n",
       "      <th>0</th>\n",
       "      <td>d</td>\n",
       "      <td>6.0</td>\n",
       "    </tr>\n",
       "    <tr>\n",
       "      <th>1</th>\n",
       "      <td>c</td>\n",
       "      <td>7.7</td>\n",
       "    </tr>\n",
       "    <tr>\n",
       "      <th>2</th>\n",
       "      <td>a</td>\n",
       "      <td>8.0</td>\n",
       "    </tr>\n",
       "    <tr>\n",
       "      <th>3</th>\n",
       "      <td>g</td>\n",
       "      <td>0.0</td>\n",
       "    </tr>\n",
       "    <tr>\n",
       "      <th>4</th>\n",
       "      <td>f</td>\n",
       "      <td>1.0</td>\n",
       "    </tr>\n",
       "  </tbody>\n",
       "</table>\n",
       "</div>"
      ],
      "text/plain": [
       "  index    0\n",
       "0     d  6.0\n",
       "1     c  7.7\n",
       "2     a  8.0\n",
       "3     g  0.0\n",
       "4     f  1.0"
      ]
     },
     "execution_count": 82,
     "metadata": {},
     "output_type": "execute_result"
    }
   ],
   "source": [
    "s2_df = s1.reset_index()\n",
    "s2_df"
   ]
  },
  {
   "cell_type": "code",
   "execution_count": 83,
   "metadata": {},
   "outputs": [
    {
     "data": {
      "text/plain": [
       "d    6.0\n",
       "c    7.7\n",
       "a    8.0\n",
       "g    0.0\n",
       "f    1.0\n",
       "dtype: float64"
      ]
     },
     "execution_count": 83,
     "metadata": {},
     "output_type": "execute_result"
    }
   ],
   "source": [
    "s1"
   ]
  },
  {
   "cell_type": "code",
   "execution_count": 84,
   "metadata": {},
   "outputs": [
    {
     "data": {
      "text/plain": [
       "pandas.core.frame.DataFrame"
      ]
     },
     "execution_count": 84,
     "metadata": {},
     "output_type": "execute_result"
    }
   ],
   "source": [
    "type(s2_df)"
   ]
  },
  {
   "cell_type": "code",
   "execution_count": 85,
   "metadata": {},
   "outputs": [
    {
     "data": {
      "text/plain": [
       "pandas.core.series.Series"
      ]
     },
     "execution_count": 85,
     "metadata": {},
     "output_type": "execute_result"
    }
   ],
   "source": [
    "type(s1)"
   ]
  },
  {
   "cell_type": "code",
   "execution_count": 86,
   "metadata": {},
   "outputs": [
    {
     "data": {
      "text/plain": [
       "0    6.0\n",
       "1    7.7\n",
       "2    8.0\n",
       "3    0.0\n",
       "4    1.0\n",
       "dtype: float64"
      ]
     },
     "execution_count": 86,
     "metadata": {},
     "output_type": "execute_result"
    }
   ],
   "source": [
    "s1.reset_index(drop=True, inplace=True)\n",
    "s1"
   ]
  },
  {
   "cell_type": "code",
   "execution_count": 87,
   "metadata": {},
   "outputs": [
    {
     "data": {
      "text/plain": [
       "pandas.core.series.Series"
      ]
     },
     "execution_count": 87,
     "metadata": {},
     "output_type": "execute_result"
    }
   ],
   "source": [
    "type(s1)"
   ]
  },
  {
   "cell_type": "code",
   "execution_count": 88,
   "metadata": {},
   "outputs": [
    {
     "data": {
      "text/plain": [
       "0    1.0\n",
       "1    2.0\n",
       "2    3.0\n",
       "3    NaN\n",
       "dtype: float64"
      ]
     },
     "execution_count": 88,
     "metadata": {},
     "output_type": "execute_result"
    }
   ],
   "source": [
    "pd.Series([1, 2, 3, None])"
   ]
  },
  {
   "cell_type": "code",
   "execution_count": 89,
   "metadata": {},
   "outputs": [
    {
     "data": {
      "text/plain": [
       "0    1.0\n",
       "1    2.0\n",
       "2    3.0\n",
       "3    NaN\n",
       "dtype: float64"
      ]
     },
     "execution_count": 89,
     "metadata": {},
     "output_type": "execute_result"
    }
   ],
   "source": [
    "pd.Series([1, 2, 3, np.nan])"
   ]
  },
  {
   "cell_type": "code",
   "execution_count": 90,
   "metadata": {},
   "outputs": [
    {
     "data": {
      "text/plain": [
       "Ohio      300\n",
       "Texas     621\n",
       "Oregon    290\n",
       "Utah      543\n",
       "dtype: int64"
      ]
     },
     "execution_count": 90,
     "metadata": {},
     "output_type": "execute_result"
    }
   ],
   "source": [
    "data3 = {'Ohio': 300, 'Texas': 621, 'Oregon': 290, 'Utah': 543}\n",
    "pd.Series(data3)"
   ]
  },
  {
   "cell_type": "code",
   "execution_count": 91,
   "metadata": {},
   "outputs": [
    {
     "data": {
      "text/plain": [
       "Ohio          300.0\n",
       "Texas         621.0\n",
       "Oregon        290.0\n",
       "California      NaN\n",
       "dtype: float64"
      ]
     },
     "execution_count": 91,
     "metadata": {},
     "output_type": "execute_result"
    }
   ],
   "source": [
    "pd.Series(data3, index=['Ohio', 'Texas', 'Oregon', 'California'])\n",
    "# non-matching index returns NaN"
   ]
  },
  {
   "cell_type": "code",
   "execution_count": 92,
   "metadata": {},
   "outputs": [
    {
     "data": {
      "text/plain": [
       "Ohio      300\n",
       "Texas     621\n",
       "Oregon    290\n",
       "Utah      543\n",
       "dtype: int64"
      ]
     },
     "execution_count": 92,
     "metadata": {},
     "output_type": "execute_result"
    }
   ],
   "source": [
    "data4 = [300, 621, 290, 543]\n",
    "s3 = pd.Series(data4, index=['Ohio', 'Texas', 'Oregon', 'Utah'])\n",
    "s3"
   ]
  },
  {
   "cell_type": "code",
   "execution_count": 93,
   "metadata": {},
   "outputs": [
    {
     "data": {
      "text/plain": [
       "array([300, 621, 290, 543])"
      ]
     },
     "execution_count": 93,
     "metadata": {},
     "output_type": "execute_result"
    }
   ],
   "source": [
    "s3.values"
   ]
  },
  {
   "cell_type": "code",
   "execution_count": 94,
   "metadata": {},
   "outputs": [
    {
     "data": {
      "text/plain": [
       "Index(['Ohio', 'Texas', 'Oregon', 'Utah'], dtype='object')"
      ]
     },
     "execution_count": 94,
     "metadata": {},
     "output_type": "execute_result"
    }
   ],
   "source": [
    "s3.index"
   ]
  },
  {
   "cell_type": "code",
   "execution_count": 95,
   "metadata": {},
   "outputs": [
    {
     "data": {
      "text/plain": [
       "<bound method Series.all of Ohio      300\n",
       "Texas     621\n",
       "Oregon    290\n",
       "Utah      543\n",
       "Name: a, dtype: int64>"
      ]
     },
     "execution_count": 95,
     "metadata": {},
     "output_type": "execute_result"
    }
   ],
   "source": [
    "s3.name = 'a'\n",
    "s3.all"
   ]
  },
  {
   "cell_type": "code",
   "execution_count": 96,
   "metadata": {},
   "outputs": [
    {
     "data": {
      "text/plain": [
       "<bound method Series.all of b\n",
       "Ohio      300\n",
       "Texas     621\n",
       "Oregon    290\n",
       "Utah      543\n",
       "Name: a, dtype: int64>"
      ]
     },
     "execution_count": 96,
     "metadata": {},
     "output_type": "execute_result"
    }
   ],
   "source": [
    "s3.index.name = 'b'\n",
    "s3.all"
   ]
  },
  {
   "cell_type": "code",
   "execution_count": 97,
   "metadata": {},
   "outputs": [
    {
     "data": {
      "text/plain": [
       "Index(['Ohio', 'Texas', 'Oregon', 'Utah'], dtype='object', name='b')"
      ]
     },
     "execution_count": 97,
     "metadata": {},
     "output_type": "execute_result"
    }
   ],
   "source": [
    "s3.index"
   ]
  },
  {
   "cell_type": "code",
   "execution_count": 98,
   "metadata": {},
   "outputs": [
    {
     "data": {
      "text/plain": [
       "290"
      ]
     },
     "execution_count": 98,
     "metadata": {},
     "output_type": "execute_result"
    }
   ],
   "source": [
    "s3[2]"
   ]
  },
  {
   "cell_type": "code",
   "execution_count": 99,
   "metadata": {},
   "outputs": [
    {
     "data": {
      "text/plain": [
       "290"
      ]
     },
     "execution_count": 99,
     "metadata": {},
     "output_type": "execute_result"
    }
   ],
   "source": [
    "s3['Oregon']"
   ]
  },
  {
   "cell_type": "code",
   "execution_count": 100,
   "metadata": {},
   "outputs": [
    {
     "data": {
      "text/plain": [
       "290"
      ]
     },
     "execution_count": 100,
     "metadata": {},
     "output_type": "execute_result"
    }
   ],
   "source": [
    "s3.iloc[2]"
   ]
  },
  {
   "cell_type": "code",
   "execution_count": 101,
   "metadata": {},
   "outputs": [
    {
     "data": {
      "text/plain": [
       "290"
      ]
     },
     "execution_count": 101,
     "metadata": {},
     "output_type": "execute_result"
    }
   ],
   "source": [
    "s3.loc['Oregon']"
   ]
  },
  {
   "cell_type": "code",
   "execution_count": 102,
   "metadata": {},
   "outputs": [
    {
     "data": {
      "text/plain": [
       "b\n",
       "Utah      543\n",
       "Oregon    290\n",
       "Ohio      300\n",
       "Name: a, dtype: int64"
      ]
     },
     "execution_count": 102,
     "metadata": {},
     "output_type": "execute_result"
    }
   ],
   "source": [
    "s3[['Utah', 'Oregon', 'Ohio']]     # put the indexes in a list first!!"
   ]
  },
  {
   "cell_type": "code",
   "execution_count": 103,
   "metadata": {},
   "outputs": [
    {
     "data": {
      "text/plain": [
       "b\n",
       "Utah      543\n",
       "Oregon    290\n",
       "Ohio      300\n",
       "Name: a, dtype: int64"
      ]
     },
     "execution_count": 103,
     "metadata": {},
     "output_type": "execute_result"
    }
   ],
   "source": [
    "s3.loc[['Utah', 'Oregon', 'Ohio']]"
   ]
  },
  {
   "cell_type": "code",
   "execution_count": 104,
   "metadata": {},
   "outputs": [
    {
     "data": {
      "text/plain": [
       "b\n",
       "Utah      543\n",
       "Oregon    290\n",
       "Ohio      300\n",
       "Name: a, dtype: int64"
      ]
     },
     "execution_count": 104,
     "metadata": {},
     "output_type": "execute_result"
    }
   ],
   "source": [
    "s3[[3,2,0]]"
   ]
  },
  {
   "cell_type": "code",
   "execution_count": 105,
   "metadata": {},
   "outputs": [
    {
     "data": {
      "text/plain": [
       "b\n",
       "Texas     621\n",
       "Oregon    290\n",
       "Name: a, dtype: int64"
      ]
     },
     "execution_count": 105,
     "metadata": {},
     "output_type": "execute_result"
    }
   ],
   "source": [
    "s3[1:3]                 # numbered range indexing DOESN'T include the end"
   ]
  },
  {
   "cell_type": "code",
   "execution_count": 106,
   "metadata": {},
   "outputs": [
    {
     "data": {
      "text/plain": [
       "b\n",
       "Texas     621\n",
       "Oregon    290\n",
       "Utah      543\n",
       "Name: a, dtype: int64"
      ]
     },
     "execution_count": 106,
     "metadata": {},
     "output_type": "execute_result"
    }
   ],
   "source": [
    "s3['Texas':'Utah']      # lettered range indexing DOES include the end!!"
   ]
  },
  {
   "cell_type": "code",
   "execution_count": 107,
   "metadata": {},
   "outputs": [
    {
     "data": {
      "text/plain": [
       "0    {'a': 120, 'c': 240, 'f': 360, 'd': 480, 'e': ...\n",
       "1                       {'x': 200, 'y': 400, 'z': 600}\n",
       "dtype: object"
      ]
     },
     "execution_count": 107,
     "metadata": {},
     "output_type": "execute_result"
    }
   ],
   "source": [
    "data7 = [{'a': 120, 'c': 240, 'f': 360, 'd': 480, 'e': 600, 'b': 720},\n",
    "         {'x': 200, 'y': 400, 'z': 600}]\n",
    "pd.Series(data7)"
   ]
  },
  {
   "cell_type": "code",
   "execution_count": 108,
   "metadata": {},
   "outputs": [
    {
     "data": {
      "text/html": [
       "<div>\n",
       "<style scoped>\n",
       "    .dataframe tbody tr th:only-of-type {\n",
       "        vertical-align: middle;\n",
       "    }\n",
       "\n",
       "    .dataframe tbody tr th {\n",
       "        vertical-align: top;\n",
       "    }\n",
       "\n",
       "    .dataframe thead th {\n",
       "        text-align: right;\n",
       "    }\n",
       "</style>\n",
       "<table border=\"1\" class=\"dataframe\">\n",
       "  <thead>\n",
       "    <tr style=\"text-align: right;\">\n",
       "      <th></th>\n",
       "      <th>a</th>\n",
       "      <th>c</th>\n",
       "      <th>f</th>\n",
       "      <th>d</th>\n",
       "      <th>e</th>\n",
       "      <th>b</th>\n",
       "      <th>x</th>\n",
       "      <th>y</th>\n",
       "      <th>z</th>\n",
       "    </tr>\n",
       "  </thead>\n",
       "  <tbody>\n",
       "    <tr>\n",
       "      <th>0</th>\n",
       "      <td>120.0</td>\n",
       "      <td>240.0</td>\n",
       "      <td>360.0</td>\n",
       "      <td>480.0</td>\n",
       "      <td>600.0</td>\n",
       "      <td>720.0</td>\n",
       "      <td>NaN</td>\n",
       "      <td>NaN</td>\n",
       "      <td>NaN</td>\n",
       "    </tr>\n",
       "    <tr>\n",
       "      <th>1</th>\n",
       "      <td>NaN</td>\n",
       "      <td>NaN</td>\n",
       "      <td>NaN</td>\n",
       "      <td>NaN</td>\n",
       "      <td>NaN</td>\n",
       "      <td>NaN</td>\n",
       "      <td>200.0</td>\n",
       "      <td>400.0</td>\n",
       "      <td>600.0</td>\n",
       "    </tr>\n",
       "  </tbody>\n",
       "</table>\n",
       "</div>"
      ],
      "text/plain": [
       "       a      c      f      d      e      b      x      y      z\n",
       "0  120.0  240.0  360.0  480.0  600.0  720.0    NaN    NaN    NaN\n",
       "1    NaN    NaN    NaN    NaN    NaN    NaN  200.0  400.0  600.0"
      ]
     },
     "execution_count": 108,
     "metadata": {},
     "output_type": "execute_result"
    }
   ],
   "source": [
    "pd.DataFrame(data7)"
   ]
  },
  {
   "cell_type": "code",
   "execution_count": 109,
   "metadata": {},
   "outputs": [
    {
     "data": {
      "text/plain": [
       "a    120\n",
       "c    240\n",
       "f    360\n",
       "d    480\n",
       "e    600\n",
       "b    720\n",
       "dtype: int64"
      ]
     },
     "execution_count": 109,
     "metadata": {},
     "output_type": "execute_result"
    }
   ],
   "source": [
    "s4 = pd.Series(data7[0])\n",
    "s4"
   ]
  },
  {
   "cell_type": "code",
   "execution_count": 110,
   "metadata": {},
   "outputs": [
    {
     "data": {
      "text/plain": [
       "a    120\n",
       "dtype: int64"
      ]
     },
     "execution_count": 110,
     "metadata": {},
     "output_type": "execute_result"
    }
   ],
   "source": [
    "s4[0:1]         # end EX-clusive"
   ]
  },
  {
   "cell_type": "code",
   "execution_count": 111,
   "metadata": {},
   "outputs": [
    {
     "data": {
      "text/plain": [
       "a    120\n",
       "c    240\n",
       "f    360\n",
       "d    480\n",
       "e    600\n",
       "b    720\n",
       "dtype: int64"
      ]
     },
     "execution_count": 111,
     "metadata": {},
     "output_type": "execute_result"
    }
   ],
   "source": [
    "s4['a':'b']     # end IN-clusive, \n",
    "                # print out by id order, not necessarily alphabetical!"
   ]
  },
  {
   "cell_type": "code",
   "execution_count": 112,
   "metadata": {},
   "outputs": [
    {
     "data": {
      "text/plain": [
       "a    120\n",
       "c    240\n",
       "dtype: int64"
      ]
     },
     "execution_count": 112,
     "metadata": {},
     "output_type": "execute_result"
    }
   ],
   "source": [
    "s4['a':'c']"
   ]
  },
  {
   "cell_type": "code",
   "execution_count": 113,
   "metadata": {},
   "outputs": [
    {
     "data": {
      "text/plain": [
       "a    False\n",
       "c    False\n",
       "f    False\n",
       "d    False\n",
       "e     True\n",
       "b     True\n",
       "dtype: bool"
      ]
     },
     "execution_count": 113,
     "metadata": {},
     "output_type": "execute_result"
    }
   ],
   "source": [
    "s4 > 500"
   ]
  },
  {
   "cell_type": "code",
   "execution_count": 114,
   "metadata": {
    "scrolled": true
   },
   "outputs": [
    {
     "data": {
      "text/plain": [
       "e    600\n",
       "b    720\n",
       "dtype: int64"
      ]
     },
     "execution_count": 114,
     "metadata": {},
     "output_type": "execute_result"
    }
   ],
   "source": [
    "s4[s4 > 500]     # obj Series refers to its values by default"
   ]
  },
  {
   "cell_type": "code",
   "execution_count": 115,
   "metadata": {},
   "outputs": [
    {
     "data": {
      "text/plain": [
       "e    600\n",
       "b    720\n",
       "dtype: int64"
      ]
     },
     "execution_count": 115,
     "metadata": {},
     "output_type": "execute_result"
    }
   ],
   "source": [
    "s4[s4.values > 500]"
   ]
  },
  {
   "cell_type": "code",
   "execution_count": 116,
   "metadata": {},
   "outputs": [
    {
     "data": {
      "text/plain": [
       "f    360\n",
       "e    600\n",
       "dtype: int64"
      ]
     },
     "execution_count": 116,
     "metadata": {},
     "output_type": "execute_result"
    }
   ],
   "source": [
    "s4[s4.index > 'd']     # still print out by id order,\n",
    "                       # but filter is alphabetical, not by id sequence"
   ]
  },
  {
   "cell_type": "code",
   "execution_count": 117,
   "metadata": {},
   "outputs": [
    {
     "name": "stdout",
     "output_type": "stream",
     "text": [
      "600\n",
      "720\n"
     ]
    }
   ],
   "source": [
    "for i in range(-2,0):\n",
    "    print(s4.iloc[i])"
   ]
  },
  {
   "cell_type": "code",
   "execution_count": 118,
   "metadata": {},
   "outputs": [
    {
     "data": {
      "text/plain": [
       "Series([], dtype: int64)"
      ]
     },
     "execution_count": 118,
     "metadata": {},
     "output_type": "execute_result"
    }
   ],
   "source": [
    "s4[s4 < 0]       # none is True so return an empty Series"
   ]
  },
  {
   "cell_type": "code",
   "execution_count": 119,
   "metadata": {},
   "outputs": [
    {
     "data": {
      "text/plain": [
       "I      lower?\n",
       "II          b\n",
       "III         D\n",
       "IV          d\n",
       "V           e\n",
       "dtype: object"
      ]
     },
     "execution_count": 119,
     "metadata": {},
     "output_type": "execute_result"
    }
   ],
   "source": [
    "s5 = pd.Series({'I': 'lower?', 'II': 'b', 'III': 'D', 'IV': 'd', 'V': 'e'})\n",
    "s5"
   ]
  },
  {
   "cell_type": "code",
   "execution_count": 120,
   "metadata": {},
   "outputs": [
    {
     "data": {
      "text/plain": [
       "I    lower?\n",
       "V         e\n",
       "dtype: object"
      ]
     },
     "execution_count": 120,
     "metadata": {},
     "output_type": "execute_result"
    }
   ],
   "source": [
    "s5[s5 > 'd']     # letters can also be ordered"
   ]
  },
  {
   "cell_type": "code",
   "execution_count": 121,
   "metadata": {},
   "outputs": [
    {
     "data": {
      "text/plain": [
       "Ohio      300\n",
       "Texas     621\n",
       "Oregon    290\n",
       "Utah      543\n",
       "a         120\n",
       "c         240\n",
       "f         360\n",
       "d         480\n",
       "e         600\n",
       "b         720\n",
       "dtype: int64"
      ]
     },
     "execution_count": 121,
     "metadata": {},
     "output_type": "execute_result"
    }
   ],
   "source": [
    "pd.concat([s3, s4])         # need a list [] to concat!\n",
    "#s3.append(s4)"
   ]
  },
  {
   "cell_type": "code",
   "execution_count": 122,
   "metadata": {},
   "outputs": [
    {
     "data": {
      "text/plain": [
       "    b     \n",
       "s3  Ohio      300\n",
       "    Texas     621\n",
       "    Oregon    290\n",
       "    Utah      543\n",
       "s4  a         120\n",
       "    c         240\n",
       "    f         360\n",
       "    d         480\n",
       "    e         600\n",
       "    b         720\n",
       "dtype: int64"
      ]
     },
     "execution_count": 122,
     "metadata": {},
     "output_type": "execute_result"
    }
   ],
   "source": [
    "pd.concat([s3, s4], keys=['s3','s4'])"
   ]
  },
  {
   "cell_type": "code",
   "execution_count": 123,
   "metadata": {},
   "outputs": [
    {
     "data": {
      "text/html": [
       "<div>\n",
       "<style scoped>\n",
       "    .dataframe tbody tr th:only-of-type {\n",
       "        vertical-align: middle;\n",
       "    }\n",
       "\n",
       "    .dataframe tbody tr th {\n",
       "        vertical-align: top;\n",
       "    }\n",
       "\n",
       "    .dataframe thead th {\n",
       "        text-align: right;\n",
       "    }\n",
       "</style>\n",
       "<table border=\"1\" class=\"dataframe\">\n",
       "  <thead>\n",
       "    <tr style=\"text-align: right;\">\n",
       "      <th></th>\n",
       "      <th></th>\n",
       "      <th>0</th>\n",
       "    </tr>\n",
       "    <tr>\n",
       "      <th></th>\n",
       "      <th>b</th>\n",
       "      <th></th>\n",
       "    </tr>\n",
       "  </thead>\n",
       "  <tbody>\n",
       "    <tr>\n",
       "      <th rowspan=\"4\" valign=\"top\">s3</th>\n",
       "      <th>Ohio</th>\n",
       "      <td>300</td>\n",
       "    </tr>\n",
       "    <tr>\n",
       "      <th>Texas</th>\n",
       "      <td>621</td>\n",
       "    </tr>\n",
       "    <tr>\n",
       "      <th>Oregon</th>\n",
       "      <td>290</td>\n",
       "    </tr>\n",
       "    <tr>\n",
       "      <th>Utah</th>\n",
       "      <td>543</td>\n",
       "    </tr>\n",
       "    <tr>\n",
       "      <th rowspan=\"6\" valign=\"top\">s4</th>\n",
       "      <th>a</th>\n",
       "      <td>120</td>\n",
       "    </tr>\n",
       "    <tr>\n",
       "      <th>c</th>\n",
       "      <td>240</td>\n",
       "    </tr>\n",
       "    <tr>\n",
       "      <th>f</th>\n",
       "      <td>360</td>\n",
       "    </tr>\n",
       "    <tr>\n",
       "      <th>d</th>\n",
       "      <td>480</td>\n",
       "    </tr>\n",
       "    <tr>\n",
       "      <th>e</th>\n",
       "      <td>600</td>\n",
       "    </tr>\n",
       "    <tr>\n",
       "      <th>b</th>\n",
       "      <td>720</td>\n",
       "    </tr>\n",
       "  </tbody>\n",
       "</table>\n",
       "</div>"
      ],
      "text/plain": [
       "             0\n",
       "   b          \n",
       "s3 Ohio    300\n",
       "   Texas   621\n",
       "   Oregon  290\n",
       "   Utah    543\n",
       "s4 a       120\n",
       "   c       240\n",
       "   f       360\n",
       "   d       480\n",
       "   e       600\n",
       "   b       720"
      ]
     },
     "execution_count": 123,
     "metadata": {},
     "output_type": "execute_result"
    }
   ],
   "source": [
    "pd.DataFrame(pd.concat([s3, s4], keys=['s3','s4']))"
   ]
  },
  {
   "cell_type": "code",
   "execution_count": 124,
   "metadata": {},
   "outputs": [
    {
     "data": {
      "text/plain": [
       "Ohio      300.0\n",
       "Oregon    290.0\n",
       "Texas     621.0\n",
       "Utah      543.0\n",
       "a         120.0\n",
       "b         720.0\n",
       "c         240.0\n",
       "d         480.0\n",
       "e         600.0\n",
       "f         360.0\n",
       "Name: a, dtype: float64"
      ]
     },
     "execution_count": 124,
     "metadata": {},
     "output_type": "execute_result"
    }
   ],
   "source": [
    "s3.combine_first(s4)     # combine also concatenates, but...\n",
    "                         # it first sorts ids (indexes) alphabetically for each element!"
   ]
  },
  {
   "cell_type": "code",
   "execution_count": 125,
   "metadata": {},
   "outputs": [
    {
     "data": {
      "text/plain": [
       "Ohio      300.0\n",
       "Oregon    290.0\n",
       "Texas     621.0\n",
       "Utah      543.0\n",
       "a         120.0\n",
       "b         720.0\n",
       "c         240.0\n",
       "d         480.0\n",
       "e         600.0\n",
       "f         360.0\n",
       "dtype: float64"
      ]
     },
     "execution_count": 125,
     "metadata": {},
     "output_type": "execute_result"
    }
   ],
   "source": [
    "s4.combine_first(s3)"
   ]
  },
  {
   "cell_type": "code",
   "execution_count": 126,
   "metadata": {},
   "outputs": [
    {
     "data": {
      "text/plain": [
       "Ohio      300.0\n",
       "Oregon    290.0\n",
       "Texas     621.0\n",
       "Utah      543.0\n",
       "a           NaN\n",
       "b           NaN\n",
       "c           NaN\n",
       "d           NaN\n",
       "e           NaN\n",
       "f           NaN\n",
       "dtype: float64"
      ]
     },
     "execution_count": 126,
     "metadata": {},
     "output_type": "execute_result"
    }
   ],
   "source": [
    "s3.combine(s4, max)"
   ]
  },
  {
   "cell_type": "code",
   "execution_count": 127,
   "metadata": {
    "scrolled": true
   },
   "outputs": [
    {
     "data": {
      "text/plain": [
       "Ohio        NaN\n",
       "Oregon      NaN\n",
       "Texas       NaN\n",
       "Utah        NaN\n",
       "a         120.0\n",
       "b         720.0\n",
       "c         240.0\n",
       "d         480.0\n",
       "e         600.0\n",
       "f         360.0\n",
       "dtype: float64"
      ]
     },
     "execution_count": 127,
     "metadata": {},
     "output_type": "execute_result"
    }
   ],
   "source": [
    "s4.combine(s3, max)"
   ]
  },
  {
   "cell_type": "code",
   "execution_count": 128,
   "metadata": {},
   "outputs": [
    {
     "data": {
      "text/plain": [
       "0    1\n",
       "1    2\n",
       "2    3\n",
       "3    4\n",
       "4    5\n",
       "dtype: int64"
      ]
     },
     "execution_count": 128,
     "metadata": {},
     "output_type": "execute_result"
    }
   ],
   "source": [
    "pd.Series([1, 2, 3, 4, 5])"
   ]
  },
  {
   "cell_type": "code",
   "execution_count": 129,
   "metadata": {},
   "outputs": [
    {
     "data": {
      "text/plain": [
       "[1, 2, 3, 4, 5]"
      ]
     },
     "execution_count": 129,
     "metadata": {},
     "output_type": "execute_result"
    }
   ],
   "source": [
    "list(pd.Series([1, 2, 3, 4, 5]))"
   ]
  },
  {
   "cell_type": "code",
   "execution_count": 130,
   "metadata": {},
   "outputs": [
    {
     "data": {
      "text/plain": [
       "[(0, 1), (1, 2), (2, 3), (3, 4), (4, 5)]"
      ]
     },
     "execution_count": 130,
     "metadata": {},
     "output_type": "execute_result"
    }
   ],
   "source": [
    "list(pd.Series([1, 2, 3, 4, 5]).iteritems())\n",
    "# iterative is a list of tuples - (index, value)"
   ]
  },
  {
   "cell_type": "code",
   "execution_count": 131,
   "metadata": {},
   "outputs": [
    {
     "data": {
      "text/plain": [
       "a    120\n",
       "c    240\n",
       "f    360\n",
       "d    480\n",
       "e    600\n",
       "b    720\n",
       "dtype: int64"
      ]
     },
     "execution_count": 131,
     "metadata": {},
     "output_type": "execute_result"
    }
   ],
   "source": [
    "s4"
   ]
  },
  {
   "cell_type": "code",
   "execution_count": 132,
   "metadata": {},
   "outputs": [
    {
     "data": {
      "text/plain": [
       "[120, 240, 360, 480, 600, 720]"
      ]
     },
     "execution_count": 132,
     "metadata": {},
     "output_type": "execute_result"
    }
   ],
   "source": [
    "list(s4)"
   ]
  },
  {
   "cell_type": "code",
   "execution_count": 133,
   "metadata": {},
   "outputs": [
    {
     "data": {
      "text/plain": [
       "[('a', 120), ('c', 240), ('f', 360), ('d', 480), ('e', 600), ('b', 720)]"
      ]
     },
     "execution_count": 133,
     "metadata": {},
     "output_type": "execute_result"
    }
   ],
   "source": [
    "list(s4.iteritems())"
   ]
  },
  {
   "cell_type": "code",
   "execution_count": 134,
   "metadata": {},
   "outputs": [
    {
     "name": "stdout",
     "output_type": "stream",
     "text": [
      "('a', 120)\n",
      "('c', 240)\n",
      "('f', 360)\n",
      "('d', 480)\n",
      "('e', 600)\n",
      "('b', 720)\n"
     ]
    },
    {
     "data": {
      "text/plain": [
       "a    125\n",
       "c    245\n",
       "f    365\n",
       "d    485\n",
       "e    605\n",
       "b    725\n",
       "dtype: int64"
      ]
     },
     "execution_count": 134,
     "metadata": {},
     "output_type": "execute_result"
    }
   ],
   "source": [
    "for i, v in s4.iteritems():\n",
    "    s4[i] = s4[i] + 5\n",
    "    print((i, v))\n",
    "s4"
   ]
  },
  {
   "cell_type": "code",
   "execution_count": 135,
   "metadata": {},
   "outputs": [
    {
     "data": {
      "text/plain": [
       "a    130\n",
       "c    250\n",
       "f    370\n",
       "d    490\n",
       "e    610\n",
       "b    730\n",
       "dtype: int64"
      ]
     },
     "execution_count": 135,
     "metadata": {},
     "output_type": "execute_result"
    }
   ],
   "source": [
    "# ...or, a better (faster) way to do this is simply:\n",
    "s4 = s4 + 5\n",
    "s4"
   ]
  },
  {
   "cell_type": "markdown",
   "metadata": {},
   "source": [
    "# Pandas DataFrame"
   ]
  },
  {
   "cell_type": "code",
   "execution_count": 136,
   "metadata": {},
   "outputs": [
    {
     "data": {
      "text/html": [
       "<div>\n",
       "<style scoped>\n",
       "    .dataframe tbody tr th:only-of-type {\n",
       "        vertical-align: middle;\n",
       "    }\n",
       "\n",
       "    .dataframe tbody tr th {\n",
       "        vertical-align: top;\n",
       "    }\n",
       "\n",
       "    .dataframe thead th {\n",
       "        text-align: right;\n",
       "    }\n",
       "</style>\n",
       "<table border=\"1\" class=\"dataframe\">\n",
       "  <thead>\n",
       "    <tr style=\"text-align: right;\">\n",
       "      <th></th>\n",
       "      <th>State</th>\n",
       "      <th>Year</th>\n",
       "      <th>Popul</th>\n",
       "    </tr>\n",
       "  </thead>\n",
       "  <tbody>\n",
       "    <tr>\n",
       "      <th>0</th>\n",
       "      <td>Ohio</td>\n",
       "      <td>2000</td>\n",
       "      <td>300</td>\n",
       "    </tr>\n",
       "    <tr>\n",
       "      <th>1</th>\n",
       "      <td>Texas</td>\n",
       "      <td>2000</td>\n",
       "      <td>400</td>\n",
       "    </tr>\n",
       "  </tbody>\n",
       "</table>\n",
       "</div>"
      ],
      "text/plain": [
       "   State  Year  Popul\n",
       "0   Ohio  2000    300\n",
       "1  Texas  2000    400"
      ]
     },
     "execution_count": 136,
     "metadata": {},
     "output_type": "execute_result"
    }
   ],
   "source": [
    "data5 = {'State':['Ohio', 'Texas'], \n",
    "         'Year': [2000, 2000], \n",
    "         'Popul': [300, 400]}\n",
    "pd.DataFrame(data5)"
   ]
  },
  {
   "cell_type": "code",
   "execution_count": 137,
   "metadata": {},
   "outputs": [
    {
     "name": "stdout",
     "output_type": "stream",
     "text": [
      "[6, 7.7, 8, 0, 1]\n",
      "\n",
      "\n",
      "0    6.0\n",
      "1    7.7\n",
      "2    8.0\n",
      "3    0.0\n",
      "4    1.0\n",
      "dtype: float64\n"
     ]
    },
    {
     "data": {
      "text/html": [
       "<div>\n",
       "<style scoped>\n",
       "    .dataframe tbody tr th:only-of-type {\n",
       "        vertical-align: middle;\n",
       "    }\n",
       "\n",
       "    .dataframe tbody tr th {\n",
       "        vertical-align: top;\n",
       "    }\n",
       "\n",
       "    .dataframe thead th {\n",
       "        text-align: right;\n",
       "    }\n",
       "</style>\n",
       "<table border=\"1\" class=\"dataframe\">\n",
       "  <thead>\n",
       "    <tr style=\"text-align: right;\">\n",
       "      <th></th>\n",
       "      <th>0</th>\n",
       "    </tr>\n",
       "  </thead>\n",
       "  <tbody>\n",
       "    <tr>\n",
       "      <th>0</th>\n",
       "      <td>6.0</td>\n",
       "    </tr>\n",
       "    <tr>\n",
       "      <th>1</th>\n",
       "      <td>7.7</td>\n",
       "    </tr>\n",
       "    <tr>\n",
       "      <th>2</th>\n",
       "      <td>8.0</td>\n",
       "    </tr>\n",
       "    <tr>\n",
       "      <th>3</th>\n",
       "      <td>0.0</td>\n",
       "    </tr>\n",
       "    <tr>\n",
       "      <th>4</th>\n",
       "      <td>1.0</td>\n",
       "    </tr>\n",
       "  </tbody>\n",
       "</table>\n",
       "</div>"
      ],
      "text/plain": [
       "     0\n",
       "0  6.0\n",
       "1  7.7\n",
       "2  8.0\n",
       "3  0.0\n",
       "4  1.0"
      ]
     },
     "execution_count": 137,
     "metadata": {},
     "output_type": "execute_result"
    }
   ],
   "source": [
    "print(data1)\n",
    "print('\\n')\n",
    "print(pd.Series(data1))\n",
    "pd.DataFrame(data1)"
   ]
  },
  {
   "cell_type": "code",
   "execution_count": 138,
   "metadata": {},
   "outputs": [
    {
     "name": "stdout",
     "output_type": "stream",
     "text": [
      "[[1, 2, 3, 4], [5, 6, 7, 8]]\n",
      "\n",
      "\n",
      "0    [1, 2, 3, 4]\n",
      "1    [5, 6, 7, 8]\n",
      "dtype: object\n"
     ]
    },
    {
     "data": {
      "text/html": [
       "<div>\n",
       "<style scoped>\n",
       "    .dataframe tbody tr th:only-of-type {\n",
       "        vertical-align: middle;\n",
       "    }\n",
       "\n",
       "    .dataframe tbody tr th {\n",
       "        vertical-align: top;\n",
       "    }\n",
       "\n",
       "    .dataframe thead th {\n",
       "        text-align: right;\n",
       "    }\n",
       "</style>\n",
       "<table border=\"1\" class=\"dataframe\">\n",
       "  <thead>\n",
       "    <tr style=\"text-align: right;\">\n",
       "      <th></th>\n",
       "      <th>0</th>\n",
       "      <th>1</th>\n",
       "      <th>2</th>\n",
       "      <th>3</th>\n",
       "    </tr>\n",
       "  </thead>\n",
       "  <tbody>\n",
       "    <tr>\n",
       "      <th>0</th>\n",
       "      <td>1</td>\n",
       "      <td>2</td>\n",
       "      <td>3</td>\n",
       "      <td>4</td>\n",
       "    </tr>\n",
       "    <tr>\n",
       "      <th>1</th>\n",
       "      <td>5</td>\n",
       "      <td>6</td>\n",
       "      <td>7</td>\n",
       "      <td>8</td>\n",
       "    </tr>\n",
       "  </tbody>\n",
       "</table>\n",
       "</div>"
      ],
      "text/plain": [
       "   0  1  2  3\n",
       "0  1  2  3  4\n",
       "1  5  6  7  8"
      ]
     },
     "execution_count": 138,
     "metadata": {},
     "output_type": "execute_result"
    }
   ],
   "source": [
    "print(data2)\n",
    "print('\\n')\n",
    "print(pd.Series(data2))\n",
    "pd.DataFrame(data2)"
   ]
  },
  {
   "cell_type": "code",
   "execution_count": 139,
   "metadata": {},
   "outputs": [
    {
     "data": {
      "text/html": [
       "<div>\n",
       "<style scoped>\n",
       "    .dataframe tbody tr th:only-of-type {\n",
       "        vertical-align: middle;\n",
       "    }\n",
       "\n",
       "    .dataframe tbody tr th {\n",
       "        vertical-align: top;\n",
       "    }\n",
       "\n",
       "    .dataframe thead th {\n",
       "        text-align: right;\n",
       "    }\n",
       "</style>\n",
       "<table border=\"1\" class=\"dataframe\">\n",
       "  <thead>\n",
       "    <tr style=\"text-align: right;\">\n",
       "      <th></th>\n",
       "      <th>col_I</th>\n",
       "      <th>col_II</th>\n",
       "      <th>col_III</th>\n",
       "      <th>col_IV</th>\n",
       "    </tr>\n",
       "  </thead>\n",
       "  <tbody>\n",
       "    <tr>\n",
       "      <th>row_I</th>\n",
       "      <td>1</td>\n",
       "      <td>2</td>\n",
       "      <td>3</td>\n",
       "      <td>4</td>\n",
       "    </tr>\n",
       "    <tr>\n",
       "      <th>row_II</th>\n",
       "      <td>5</td>\n",
       "      <td>6</td>\n",
       "      <td>7</td>\n",
       "      <td>8</td>\n",
       "    </tr>\n",
       "  </tbody>\n",
       "</table>\n",
       "</div>"
      ],
      "text/plain": [
       "        col_I  col_II  col_III  col_IV\n",
       "row_I       1       2        3       4\n",
       "row_II      5       6        7       8"
      ]
     },
     "execution_count": 139,
     "metadata": {},
     "output_type": "execute_result"
    }
   ],
   "source": [
    "pd.DataFrame(data2, \n",
    "             index=['row_I', 'row_II'], \n",
    "             columns=['col_I', 'col_II', 'col_III', 'col_IV'])"
   ]
  },
  {
   "cell_type": "code",
   "execution_count": 140,
   "metadata": {},
   "outputs": [
    {
     "name": "stdout",
     "output_type": "stream",
     "text": [
      "{'Ohio': 300, 'Texas': 621, 'Oregon': 290, 'Utah': 543}\n",
      "\n",
      "\n",
      "Ohio      300\n",
      "Texas     621\n",
      "Oregon    290\n",
      "Utah      543\n",
      "dtype: int64\n"
     ]
    }
   ],
   "source": [
    "print(data3)\n",
    "print('\\n')\n",
    "print(pd.Series(data3))\n",
    "# pd.DataFrame(data3) will return a traceback!! \n",
    "# to fix this:\n",
    "  # either: put lists in the dict\n",
    "  # or: add an index parameter"
   ]
  },
  {
   "cell_type": "code",
   "execution_count": 141,
   "metadata": {},
   "outputs": [
    {
     "data": {
      "text/html": [
       "<div>\n",
       "<style scoped>\n",
       "    .dataframe tbody tr th:only-of-type {\n",
       "        vertical-align: middle;\n",
       "    }\n",
       "\n",
       "    .dataframe tbody tr th {\n",
       "        vertical-align: top;\n",
       "    }\n",
       "\n",
       "    .dataframe thead th {\n",
       "        text-align: right;\n",
       "    }\n",
       "</style>\n",
       "<table border=\"1\" class=\"dataframe\">\n",
       "  <thead>\n",
       "    <tr style=\"text-align: right;\">\n",
       "      <th></th>\n",
       "      <th>Ohio</th>\n",
       "      <th>Texas</th>\n",
       "      <th>Oregon</th>\n",
       "      <th>Utah</th>\n",
       "    </tr>\n",
       "  </thead>\n",
       "  <tbody>\n",
       "    <tr>\n",
       "      <th>row_I</th>\n",
       "      <td>300</td>\n",
       "      <td>621</td>\n",
       "      <td>290</td>\n",
       "      <td>543</td>\n",
       "    </tr>\n",
       "  </tbody>\n",
       "</table>\n",
       "</div>"
      ],
      "text/plain": [
       "       Ohio  Texas  Oregon  Utah\n",
       "row_I   300    621     290   543"
      ]
     },
     "execution_count": 141,
     "metadata": {},
     "output_type": "execute_result"
    }
   ],
   "source": [
    "pd.DataFrame(data3, index=['row_I',])\n",
    "# the index has to be a list even when only one row"
   ]
  },
  {
   "cell_type": "code",
   "execution_count": 142,
   "metadata": {},
   "outputs": [
    {
     "name": "stdout",
     "output_type": "stream",
     "text": [
      "{'State': ['Ohio', 'Texas'], 'Year': [2000, 2000], 'Popul': [300, 400]}\n"
     ]
    },
    {
     "data": {
      "text/html": [
       "<div>\n",
       "<style scoped>\n",
       "    .dataframe tbody tr th:only-of-type {\n",
       "        vertical-align: middle;\n",
       "    }\n",
       "\n",
       "    .dataframe tbody tr th {\n",
       "        vertical-align: top;\n",
       "    }\n",
       "\n",
       "    .dataframe thead th {\n",
       "        text-align: right;\n",
       "    }\n",
       "</style>\n",
       "<table border=\"1\" class=\"dataframe\">\n",
       "  <thead>\n",
       "    <tr style=\"text-align: right;\">\n",
       "      <th></th>\n",
       "      <th>State</th>\n",
       "      <th>Year</th>\n",
       "      <th>Popul</th>\n",
       "    </tr>\n",
       "  </thead>\n",
       "  <tbody>\n",
       "    <tr>\n",
       "      <th>0</th>\n",
       "      <td>Ohio</td>\n",
       "      <td>2000</td>\n",
       "      <td>300</td>\n",
       "    </tr>\n",
       "    <tr>\n",
       "      <th>1</th>\n",
       "      <td>Texas</td>\n",
       "      <td>2000</td>\n",
       "      <td>400</td>\n",
       "    </tr>\n",
       "  </tbody>\n",
       "</table>\n",
       "</div>"
      ],
      "text/plain": [
       "   State  Year  Popul\n",
       "0   Ohio  2000    300\n",
       "1  Texas  2000    400"
      ]
     },
     "execution_count": 142,
     "metadata": {},
     "output_type": "execute_result"
    }
   ],
   "source": [
    "print(data5)\n",
    "pd.DataFrame(data5)"
   ]
  },
  {
   "cell_type": "code",
   "execution_count": 143,
   "metadata": {},
   "outputs": [
    {
     "data": {
      "text/html": [
       "<div>\n",
       "<style scoped>\n",
       "    .dataframe tbody tr th:only-of-type {\n",
       "        vertical-align: middle;\n",
       "    }\n",
       "\n",
       "    .dataframe tbody tr th {\n",
       "        vertical-align: top;\n",
       "    }\n",
       "\n",
       "    .dataframe thead th {\n",
       "        text-align: right;\n",
       "    }\n",
       "</style>\n",
       "<table border=\"1\" class=\"dataframe\">\n",
       "  <thead>\n",
       "    <tr style=\"text-align: right;\">\n",
       "      <th></th>\n",
       "      <th>Ohio</th>\n",
       "      <th>Texas</th>\n",
       "      <th>Oregon</th>\n",
       "      <th>Utah</th>\n",
       "    </tr>\n",
       "  </thead>\n",
       "  <tbody>\n",
       "    <tr>\n",
       "      <th>1</th>\n",
       "      <td>300</td>\n",
       "      <td>621</td>\n",
       "      <td>290</td>\n",
       "      <td>543</td>\n",
       "    </tr>\n",
       "    <tr>\n",
       "      <th>0</th>\n",
       "      <td>300</td>\n",
       "      <td>621</td>\n",
       "      <td>290</td>\n",
       "      <td>543</td>\n",
       "    </tr>\n",
       "  </tbody>\n",
       "</table>\n",
       "</div>"
      ],
      "text/plain": [
       "   Ohio  Texas  Oregon  Utah\n",
       "1   300    621     290   543\n",
       "0   300    621     290   543"
      ]
     },
     "execution_count": 143,
     "metadata": {},
     "output_type": "execute_result"
    }
   ],
   "source": [
    "df1 = pd.DataFrame(data3, index=[1,])             \n",
    "# index can either be an int 1 or a str '1' \n",
    "df1 = df1.append(pd.DataFrame(data3, index=[0]))  \n",
    "# index can be explicit with a ',' to indicate a list\n",
    "df1"
   ]
  },
  {
   "cell_type": "code",
   "execution_count": 144,
   "metadata": {},
   "outputs": [
    {
     "name": "stdout",
     "output_type": "stream",
     "text": [
      "   Ohio  Texas  Oregon  Utah\n",
      "1   300    621     290   543\n",
      "0   300    621     290   543\n",
      "append to dataframes does not change the original dataframe!\n",
      "   0  1  2  3\n",
      "0  1  2  3  4\n",
      "1  5  6  7  8\n",
      "------------------------\n",
      "     0    1    2    3   Ohio  Oregon  Texas   Utah\n",
      "1  NaN  NaN  NaN  NaN  300.0   290.0  621.0  543.0\n",
      "0  NaN  NaN  NaN  NaN  300.0   290.0  621.0  543.0\n",
      "0  1.0  2.0  3.0  4.0    NaN     NaN    NaN    NaN\n",
      "1  5.0  6.0  7.0  8.0    NaN     NaN    NaN    NaN\n"
     ]
    }
   ],
   "source": [
    "df0 = pd.DataFrame(data2)\n",
    "\n",
    "df1.append(df0)\n",
    "print(df1)      \n",
    "print('append to dataframes does not change the original dataframe!')\n",
    "\n",
    "print(df0)\n",
    "print('------------------------')\n",
    "\n",
    "df2 = df1.append(df0)       # no inplace=True parameter for append!\n",
    "print(df2)"
   ]
  },
  {
   "cell_type": "code",
   "execution_count": 145,
   "metadata": {},
   "outputs": [
    {
     "data": {
      "text/html": [
       "<div>\n",
       "<style scoped>\n",
       "    .dataframe tbody tr th:only-of-type {\n",
       "        vertical-align: middle;\n",
       "    }\n",
       "\n",
       "    .dataframe tbody tr th {\n",
       "        vertical-align: top;\n",
       "    }\n",
       "\n",
       "    .dataframe thead th {\n",
       "        text-align: right;\n",
       "    }\n",
       "</style>\n",
       "<table border=\"1\" class=\"dataframe\">\n",
       "  <thead>\n",
       "    <tr style=\"text-align: right;\">\n",
       "      <th></th>\n",
       "      <th>0</th>\n",
       "      <th>1</th>\n",
       "      <th>2</th>\n",
       "      <th>3</th>\n",
       "      <th>Ohio</th>\n",
       "      <th>Texas</th>\n",
       "      <th>Oregon</th>\n",
       "      <th>Utah</th>\n",
       "    </tr>\n",
       "  </thead>\n",
       "  <tbody>\n",
       "    <tr>\n",
       "      <th>0</th>\n",
       "      <td>1</td>\n",
       "      <td>2</td>\n",
       "      <td>3</td>\n",
       "      <td>4</td>\n",
       "      <td>300</td>\n",
       "      <td>621</td>\n",
       "      <td>290</td>\n",
       "      <td>543</td>\n",
       "    </tr>\n",
       "    <tr>\n",
       "      <th>1</th>\n",
       "      <td>5</td>\n",
       "      <td>6</td>\n",
       "      <td>7</td>\n",
       "      <td>8</td>\n",
       "      <td>300</td>\n",
       "      <td>621</td>\n",
       "      <td>290</td>\n",
       "      <td>543</td>\n",
       "    </tr>\n",
       "  </tbody>\n",
       "</table>\n",
       "</div>"
      ],
      "text/plain": [
       "   0  1  2  3  Ohio  Texas  Oregon  Utah\n",
       "0  1  2  3  4   300    621     290   543\n",
       "1  5  6  7  8   300    621     290   543"
      ]
     },
     "execution_count": 145,
     "metadata": {},
     "output_type": "execute_result"
    }
   ],
   "source": [
    "pd.merge(df0, df1, how='outer', left_index=True, right_index=True)"
   ]
  },
  {
   "cell_type": "code",
   "execution_count": 146,
   "metadata": {},
   "outputs": [
    {
     "name": "stdout",
     "output_type": "stream",
     "text": [
      "   0  1  2  3\n",
      "0  1  2  3  4\n",
      "1  5  6  7  8\n",
      "-----------------\n",
      "   Ohio  Texas  Oregon  Utah\n",
      "1   300    621     290   543\n",
      "0   300    621     290   543\n"
     ]
    }
   ],
   "source": [
    "# merge doesn't modify the original dataframes\n",
    "print(df0)\n",
    "print('-----------------')\n",
    "print(df1)"
   ]
  },
  {
   "cell_type": "code",
   "execution_count": 147,
   "metadata": {},
   "outputs": [
    {
     "data": {
      "text/html": [
       "<div>\n",
       "<style scoped>\n",
       "    .dataframe tbody tr th:only-of-type {\n",
       "        vertical-align: middle;\n",
       "    }\n",
       "\n",
       "    .dataframe tbody tr th {\n",
       "        vertical-align: top;\n",
       "    }\n",
       "\n",
       "    .dataframe thead th {\n",
       "        text-align: right;\n",
       "    }\n",
       "</style>\n",
       "<table border=\"1\" class=\"dataframe\">\n",
       "  <thead>\n",
       "    <tr style=\"text-align: right;\">\n",
       "      <th></th>\n",
       "      <th>0</th>\n",
       "      <th>1</th>\n",
       "      <th>2</th>\n",
       "      <th>3</th>\n",
       "      <th>Ohio</th>\n",
       "      <th>Texas</th>\n",
       "      <th>Oregon</th>\n",
       "      <th>Utah</th>\n",
       "    </tr>\n",
       "  </thead>\n",
       "  <tbody>\n",
       "    <tr>\n",
       "      <th>0</th>\n",
       "      <td>1</td>\n",
       "      <td>2</td>\n",
       "      <td>3</td>\n",
       "      <td>4</td>\n",
       "      <td>300</td>\n",
       "      <td>621</td>\n",
       "      <td>290</td>\n",
       "      <td>543</td>\n",
       "    </tr>\n",
       "    <tr>\n",
       "      <th>1</th>\n",
       "      <td>5</td>\n",
       "      <td>6</td>\n",
       "      <td>7</td>\n",
       "      <td>8</td>\n",
       "      <td>300</td>\n",
       "      <td>621</td>\n",
       "      <td>290</td>\n",
       "      <td>543</td>\n",
       "    </tr>\n",
       "  </tbody>\n",
       "</table>\n",
       "</div>"
      ],
      "text/plain": [
       "   0  1  2  3  Ohio  Texas  Oregon  Utah\n",
       "0  1  2  3  4   300    621     290   543\n",
       "1  5  6  7  8   300    621     290   543"
      ]
     },
     "execution_count": 147,
     "metadata": {},
     "output_type": "execute_result"
    }
   ],
   "source": [
    "df0.merge(df1, how='outer', left_index=True, right_index=True)"
   ]
  },
  {
   "cell_type": "code",
   "execution_count": 148,
   "metadata": {},
   "outputs": [
    {
     "name": "stdout",
     "output_type": "stream",
     "text": [
      "   0  1  2  3\n",
      "0  1  2  3  4\n",
      "1  5  6  7  8\n",
      "-----------------\n",
      "   Ohio  Texas  Oregon  Utah\n",
      "1   300    621     290   543\n",
      "0   300    621     290   543\n"
     ]
    }
   ],
   "source": [
    "# two ways to merge - again, neither modifies the original dataframes\n",
    "print(df0)\n",
    "print('-----------------')\n",
    "print(df1)"
   ]
  },
  {
   "cell_type": "code",
   "execution_count": 149,
   "metadata": {},
   "outputs": [
    {
     "name": "stdout",
     "output_type": "stream",
     "text": [
      "     0\n",
      "0  6.0\n",
      "1  7.7\n",
      "2  8.0\n",
      "3  0.0\n",
      "4  1.0\n",
      "-----------------\n",
      "   0  1  2  3\n",
      "0  1  2  3  4\n",
      "1  5  6  7  8\n"
     ]
    },
    {
     "data": {
      "text/html": [
       "<div>\n",
       "<style scoped>\n",
       "    .dataframe tbody tr th:only-of-type {\n",
       "        vertical-align: middle;\n",
       "    }\n",
       "\n",
       "    .dataframe tbody tr th {\n",
       "        vertical-align: top;\n",
       "    }\n",
       "\n",
       "    .dataframe thead th {\n",
       "        text-align: right;\n",
       "    }\n",
       "</style>\n",
       "<table border=\"1\" class=\"dataframe\">\n",
       "  <thead>\n",
       "    <tr style=\"text-align: right;\">\n",
       "      <th></th>\n",
       "      <th>0</th>\n",
       "      <th>1</th>\n",
       "      <th>2</th>\n",
       "      <th>3</th>\n",
       "    </tr>\n",
       "  </thead>\n",
       "  <tbody>\n",
       "    <tr>\n",
       "      <th>0</th>\n",
       "      <td>6.0</td>\n",
       "      <td>NaN</td>\n",
       "      <td>NaN</td>\n",
       "      <td>NaN</td>\n",
       "    </tr>\n",
       "    <tr>\n",
       "      <th>1</th>\n",
       "      <td>7.7</td>\n",
       "      <td>NaN</td>\n",
       "      <td>NaN</td>\n",
       "      <td>NaN</td>\n",
       "    </tr>\n",
       "    <tr>\n",
       "      <th>2</th>\n",
       "      <td>8.0</td>\n",
       "      <td>NaN</td>\n",
       "      <td>NaN</td>\n",
       "      <td>NaN</td>\n",
       "    </tr>\n",
       "    <tr>\n",
       "      <th>3</th>\n",
       "      <td>0.0</td>\n",
       "      <td>NaN</td>\n",
       "      <td>NaN</td>\n",
       "      <td>NaN</td>\n",
       "    </tr>\n",
       "    <tr>\n",
       "      <th>4</th>\n",
       "      <td>1.0</td>\n",
       "      <td>NaN</td>\n",
       "      <td>NaN</td>\n",
       "      <td>NaN</td>\n",
       "    </tr>\n",
       "    <tr>\n",
       "      <th>0</th>\n",
       "      <td>1.0</td>\n",
       "      <td>2.0</td>\n",
       "      <td>3.0</td>\n",
       "      <td>4.0</td>\n",
       "    </tr>\n",
       "    <tr>\n",
       "      <th>1</th>\n",
       "      <td>5.0</td>\n",
       "      <td>6.0</td>\n",
       "      <td>7.0</td>\n",
       "      <td>8.0</td>\n",
       "    </tr>\n",
       "  </tbody>\n",
       "</table>\n",
       "</div>"
      ],
      "text/plain": [
       "     0    1    2    3\n",
       "0  6.0  NaN  NaN  NaN\n",
       "1  7.7  NaN  NaN  NaN\n",
       "2  8.0  NaN  NaN  NaN\n",
       "3  0.0  NaN  NaN  NaN\n",
       "4  1.0  NaN  NaN  NaN\n",
       "0  1.0  2.0  3.0  4.0\n",
       "1  5.0  6.0  7.0  8.0"
      ]
     },
     "execution_count": 149,
     "metadata": {},
     "output_type": "execute_result"
    }
   ],
   "source": [
    "print(pd.DataFrame(data1))\n",
    "print('-----------------')\n",
    "print(pd.DataFrame(data2))\n",
    "pd.DataFrame(data1).append(pd.DataFrame(data2))"
   ]
  },
  {
   "cell_type": "code",
   "execution_count": 150,
   "metadata": {},
   "outputs": [
    {
     "data": {
      "text/html": [
       "<div>\n",
       "<style scoped>\n",
       "    .dataframe tbody tr th:only-of-type {\n",
       "        vertical-align: middle;\n",
       "    }\n",
       "\n",
       "    .dataframe tbody tr th {\n",
       "        vertical-align: top;\n",
       "    }\n",
       "\n",
       "    .dataframe thead th {\n",
       "        text-align: right;\n",
       "    }\n",
       "</style>\n",
       "<table border=\"1\" class=\"dataframe\">\n",
       "  <thead>\n",
       "    <tr style=\"text-align: right;\">\n",
       "      <th></th>\n",
       "      <th>a</th>\n",
       "      <th>c</th>\n",
       "      <th>m</th>\n",
       "      <th>n</th>\n",
       "      <th>b</th>\n",
       "      <th>x</th>\n",
       "    </tr>\n",
       "  </thead>\n",
       "  <tbody>\n",
       "    <tr>\n",
       "      <th>7</th>\n",
       "      <td>1</td>\n",
       "      <td>2</td>\n",
       "      <td>NaN</td>\n",
       "      <td>NaN</td>\n",
       "      <td>5</td>\n",
       "      <td>NaN</td>\n",
       "    </tr>\n",
       "    <tr>\n",
       "      <th>8</th>\n",
       "      <td>2</td>\n",
       "      <td>4</td>\n",
       "      <td>NaN</td>\n",
       "      <td>NaN</td>\n",
       "      <td>4</td>\n",
       "      <td>NaN</td>\n",
       "    </tr>\n",
       "    <tr>\n",
       "      <th>19</th>\n",
       "      <td>3</td>\n",
       "      <td>6</td>\n",
       "      <td>NaN</td>\n",
       "      <td>NaN</td>\n",
       "      <td>3</td>\n",
       "      <td>NaN</td>\n",
       "    </tr>\n",
       "    <tr>\n",
       "      <th>12</th>\n",
       "      <td>4</td>\n",
       "      <td>8</td>\n",
       "      <td>NaN</td>\n",
       "      <td>NaN</td>\n",
       "      <td>2</td>\n",
       "      <td>NaN</td>\n",
       "    </tr>\n",
       "    <tr>\n",
       "      <th>45</th>\n",
       "      <td>5</td>\n",
       "      <td>10</td>\n",
       "      <td>NaN</td>\n",
       "      <td>NaN</td>\n",
       "      <td>1</td>\n",
       "      <td>NaN</td>\n",
       "    </tr>\n",
       "  </tbody>\n",
       "</table>\n",
       "</div>"
      ],
      "text/plain": [
       "    a   c    m    n  b    x\n",
       "7   1   2  NaN  NaN  5  NaN\n",
       "8   2   4  NaN  NaN  4  NaN\n",
       "19  3   6  NaN  NaN  3  NaN\n",
       "12  4   8  NaN  NaN  2  NaN\n",
       "45  5  10  NaN  NaN  1  NaN"
      ]
     },
     "execution_count": 150,
     "metadata": {},
     "output_type": "execute_result"
    }
   ],
   "source": [
    "pd.DataFrame({'a': [1, 2, 3, 4, 5], 'b': [5, 4, 3, 2, 1], 'c': [2, 4, 6, 8, 10]}, \n",
    "             index=[7, 8, 19, 12, 45], \n",
    "             columns=['a', 'c', 'm', 'n', 'b', 'x'])"
   ]
  },
  {
   "cell_type": "code",
   "execution_count": 151,
   "metadata": {},
   "outputs": [
    {
     "data": {
      "text/html": [
       "<div>\n",
       "<style scoped>\n",
       "    .dataframe tbody tr th:only-of-type {\n",
       "        vertical-align: middle;\n",
       "    }\n",
       "\n",
       "    .dataframe tbody tr th {\n",
       "        vertical-align: top;\n",
       "    }\n",
       "\n",
       "    .dataframe thead th {\n",
       "        text-align: right;\n",
       "    }\n",
       "</style>\n",
       "<table border=\"1\" class=\"dataframe\">\n",
       "  <thead>\n",
       "    <tr style=\"text-align: right;\">\n",
       "      <th></th>\n",
       "      <th>Nevada</th>\n",
       "      <th>Ohio</th>\n",
       "    </tr>\n",
       "  </thead>\n",
       "  <tbody>\n",
       "    <tr>\n",
       "      <th>2001</th>\n",
       "      <td>2.4</td>\n",
       "      <td>1.7</td>\n",
       "    </tr>\n",
       "    <tr>\n",
       "      <th>2002</th>\n",
       "      <td>2.9</td>\n",
       "      <td>3.6</td>\n",
       "    </tr>\n",
       "    <tr>\n",
       "      <th>2000</th>\n",
       "      <td>NaN</td>\n",
       "      <td>1.5</td>\n",
       "    </tr>\n",
       "  </tbody>\n",
       "</table>\n",
       "</div>"
      ],
      "text/plain": [
       "      Nevada  Ohio\n",
       "2001     2.4   1.7\n",
       "2002     2.9   3.6\n",
       "2000     NaN   1.5"
      ]
     },
     "execution_count": 151,
     "metadata": {},
     "output_type": "execute_result"
    }
   ],
   "source": [
    "data6 = {'Nevada':                    # this is the column\n",
    "         {2001: 2.4, 2002: 2.9},      # these are not level 2 columns but a series in a row!\n",
    "         'Ohio': \n",
    "         {2000: 1.5, 2001: 1.7, 2002: 3.6}}\n",
    "df3 = pd.DataFrame(data6)\n",
    "df3"
   ]
  },
  {
   "cell_type": "code",
   "execution_count": 152,
   "metadata": {},
   "outputs": [
    {
     "data": {
      "text/html": [
       "<div>\n",
       "<style scoped>\n",
       "    .dataframe tbody tr th:only-of-type {\n",
       "        vertical-align: middle;\n",
       "    }\n",
       "\n",
       "    .dataframe tbody tr th {\n",
       "        vertical-align: top;\n",
       "    }\n",
       "\n",
       "    .dataframe thead th {\n",
       "        text-align: right;\n",
       "    }\n",
       "</style>\n",
       "<table border=\"1\" class=\"dataframe\">\n",
       "  <thead>\n",
       "    <tr style=\"text-align: right;\">\n",
       "      <th></th>\n",
       "      <th>Nevada</th>\n",
       "    </tr>\n",
       "  </thead>\n",
       "  <tbody>\n",
       "    <tr>\n",
       "      <th>2001</th>\n",
       "      <td>2.4</td>\n",
       "    </tr>\n",
       "    <tr>\n",
       "      <th>2002</th>\n",
       "      <td>2.9</td>\n",
       "    </tr>\n",
       "  </tbody>\n",
       "</table>\n",
       "</div>"
      ],
      "text/plain": [
       "      Nevada\n",
       "2001     2.4\n",
       "2002     2.9"
      ]
     },
     "execution_count": 152,
     "metadata": {},
     "output_type": "execute_result"
    }
   ],
   "source": [
    "pd.DataFrame({'Nevada': \n",
    "         {2001: 2.4, 2002: 2.9}})"
   ]
  },
  {
   "cell_type": "code",
   "execution_count": 153,
   "metadata": {},
   "outputs": [
    {
     "data": {
      "text/plain": [
       "2001    2.4\n",
       "2002    2.9\n",
       "dtype: float64"
      ]
     },
     "execution_count": 153,
     "metadata": {},
     "output_type": "execute_result"
    }
   ],
   "source": [
    "pd.Series({2001: 2.4, 2002: 2.9})"
   ]
  },
  {
   "cell_type": "code",
   "execution_count": 154,
   "metadata": {},
   "outputs": [
    {
     "data": {
      "text/plain": [
       "Nevada    {2001: 2.4, 2002: 2.9}\n",
       "dtype: object"
      ]
     },
     "execution_count": 154,
     "metadata": {},
     "output_type": "execute_result"
    }
   ],
   "source": [
    "pd.Series({'Nevada': \n",
    "           {2001: 2.4, 2002: 2.9}})"
   ]
  },
  {
   "cell_type": "code",
   "execution_count": 155,
   "metadata": {},
   "outputs": [
    {
     "data": {
      "text/plain": [
       "Int64Index([2001, 2002, 2000], dtype='int64')"
      ]
     },
     "execution_count": 155,
     "metadata": {},
     "output_type": "execute_result"
    }
   ],
   "source": [
    "pd.DataFrame(data6).index     # can be printed using list"
   ]
  },
  {
   "cell_type": "markdown",
   "metadata": {},
   "source": [
    "Modify indexes of data6:"
   ]
  },
  {
   "cell_type": "code",
   "execution_count": 156,
   "metadata": {},
   "outputs": [
    {
     "data": {
      "text/html": [
       "<div>\n",
       "<style scoped>\n",
       "    .dataframe tbody tr th:only-of-type {\n",
       "        vertical-align: middle;\n",
       "    }\n",
       "\n",
       "    .dataframe tbody tr th {\n",
       "        vertical-align: top;\n",
       "    }\n",
       "\n",
       "    .dataframe thead th {\n",
       "        text-align: right;\n",
       "    }\n",
       "</style>\n",
       "<table border=\"1\" class=\"dataframe\">\n",
       "  <thead>\n",
       "    <tr style=\"text-align: right;\">\n",
       "      <th></th>\n",
       "      <th>Nevada</th>\n",
       "      <th>Ohio</th>\n",
       "    </tr>\n",
       "  </thead>\n",
       "  <tbody>\n",
       "    <tr>\n",
       "      <th>1</th>\n",
       "      <td>NaN</td>\n",
       "      <td>NaN</td>\n",
       "    </tr>\n",
       "    <tr>\n",
       "      <th>2009</th>\n",
       "      <td>NaN</td>\n",
       "      <td>NaN</td>\n",
       "    </tr>\n",
       "    <tr>\n",
       "      <th>asjdhk</th>\n",
       "      <td>NaN</td>\n",
       "      <td>NaN</td>\n",
       "    </tr>\n",
       "  </tbody>\n",
       "</table>\n",
       "</div>"
      ],
      "text/plain": [
       "        Nevada  Ohio\n",
       "1          NaN   NaN\n",
       "2009       NaN   NaN\n",
       "asjdhk     NaN   NaN"
      ]
     },
     "execution_count": 156,
     "metadata": {},
     "output_type": "execute_result"
    }
   ],
   "source": [
    "df4 = pd.DataFrame(data6, index=[1, 2009, 'asjdhk'])\n",
    "df4"
   ]
  },
  {
   "cell_type": "markdown",
   "metadata": {},
   "source": [
    "Reset indexes to DataFrame default:"
   ]
  },
  {
   "cell_type": "code",
   "execution_count": 157,
   "metadata": {},
   "outputs": [
    {
     "data": {
      "text/html": [
       "<div>\n",
       "<style scoped>\n",
       "    .dataframe tbody tr th:only-of-type {\n",
       "        vertical-align: middle;\n",
       "    }\n",
       "\n",
       "    .dataframe tbody tr th {\n",
       "        vertical-align: top;\n",
       "    }\n",
       "\n",
       "    .dataframe thead th {\n",
       "        text-align: right;\n",
       "    }\n",
       "</style>\n",
       "<table border=\"1\" class=\"dataframe\">\n",
       "  <thead>\n",
       "    <tr style=\"text-align: right;\">\n",
       "      <th></th>\n",
       "      <th>index</th>\n",
       "      <th>Nevada</th>\n",
       "      <th>Ohio</th>\n",
       "    </tr>\n",
       "  </thead>\n",
       "  <tbody>\n",
       "    <tr>\n",
       "      <th>0</th>\n",
       "      <td>1</td>\n",
       "      <td>NaN</td>\n",
       "      <td>NaN</td>\n",
       "    </tr>\n",
       "    <tr>\n",
       "      <th>1</th>\n",
       "      <td>2009</td>\n",
       "      <td>NaN</td>\n",
       "      <td>NaN</td>\n",
       "    </tr>\n",
       "    <tr>\n",
       "      <th>2</th>\n",
       "      <td>asjdhk</td>\n",
       "      <td>NaN</td>\n",
       "      <td>NaN</td>\n",
       "    </tr>\n",
       "  </tbody>\n",
       "</table>\n",
       "</div>"
      ],
      "text/plain": [
       "    index  Nevada  Ohio\n",
       "0       1     NaN   NaN\n",
       "1    2009     NaN   NaN\n",
       "2  asjdhk     NaN   NaN"
      ]
     },
     "execution_count": 157,
     "metadata": {},
     "output_type": "execute_result"
    }
   ],
   "source": [
    "df4_alt = df4.reset_index()\n",
    "df4_alt"
   ]
  },
  {
   "cell_type": "code",
   "execution_count": 158,
   "metadata": {},
   "outputs": [
    {
     "data": {
      "text/html": [
       "<div>\n",
       "<style scoped>\n",
       "    .dataframe tbody tr th:only-of-type {\n",
       "        vertical-align: middle;\n",
       "    }\n",
       "\n",
       "    .dataframe tbody tr th {\n",
       "        vertical-align: top;\n",
       "    }\n",
       "\n",
       "    .dataframe thead th {\n",
       "        text-align: right;\n",
       "    }\n",
       "</style>\n",
       "<table border=\"1\" class=\"dataframe\">\n",
       "  <thead>\n",
       "    <tr style=\"text-align: right;\">\n",
       "      <th></th>\n",
       "      <th>Ohio</th>\n",
       "    </tr>\n",
       "    <tr>\n",
       "      <th>Nevada</th>\n",
       "      <th></th>\n",
       "    </tr>\n",
       "  </thead>\n",
       "  <tbody>\n",
       "    <tr>\n",
       "      <th>NaN</th>\n",
       "      <td>NaN</td>\n",
       "    </tr>\n",
       "    <tr>\n",
       "      <th>NaN</th>\n",
       "      <td>NaN</td>\n",
       "    </tr>\n",
       "    <tr>\n",
       "      <th>NaN</th>\n",
       "      <td>NaN</td>\n",
       "    </tr>\n",
       "  </tbody>\n",
       "</table>\n",
       "</div>"
      ],
      "text/plain": [
       "        Ohio\n",
       "Nevada      \n",
       "NaN      NaN\n",
       "NaN      NaN\n",
       "NaN      NaN"
      ]
     },
     "execution_count": 158,
     "metadata": {},
     "output_type": "execute_result"
    }
   ],
   "source": [
    "df4_alt1 = df4.set_index('Nevada')      # original index is gone...\n",
    "df4_alt1"
   ]
  },
  {
   "cell_type": "code",
   "execution_count": 159,
   "metadata": {},
   "outputs": [
    {
     "data": {
      "text/html": [
       "<div>\n",
       "<style scoped>\n",
       "    .dataframe tbody tr th:only-of-type {\n",
       "        vertical-align: middle;\n",
       "    }\n",
       "\n",
       "    .dataframe tbody tr th {\n",
       "        vertical-align: top;\n",
       "    }\n",
       "\n",
       "    .dataframe thead th {\n",
       "        text-align: right;\n",
       "    }\n",
       "</style>\n",
       "<table border=\"1\" class=\"dataframe\">\n",
       "  <thead>\n",
       "    <tr style=\"text-align: right;\">\n",
       "      <th></th>\n",
       "      <th>Ohio</th>\n",
       "      <th>original index</th>\n",
       "    </tr>\n",
       "    <tr>\n",
       "      <th>Nevada</th>\n",
       "      <th></th>\n",
       "      <th></th>\n",
       "    </tr>\n",
       "  </thead>\n",
       "  <tbody>\n",
       "    <tr>\n",
       "      <th>NaN</th>\n",
       "      <td>NaN</td>\n",
       "      <td>1</td>\n",
       "    </tr>\n",
       "    <tr>\n",
       "      <th>NaN</th>\n",
       "      <td>NaN</td>\n",
       "      <td>2009</td>\n",
       "    </tr>\n",
       "    <tr>\n",
       "      <th>NaN</th>\n",
       "      <td>NaN</td>\n",
       "      <td>asjdhk</td>\n",
       "    </tr>\n",
       "  </tbody>\n",
       "</table>\n",
       "</div>"
      ],
      "text/plain": [
       "        Ohio original index\n",
       "Nevada                     \n",
       "NaN      NaN              1\n",
       "NaN      NaN           2009\n",
       "NaN      NaN         asjdhk"
      ]
     },
     "execution_count": 159,
     "metadata": {},
     "output_type": "execute_result"
    }
   ],
   "source": [
    "df4_alt1['original index'] = df4.index\n",
    "df4_alt1"
   ]
  },
  {
   "cell_type": "code",
   "execution_count": 160,
   "metadata": {},
   "outputs": [
    {
     "data": {
      "text/html": [
       "<div>\n",
       "<style scoped>\n",
       "    .dataframe tbody tr th:only-of-type {\n",
       "        vertical-align: middle;\n",
       "    }\n",
       "\n",
       "    .dataframe tbody tr th {\n",
       "        vertical-align: top;\n",
       "    }\n",
       "\n",
       "    .dataframe thead th {\n",
       "        text-align: right;\n",
       "    }\n",
       "</style>\n",
       "<table border=\"1\" class=\"dataframe\">\n",
       "  <thead>\n",
       "    <tr style=\"text-align: right;\">\n",
       "      <th></th>\n",
       "      <th>Nevada</th>\n",
       "      <th>Ohio</th>\n",
       "    </tr>\n",
       "  </thead>\n",
       "  <tbody>\n",
       "    <tr>\n",
       "      <th>0</th>\n",
       "      <td>NaN</td>\n",
       "      <td>NaN</td>\n",
       "    </tr>\n",
       "    <tr>\n",
       "      <th>1</th>\n",
       "      <td>NaN</td>\n",
       "      <td>NaN</td>\n",
       "    </tr>\n",
       "    <tr>\n",
       "      <th>2</th>\n",
       "      <td>NaN</td>\n",
       "      <td>NaN</td>\n",
       "    </tr>\n",
       "  </tbody>\n",
       "</table>\n",
       "</div>"
      ],
      "text/plain": [
       "   Nevada  Ohio\n",
       "0     NaN   NaN\n",
       "1     NaN   NaN\n",
       "2     NaN   NaN"
      ]
     },
     "execution_count": 160,
     "metadata": {},
     "output_type": "execute_result"
    }
   ],
   "source": [
    "df4.reset_index(drop=True, inplace=True)\n",
    "df4"
   ]
  },
  {
   "cell_type": "markdown",
   "metadata": {},
   "source": [
    "Change default indexes to match df3:"
   ]
  },
  {
   "cell_type": "code",
   "execution_count": 161,
   "metadata": {},
   "outputs": [
    {
     "data": {
      "text/html": [
       "<div>\n",
       "<style scoped>\n",
       "    .dataframe tbody tr th:only-of-type {\n",
       "        vertical-align: middle;\n",
       "    }\n",
       "\n",
       "    .dataframe tbody tr th {\n",
       "        vertical-align: top;\n",
       "    }\n",
       "\n",
       "    .dataframe thead th {\n",
       "        text-align: right;\n",
       "    }\n",
       "</style>\n",
       "<table border=\"1\" class=\"dataframe\">\n",
       "  <thead>\n",
       "    <tr style=\"text-align: right;\">\n",
       "      <th></th>\n",
       "      <th>Nevada</th>\n",
       "      <th>Ohio</th>\n",
       "    </tr>\n",
       "  </thead>\n",
       "  <tbody>\n",
       "    <tr>\n",
       "      <th>2001</th>\n",
       "      <td>NaN</td>\n",
       "      <td>NaN</td>\n",
       "    </tr>\n",
       "    <tr>\n",
       "      <th>2002</th>\n",
       "      <td>NaN</td>\n",
       "      <td>NaN</td>\n",
       "    </tr>\n",
       "    <tr>\n",
       "      <th>2000</th>\n",
       "      <td>NaN</td>\n",
       "      <td>NaN</td>\n",
       "    </tr>\n",
       "  </tbody>\n",
       "</table>\n",
       "</div>"
      ],
      "text/plain": [
       "      Nevada  Ohio\n",
       "2001     NaN   NaN\n",
       "2002     NaN   NaN\n",
       "2000     NaN   NaN"
      ]
     },
     "execution_count": 161,
     "metadata": {},
     "output_type": "execute_result"
    }
   ],
   "source": [
    "df4.set_index(pd.Index([2001, 2002, 2000]), inplace=True)\n",
    "df4"
   ]
  },
  {
   "cell_type": "markdown",
   "metadata": {},
   "source": [
    "Now merge df4 with df3:"
   ]
  },
  {
   "cell_type": "code",
   "execution_count": 162,
   "metadata": {},
   "outputs": [
    {
     "data": {
      "text/html": [
       "<div>\n",
       "<style scoped>\n",
       "    .dataframe tbody tr th:only-of-type {\n",
       "        vertical-align: middle;\n",
       "    }\n",
       "\n",
       "    .dataframe tbody tr th {\n",
       "        vertical-align: top;\n",
       "    }\n",
       "\n",
       "    .dataframe thead th {\n",
       "        text-align: right;\n",
       "    }\n",
       "</style>\n",
       "<table border=\"1\" class=\"dataframe\">\n",
       "  <thead>\n",
       "    <tr style=\"text-align: right;\">\n",
       "      <th></th>\n",
       "      <th>Nevada</th>\n",
       "      <th>Ohio</th>\n",
       "    </tr>\n",
       "  </thead>\n",
       "  <tbody>\n",
       "    <tr>\n",
       "      <th>2001</th>\n",
       "      <td>2.4</td>\n",
       "      <td>1.7</td>\n",
       "    </tr>\n",
       "    <tr>\n",
       "      <th>2002</th>\n",
       "      <td>2.9</td>\n",
       "      <td>3.6</td>\n",
       "    </tr>\n",
       "    <tr>\n",
       "      <th>2000</th>\n",
       "      <td>NaN</td>\n",
       "      <td>1.5</td>\n",
       "    </tr>\n",
       "  </tbody>\n",
       "</table>\n",
       "</div>"
      ],
      "text/plain": [
       "      Nevada  Ohio\n",
       "2001     2.4   1.7\n",
       "2002     2.9   3.6\n",
       "2000     NaN   1.5"
      ]
     },
     "execution_count": 162,
     "metadata": {},
     "output_type": "execute_result"
    }
   ],
   "source": [
    "df3"
   ]
  },
  {
   "cell_type": "code",
   "execution_count": 163,
   "metadata": {},
   "outputs": [
    {
     "data": {
      "text/html": [
       "<div>\n",
       "<style scoped>\n",
       "    .dataframe tbody tr th:only-of-type {\n",
       "        vertical-align: middle;\n",
       "    }\n",
       "\n",
       "    .dataframe tbody tr th {\n",
       "        vertical-align: top;\n",
       "    }\n",
       "\n",
       "    .dataframe thead th {\n",
       "        text-align: right;\n",
       "    }\n",
       "</style>\n",
       "<table border=\"1\" class=\"dataframe\">\n",
       "  <thead>\n",
       "    <tr style=\"text-align: right;\">\n",
       "      <th></th>\n",
       "      <th>Nevada_x</th>\n",
       "      <th>Ohio_x</th>\n",
       "      <th>Nevada_y</th>\n",
       "      <th>Ohio_y</th>\n",
       "    </tr>\n",
       "  </thead>\n",
       "  <tbody>\n",
       "    <tr>\n",
       "      <th>2001</th>\n",
       "      <td>2.4</td>\n",
       "      <td>1.7</td>\n",
       "      <td>NaN</td>\n",
       "      <td>NaN</td>\n",
       "    </tr>\n",
       "    <tr>\n",
       "      <th>2002</th>\n",
       "      <td>2.9</td>\n",
       "      <td>3.6</td>\n",
       "      <td>NaN</td>\n",
       "      <td>NaN</td>\n",
       "    </tr>\n",
       "    <tr>\n",
       "      <th>2000</th>\n",
       "      <td>NaN</td>\n",
       "      <td>1.5</td>\n",
       "      <td>NaN</td>\n",
       "      <td>NaN</td>\n",
       "    </tr>\n",
       "  </tbody>\n",
       "</table>\n",
       "</div>"
      ],
      "text/plain": [
       "      Nevada_x  Ohio_x  Nevada_y  Ohio_y\n",
       "2001       2.4     1.7       NaN     NaN\n",
       "2002       2.9     3.6       NaN     NaN\n",
       "2000       NaN     1.5       NaN     NaN"
      ]
     },
     "execution_count": 163,
     "metadata": {},
     "output_type": "execute_result"
    }
   ],
   "source": [
    "df3.merge(df4, left_index=True, right_index=True)"
   ]
  },
  {
   "cell_type": "code",
   "execution_count": 164,
   "metadata": {
    "scrolled": true
   },
   "outputs": [
    {
     "data": {
      "text/html": [
       "<div>\n",
       "<style scoped>\n",
       "    .dataframe tbody tr th:only-of-type {\n",
       "        vertical-align: middle;\n",
       "    }\n",
       "\n",
       "    .dataframe tbody tr th {\n",
       "        vertical-align: top;\n",
       "    }\n",
       "\n",
       "    .dataframe thead th {\n",
       "        text-align: right;\n",
       "    }\n",
       "</style>\n",
       "<table border=\"1\" class=\"dataframe\">\n",
       "  <thead>\n",
       "    <tr style=\"text-align: right;\">\n",
       "      <th></th>\n",
       "      <th>Nevada</th>\n",
       "      <th>Ohio</th>\n",
       "    </tr>\n",
       "  </thead>\n",
       "  <tbody>\n",
       "    <tr>\n",
       "      <th>2001</th>\n",
       "      <td>2.4</td>\n",
       "      <td>1.7</td>\n",
       "    </tr>\n",
       "    <tr>\n",
       "      <th>2002</th>\n",
       "      <td>2.9</td>\n",
       "      <td>3.6</td>\n",
       "    </tr>\n",
       "    <tr>\n",
       "      <th>2000</th>\n",
       "      <td>NaN</td>\n",
       "      <td>1.5</td>\n",
       "    </tr>\n",
       "  </tbody>\n",
       "</table>\n",
       "</div>"
      ],
      "text/plain": [
       "      Nevada  Ohio\n",
       "2001     2.4   1.7\n",
       "2002     2.9   3.6\n",
       "2000     NaN   1.5"
      ]
     },
     "execution_count": 164,
     "metadata": {},
     "output_type": "execute_result"
    }
   ],
   "source": [
    "# need to add the on clause to merge the x(left)'s and y(right)'s\n",
    "df3.merge(df4, on=['Nevada', 'Ohio'], left_index=True, right_index=True)"
   ]
  },
  {
   "cell_type": "code",
   "execution_count": 165,
   "metadata": {},
   "outputs": [
    {
     "data": {
      "text/plain": [
       "array([[2.4, 1.7],\n",
       "       [2.9, 3.6],\n",
       "       [nan, 1.5]])"
      ]
     },
     "execution_count": 165,
     "metadata": {},
     "output_type": "execute_result"
    }
   ],
   "source": [
    "df3.values"
   ]
  },
  {
   "cell_type": "code",
   "execution_count": 166,
   "metadata": {},
   "outputs": [
    {
     "data": {
      "text/plain": [
       "<bound method DataFrame.all of       Nevada  Ohio\n",
       "year              \n",
       "2001     2.4   1.7\n",
       "2002     2.9   3.6\n",
       "2000     NaN   1.5>"
      ]
     },
     "execution_count": 166,
     "metadata": {},
     "output_type": "execute_result"
    }
   ],
   "source": [
    "df3.index.name = 'year'     # this assigns the index heading\n",
    "df3.all"
   ]
  },
  {
   "cell_type": "code",
   "execution_count": 167,
   "metadata": {},
   "outputs": [
    {
     "data": {
      "text/html": [
       "<div>\n",
       "<style scoped>\n",
       "    .dataframe tbody tr th:only-of-type {\n",
       "        vertical-align: middle;\n",
       "    }\n",
       "\n",
       "    .dataframe tbody tr th {\n",
       "        vertical-align: top;\n",
       "    }\n",
       "\n",
       "    .dataframe thead th {\n",
       "        text-align: right;\n",
       "    }\n",
       "</style>\n",
       "<table border=\"1\" class=\"dataframe\">\n",
       "  <thead>\n",
       "    <tr style=\"text-align: right;\">\n",
       "      <th></th>\n",
       "      <th>Nevada</th>\n",
       "      <th>Ohio</th>\n",
       "    </tr>\n",
       "    <tr>\n",
       "      <th>year</th>\n",
       "      <th></th>\n",
       "      <th></th>\n",
       "    </tr>\n",
       "  </thead>\n",
       "  <tbody>\n",
       "    <tr>\n",
       "      <th>2001</th>\n",
       "      <td>0.0</td>\n",
       "      <td>0.0</td>\n",
       "    </tr>\n",
       "    <tr>\n",
       "      <th>2002</th>\n",
       "      <td>0.5</td>\n",
       "      <td>1.9</td>\n",
       "    </tr>\n",
       "    <tr>\n",
       "      <th>2000</th>\n",
       "      <td>NaN</td>\n",
       "      <td>-0.2</td>\n",
       "    </tr>\n",
       "  </tbody>\n",
       "</table>\n",
       "</div>"
      ],
      "text/plain": [
       "      Nevada  Ohio\n",
       "year              \n",
       "2001     0.0   0.0\n",
       "2002     0.5   1.9\n",
       "2000     NaN  -0.2"
      ]
     },
     "execution_count": 167,
     "metadata": {},
     "output_type": "execute_result"
    }
   ],
   "source": [
    "df3 - df3.iloc[0]           # this operates on every row, not just iloc[0]"
   ]
  },
  {
   "cell_type": "code",
   "execution_count": 168,
   "metadata": {},
   "outputs": [
    {
     "data": {
      "text/plain": [
       "['Nevada', 'Ohio']"
      ]
     },
     "execution_count": 168,
     "metadata": {},
     "output_type": "execute_result"
    }
   ],
   "source": [
    "list(df3.columns)"
   ]
  },
  {
   "cell_type": "code",
   "execution_count": 169,
   "metadata": {},
   "outputs": [
    {
     "data": {
      "text/plain": [
       "year\n",
       "2001    2.4\n",
       "2002    2.9\n",
       "2000    NaN\n",
       "Name: Nevada, dtype: float64"
      ]
     },
     "execution_count": 169,
     "metadata": {},
     "output_type": "execute_result"
    }
   ],
   "source": [
    "df3.Nevada"
   ]
  },
  {
   "cell_type": "code",
   "execution_count": 170,
   "metadata": {},
   "outputs": [
    {
     "data": {
      "text/plain": [
       "year\n",
       "2001    2.4\n",
       "2002    2.9\n",
       "2000    NaN\n",
       "Name: Nevada, dtype: float64"
      ]
     },
     "execution_count": 170,
     "metadata": {},
     "output_type": "execute_result"
    }
   ],
   "source": [
    "df3['Nevada']"
   ]
  },
  {
   "cell_type": "code",
   "execution_count": 171,
   "metadata": {},
   "outputs": [
    {
     "data": {
      "text/html": [
       "<div>\n",
       "<style scoped>\n",
       "    .dataframe tbody tr th:only-of-type {\n",
       "        vertical-align: middle;\n",
       "    }\n",
       "\n",
       "    .dataframe tbody tr th {\n",
       "        vertical-align: top;\n",
       "    }\n",
       "\n",
       "    .dataframe thead th {\n",
       "        text-align: right;\n",
       "    }\n",
       "</style>\n",
       "<table border=\"1\" class=\"dataframe\">\n",
       "  <thead>\n",
       "    <tr style=\"text-align: right;\">\n",
       "      <th></th>\n",
       "      <th>Nevada</th>\n",
       "      <th>Ohio</th>\n",
       "    </tr>\n",
       "    <tr>\n",
       "      <th>year</th>\n",
       "      <th></th>\n",
       "      <th></th>\n",
       "    </tr>\n",
       "  </thead>\n",
       "  <tbody>\n",
       "    <tr>\n",
       "      <th>2001</th>\n",
       "      <td>2.4</td>\n",
       "      <td>1.7</td>\n",
       "    </tr>\n",
       "    <tr>\n",
       "      <th>2002</th>\n",
       "      <td>2.9</td>\n",
       "      <td>3.6</td>\n",
       "    </tr>\n",
       "    <tr>\n",
       "      <th>2000</th>\n",
       "      <td>NaN</td>\n",
       "      <td>1.5</td>\n",
       "    </tr>\n",
       "  </tbody>\n",
       "</table>\n",
       "</div>"
      ],
      "text/plain": [
       "      Nevada  Ohio\n",
       "year              \n",
       "2001     2.4   1.7\n",
       "2002     2.9   3.6\n",
       "2000     NaN   1.5"
      ]
     },
     "execution_count": 171,
     "metadata": {},
     "output_type": "execute_result"
    }
   ],
   "source": [
    "df3"
   ]
  },
  {
   "cell_type": "code",
   "execution_count": 172,
   "metadata": {},
   "outputs": [
    {
     "name": "stdout",
     "output_type": "stream",
     "text": [
      "   year  Nevada  Ohio\n",
      "0  2001     2.4   1.7\n",
      "1  2002     2.9   3.6\n",
      "2  2000     NaN   1.5\n"
     ]
    }
   ],
   "source": [
    "df3.reset_index(inplace=True)\n",
    "print(df3)"
   ]
  },
  {
   "cell_type": "code",
   "execution_count": 173,
   "metadata": {},
   "outputs": [
    {
     "data": {
      "text/plain": [
       "(3, 3)"
      ]
     },
     "execution_count": 173,
     "metadata": {},
     "output_type": "execute_result"
    }
   ],
   "source": [
    "df3.shape"
   ]
  },
  {
   "cell_type": "code",
   "execution_count": 174,
   "metadata": {},
   "outputs": [
    {
     "data": {
      "text/plain": [
       "0    2001\n",
       "1    2002\n",
       "2    2000\n",
       "Name: year, dtype: int64"
      ]
     },
     "execution_count": 174,
     "metadata": {},
     "output_type": "execute_result"
    }
   ],
   "source": [
    "df3.year"
   ]
  },
  {
   "cell_type": "code",
   "execution_count": 175,
   "metadata": {},
   "outputs": [
    {
     "data": {
      "text/plain": [
       "[0, 1, 2]"
      ]
     },
     "execution_count": 175,
     "metadata": {},
     "output_type": "execute_result"
    }
   ],
   "source": [
    "list(df3.index)"
   ]
  },
  {
   "cell_type": "code",
   "execution_count": 176,
   "metadata": {
    "scrolled": true
   },
   "outputs": [
    {
     "data": {
      "text/html": [
       "<div>\n",
       "<style scoped>\n",
       "    .dataframe tbody tr th:only-of-type {\n",
       "        vertical-align: middle;\n",
       "    }\n",
       "\n",
       "    .dataframe tbody tr th {\n",
       "        vertical-align: top;\n",
       "    }\n",
       "\n",
       "    .dataframe thead th {\n",
       "        text-align: right;\n",
       "    }\n",
       "</style>\n",
       "<table border=\"1\" class=\"dataframe\">\n",
       "  <thead>\n",
       "    <tr style=\"text-align: right;\">\n",
       "      <th></th>\n",
       "      <th>I</th>\n",
       "      <th>II</th>\n",
       "      <th>III</th>\n",
       "      <th>IV</th>\n",
       "      <th>V</th>\n",
       "      <th>VI</th>\n",
       "    </tr>\n",
       "  </thead>\n",
       "  <tbody>\n",
       "    <tr>\n",
       "      <th>a3</th>\n",
       "      <td>3</td>\n",
       "      <td>6</td>\n",
       "      <td>9</td>\n",
       "      <td>12</td>\n",
       "      <td>15</td>\n",
       "      <td>18</td>\n",
       "    </tr>\n",
       "    <tr>\n",
       "      <th>b5</th>\n",
       "      <td>5</td>\n",
       "      <td>10</td>\n",
       "      <td>15</td>\n",
       "      <td>20</td>\n",
       "      <td>25</td>\n",
       "      <td>30</td>\n",
       "    </tr>\n",
       "    <tr>\n",
       "      <th>c8</th>\n",
       "      <td>8</td>\n",
       "      <td>16</td>\n",
       "      <td>24</td>\n",
       "      <td>32</td>\n",
       "      <td>40</td>\n",
       "      <td>48</td>\n",
       "    </tr>\n",
       "    <tr>\n",
       "      <th>d12</th>\n",
       "      <td>12</td>\n",
       "      <td>24</td>\n",
       "      <td>36</td>\n",
       "      <td>48</td>\n",
       "      <td>60</td>\n",
       "      <td>72</td>\n",
       "    </tr>\n",
       "  </tbody>\n",
       "</table>\n",
       "</div>"
      ],
      "text/plain": [
       "      I  II  III  IV   V  VI\n",
       "a3    3   6    9  12  15  18\n",
       "b5    5  10   15  20  25  30\n",
       "c8    8  16   24  32  40  48\n",
       "d12  12  24   36  48  60  72"
      ]
     },
     "execution_count": 176,
     "metadata": {},
     "output_type": "execute_result"
    }
   ],
   "source": [
    "df5 = pd.DataFrame([[3, 6, 9, 12, 15, 18], \n",
    "                    [5, 10, 15, 20, 25, 30], \n",
    "                    [8, 16, 24, 32, 40, 48], \n",
    "                    [12, 24, 36, 48, 60, 72]], \n",
    "                  index=['a3', 'b5', 'c8', 'd12'],\n",
    "                  columns=['I', 'II', 'III', 'IV', 'V', 'VI'])\n",
    "df5"
   ]
  },
  {
   "cell_type": "code",
   "execution_count": 177,
   "metadata": {},
   "outputs": [
    {
     "data": {
      "text/html": [
       "<div>\n",
       "<style scoped>\n",
       "    .dataframe tbody tr th:only-of-type {\n",
       "        vertical-align: middle;\n",
       "    }\n",
       "\n",
       "    .dataframe tbody tr th {\n",
       "        vertical-align: top;\n",
       "    }\n",
       "\n",
       "    .dataframe thead th {\n",
       "        text-align: right;\n",
       "    }\n",
       "</style>\n",
       "<table border=\"1\" class=\"dataframe\">\n",
       "  <thead>\n",
       "    <tr style=\"text-align: right;\">\n",
       "      <th></th>\n",
       "      <th>a3</th>\n",
       "      <th>b5</th>\n",
       "      <th>c8</th>\n",
       "      <th>d12</th>\n",
       "    </tr>\n",
       "  </thead>\n",
       "  <tbody>\n",
       "    <tr>\n",
       "      <th>I</th>\n",
       "      <td>3</td>\n",
       "      <td>5</td>\n",
       "      <td>8</td>\n",
       "      <td>12</td>\n",
       "    </tr>\n",
       "    <tr>\n",
       "      <th>II</th>\n",
       "      <td>6</td>\n",
       "      <td>10</td>\n",
       "      <td>16</td>\n",
       "      <td>24</td>\n",
       "    </tr>\n",
       "    <tr>\n",
       "      <th>III</th>\n",
       "      <td>9</td>\n",
       "      <td>15</td>\n",
       "      <td>24</td>\n",
       "      <td>36</td>\n",
       "    </tr>\n",
       "    <tr>\n",
       "      <th>IV</th>\n",
       "      <td>12</td>\n",
       "      <td>20</td>\n",
       "      <td>32</td>\n",
       "      <td>48</td>\n",
       "    </tr>\n",
       "    <tr>\n",
       "      <th>V</th>\n",
       "      <td>15</td>\n",
       "      <td>25</td>\n",
       "      <td>40</td>\n",
       "      <td>60</td>\n",
       "    </tr>\n",
       "    <tr>\n",
       "      <th>VI</th>\n",
       "      <td>18</td>\n",
       "      <td>30</td>\n",
       "      <td>48</td>\n",
       "      <td>72</td>\n",
       "    </tr>\n",
       "  </tbody>\n",
       "</table>\n",
       "</div>"
      ],
      "text/plain": [
       "     a3  b5  c8  d12\n",
       "I     3   5   8   12\n",
       "II    6  10  16   24\n",
       "III   9  15  24   36\n",
       "IV   12  20  32   48\n",
       "V    15  25  40   60\n",
       "VI   18  30  48   72"
      ]
     },
     "execution_count": 177,
     "metadata": {},
     "output_type": "execute_result"
    }
   ],
   "source": [
    "df5_alt = pd.DataFrame({'a3': [3, 6, 9, 12, 15, 18], \n",
    "                   'b5': [5, 10, 15, 20, 25, 30],\n",
    "                   'c8': [8, 16, 24, 32, 40, 48],\n",
    "                   'd12': [12, 24, 36, 48, 60, 72]},\n",
    "                  index=['I', 'II', 'III', 'IV', 'V', 'VI'])\n",
    "df5_alt"
   ]
  },
  {
   "cell_type": "code",
   "execution_count": 178,
   "metadata": {},
   "outputs": [
    {
     "data": {
      "text/html": [
       "<div>\n",
       "<style scoped>\n",
       "    .dataframe tbody tr th:only-of-type {\n",
       "        vertical-align: middle;\n",
       "    }\n",
       "\n",
       "    .dataframe tbody tr th {\n",
       "        vertical-align: top;\n",
       "    }\n",
       "\n",
       "    .dataframe thead th {\n",
       "        text-align: right;\n",
       "    }\n",
       "</style>\n",
       "<table border=\"1\" class=\"dataframe\">\n",
       "  <thead>\n",
       "    <tr style=\"text-align: right;\">\n",
       "      <th></th>\n",
       "      <th>a3</th>\n",
       "      <th>b5</th>\n",
       "      <th>c8</th>\n",
       "      <th>d12</th>\n",
       "    </tr>\n",
       "  </thead>\n",
       "  <tbody>\n",
       "    <tr>\n",
       "      <th>I</th>\n",
       "      <td>3</td>\n",
       "      <td>5</td>\n",
       "      <td>8</td>\n",
       "      <td>12</td>\n",
       "    </tr>\n",
       "    <tr>\n",
       "      <th>II</th>\n",
       "      <td>6</td>\n",
       "      <td>10</td>\n",
       "      <td>16</td>\n",
       "      <td>24</td>\n",
       "    </tr>\n",
       "    <tr>\n",
       "      <th>III</th>\n",
       "      <td>9</td>\n",
       "      <td>15</td>\n",
       "      <td>24</td>\n",
       "      <td>36</td>\n",
       "    </tr>\n",
       "    <tr>\n",
       "      <th>IV</th>\n",
       "      <td>12</td>\n",
       "      <td>20</td>\n",
       "      <td>32</td>\n",
       "      <td>48</td>\n",
       "    </tr>\n",
       "    <tr>\n",
       "      <th>V</th>\n",
       "      <td>15</td>\n",
       "      <td>25</td>\n",
       "      <td>40</td>\n",
       "      <td>60</td>\n",
       "    </tr>\n",
       "    <tr>\n",
       "      <th>VI</th>\n",
       "      <td>18</td>\n",
       "      <td>30</td>\n",
       "      <td>48</td>\n",
       "      <td>72</td>\n",
       "    </tr>\n",
       "  </tbody>\n",
       "</table>\n",
       "</div>"
      ],
      "text/plain": [
       "     a3  b5  c8  d12\n",
       "I     3   5   8   12\n",
       "II    6  10  16   24\n",
       "III   9  15  24   36\n",
       "IV   12  20  32   48\n",
       "V    15  25  40   60\n",
       "VI   18  30  48   72"
      ]
     },
     "execution_count": 178,
     "metadata": {},
     "output_type": "execute_result"
    }
   ],
   "source": [
    "df6 = df5.T\n",
    "df6"
   ]
  },
  {
   "cell_type": "code",
   "execution_count": 179,
   "metadata": {},
   "outputs": [
    {
     "data": {
      "text/html": [
       "<div>\n",
       "<style scoped>\n",
       "    .dataframe tbody tr th:only-of-type {\n",
       "        vertical-align: middle;\n",
       "    }\n",
       "\n",
       "    .dataframe tbody tr th {\n",
       "        vertical-align: top;\n",
       "    }\n",
       "\n",
       "    .dataframe thead th {\n",
       "        text-align: right;\n",
       "    }\n",
       "</style>\n",
       "<table border=\"1\" class=\"dataframe\">\n",
       "  <thead>\n",
       "    <tr style=\"text-align: right;\">\n",
       "      <th></th>\n",
       "      <th>a3</th>\n",
       "      <th>b5</th>\n",
       "      <th>c8</th>\n",
       "      <th>d12</th>\n",
       "    </tr>\n",
       "  </thead>\n",
       "  <tbody>\n",
       "    <tr>\n",
       "      <th>I</th>\n",
       "      <td>True</td>\n",
       "      <td>True</td>\n",
       "      <td>True</td>\n",
       "      <td>True</td>\n",
       "    </tr>\n",
       "    <tr>\n",
       "      <th>II</th>\n",
       "      <td>True</td>\n",
       "      <td>True</td>\n",
       "      <td>True</td>\n",
       "      <td>True</td>\n",
       "    </tr>\n",
       "    <tr>\n",
       "      <th>III</th>\n",
       "      <td>True</td>\n",
       "      <td>True</td>\n",
       "      <td>True</td>\n",
       "      <td>True</td>\n",
       "    </tr>\n",
       "    <tr>\n",
       "      <th>IV</th>\n",
       "      <td>True</td>\n",
       "      <td>True</td>\n",
       "      <td>True</td>\n",
       "      <td>True</td>\n",
       "    </tr>\n",
       "    <tr>\n",
       "      <th>V</th>\n",
       "      <td>True</td>\n",
       "      <td>True</td>\n",
       "      <td>True</td>\n",
       "      <td>True</td>\n",
       "    </tr>\n",
       "    <tr>\n",
       "      <th>VI</th>\n",
       "      <td>True</td>\n",
       "      <td>True</td>\n",
       "      <td>True</td>\n",
       "      <td>True</td>\n",
       "    </tr>\n",
       "  </tbody>\n",
       "</table>\n",
       "</div>"
      ],
      "text/plain": [
       "       a3    b5    c8   d12\n",
       "I    True  True  True  True\n",
       "II   True  True  True  True\n",
       "III  True  True  True  True\n",
       "IV   True  True  True  True\n",
       "V    True  True  True  True\n",
       "VI   True  True  True  True"
      ]
     },
     "execution_count": 179,
     "metadata": {},
     "output_type": "execute_result"
    }
   ],
   "source": [
    "df5_alt == df6"
   ]
  },
  {
   "cell_type": "code",
   "execution_count": 180,
   "metadata": {},
   "outputs": [
    {
     "data": {
      "text/plain": [
       "False"
      ]
     },
     "execution_count": 180,
     "metadata": {},
     "output_type": "execute_result"
    }
   ],
   "source": [
    "df5_alt is df6"
   ]
  },
  {
   "cell_type": "code",
   "execution_count": 181,
   "metadata": {},
   "outputs": [
    {
     "data": {
      "text/plain": [
       "I       5\n",
       "II     10\n",
       "III    15\n",
       "IV     20\n",
       "V      25\n",
       "VI     30\n",
       "Name: b5, dtype: int64"
      ]
     },
     "execution_count": 181,
     "metadata": {},
     "output_type": "execute_result"
    }
   ],
   "source": [
    "df6['b5']"
   ]
  },
  {
   "cell_type": "code",
   "execution_count": 182,
   "metadata": {},
   "outputs": [
    {
     "data": {
      "text/html": [
       "<div>\n",
       "<style scoped>\n",
       "    .dataframe tbody tr th:only-of-type {\n",
       "        vertical-align: middle;\n",
       "    }\n",
       "\n",
       "    .dataframe tbody tr th {\n",
       "        vertical-align: top;\n",
       "    }\n",
       "\n",
       "    .dataframe thead th {\n",
       "        text-align: right;\n",
       "    }\n",
       "</style>\n",
       "<table border=\"1\" class=\"dataframe\">\n",
       "  <thead>\n",
       "    <tr style=\"text-align: right;\">\n",
       "      <th></th>\n",
       "      <th>b5</th>\n",
       "      <th>a3</th>\n",
       "    </tr>\n",
       "  </thead>\n",
       "  <tbody>\n",
       "    <tr>\n",
       "      <th>I</th>\n",
       "      <td>5</td>\n",
       "      <td>3</td>\n",
       "    </tr>\n",
       "    <tr>\n",
       "      <th>II</th>\n",
       "      <td>10</td>\n",
       "      <td>6</td>\n",
       "    </tr>\n",
       "    <tr>\n",
       "      <th>III</th>\n",
       "      <td>15</td>\n",
       "      <td>9</td>\n",
       "    </tr>\n",
       "    <tr>\n",
       "      <th>IV</th>\n",
       "      <td>20</td>\n",
       "      <td>12</td>\n",
       "    </tr>\n",
       "    <tr>\n",
       "      <th>V</th>\n",
       "      <td>25</td>\n",
       "      <td>15</td>\n",
       "    </tr>\n",
       "    <tr>\n",
       "      <th>VI</th>\n",
       "      <td>30</td>\n",
       "      <td>18</td>\n",
       "    </tr>\n",
       "  </tbody>\n",
       "</table>\n",
       "</div>"
      ],
      "text/plain": [
       "     b5  a3\n",
       "I     5   3\n",
       "II   10   6\n",
       "III  15   9\n",
       "IV   20  12\n",
       "V    25  15\n",
       "VI   30  18"
      ]
     },
     "execution_count": 182,
     "metadata": {},
     "output_type": "execute_result"
    }
   ],
   "source": [
    "df6[['b5', 'a3']]         # need a list for multi-indexing!"
   ]
  },
  {
   "cell_type": "code",
   "execution_count": 183,
   "metadata": {},
   "outputs": [
    {
     "data": {
      "text/plain": [
       "10"
      ]
     },
     "execution_count": 183,
     "metadata": {},
     "output_type": "execute_result"
    }
   ],
   "source": [
    "df6['b5']['II']"
   ]
  },
  {
   "cell_type": "code",
   "execution_count": 184,
   "metadata": {},
   "outputs": [
    {
     "data": {
      "text/plain": [
       "I       8\n",
       "II     16\n",
       "III    24\n",
       "IV     32\n",
       "V      40\n",
       "VI     48\n",
       "Name: c8, dtype: int64"
      ]
     },
     "execution_count": 184,
     "metadata": {},
     "output_type": "execute_result"
    }
   ],
   "source": [
    "df6[['b5','c8']]['c8']     # df6[['b5','c8']]['II'] will return an error"
   ]
  },
  {
   "cell_type": "code",
   "execution_count": 185,
   "metadata": {},
   "outputs": [
    {
     "data": {
      "text/plain": [
       "a3      6\n",
       "b5     10\n",
       "c8     16\n",
       "d12    24\n",
       "Name: II, dtype: int64"
      ]
     },
     "execution_count": 185,
     "metadata": {},
     "output_type": "execute_result"
    }
   ],
   "source": [
    "df6.loc['II']         # df6['II'] will return an error as no such column"
   ]
  },
  {
   "cell_type": "code",
   "execution_count": 186,
   "metadata": {},
   "outputs": [
    {
     "data": {
      "text/plain": [
       "a3      6\n",
       "b5     10\n",
       "c8     16\n",
       "d12    24\n",
       "Name: II, dtype: int64"
      ]
     },
     "execution_count": 186,
     "metadata": {},
     "output_type": "execute_result"
    }
   ],
   "source": [
    "df6.iloc[1]           # df6[1] will return an error as no such column"
   ]
  },
  {
   "cell_type": "code",
   "execution_count": 187,
   "metadata": {},
   "outputs": [
    {
     "data": {
      "text/html": [
       "<div>\n",
       "<style scoped>\n",
       "    .dataframe tbody tr th:only-of-type {\n",
       "        vertical-align: middle;\n",
       "    }\n",
       "\n",
       "    .dataframe tbody tr th {\n",
       "        vertical-align: top;\n",
       "    }\n",
       "\n",
       "    .dataframe thead th {\n",
       "        text-align: right;\n",
       "    }\n",
       "</style>\n",
       "<table border=\"1\" class=\"dataframe\">\n",
       "  <thead>\n",
       "    <tr style=\"text-align: right;\">\n",
       "      <th></th>\n",
       "      <th>a3</th>\n",
       "      <th>b5</th>\n",
       "      <th>c8</th>\n",
       "      <th>d12</th>\n",
       "    </tr>\n",
       "  </thead>\n",
       "  <tbody>\n",
       "    <tr>\n",
       "      <th>II</th>\n",
       "      <td>6</td>\n",
       "      <td>10</td>\n",
       "      <td>16</td>\n",
       "      <td>24</td>\n",
       "    </tr>\n",
       "  </tbody>\n",
       "</table>\n",
       "</div>"
      ],
      "text/plain": [
       "    a3  b5  c8  d12\n",
       "II   6  10  16   24"
      ]
     },
     "execution_count": 187,
     "metadata": {},
     "output_type": "execute_result"
    }
   ],
   "source": [
    "df6.take([1])       \n",
    "# take uses a list of row numbers (by default) and returns a DataFrame\n",
    "# same as df6.take([1], axis=0)"
   ]
  },
  {
   "cell_type": "code",
   "execution_count": 188,
   "metadata": {},
   "outputs": [
    {
     "data": {
      "text/html": [
       "<div>\n",
       "<style scoped>\n",
       "    .dataframe tbody tr th:only-of-type {\n",
       "        vertical-align: middle;\n",
       "    }\n",
       "\n",
       "    .dataframe tbody tr th {\n",
       "        vertical-align: top;\n",
       "    }\n",
       "\n",
       "    .dataframe thead th {\n",
       "        text-align: right;\n",
       "    }\n",
       "</style>\n",
       "<table border=\"1\" class=\"dataframe\">\n",
       "  <thead>\n",
       "    <tr style=\"text-align: right;\">\n",
       "      <th></th>\n",
       "      <th>b5</th>\n",
       "    </tr>\n",
       "  </thead>\n",
       "  <tbody>\n",
       "    <tr>\n",
       "      <th>I</th>\n",
       "      <td>5</td>\n",
       "    </tr>\n",
       "    <tr>\n",
       "      <th>II</th>\n",
       "      <td>10</td>\n",
       "    </tr>\n",
       "    <tr>\n",
       "      <th>III</th>\n",
       "      <td>15</td>\n",
       "    </tr>\n",
       "    <tr>\n",
       "      <th>IV</th>\n",
       "      <td>20</td>\n",
       "    </tr>\n",
       "    <tr>\n",
       "      <th>V</th>\n",
       "      <td>25</td>\n",
       "    </tr>\n",
       "    <tr>\n",
       "      <th>VI</th>\n",
       "      <td>30</td>\n",
       "    </tr>\n",
       "  </tbody>\n",
       "</table>\n",
       "</div>"
      ],
      "text/plain": [
       "     b5\n",
       "I     5\n",
       "II   10\n",
       "III  15\n",
       "IV   20\n",
       "V    25\n",
       "VI   30"
      ]
     },
     "execution_count": 188,
     "metadata": {},
     "output_type": "execute_result"
    }
   ],
   "source": [
    "df6.take([1], axis=1)"
   ]
  },
  {
   "cell_type": "code",
   "execution_count": 189,
   "metadata": {},
   "outputs": [
    {
     "data": {
      "text/html": [
       "<div>\n",
       "<style scoped>\n",
       "    .dataframe tbody tr th:only-of-type {\n",
       "        vertical-align: middle;\n",
       "    }\n",
       "\n",
       "    .dataframe tbody tr th {\n",
       "        vertical-align: top;\n",
       "    }\n",
       "\n",
       "    .dataframe thead th {\n",
       "        text-align: right;\n",
       "    }\n",
       "</style>\n",
       "<table border=\"1\" class=\"dataframe\">\n",
       "  <thead>\n",
       "    <tr style=\"text-align: right;\">\n",
       "      <th></th>\n",
       "      <th>b5</th>\n",
       "    </tr>\n",
       "  </thead>\n",
       "  <tbody>\n",
       "    <tr>\n",
       "      <th>I</th>\n",
       "      <td>5</td>\n",
       "    </tr>\n",
       "    <tr>\n",
       "      <th>II</th>\n",
       "      <td>10</td>\n",
       "    </tr>\n",
       "    <tr>\n",
       "      <th>III</th>\n",
       "      <td>15</td>\n",
       "    </tr>\n",
       "    <tr>\n",
       "      <th>IV</th>\n",
       "      <td>20</td>\n",
       "    </tr>\n",
       "    <tr>\n",
       "      <th>V</th>\n",
       "      <td>25</td>\n",
       "    </tr>\n",
       "    <tr>\n",
       "      <th>VI</th>\n",
       "      <td>30</td>\n",
       "    </tr>\n",
       "  </tbody>\n",
       "</table>\n",
       "</div>"
      ],
      "text/plain": [
       "     b5\n",
       "I     5\n",
       "II   10\n",
       "III  15\n",
       "IV   20\n",
       "V    25\n",
       "VI   30"
      ]
     },
     "execution_count": 189,
     "metadata": {},
     "output_type": "execute_result"
    }
   ],
   "source": [
    "df6[['b5']]     # need a list (even for a single column!) to get a DataFrame\n",
    "                # as if.... df6[['b5', ]]"
   ]
  },
  {
   "cell_type": "code",
   "execution_count": 190,
   "metadata": {},
   "outputs": [
    {
     "data": {
      "text/plain": [
       "I       5\n",
       "II     10\n",
       "III    15\n",
       "IV     20\n",
       "V      25\n",
       "VI     30\n",
       "Name: b5, dtype: int64"
      ]
     },
     "execution_count": 190,
     "metadata": {},
     "output_type": "execute_result"
    }
   ],
   "source": [
    "df6['b5']       # otherwise......"
   ]
  },
  {
   "cell_type": "code",
   "execution_count": 191,
   "metadata": {},
   "outputs": [
    {
     "data": {
      "text/plain": [
       "pandas.core.series.Series"
      ]
     },
     "execution_count": 191,
     "metadata": {},
     "output_type": "execute_result"
    }
   ],
   "source": [
    "type(df6['b5'])"
   ]
  },
  {
   "cell_type": "code",
   "execution_count": 192,
   "metadata": {},
   "outputs": [
    {
     "data": {
      "text/plain": [
       "pandas.core.frame.DataFrame"
      ]
     },
     "execution_count": 192,
     "metadata": {},
     "output_type": "execute_result"
    }
   ],
   "source": [
    "type(df6[['b5']])"
   ]
  },
  {
   "cell_type": "code",
   "execution_count": 193,
   "metadata": {},
   "outputs": [
    {
     "data": {
      "text/html": [
       "<div>\n",
       "<style scoped>\n",
       "    .dataframe tbody tr th:only-of-type {\n",
       "        vertical-align: middle;\n",
       "    }\n",
       "\n",
       "    .dataframe tbody tr th {\n",
       "        vertical-align: top;\n",
       "    }\n",
       "\n",
       "    .dataframe thead th {\n",
       "        text-align: right;\n",
       "    }\n",
       "</style>\n",
       "<table border=\"1\" class=\"dataframe\">\n",
       "  <thead>\n",
       "    <tr style=\"text-align: right;\">\n",
       "      <th></th>\n",
       "      <th>a3</th>\n",
       "      <th>b5</th>\n",
       "      <th>c8</th>\n",
       "      <th>d12</th>\n",
       "    </tr>\n",
       "  </thead>\n",
       "  <tbody>\n",
       "    <tr>\n",
       "      <th>I</th>\n",
       "      <td>3</td>\n",
       "      <td>5</td>\n",
       "      <td>8</td>\n",
       "      <td>12</td>\n",
       "    </tr>\n",
       "    <tr>\n",
       "      <th>II</th>\n",
       "      <td>6</td>\n",
       "      <td>10</td>\n",
       "      <td>16</td>\n",
       "      <td>24</td>\n",
       "    </tr>\n",
       "    <tr>\n",
       "      <th>III</th>\n",
       "      <td>9</td>\n",
       "      <td>15</td>\n",
       "      <td>24</td>\n",
       "      <td>36</td>\n",
       "    </tr>\n",
       "    <tr>\n",
       "      <th>IV</th>\n",
       "      <td>12</td>\n",
       "      <td>20</td>\n",
       "      <td>32</td>\n",
       "      <td>48</td>\n",
       "    </tr>\n",
       "    <tr>\n",
       "      <th>V</th>\n",
       "      <td>15</td>\n",
       "      <td>25</td>\n",
       "      <td>40</td>\n",
       "      <td>60</td>\n",
       "    </tr>\n",
       "    <tr>\n",
       "      <th>VI</th>\n",
       "      <td>18</td>\n",
       "      <td>30</td>\n",
       "      <td>48</td>\n",
       "      <td>72</td>\n",
       "    </tr>\n",
       "  </tbody>\n",
       "</table>\n",
       "</div>"
      ],
      "text/plain": [
       "     a3  b5  c8  d12\n",
       "I     3   5   8   12\n",
       "II    6  10  16   24\n",
       "III   9  15  24   36\n",
       "IV   12  20  32   48\n",
       "V    15  25  40   60\n",
       "VI   18  30  48   72"
      ]
     },
     "execution_count": 193,
     "metadata": {},
     "output_type": "execute_result"
    }
   ],
   "source": [
    "df6\n",
    "# better ways to extract row(s) or column(s) or a combo using .iloc[ , ] or .loc[ , ]\n",
    "#help(pd.DataFrame.iloc)\n",
    "#help(pd.DataFrame.loc)"
   ]
  },
  {
   "cell_type": "code",
   "execution_count": 194,
   "metadata": {
    "scrolled": true
   },
   "outputs": [],
   "source": [
    "#df6 \n",
    "#-----------------effectively is \n",
    "#df6.iloc[:, :] \n",
    "#-----------------or \n",
    "#df6.loc[:, :]"
   ]
  },
  {
   "cell_type": "code",
   "execution_count": 195,
   "metadata": {},
   "outputs": [
    {
     "data": {
      "text/html": [
       "<div>\n",
       "<style scoped>\n",
       "    .dataframe tbody tr th:only-of-type {\n",
       "        vertical-align: middle;\n",
       "    }\n",
       "\n",
       "    .dataframe tbody tr th {\n",
       "        vertical-align: top;\n",
       "    }\n",
       "\n",
       "    .dataframe thead th {\n",
       "        text-align: right;\n",
       "    }\n",
       "</style>\n",
       "<table border=\"1\" class=\"dataframe\">\n",
       "  <thead>\n",
       "    <tr style=\"text-align: right;\">\n",
       "      <th></th>\n",
       "      <th>b5</th>\n",
       "      <th>c8</th>\n",
       "    </tr>\n",
       "  </thead>\n",
       "  <tbody>\n",
       "    <tr>\n",
       "      <th>II</th>\n",
       "      <td>10</td>\n",
       "      <td>16</td>\n",
       "    </tr>\n",
       "    <tr>\n",
       "      <th>III</th>\n",
       "      <td>15</td>\n",
       "      <td>24</td>\n",
       "    </tr>\n",
       "    <tr>\n",
       "      <th>IV</th>\n",
       "      <td>20</td>\n",
       "      <td>32</td>\n",
       "    </tr>\n",
       "    <tr>\n",
       "      <th>V</th>\n",
       "      <td>25</td>\n",
       "      <td>40</td>\n",
       "    </tr>\n",
       "  </tbody>\n",
       "</table>\n",
       "</div>"
      ],
      "text/plain": [
       "     b5  c8\n",
       "II   10  16\n",
       "III  15  24\n",
       "IV   20  32\n",
       "V    25  40"
      ]
     },
     "execution_count": 195,
     "metadata": {},
     "output_type": "execute_result"
    }
   ],
   "source": [
    "df6.iloc[1:5, 1:3]             # end position EX-clusive!"
   ]
  },
  {
   "cell_type": "code",
   "execution_count": 196,
   "metadata": {},
   "outputs": [
    {
     "data": {
      "text/html": [
       "<div>\n",
       "<style scoped>\n",
       "    .dataframe tbody tr th:only-of-type {\n",
       "        vertical-align: middle;\n",
       "    }\n",
       "\n",
       "    .dataframe tbody tr th {\n",
       "        vertical-align: top;\n",
       "    }\n",
       "\n",
       "    .dataframe thead th {\n",
       "        text-align: right;\n",
       "    }\n",
       "</style>\n",
       "<table border=\"1\" class=\"dataframe\">\n",
       "  <thead>\n",
       "    <tr style=\"text-align: right;\">\n",
       "      <th></th>\n",
       "      <th>b5</th>\n",
       "      <th>c8</th>\n",
       "    </tr>\n",
       "  </thead>\n",
       "  <tbody>\n",
       "    <tr>\n",
       "      <th>II</th>\n",
       "      <td>10</td>\n",
       "      <td>16</td>\n",
       "    </tr>\n",
       "    <tr>\n",
       "      <th>III</th>\n",
       "      <td>15</td>\n",
       "      <td>24</td>\n",
       "    </tr>\n",
       "    <tr>\n",
       "      <th>IV</th>\n",
       "      <td>20</td>\n",
       "      <td>32</td>\n",
       "    </tr>\n",
       "    <tr>\n",
       "      <th>V</th>\n",
       "      <td>25</td>\n",
       "      <td>40</td>\n",
       "    </tr>\n",
       "  </tbody>\n",
       "</table>\n",
       "</div>"
      ],
      "text/plain": [
       "     b5  c8\n",
       "II   10  16\n",
       "III  15  24\n",
       "IV   20  32\n",
       "V    25  40"
      ]
     },
     "execution_count": 196,
     "metadata": {},
     "output_type": "execute_result"
    }
   ],
   "source": [
    "df6.loc['II':'V', 'b5':'c8']    # end position IN-clusive!"
   ]
  },
  {
   "cell_type": "code",
   "execution_count": 197,
   "metadata": {},
   "outputs": [
    {
     "data": {
      "text/html": [
       "<div>\n",
       "<style scoped>\n",
       "    .dataframe tbody tr th:only-of-type {\n",
       "        vertical-align: middle;\n",
       "    }\n",
       "\n",
       "    .dataframe tbody tr th {\n",
       "        vertical-align: top;\n",
       "    }\n",
       "\n",
       "    .dataframe thead th {\n",
       "        text-align: right;\n",
       "    }\n",
       "</style>\n",
       "<table border=\"1\" class=\"dataframe\">\n",
       "  <thead>\n",
       "    <tr style=\"text-align: right;\">\n",
       "      <th></th>\n",
       "      <th>a3</th>\n",
       "      <th>b5</th>\n",
       "      <th>c8</th>\n",
       "      <th>d12</th>\n",
       "    </tr>\n",
       "  </thead>\n",
       "  <tbody>\n",
       "    <tr>\n",
       "      <th>II</th>\n",
       "      <td>6</td>\n",
       "      <td>10</td>\n",
       "      <td>16</td>\n",
       "      <td>24</td>\n",
       "    </tr>\n",
       "  </tbody>\n",
       "</table>\n",
       "</div>"
      ],
      "text/plain": [
       "    a3  b5  c8  d12\n",
       "II   6  10  16   24"
      ]
     },
     "execution_count": 197,
     "metadata": {},
     "output_type": "execute_result"
    }
   ],
   "source": [
    "df6.iloc[[1], :]      # need a list to return a DataFrame! \n",
    "                      # same as.... df6.take([1])    "
   ]
  },
  {
   "cell_type": "code",
   "execution_count": 198,
   "metadata": {},
   "outputs": [
    {
     "data": {
      "text/plain": [
       "a3      6\n",
       "b5     10\n",
       "c8     16\n",
       "d12    24\n",
       "Name: II, dtype: int64"
      ]
     },
     "execution_count": 198,
     "metadata": {},
     "output_type": "execute_result"
    }
   ],
   "source": [
    "df6.iloc[1, :]        # otherwise.....a Series"
   ]
  },
  {
   "cell_type": "code",
   "execution_count": 199,
   "metadata": {},
   "outputs": [
    {
     "data": {
      "text/html": [
       "<div>\n",
       "<style scoped>\n",
       "    .dataframe tbody tr th:only-of-type {\n",
       "        vertical-align: middle;\n",
       "    }\n",
       "\n",
       "    .dataframe tbody tr th {\n",
       "        vertical-align: top;\n",
       "    }\n",
       "\n",
       "    .dataframe thead th {\n",
       "        text-align: right;\n",
       "    }\n",
       "</style>\n",
       "<table border=\"1\" class=\"dataframe\">\n",
       "  <thead>\n",
       "    <tr style=\"text-align: right;\">\n",
       "      <th></th>\n",
       "      <th>b5</th>\n",
       "    </tr>\n",
       "  </thead>\n",
       "  <tbody>\n",
       "    <tr>\n",
       "      <th>I</th>\n",
       "      <td>5</td>\n",
       "    </tr>\n",
       "    <tr>\n",
       "      <th>II</th>\n",
       "      <td>10</td>\n",
       "    </tr>\n",
       "    <tr>\n",
       "      <th>III</th>\n",
       "      <td>15</td>\n",
       "    </tr>\n",
       "    <tr>\n",
       "      <th>IV</th>\n",
       "      <td>20</td>\n",
       "    </tr>\n",
       "    <tr>\n",
       "      <th>V</th>\n",
       "      <td>25</td>\n",
       "    </tr>\n",
       "    <tr>\n",
       "      <th>VI</th>\n",
       "      <td>30</td>\n",
       "    </tr>\n",
       "  </tbody>\n",
       "</table>\n",
       "</div>"
      ],
      "text/plain": [
       "     b5\n",
       "I     5\n",
       "II   10\n",
       "III  15\n",
       "IV   20\n",
       "V    25\n",
       "VI   30"
      ]
     },
     "execution_count": 199,
     "metadata": {},
     "output_type": "execute_result"
    }
   ],
   "source": [
    "df6.loc[:, ['b5']]    # again, need a list to return a DataFrame\n",
    "                      # even a dummy list for a single column!\n",
    "                      # same as.... df6.take([1], axis=1) \n",
    "                      # .....or.... df6[['b5']]"
   ]
  },
  {
   "cell_type": "code",
   "execution_count": 200,
   "metadata": {},
   "outputs": [
    {
     "name": "stdout",
     "output_type": "stream",
     "text": [
      "15\n",
      "------------\n",
      "15\n",
      "------------\n",
      "15\n"
     ]
    }
   ],
   "source": [
    "print(df6.iloc[2, 1])\n",
    "print('------------')\n",
    "print(df6.loc['III', 'b5'])\n",
    "print('------------')   # both same as below although reversed r/c order\n",
    "print(df6['b5']['III'])"
   ]
  },
  {
   "cell_type": "code",
   "execution_count": 201,
   "metadata": {},
   "outputs": [
    {
     "data": {
      "text/html": [
       "<div>\n",
       "<style scoped>\n",
       "    .dataframe tbody tr th:only-of-type {\n",
       "        vertical-align: middle;\n",
       "    }\n",
       "\n",
       "    .dataframe tbody tr th {\n",
       "        vertical-align: top;\n",
       "    }\n",
       "\n",
       "    .dataframe thead th {\n",
       "        text-align: right;\n",
       "    }\n",
       "</style>\n",
       "<table border=\"1\" class=\"dataframe\">\n",
       "  <thead>\n",
       "    <tr style=\"text-align: right;\">\n",
       "      <th></th>\n",
       "      <th>a3</th>\n",
       "      <th>b5</th>\n",
       "      <th>c8</th>\n",
       "      <th>d12</th>\n",
       "    </tr>\n",
       "  </thead>\n",
       "  <tbody>\n",
       "    <tr>\n",
       "      <th>I</th>\n",
       "      <td>NaN</td>\n",
       "      <td>NaN</td>\n",
       "      <td>NaN</td>\n",
       "      <td>NaN</td>\n",
       "    </tr>\n",
       "    <tr>\n",
       "      <th>II</th>\n",
       "      <td>NaN</td>\n",
       "      <td>NaN</td>\n",
       "      <td>NaN</td>\n",
       "      <td>NaN</td>\n",
       "    </tr>\n",
       "    <tr>\n",
       "      <th>III</th>\n",
       "      <td>NaN</td>\n",
       "      <td>NaN</td>\n",
       "      <td>NaN</td>\n",
       "      <td>36.0</td>\n",
       "    </tr>\n",
       "    <tr>\n",
       "      <th>IV</th>\n",
       "      <td>NaN</td>\n",
       "      <td>NaN</td>\n",
       "      <td>32.0</td>\n",
       "      <td>48.0</td>\n",
       "    </tr>\n",
       "    <tr>\n",
       "      <th>V</th>\n",
       "      <td>NaN</td>\n",
       "      <td>NaN</td>\n",
       "      <td>40.0</td>\n",
       "      <td>60.0</td>\n",
       "    </tr>\n",
       "    <tr>\n",
       "      <th>VI</th>\n",
       "      <td>NaN</td>\n",
       "      <td>NaN</td>\n",
       "      <td>48.0</td>\n",
       "      <td>72.0</td>\n",
       "    </tr>\n",
       "  </tbody>\n",
       "</table>\n",
       "</div>"
      ],
      "text/plain": [
       "     a3  b5    c8   d12\n",
       "I   NaN NaN   NaN   NaN\n",
       "II  NaN NaN   NaN   NaN\n",
       "III NaN NaN   NaN  36.0\n",
       "IV  NaN NaN  32.0  48.0\n",
       "V   NaN NaN  40.0  60.0\n",
       "VI  NaN NaN  48.0  72.0"
      ]
     },
     "execution_count": 201,
     "metadata": {},
     "output_type": "execute_result"
    }
   ],
   "source": [
    "df6[df6 > 30]"
   ]
  },
  {
   "cell_type": "code",
   "execution_count": 202,
   "metadata": {},
   "outputs": [
    {
     "data": {
      "text/html": [
       "<div>\n",
       "<style scoped>\n",
       "    .dataframe tbody tr th:only-of-type {\n",
       "        vertical-align: middle;\n",
       "    }\n",
       "\n",
       "    .dataframe tbody tr th {\n",
       "        vertical-align: top;\n",
       "    }\n",
       "\n",
       "    .dataframe thead th {\n",
       "        text-align: right;\n",
       "    }\n",
       "</style>\n",
       "<table border=\"1\" class=\"dataframe\">\n",
       "  <thead>\n",
       "    <tr style=\"text-align: right;\">\n",
       "      <th></th>\n",
       "      <th>a3</th>\n",
       "      <th>b5</th>\n",
       "      <th>c8</th>\n",
       "      <th>d12</th>\n",
       "    </tr>\n",
       "  </thead>\n",
       "  <tbody>\n",
       "    <tr>\n",
       "      <th>I</th>\n",
       "      <td>False</td>\n",
       "      <td>False</td>\n",
       "      <td>False</td>\n",
       "      <td>False</td>\n",
       "    </tr>\n",
       "    <tr>\n",
       "      <th>II</th>\n",
       "      <td>False</td>\n",
       "      <td>False</td>\n",
       "      <td>False</td>\n",
       "      <td>False</td>\n",
       "    </tr>\n",
       "    <tr>\n",
       "      <th>III</th>\n",
       "      <td>False</td>\n",
       "      <td>False</td>\n",
       "      <td>False</td>\n",
       "      <td>True</td>\n",
       "    </tr>\n",
       "    <tr>\n",
       "      <th>IV</th>\n",
       "      <td>False</td>\n",
       "      <td>False</td>\n",
       "      <td>True</td>\n",
       "      <td>True</td>\n",
       "    </tr>\n",
       "    <tr>\n",
       "      <th>V</th>\n",
       "      <td>False</td>\n",
       "      <td>False</td>\n",
       "      <td>True</td>\n",
       "      <td>True</td>\n",
       "    </tr>\n",
       "    <tr>\n",
       "      <th>VI</th>\n",
       "      <td>False</td>\n",
       "      <td>False</td>\n",
       "      <td>True</td>\n",
       "      <td>True</td>\n",
       "    </tr>\n",
       "  </tbody>\n",
       "</table>\n",
       "</div>"
      ],
      "text/plain": [
       "        a3     b5     c8    d12\n",
       "I    False  False  False  False\n",
       "II   False  False  False  False\n",
       "III  False  False  False   True\n",
       "IV   False  False   True   True\n",
       "V    False  False   True   True\n",
       "VI   False  False   True   True"
      ]
     },
     "execution_count": 202,
     "metadata": {},
     "output_type": "execute_result"
    }
   ],
   "source": [
    "df6 > 30"
   ]
  },
  {
   "cell_type": "code",
   "execution_count": 203,
   "metadata": {},
   "outputs": [
    {
     "data": {
      "text/html": [
       "<div>\n",
       "<style scoped>\n",
       "    .dataframe tbody tr th:only-of-type {\n",
       "        vertical-align: middle;\n",
       "    }\n",
       "\n",
       "    .dataframe tbody tr th {\n",
       "        vertical-align: top;\n",
       "    }\n",
       "\n",
       "    .dataframe thead th {\n",
       "        text-align: right;\n",
       "    }\n",
       "</style>\n",
       "<table border=\"1\" class=\"dataframe\">\n",
       "  <thead>\n",
       "    <tr style=\"text-align: right;\">\n",
       "      <th></th>\n",
       "      <th>a3</th>\n",
       "      <th>b5</th>\n",
       "      <th>c8</th>\n",
       "      <th>d12</th>\n",
       "    </tr>\n",
       "  </thead>\n",
       "  <tbody>\n",
       "    <tr>\n",
       "      <th>III</th>\n",
       "      <td>9</td>\n",
       "      <td>15</td>\n",
       "      <td>24</td>\n",
       "      <td>36</td>\n",
       "    </tr>\n",
       "    <tr>\n",
       "      <th>IV</th>\n",
       "      <td>12</td>\n",
       "      <td>20</td>\n",
       "      <td>32</td>\n",
       "      <td>48</td>\n",
       "    </tr>\n",
       "    <tr>\n",
       "      <th>IV</th>\n",
       "      <td>12</td>\n",
       "      <td>20</td>\n",
       "      <td>32</td>\n",
       "      <td>48</td>\n",
       "    </tr>\n",
       "    <tr>\n",
       "      <th>V</th>\n",
       "      <td>15</td>\n",
       "      <td>25</td>\n",
       "      <td>40</td>\n",
       "      <td>60</td>\n",
       "    </tr>\n",
       "    <tr>\n",
       "      <th>V</th>\n",
       "      <td>15</td>\n",
       "      <td>25</td>\n",
       "      <td>40</td>\n",
       "      <td>60</td>\n",
       "    </tr>\n",
       "    <tr>\n",
       "      <th>VI</th>\n",
       "      <td>18</td>\n",
       "      <td>30</td>\n",
       "      <td>48</td>\n",
       "      <td>72</td>\n",
       "    </tr>\n",
       "    <tr>\n",
       "      <th>VI</th>\n",
       "      <td>18</td>\n",
       "      <td>30</td>\n",
       "      <td>48</td>\n",
       "      <td>72</td>\n",
       "    </tr>\n",
       "  </tbody>\n",
       "</table>\n",
       "</div>"
      ],
      "text/plain": [
       "     a3  b5  c8  d12\n",
       "III   9  15  24   36\n",
       "IV   12  20  32   48\n",
       "IV   12  20  32   48\n",
       "V    15  25  40   60\n",
       "V    15  25  40   60\n",
       "VI   18  30  48   72\n",
       "VI   18  30  48   72"
      ]
     },
     "execution_count": 203,
     "metadata": {},
     "output_type": "execute_result"
    }
   ],
   "source": [
    "df6[df6.values > 30]      # .values is okay to mask Series but NOT for DataFrames!"
   ]
  },
  {
   "cell_type": "code",
   "execution_count": 204,
   "metadata": {},
   "outputs": [
    {
     "data": {
      "text/plain": [
       "array([[False, False, False, False],\n",
       "       [False, False, False, False],\n",
       "       [False, False, False,  True],\n",
       "       [False, False,  True,  True],\n",
       "       [False, False,  True,  True],\n",
       "       [False, False,  True,  True]])"
      ]
     },
     "execution_count": 204,
     "metadata": {},
     "output_type": "execute_result"
    }
   ],
   "source": [
    "df6.values > 30           # array of 7 x True's and hence 7 rows... "
   ]
  },
  {
   "cell_type": "code",
   "execution_count": 205,
   "metadata": {},
   "outputs": [
    {
     "data": {
      "text/html": [
       "<div>\n",
       "<style scoped>\n",
       "    .dataframe tbody tr th:only-of-type {\n",
       "        vertical-align: middle;\n",
       "    }\n",
       "\n",
       "    .dataframe tbody tr th {\n",
       "        vertical-align: top;\n",
       "    }\n",
       "\n",
       "    .dataframe thead th {\n",
       "        text-align: right;\n",
       "    }\n",
       "</style>\n",
       "<table border=\"1\" class=\"dataframe\">\n",
       "  <thead>\n",
       "    <tr style=\"text-align: right;\">\n",
       "      <th></th>\n",
       "      <th>a3</th>\n",
       "      <th>b5</th>\n",
       "      <th>c8</th>\n",
       "      <th>d12</th>\n",
       "    </tr>\n",
       "  </thead>\n",
       "  <tbody>\n",
       "    <tr>\n",
       "      <th>I</th>\n",
       "      <td>3</td>\n",
       "      <td>5</td>\n",
       "      <td>8</td>\n",
       "      <td>12</td>\n",
       "    </tr>\n",
       "    <tr>\n",
       "      <th>II</th>\n",
       "      <td>6</td>\n",
       "      <td>10</td>\n",
       "      <td>16</td>\n",
       "      <td>24</td>\n",
       "    </tr>\n",
       "    <tr>\n",
       "      <th>III</th>\n",
       "      <td>9</td>\n",
       "      <td>15</td>\n",
       "      <td>24</td>\n",
       "      <td>36</td>\n",
       "    </tr>\n",
       "    <tr>\n",
       "      <th>IV</th>\n",
       "      <td>12</td>\n",
       "      <td>20</td>\n",
       "      <td>32</td>\n",
       "      <td>48</td>\n",
       "    </tr>\n",
       "    <tr>\n",
       "      <th>V</th>\n",
       "      <td>15</td>\n",
       "      <td>25</td>\n",
       "      <td>40</td>\n",
       "      <td>60</td>\n",
       "    </tr>\n",
       "    <tr>\n",
       "      <th>VI</th>\n",
       "      <td>18</td>\n",
       "      <td>30</td>\n",
       "      <td>48</td>\n",
       "      <td>72</td>\n",
       "    </tr>\n",
       "  </tbody>\n",
       "</table>\n",
       "</div>"
      ],
      "text/plain": [
       "     a3  b5  c8  d12\n",
       "I     3   5   8   12\n",
       "II    6  10  16   24\n",
       "III   9  15  24   36\n",
       "IV   12  20  32   48\n",
       "V    15  25  40   60\n",
       "VI   18  30  48   72"
      ]
     },
     "execution_count": 205,
     "metadata": {},
     "output_type": "execute_result"
    }
   ],
   "source": [
    "df6"
   ]
  },
  {
   "cell_type": "code",
   "execution_count": 206,
   "metadata": {},
   "outputs": [
    {
     "data": {
      "text/html": [
       "<div>\n",
       "<style scoped>\n",
       "    .dataframe tbody tr th:only-of-type {\n",
       "        vertical-align: middle;\n",
       "    }\n",
       "\n",
       "    .dataframe tbody tr th {\n",
       "        vertical-align: top;\n",
       "    }\n",
       "\n",
       "    .dataframe thead th {\n",
       "        text-align: right;\n",
       "    }\n",
       "</style>\n",
       "<table border=\"1\" class=\"dataframe\">\n",
       "  <thead>\n",
       "    <tr style=\"text-align: right;\">\n",
       "      <th></th>\n",
       "      <th>a3</th>\n",
       "      <th>b5</th>\n",
       "      <th>c8</th>\n",
       "      <th>d12</th>\n",
       "    </tr>\n",
       "  </thead>\n",
       "  <tbody>\n",
       "    <tr>\n",
       "      <th>I</th>\n",
       "      <td>NaN</td>\n",
       "      <td>NaN</td>\n",
       "      <td>NaN</td>\n",
       "      <td>NaN</td>\n",
       "    </tr>\n",
       "    <tr>\n",
       "      <th>II</th>\n",
       "      <td>NaN</td>\n",
       "      <td>NaN</td>\n",
       "      <td>NaN</td>\n",
       "      <td>NaN</td>\n",
       "    </tr>\n",
       "    <tr>\n",
       "      <th>III</th>\n",
       "      <td>NaN</td>\n",
       "      <td>NaN</td>\n",
       "      <td>NaN</td>\n",
       "      <td>36.0</td>\n",
       "    </tr>\n",
       "    <tr>\n",
       "      <th>IV</th>\n",
       "      <td>NaN</td>\n",
       "      <td>NaN</td>\n",
       "      <td>32.0</td>\n",
       "      <td>48.0</td>\n",
       "    </tr>\n",
       "    <tr>\n",
       "      <th>V</th>\n",
       "      <td>NaN</td>\n",
       "      <td>NaN</td>\n",
       "      <td>40.0</td>\n",
       "      <td>60.0</td>\n",
       "    </tr>\n",
       "    <tr>\n",
       "      <th>VI</th>\n",
       "      <td>NaN</td>\n",
       "      <td>30.0</td>\n",
       "      <td>48.0</td>\n",
       "      <td>72.0</td>\n",
       "    </tr>\n",
       "  </tbody>\n",
       "</table>\n",
       "</div>"
      ],
      "text/plain": [
       "     a3    b5    c8   d12\n",
       "I   NaN   NaN   NaN   NaN\n",
       "II  NaN   NaN   NaN   NaN\n",
       "III NaN   NaN   NaN  36.0\n",
       "IV  NaN   NaN  32.0  48.0\n",
       "V   NaN   NaN  40.0  60.0\n",
       "VI  NaN  30.0  48.0  72.0"
      ]
     },
     "execution_count": 206,
     "metadata": {},
     "output_type": "execute_result"
    }
   ],
   "source": [
    "df7 = df6[df6 >= 30]     # all False's turn into NaN - not filtered!\n",
    "df7"
   ]
  },
  {
   "cell_type": "code",
   "execution_count": 207,
   "metadata": {},
   "outputs": [
    {
     "data": {
      "text/html": [
       "<div>\n",
       "<style scoped>\n",
       "    .dataframe tbody tr th:only-of-type {\n",
       "        vertical-align: middle;\n",
       "    }\n",
       "\n",
       "    .dataframe tbody tr th {\n",
       "        vertical-align: top;\n",
       "    }\n",
       "\n",
       "    .dataframe thead th {\n",
       "        text-align: right;\n",
       "    }\n",
       "</style>\n",
       "<table border=\"1\" class=\"dataframe\">\n",
       "  <thead>\n",
       "    <tr style=\"text-align: right;\">\n",
       "      <th></th>\n",
       "      <th>a3</th>\n",
       "      <th>b5</th>\n",
       "      <th>c8</th>\n",
       "      <th>d12</th>\n",
       "    </tr>\n",
       "  </thead>\n",
       "  <tbody>\n",
       "    <tr>\n",
       "      <th>III</th>\n",
       "      <td>NaN</td>\n",
       "      <td>NaN</td>\n",
       "      <td>NaN</td>\n",
       "      <td>36.0</td>\n",
       "    </tr>\n",
       "    <tr>\n",
       "      <th>IV</th>\n",
       "      <td>NaN</td>\n",
       "      <td>NaN</td>\n",
       "      <td>32.0</td>\n",
       "      <td>48.0</td>\n",
       "    </tr>\n",
       "    <tr>\n",
       "      <th>V</th>\n",
       "      <td>NaN</td>\n",
       "      <td>NaN</td>\n",
       "      <td>40.0</td>\n",
       "      <td>60.0</td>\n",
       "    </tr>\n",
       "    <tr>\n",
       "      <th>VI</th>\n",
       "      <td>NaN</td>\n",
       "      <td>30.0</td>\n",
       "      <td>48.0</td>\n",
       "      <td>72.0</td>\n",
       "    </tr>\n",
       "  </tbody>\n",
       "</table>\n",
       "</div>"
      ],
      "text/plain": [
       "     a3    b5    c8   d12\n",
       "III NaN   NaN   NaN  36.0\n",
       "IV  NaN   NaN  32.0  48.0\n",
       "V   NaN   NaN  40.0  60.0\n",
       "VI  NaN  30.0  48.0  72.0"
      ]
     },
     "execution_count": 207,
     "metadata": {},
     "output_type": "execute_result"
    }
   ],
   "source": [
    "df7.dropna(how='all', axis=0)\n",
    "#help(pd.DataFrame.dropna)"
   ]
  },
  {
   "cell_type": "code",
   "execution_count": 208,
   "metadata": {},
   "outputs": [
    {
     "data": {
      "text/html": [
       "<div>\n",
       "<style scoped>\n",
       "    .dataframe tbody tr th:only-of-type {\n",
       "        vertical-align: middle;\n",
       "    }\n",
       "\n",
       "    .dataframe tbody tr th {\n",
       "        vertical-align: top;\n",
       "    }\n",
       "\n",
       "    .dataframe thead th {\n",
       "        text-align: right;\n",
       "    }\n",
       "</style>\n",
       "<table border=\"1\" class=\"dataframe\">\n",
       "  <thead>\n",
       "    <tr style=\"text-align: right;\">\n",
       "      <th></th>\n",
       "      <th>b5</th>\n",
       "      <th>c8</th>\n",
       "      <th>d12</th>\n",
       "    </tr>\n",
       "  </thead>\n",
       "  <tbody>\n",
       "    <tr>\n",
       "      <th>I</th>\n",
       "      <td>NaN</td>\n",
       "      <td>NaN</td>\n",
       "      <td>NaN</td>\n",
       "    </tr>\n",
       "    <tr>\n",
       "      <th>II</th>\n",
       "      <td>NaN</td>\n",
       "      <td>NaN</td>\n",
       "      <td>NaN</td>\n",
       "    </tr>\n",
       "    <tr>\n",
       "      <th>III</th>\n",
       "      <td>NaN</td>\n",
       "      <td>NaN</td>\n",
       "      <td>36.0</td>\n",
       "    </tr>\n",
       "    <tr>\n",
       "      <th>IV</th>\n",
       "      <td>NaN</td>\n",
       "      <td>32.0</td>\n",
       "      <td>48.0</td>\n",
       "    </tr>\n",
       "    <tr>\n",
       "      <th>V</th>\n",
       "      <td>NaN</td>\n",
       "      <td>40.0</td>\n",
       "      <td>60.0</td>\n",
       "    </tr>\n",
       "    <tr>\n",
       "      <th>VI</th>\n",
       "      <td>30.0</td>\n",
       "      <td>48.0</td>\n",
       "      <td>72.0</td>\n",
       "    </tr>\n",
       "  </tbody>\n",
       "</table>\n",
       "</div>"
      ],
      "text/plain": [
       "       b5    c8   d12\n",
       "I     NaN   NaN   NaN\n",
       "II    NaN   NaN   NaN\n",
       "III   NaN   NaN  36.0\n",
       "IV    NaN  32.0  48.0\n",
       "V     NaN  40.0  60.0\n",
       "VI   30.0  48.0  72.0"
      ]
     },
     "execution_count": 208,
     "metadata": {},
     "output_type": "execute_result"
    }
   ],
   "source": [
    "df7.dropna(how='all', axis=1)"
   ]
  },
  {
   "cell_type": "code",
   "execution_count": 209,
   "metadata": {
    "scrolled": true
   },
   "outputs": [
    {
     "data": {
      "text/html": [
       "<div>\n",
       "<style scoped>\n",
       "    .dataframe tbody tr th:only-of-type {\n",
       "        vertical-align: middle;\n",
       "    }\n",
       "\n",
       "    .dataframe tbody tr th {\n",
       "        vertical-align: top;\n",
       "    }\n",
       "\n",
       "    .dataframe thead th {\n",
       "        text-align: right;\n",
       "    }\n",
       "</style>\n",
       "<table border=\"1\" class=\"dataframe\">\n",
       "  <thead>\n",
       "    <tr style=\"text-align: right;\">\n",
       "      <th></th>\n",
       "      <th>b5</th>\n",
       "      <th>c8</th>\n",
       "      <th>d12</th>\n",
       "    </tr>\n",
       "  </thead>\n",
       "  <tbody>\n",
       "    <tr>\n",
       "      <th>III</th>\n",
       "      <td>NaN</td>\n",
       "      <td>NaN</td>\n",
       "      <td>36.0</td>\n",
       "    </tr>\n",
       "    <tr>\n",
       "      <th>IV</th>\n",
       "      <td>NaN</td>\n",
       "      <td>32.0</td>\n",
       "      <td>48.0</td>\n",
       "    </tr>\n",
       "    <tr>\n",
       "      <th>V</th>\n",
       "      <td>NaN</td>\n",
       "      <td>40.0</td>\n",
       "      <td>60.0</td>\n",
       "    </tr>\n",
       "    <tr>\n",
       "      <th>VI</th>\n",
       "      <td>30.0</td>\n",
       "      <td>48.0</td>\n",
       "      <td>72.0</td>\n",
       "    </tr>\n",
       "  </tbody>\n",
       "</table>\n",
       "</div>"
      ],
      "text/plain": [
       "       b5    c8   d12\n",
       "III   NaN   NaN  36.0\n",
       "IV    NaN  32.0  48.0\n",
       "V     NaN  40.0  60.0\n",
       "VI   30.0  48.0  72.0"
      ]
     },
     "execution_count": 209,
     "metadata": {},
     "output_type": "execute_result"
    }
   ],
   "source": [
    "df8 = df7.dropna(how='all', axis=0).dropna(how='all', axis=1)\n",
    "df8\n",
    "# can't use a tuple for axis..."
   ]
  },
  {
   "cell_type": "code",
   "execution_count": 210,
   "metadata": {},
   "outputs": [
    {
     "data": {
      "text/html": [
       "<div>\n",
       "<style scoped>\n",
       "    .dataframe tbody tr th:only-of-type {\n",
       "        vertical-align: middle;\n",
       "    }\n",
       "\n",
       "    .dataframe tbody tr th {\n",
       "        vertical-align: top;\n",
       "    }\n",
       "\n",
       "    .dataframe thead th {\n",
       "        text-align: right;\n",
       "    }\n",
       "</style>\n",
       "<table border=\"1\" class=\"dataframe\">\n",
       "  <thead>\n",
       "    <tr style=\"text-align: right;\">\n",
       "      <th></th>\n",
       "      <th>b5</th>\n",
       "      <th>c8</th>\n",
       "      <th>d12</th>\n",
       "    </tr>\n",
       "  </thead>\n",
       "  <tbody>\n",
       "    <tr>\n",
       "      <th>III</th>\n",
       "      <td>False</td>\n",
       "      <td>False</td>\n",
       "      <td>True</td>\n",
       "    </tr>\n",
       "    <tr>\n",
       "      <th>IV</th>\n",
       "      <td>False</td>\n",
       "      <td>True</td>\n",
       "      <td>True</td>\n",
       "    </tr>\n",
       "    <tr>\n",
       "      <th>V</th>\n",
       "      <td>False</td>\n",
       "      <td>True</td>\n",
       "      <td>True</td>\n",
       "    </tr>\n",
       "    <tr>\n",
       "      <th>VI</th>\n",
       "      <td>True</td>\n",
       "      <td>True</td>\n",
       "      <td>True</td>\n",
       "    </tr>\n",
       "  </tbody>\n",
       "</table>\n",
       "</div>"
      ],
      "text/plain": [
       "        b5     c8   d12\n",
       "III  False  False  True\n",
       "IV   False   True  True\n",
       "V    False   True  True\n",
       "VI    True   True  True"
      ]
     },
     "execution_count": 210,
     "metadata": {},
     "output_type": "execute_result"
    }
   ],
   "source": [
    "df8.notna()"
   ]
  },
  {
   "cell_type": "code",
   "execution_count": 211,
   "metadata": {
    "scrolled": true
   },
   "outputs": [
    {
     "data": {
      "text/html": [
       "<div>\n",
       "<style scoped>\n",
       "    .dataframe tbody tr th:only-of-type {\n",
       "        vertical-align: middle;\n",
       "    }\n",
       "\n",
       "    .dataframe tbody tr th {\n",
       "        vertical-align: top;\n",
       "    }\n",
       "\n",
       "    .dataframe thead th {\n",
       "        text-align: right;\n",
       "    }\n",
       "</style>\n",
       "<table border=\"1\" class=\"dataframe\">\n",
       "  <thead>\n",
       "    <tr style=\"text-align: right;\">\n",
       "      <th></th>\n",
       "      <th>b5</th>\n",
       "      <th>c8</th>\n",
       "      <th>d12</th>\n",
       "    </tr>\n",
       "  </thead>\n",
       "  <tbody>\n",
       "    <tr>\n",
       "      <th>III</th>\n",
       "      <td>no value</td>\n",
       "      <td>no value</td>\n",
       "      <td>36.0</td>\n",
       "    </tr>\n",
       "    <tr>\n",
       "      <th>IV</th>\n",
       "      <td>no value</td>\n",
       "      <td>32</td>\n",
       "      <td>48.0</td>\n",
       "    </tr>\n",
       "    <tr>\n",
       "      <th>V</th>\n",
       "      <td>no value</td>\n",
       "      <td>40</td>\n",
       "      <td>60.0</td>\n",
       "    </tr>\n",
       "    <tr>\n",
       "      <th>VI</th>\n",
       "      <td>30</td>\n",
       "      <td>48</td>\n",
       "      <td>72.0</td>\n",
       "    </tr>\n",
       "  </tbody>\n",
       "</table>\n",
       "</div>"
      ],
      "text/plain": [
       "           b5        c8   d12\n",
       "III  no value  no value  36.0\n",
       "IV   no value        32  48.0\n",
       "V    no value        40  60.0\n",
       "VI         30        48  72.0"
      ]
     },
     "execution_count": 211,
     "metadata": {},
     "output_type": "execute_result"
    }
   ],
   "source": [
    "df8.fillna('no value')"
   ]
  },
  {
   "cell_type": "code",
   "execution_count": 212,
   "metadata": {},
   "outputs": [
    {
     "data": {
      "text/html": [
       "<div>\n",
       "<style scoped>\n",
       "    .dataframe tbody tr th:only-of-type {\n",
       "        vertical-align: middle;\n",
       "    }\n",
       "\n",
       "    .dataframe tbody tr th {\n",
       "        vertical-align: top;\n",
       "    }\n",
       "\n",
       "    .dataframe thead th {\n",
       "        text-align: right;\n",
       "    }\n",
       "</style>\n",
       "<table border=\"1\" class=\"dataframe\">\n",
       "  <thead>\n",
       "    <tr style=\"text-align: right;\">\n",
       "      <th></th>\n",
       "      <th>b5</th>\n",
       "      <th>c8</th>\n",
       "      <th>d12</th>\n",
       "    </tr>\n",
       "  </thead>\n",
       "  <tbody>\n",
       "    <tr>\n",
       "      <th>III</th>\n",
       "      <td>False</td>\n",
       "      <td>False</td>\n",
       "      <td>False</td>\n",
       "    </tr>\n",
       "    <tr>\n",
       "      <th>IV</th>\n",
       "      <td>False</td>\n",
       "      <td>False</td>\n",
       "      <td>False</td>\n",
       "    </tr>\n",
       "    <tr>\n",
       "      <th>V</th>\n",
       "      <td>False</td>\n",
       "      <td>False</td>\n",
       "      <td>False</td>\n",
       "    </tr>\n",
       "    <tr>\n",
       "      <th>VI</th>\n",
       "      <td>False</td>\n",
       "      <td>False</td>\n",
       "      <td>False</td>\n",
       "    </tr>\n",
       "  </tbody>\n",
       "</table>\n",
       "</div>"
      ],
      "text/plain": [
       "        b5     c8    d12\n",
       "III  False  False  False\n",
       "IV   False  False  False\n",
       "V    False  False  False\n",
       "VI   False  False  False"
      ]
     },
     "execution_count": 212,
     "metadata": {},
     "output_type": "execute_result"
    }
   ],
   "source": [
    "df8.fillna('no value').isna()"
   ]
  },
  {
   "cell_type": "code",
   "execution_count": 213,
   "metadata": {},
   "outputs": [
    {
     "data": {
      "text/html": [
       "<div>\n",
       "<style scoped>\n",
       "    .dataframe tbody tr th:only-of-type {\n",
       "        vertical-align: middle;\n",
       "    }\n",
       "\n",
       "    .dataframe tbody tr th {\n",
       "        vertical-align: top;\n",
       "    }\n",
       "\n",
       "    .dataframe thead th {\n",
       "        text-align: right;\n",
       "    }\n",
       "</style>\n",
       "<table border=\"1\" class=\"dataframe\">\n",
       "  <thead>\n",
       "    <tr style=\"text-align: right;\">\n",
       "      <th></th>\n",
       "      <th>b5</th>\n",
       "      <th>c8</th>\n",
       "      <th>d12</th>\n",
       "    </tr>\n",
       "  </thead>\n",
       "  <tbody>\n",
       "    <tr>\n",
       "      <th>III</th>\n",
       "      <td>False</td>\n",
       "      <td>False</td>\n",
       "      <td>False</td>\n",
       "    </tr>\n",
       "    <tr>\n",
       "      <th>IV</th>\n",
       "      <td>False</td>\n",
       "      <td>False</td>\n",
       "      <td>False</td>\n",
       "    </tr>\n",
       "    <tr>\n",
       "      <th>V</th>\n",
       "      <td>False</td>\n",
       "      <td>False</td>\n",
       "      <td>False</td>\n",
       "    </tr>\n",
       "    <tr>\n",
       "      <th>VI</th>\n",
       "      <td>False</td>\n",
       "      <td>False</td>\n",
       "      <td>False</td>\n",
       "    </tr>\n",
       "  </tbody>\n",
       "</table>\n",
       "</div>"
      ],
      "text/plain": [
       "        b5     c8    d12\n",
       "III  False  False  False\n",
       "IV   False  False  False\n",
       "V    False  False  False\n",
       "VI   False  False  False"
      ]
     },
     "execution_count": 213,
     "metadata": {},
     "output_type": "execute_result"
    }
   ],
   "source": [
    "df8.fillna('no value').isnull()"
   ]
  },
  {
   "cell_type": "code",
   "execution_count": 214,
   "metadata": {},
   "outputs": [
    {
     "data": {
      "text/plain": [
       "III    36.0\n",
       "IV     48.0\n",
       "V      60.0\n",
       "VI     72.0\n",
       "dtype: float64"
      ]
     },
     "execution_count": 214,
     "metadata": {},
     "output_type": "execute_result"
    }
   ],
   "source": [
    "df8.apply(np.nanmax, axis=1)                   # this doesn't get added into df8!"
   ]
  },
  {
   "cell_type": "code",
   "execution_count": 215,
   "metadata": {},
   "outputs": [
    {
     "data": {
      "text/html": [
       "<div>\n",
       "<style scoped>\n",
       "    .dataframe tbody tr th:only-of-type {\n",
       "        vertical-align: middle;\n",
       "    }\n",
       "\n",
       "    .dataframe tbody tr th {\n",
       "        vertical-align: top;\n",
       "    }\n",
       "\n",
       "    .dataframe thead th {\n",
       "        text-align: right;\n",
       "    }\n",
       "</style>\n",
       "<table border=\"1\" class=\"dataframe\">\n",
       "  <thead>\n",
       "    <tr style=\"text-align: right;\">\n",
       "      <th></th>\n",
       "      <th>b5</th>\n",
       "      <th>c8</th>\n",
       "      <th>d12</th>\n",
       "      <th>_max</th>\n",
       "    </tr>\n",
       "  </thead>\n",
       "  <tbody>\n",
       "    <tr>\n",
       "      <th>III</th>\n",
       "      <td>NaN</td>\n",
       "      <td>NaN</td>\n",
       "      <td>36.0</td>\n",
       "      <td>36.0</td>\n",
       "    </tr>\n",
       "    <tr>\n",
       "      <th>IV</th>\n",
       "      <td>NaN</td>\n",
       "      <td>32.0</td>\n",
       "      <td>48.0</td>\n",
       "      <td>48.0</td>\n",
       "    </tr>\n",
       "    <tr>\n",
       "      <th>V</th>\n",
       "      <td>NaN</td>\n",
       "      <td>40.0</td>\n",
       "      <td>60.0</td>\n",
       "      <td>60.0</td>\n",
       "    </tr>\n",
       "    <tr>\n",
       "      <th>VI</th>\n",
       "      <td>30.0</td>\n",
       "      <td>48.0</td>\n",
       "      <td>72.0</td>\n",
       "      <td>72.0</td>\n",
       "    </tr>\n",
       "  </tbody>\n",
       "</table>\n",
       "</div>"
      ],
      "text/plain": [
       "       b5    c8   d12  _max\n",
       "III   NaN   NaN  36.0  36.0\n",
       "IV    NaN  32.0  48.0  48.0\n",
       "V     NaN  40.0  60.0  60.0\n",
       "VI   30.0  48.0  72.0  72.0"
      ]
     },
     "execution_count": 215,
     "metadata": {},
     "output_type": "execute_result"
    }
   ],
   "source": [
    "df8['_max'] = df8.apply(np.nanmax, axis=1)     # need to use assign to add a column to df8\n",
    "df8\n",
    "#help(pd.DataFrame.apply)"
   ]
  },
  {
   "cell_type": "code",
   "execution_count": 216,
   "metadata": {},
   "outputs": [
    {
     "data": {
      "text/html": [
       "<div>\n",
       "<style scoped>\n",
       "    .dataframe tbody tr th:only-of-type {\n",
       "        vertical-align: middle;\n",
       "    }\n",
       "\n",
       "    .dataframe tbody tr th {\n",
       "        vertical-align: top;\n",
       "    }\n",
       "\n",
       "    .dataframe thead th {\n",
       "        text-align: right;\n",
       "    }\n",
       "</style>\n",
       "<table border=\"1\" class=\"dataframe\">\n",
       "  <thead>\n",
       "    <tr style=\"text-align: right;\">\n",
       "      <th></th>\n",
       "      <th>b5</th>\n",
       "      <th>c8</th>\n",
       "      <th>d12</th>\n",
       "      <th>_max</th>\n",
       "    </tr>\n",
       "  </thead>\n",
       "  <tbody>\n",
       "    <tr>\n",
       "      <th>III</th>\n",
       "      <td>NaN</td>\n",
       "      <td>NaN</td>\n",
       "      <td>36.0</td>\n",
       "      <td>36.0</td>\n",
       "    </tr>\n",
       "    <tr>\n",
       "      <th>IV</th>\n",
       "      <td>NaN</td>\n",
       "      <td>32.0</td>\n",
       "      <td>48.0</td>\n",
       "      <td>48.0</td>\n",
       "    </tr>\n",
       "    <tr>\n",
       "      <th>V</th>\n",
       "      <td>NaN</td>\n",
       "      <td>40.0</td>\n",
       "      <td>60.0</td>\n",
       "      <td>60.0</td>\n",
       "    </tr>\n",
       "    <tr>\n",
       "      <th>VI</th>\n",
       "      <td>30.0</td>\n",
       "      <td>48.0</td>\n",
       "      <td>72.0</td>\n",
       "      <td>72.0</td>\n",
       "    </tr>\n",
       "    <tr>\n",
       "      <th>_max</th>\n",
       "      <td>30.0</td>\n",
       "      <td>48.0</td>\n",
       "      <td>72.0</td>\n",
       "      <td>72.0</td>\n",
       "    </tr>\n",
       "  </tbody>\n",
       "</table>\n",
       "</div>"
      ],
      "text/plain": [
       "        b5    c8   d12  _max\n",
       "III    NaN   NaN  36.0  36.0\n",
       "IV     NaN  32.0  48.0  48.0\n",
       "V      NaN  40.0  60.0  60.0\n",
       "VI    30.0  48.0  72.0  72.0\n",
       "_max  30.0  48.0  72.0  72.0"
      ]
     },
     "execution_count": 216,
     "metadata": {},
     "output_type": "execute_result"
    }
   ],
   "source": [
    "df8.loc['_max'] = df8.apply(np.nanmax, axis=0)  # apply works across rows by default\n",
    "                                                # and returns results col by col as a Series\n",
    "df8"
   ]
  },
  {
   "cell_type": "code",
   "execution_count": 217,
   "metadata": {},
   "outputs": [
    {
     "data": {
      "text/plain": [
       "a  1     0\n",
       "   2    60\n",
       "   3    31\n",
       "   4    52\n",
       "b  1    30\n",
       "   2    77\n",
       "   3    55\n",
       "c  1    23\n",
       "   2    12\n",
       "d  1    47\n",
       "   2    62\n",
       "   3    11\n",
       "dtype: int64"
      ]
     },
     "execution_count": 217,
     "metadata": {},
     "output_type": "execute_result"
    }
   ],
   "source": [
    "s6 = pd.Series(np.random.randint(80, size=(12)),\n",
    "                index=[['a', 'a', 'a', 'a', 'b', 'b', 'b', 'c', 'c', 'd', 'd', 'd'],\n",
    "                       [1, 2, 3, 4, 1, 2, 3, 1, 2, 1, 2, 3]])\n",
    "s6"
   ]
  },
  {
   "cell_type": "code",
   "execution_count": 218,
   "metadata": {},
   "outputs": [
    {
     "data": {
      "text/html": [
       "<div>\n",
       "<style scoped>\n",
       "    .dataframe tbody tr th:only-of-type {\n",
       "        vertical-align: middle;\n",
       "    }\n",
       "\n",
       "    .dataframe tbody tr th {\n",
       "        vertical-align: top;\n",
       "    }\n",
       "\n",
       "    .dataframe thead th {\n",
       "        text-align: right;\n",
       "    }\n",
       "</style>\n",
       "<table border=\"1\" class=\"dataframe\">\n",
       "  <thead>\n",
       "    <tr style=\"text-align: right;\">\n",
       "      <th></th>\n",
       "      <th>1</th>\n",
       "      <th>2</th>\n",
       "      <th>3</th>\n",
       "      <th>4</th>\n",
       "    </tr>\n",
       "  </thead>\n",
       "  <tbody>\n",
       "    <tr>\n",
       "      <th>a</th>\n",
       "      <td>0.0</td>\n",
       "      <td>60.0</td>\n",
       "      <td>31.0</td>\n",
       "      <td>52.0</td>\n",
       "    </tr>\n",
       "    <tr>\n",
       "      <th>b</th>\n",
       "      <td>30.0</td>\n",
       "      <td>77.0</td>\n",
       "      <td>55.0</td>\n",
       "      <td>NaN</td>\n",
       "    </tr>\n",
       "    <tr>\n",
       "      <th>c</th>\n",
       "      <td>23.0</td>\n",
       "      <td>12.0</td>\n",
       "      <td>NaN</td>\n",
       "      <td>NaN</td>\n",
       "    </tr>\n",
       "    <tr>\n",
       "      <th>d</th>\n",
       "      <td>47.0</td>\n",
       "      <td>62.0</td>\n",
       "      <td>11.0</td>\n",
       "      <td>NaN</td>\n",
       "    </tr>\n",
       "  </tbody>\n",
       "</table>\n",
       "</div>"
      ],
      "text/plain": [
       "      1     2     3     4\n",
       "a   0.0  60.0  31.0  52.0\n",
       "b  30.0  77.0  55.0   NaN\n",
       "c  23.0  12.0   NaN   NaN\n",
       "d  47.0  62.0  11.0   NaN"
      ]
     },
     "execution_count": 218,
     "metadata": {},
     "output_type": "execute_result"
    }
   ],
   "source": [
    "df9 = s6.unstack()\n",
    "df9"
   ]
  },
  {
   "cell_type": "code",
   "execution_count": 219,
   "metadata": {},
   "outputs": [
    {
     "data": {
      "text/plain": [
       "1  a     0.0\n",
       "   b    30.0\n",
       "   c    23.0\n",
       "   d    47.0\n",
       "2  a    60.0\n",
       "   b    77.0\n",
       "   c    12.0\n",
       "   d    62.0\n",
       "3  a    31.0\n",
       "   b    55.0\n",
       "   c     NaN\n",
       "   d    11.0\n",
       "4  a    52.0\n",
       "   b     NaN\n",
       "   c     NaN\n",
       "   d     NaN\n",
       "dtype: float64"
      ]
     },
     "execution_count": 219,
     "metadata": {},
     "output_type": "execute_result"
    }
   ],
   "source": [
    "s7 = df9.unstack()\n",
    "s7"
   ]
  },
  {
   "cell_type": "code",
   "execution_count": 220,
   "metadata": {
    "scrolled": true
   },
   "outputs": [
    {
     "data": {
      "text/html": [
       "<div>\n",
       "<style scoped>\n",
       "    .dataframe tbody tr th:only-of-type {\n",
       "        vertical-align: middle;\n",
       "    }\n",
       "\n",
       "    .dataframe tbody tr th {\n",
       "        vertical-align: top;\n",
       "    }\n",
       "\n",
       "    .dataframe thead th {\n",
       "        text-align: right;\n",
       "    }\n",
       "</style>\n",
       "<table border=\"1\" class=\"dataframe\">\n",
       "  <thead>\n",
       "    <tr style=\"text-align: right;\">\n",
       "      <th></th>\n",
       "      <th>a</th>\n",
       "      <th>b</th>\n",
       "      <th>c</th>\n",
       "      <th>d</th>\n",
       "    </tr>\n",
       "  </thead>\n",
       "  <tbody>\n",
       "    <tr>\n",
       "      <th>1</th>\n",
       "      <td>0.0</td>\n",
       "      <td>30.0</td>\n",
       "      <td>23.0</td>\n",
       "      <td>47.0</td>\n",
       "    </tr>\n",
       "    <tr>\n",
       "      <th>2</th>\n",
       "      <td>60.0</td>\n",
       "      <td>77.0</td>\n",
       "      <td>12.0</td>\n",
       "      <td>62.0</td>\n",
       "    </tr>\n",
       "    <tr>\n",
       "      <th>3</th>\n",
       "      <td>31.0</td>\n",
       "      <td>55.0</td>\n",
       "      <td>NaN</td>\n",
       "      <td>11.0</td>\n",
       "    </tr>\n",
       "    <tr>\n",
       "      <th>4</th>\n",
       "      <td>52.0</td>\n",
       "      <td>NaN</td>\n",
       "      <td>NaN</td>\n",
       "      <td>NaN</td>\n",
       "    </tr>\n",
       "  </tbody>\n",
       "</table>\n",
       "</div>"
      ],
      "text/plain": [
       "      a     b     c     d\n",
       "1   0.0  30.0  23.0  47.0\n",
       "2  60.0  77.0  12.0  62.0\n",
       "3  31.0  55.0   NaN  11.0\n",
       "4  52.0   NaN   NaN   NaN"
      ]
     },
     "execution_count": 220,
     "metadata": {},
     "output_type": "execute_result"
    }
   ],
   "source": [
    "df10 = s7.unstack()\n",
    "df10"
   ]
  },
  {
   "cell_type": "code",
   "execution_count": 221,
   "metadata": {},
   "outputs": [
    {
     "data": {
      "text/plain": [
       "a  1     0.0\n",
       "   2    60.0\n",
       "   3    31.0\n",
       "   4    52.0\n",
       "b  1    30.0\n",
       "   2    77.0\n",
       "   3    55.0\n",
       "   4     NaN\n",
       "c  1    23.0\n",
       "   2    12.0\n",
       "   3     NaN\n",
       "   4     NaN\n",
       "d  1    47.0\n",
       "   2    62.0\n",
       "   3    11.0\n",
       "   4     NaN\n",
       "dtype: float64"
      ]
     },
     "execution_count": 221,
     "metadata": {},
     "output_type": "execute_result"
    }
   ],
   "source": [
    "df10.unstack()"
   ]
  },
  {
   "cell_type": "code",
   "execution_count": 222,
   "metadata": {},
   "outputs": [
    {
     "data": {
      "text/html": [
       "<div>\n",
       "<style scoped>\n",
       "    .dataframe tbody tr th:only-of-type {\n",
       "        vertical-align: middle;\n",
       "    }\n",
       "\n",
       "    .dataframe tbody tr th {\n",
       "        vertical-align: top;\n",
       "    }\n",
       "\n",
       "    .dataframe thead th {\n",
       "        text-align: right;\n",
       "    }\n",
       "</style>\n",
       "<table border=\"1\" class=\"dataframe\">\n",
       "  <thead>\n",
       "    <tr style=\"text-align: right;\">\n",
       "      <th></th>\n",
       "      <th>A</th>\n",
       "      <th>B</th>\n",
       "      <th>C</th>\n",
       "      <th>D</th>\n",
       "      <th>E</th>\n",
       "    </tr>\n",
       "  </thead>\n",
       "  <tbody>\n",
       "    <tr>\n",
       "      <th>I</th>\n",
       "      <td>0.911040</td>\n",
       "      <td>0.469557</td>\n",
       "      <td>0.376266</td>\n",
       "      <td>0.191314</td>\n",
       "      <td>0.361423</td>\n",
       "    </tr>\n",
       "    <tr>\n",
       "      <th>II</th>\n",
       "      <td>0.164817</td>\n",
       "      <td>0.439111</td>\n",
       "      <td>0.214755</td>\n",
       "      <td>0.581170</td>\n",
       "      <td>0.967886</td>\n",
       "    </tr>\n",
       "    <tr>\n",
       "      <th>III</th>\n",
       "      <td>0.374728</td>\n",
       "      <td>0.543826</td>\n",
       "      <td>0.964217</td>\n",
       "      <td>0.149063</td>\n",
       "      <td>0.838526</td>\n",
       "    </tr>\n",
       "    <tr>\n",
       "      <th>IV</th>\n",
       "      <td>0.593155</td>\n",
       "      <td>0.210960</td>\n",
       "      <td>0.158271</td>\n",
       "      <td>0.267864</td>\n",
       "      <td>0.017919</td>\n",
       "    </tr>\n",
       "  </tbody>\n",
       "</table>\n",
       "</div>"
      ],
      "text/plain": [
       "            A         B         C         D         E\n",
       "I    0.911040  0.469557  0.376266  0.191314  0.361423\n",
       "II   0.164817  0.439111  0.214755  0.581170  0.967886\n",
       "III  0.374728  0.543826  0.964217  0.149063  0.838526\n",
       "IV   0.593155  0.210960  0.158271  0.267864  0.017919"
      ]
     },
     "execution_count": 222,
     "metadata": {},
     "output_type": "execute_result"
    }
   ],
   "source": [
    "df11 = pd.DataFrame(np.random.rand(4,5),\n",
    "                   index=['I', 'II', 'III', 'IV'], \n",
    "                   columns=['A', 'B', 'C', 'D', 'E'])\n",
    "df11"
   ]
  },
  {
   "cell_type": "code",
   "execution_count": 223,
   "metadata": {},
   "outputs": [
    {
     "data": {
      "text/plain": [
       "A    0.510935\n",
       "B    0.415863\n",
       "C    0.428377\n",
       "D    0.297353\n",
       "E    0.546439\n",
       "dtype: float64"
      ]
     },
     "execution_count": 223,
     "metadata": {},
     "output_type": "execute_result"
    }
   ],
   "source": [
    "df11.mean()            # by default these work on rows, for each column"
   ]
  },
  {
   "cell_type": "code",
   "execution_count": 224,
   "metadata": {},
   "outputs": [
    {
     "data": {
      "text/plain": [
       "A    0.510935\n",
       "B    0.415863\n",
       "C    0.428377\n",
       "D    0.297353\n",
       "E    0.546439\n",
       "dtype: float64"
      ]
     },
     "execution_count": 224,
     "metadata": {},
     "output_type": "execute_result"
    }
   ],
   "source": [
    "np.mean(df11)          # same operation as above..."
   ]
  },
  {
   "cell_type": "code",
   "execution_count": 225,
   "metadata": {},
   "outputs": [
    {
     "data": {
      "text/plain": [
       "I      0.461920\n",
       "II     0.473548\n",
       "III    0.574072\n",
       "IV     0.249634\n",
       "dtype: float64"
      ]
     },
     "execution_count": 225,
     "metadata": {},
     "output_type": "execute_result"
    }
   ],
   "source": [
    "df11.mean(axis=1)      # specify a 1 to work on columns, for each row"
   ]
  },
  {
   "cell_type": "code",
   "execution_count": 226,
   "metadata": {},
   "outputs": [
    {
     "data": {
      "text/plain": [
       "I      0.461920\n",
       "II     0.473548\n",
       "III    0.574072\n",
       "IV     0.249634\n",
       "dtype: float64"
      ]
     },
     "execution_count": 226,
     "metadata": {},
     "output_type": "execute_result"
    }
   ],
   "source": [
    "df11.mean(1)"
   ]
  },
  {
   "cell_type": "code",
   "execution_count": 227,
   "metadata": {},
   "outputs": [
    {
     "data": {
      "text/plain": [
       "A    0.911040\n",
       "B    0.543826\n",
       "C    0.964217\n",
       "D    0.581170\n",
       "E    0.967886\n",
       "dtype: float64"
      ]
     },
     "execution_count": 227,
     "metadata": {},
     "output_type": "execute_result"
    }
   ],
   "source": [
    "df11.max()"
   ]
  },
  {
   "cell_type": "code",
   "execution_count": 228,
   "metadata": {},
   "outputs": [
    {
     "data": {
      "text/plain": [
       "A      I\n",
       "B    III\n",
       "C    III\n",
       "D     II\n",
       "E     II\n",
       "dtype: object"
      ]
     },
     "execution_count": 228,
     "metadata": {},
     "output_type": "execute_result"
    }
   ],
   "source": [
    "df11.idxmax()          # idx gives the id of the row(=0) or the column (=1)"
   ]
  },
  {
   "cell_type": "code",
   "execution_count": 229,
   "metadata": {},
   "outputs": [
    {
     "data": {
      "text/html": [
       "<div>\n",
       "<style scoped>\n",
       "    .dataframe tbody tr th:only-of-type {\n",
       "        vertical-align: middle;\n",
       "    }\n",
       "\n",
       "    .dataframe tbody tr th {\n",
       "        vertical-align: top;\n",
       "    }\n",
       "\n",
       "    .dataframe thead th {\n",
       "        text-align: right;\n",
       "    }\n",
       "</style>\n",
       "<table border=\"1\" class=\"dataframe\">\n",
       "  <thead>\n",
       "    <tr style=\"text-align: right;\">\n",
       "      <th></th>\n",
       "      <th>A</th>\n",
       "      <th>B</th>\n",
       "      <th>C</th>\n",
       "      <th>D</th>\n",
       "      <th>E</th>\n",
       "    </tr>\n",
       "  </thead>\n",
       "  <tbody>\n",
       "    <tr>\n",
       "      <th>count</th>\n",
       "      <td>4.000000</td>\n",
       "      <td>4.000000</td>\n",
       "      <td>4.000000</td>\n",
       "      <td>4.000000</td>\n",
       "      <td>4.000000</td>\n",
       "    </tr>\n",
       "    <tr>\n",
       "      <th>mean</th>\n",
       "      <td>0.510935</td>\n",
       "      <td>0.415863</td>\n",
       "      <td>0.428377</td>\n",
       "      <td>0.297353</td>\n",
       "      <td>0.546439</td>\n",
       "    </tr>\n",
       "    <tr>\n",
       "      <th>std</th>\n",
       "      <td>0.318953</td>\n",
       "      <td>0.143507</td>\n",
       "      <td>0.368977</td>\n",
       "      <td>0.195496</td>\n",
       "      <td>0.438367</td>\n",
       "    </tr>\n",
       "    <tr>\n",
       "      <th>min</th>\n",
       "      <td>0.164817</td>\n",
       "      <td>0.210960</td>\n",
       "      <td>0.158271</td>\n",
       "      <td>0.149063</td>\n",
       "      <td>0.017919</td>\n",
       "    </tr>\n",
       "    <tr>\n",
       "      <th>25%</th>\n",
       "      <td>0.322250</td>\n",
       "      <td>0.382073</td>\n",
       "      <td>0.200634</td>\n",
       "      <td>0.180751</td>\n",
       "      <td>0.275547</td>\n",
       "    </tr>\n",
       "    <tr>\n",
       "      <th>50%</th>\n",
       "      <td>0.483942</td>\n",
       "      <td>0.454334</td>\n",
       "      <td>0.295510</td>\n",
       "      <td>0.229589</td>\n",
       "      <td>0.599975</td>\n",
       "    </tr>\n",
       "    <tr>\n",
       "      <th>75%</th>\n",
       "      <td>0.672626</td>\n",
       "      <td>0.488124</td>\n",
       "      <td>0.523254</td>\n",
       "      <td>0.346190</td>\n",
       "      <td>0.870866</td>\n",
       "    </tr>\n",
       "    <tr>\n",
       "      <th>max</th>\n",
       "      <td>0.911040</td>\n",
       "      <td>0.543826</td>\n",
       "      <td>0.964217</td>\n",
       "      <td>0.581170</td>\n",
       "      <td>0.967886</td>\n",
       "    </tr>\n",
       "  </tbody>\n",
       "</table>\n",
       "</div>"
      ],
      "text/plain": [
       "              A         B         C         D         E\n",
       "count  4.000000  4.000000  4.000000  4.000000  4.000000\n",
       "mean   0.510935  0.415863  0.428377  0.297353  0.546439\n",
       "std    0.318953  0.143507  0.368977  0.195496  0.438367\n",
       "min    0.164817  0.210960  0.158271  0.149063  0.017919\n",
       "25%    0.322250  0.382073  0.200634  0.180751  0.275547\n",
       "50%    0.483942  0.454334  0.295510  0.229589  0.599975\n",
       "75%    0.672626  0.488124  0.523254  0.346190  0.870866\n",
       "max    0.911040  0.543826  0.964217  0.581170  0.967886"
      ]
     },
     "execution_count": 229,
     "metadata": {},
     "output_type": "execute_result"
    }
   ],
   "source": [
    "df11.describe()        # .describe() only works on rows, for each column"
   ]
  },
  {
   "cell_type": "code",
   "execution_count": 230,
   "metadata": {},
   "outputs": [
    {
     "data": {
      "text/html": [
       "<div>\n",
       "<style scoped>\n",
       "    .dataframe tbody tr th:only-of-type {\n",
       "        vertical-align: middle;\n",
       "    }\n",
       "\n",
       "    .dataframe tbody tr th {\n",
       "        vertical-align: top;\n",
       "    }\n",
       "\n",
       "    .dataframe thead th {\n",
       "        text-align: right;\n",
       "    }\n",
       "</style>\n",
       "<table border=\"1\" class=\"dataframe\">\n",
       "  <thead>\n",
       "    <tr style=\"text-align: right;\">\n",
       "      <th></th>\n",
       "      <th>I</th>\n",
       "      <th>II</th>\n",
       "      <th>III</th>\n",
       "      <th>IV</th>\n",
       "    </tr>\n",
       "  </thead>\n",
       "  <tbody>\n",
       "    <tr>\n",
       "      <th>count</th>\n",
       "      <td>5.000000</td>\n",
       "      <td>5.000000</td>\n",
       "      <td>5.000000</td>\n",
       "      <td>5.000000</td>\n",
       "    </tr>\n",
       "    <tr>\n",
       "      <th>mean</th>\n",
       "      <td>0.461920</td>\n",
       "      <td>0.473548</td>\n",
       "      <td>0.574072</td>\n",
       "      <td>0.249634</td>\n",
       "    </tr>\n",
       "    <tr>\n",
       "      <th>std</th>\n",
       "      <td>0.270384</td>\n",
       "      <td>0.323816</td>\n",
       "      <td>0.332955</td>\n",
       "      <td>0.213233</td>\n",
       "    </tr>\n",
       "    <tr>\n",
       "      <th>min</th>\n",
       "      <td>0.191314</td>\n",
       "      <td>0.164817</td>\n",
       "      <td>0.149063</td>\n",
       "      <td>0.017919</td>\n",
       "    </tr>\n",
       "    <tr>\n",
       "      <th>25%</th>\n",
       "      <td>0.361423</td>\n",
       "      <td>0.214755</td>\n",
       "      <td>0.374728</td>\n",
       "      <td>0.158271</td>\n",
       "    </tr>\n",
       "    <tr>\n",
       "      <th>50%</th>\n",
       "      <td>0.376266</td>\n",
       "      <td>0.439111</td>\n",
       "      <td>0.543826</td>\n",
       "      <td>0.210960</td>\n",
       "    </tr>\n",
       "    <tr>\n",
       "      <th>75%</th>\n",
       "      <td>0.469557</td>\n",
       "      <td>0.581170</td>\n",
       "      <td>0.838526</td>\n",
       "      <td>0.267864</td>\n",
       "    </tr>\n",
       "    <tr>\n",
       "      <th>max</th>\n",
       "      <td>0.911040</td>\n",
       "      <td>0.967886</td>\n",
       "      <td>0.964217</td>\n",
       "      <td>0.593155</td>\n",
       "    </tr>\n",
       "  </tbody>\n",
       "</table>\n",
       "</div>"
      ],
      "text/plain": [
       "              I        II       III        IV\n",
       "count  5.000000  5.000000  5.000000  5.000000\n",
       "mean   0.461920  0.473548  0.574072  0.249634\n",
       "std    0.270384  0.323816  0.332955  0.213233\n",
       "min    0.191314  0.164817  0.149063  0.017919\n",
       "25%    0.361423  0.214755  0.374728  0.158271\n",
       "50%    0.376266  0.439111  0.543826  0.210960\n",
       "75%    0.469557  0.581170  0.838526  0.267864\n",
       "max    0.911040  0.967886  0.964217  0.593155"
      ]
     },
     "execution_count": 230,
     "metadata": {},
     "output_type": "execute_result"
    }
   ],
   "source": [
    "df11.T.describe()      # use a transpose to work on columns, for each row"
   ]
  },
  {
   "cell_type": "code",
   "execution_count": 231,
   "metadata": {},
   "outputs": [
    {
     "data": {
      "text/html": [
       "<div>\n",
       "<style scoped>\n",
       "    .dataframe tbody tr th:only-of-type {\n",
       "        vertical-align: middle;\n",
       "    }\n",
       "\n",
       "    .dataframe tbody tr th {\n",
       "        vertical-align: top;\n",
       "    }\n",
       "\n",
       "    .dataframe thead th {\n",
       "        text-align: right;\n",
       "    }\n",
       "</style>\n",
       "<table border=\"1\" class=\"dataframe\">\n",
       "  <thead>\n",
       "    <tr style=\"text-align: right;\">\n",
       "      <th></th>\n",
       "      <th>0</th>\n",
       "      <th>1</th>\n",
       "      <th>2</th>\n",
       "    </tr>\n",
       "  </thead>\n",
       "  <tbody>\n",
       "    <tr>\n",
       "      <th>0</th>\n",
       "      <td>1.0</td>\n",
       "      <td>6.5</td>\n",
       "      <td>3.0</td>\n",
       "    </tr>\n",
       "    <tr>\n",
       "      <th>1</th>\n",
       "      <td>1.0</td>\n",
       "      <td>NaN</td>\n",
       "      <td>NaN</td>\n",
       "    </tr>\n",
       "    <tr>\n",
       "      <th>2</th>\n",
       "      <td>NaN</td>\n",
       "      <td>NaN</td>\n",
       "      <td>NaN</td>\n",
       "    </tr>\n",
       "    <tr>\n",
       "      <th>3</th>\n",
       "      <td>NaN</td>\n",
       "      <td>6.5</td>\n",
       "      <td>3.0</td>\n",
       "    </tr>\n",
       "  </tbody>\n",
       "</table>\n",
       "</div>"
      ],
      "text/plain": [
       "     0    1    2\n",
       "0  1.0  6.5  3.0\n",
       "1  1.0  NaN  NaN\n",
       "2  NaN  NaN  NaN\n",
       "3  NaN  6.5  3.0"
      ]
     },
     "execution_count": 231,
     "metadata": {},
     "output_type": "execute_result"
    }
   ],
   "source": [
    "df12 = pd.DataFrame([[1., 6.5, 3.], [1., np.nan, np.nan],\n",
    "                    [np.nan, np.nan, np.nan], [np.nan, 6.5, 3.]])\n",
    "df12"
   ]
  },
  {
   "cell_type": "code",
   "execution_count": 232,
   "metadata": {},
   "outputs": [
    {
     "data": {
      "text/html": [
       "<div>\n",
       "<style scoped>\n",
       "    .dataframe tbody tr th:only-of-type {\n",
       "        vertical-align: middle;\n",
       "    }\n",
       "\n",
       "    .dataframe tbody tr th {\n",
       "        vertical-align: top;\n",
       "    }\n",
       "\n",
       "    .dataframe thead th {\n",
       "        text-align: right;\n",
       "    }\n",
       "</style>\n",
       "<table border=\"1\" class=\"dataframe\">\n",
       "  <thead>\n",
       "    <tr style=\"text-align: right;\">\n",
       "      <th></th>\n",
       "      <th>0</th>\n",
       "      <th>1</th>\n",
       "      <th>2</th>\n",
       "    </tr>\n",
       "  </thead>\n",
       "  <tbody>\n",
       "    <tr>\n",
       "      <th>0</th>\n",
       "      <td>1.0</td>\n",
       "      <td>6.5</td>\n",
       "      <td>3.0</td>\n",
       "    </tr>\n",
       "  </tbody>\n",
       "</table>\n",
       "</div>"
      ],
      "text/plain": [
       "     0    1    2\n",
       "0  1.0  6.5  3.0"
      ]
     },
     "execution_count": 232,
     "metadata": {},
     "output_type": "execute_result"
    }
   ],
   "source": [
    "df12.dropna()"
   ]
  },
  {
   "cell_type": "code",
   "execution_count": 233,
   "metadata": {},
   "outputs": [
    {
     "data": {
      "text/html": [
       "<div>\n",
       "<style scoped>\n",
       "    .dataframe tbody tr th:only-of-type {\n",
       "        vertical-align: middle;\n",
       "    }\n",
       "\n",
       "    .dataframe tbody tr th {\n",
       "        vertical-align: top;\n",
       "    }\n",
       "\n",
       "    .dataframe thead th {\n",
       "        text-align: right;\n",
       "    }\n",
       "</style>\n",
       "<table border=\"1\" class=\"dataframe\">\n",
       "  <thead>\n",
       "    <tr style=\"text-align: right;\">\n",
       "      <th></th>\n",
       "      <th>0</th>\n",
       "      <th>1</th>\n",
       "      <th>2</th>\n",
       "    </tr>\n",
       "  </thead>\n",
       "  <tbody>\n",
       "    <tr>\n",
       "      <th>0</th>\n",
       "      <td>1.0</td>\n",
       "      <td>6.5</td>\n",
       "      <td>3.0</td>\n",
       "    </tr>\n",
       "    <tr>\n",
       "      <th>1</th>\n",
       "      <td>1.0</td>\n",
       "      <td>NaN</td>\n",
       "      <td>NaN</td>\n",
       "    </tr>\n",
       "    <tr>\n",
       "      <th>3</th>\n",
       "      <td>NaN</td>\n",
       "      <td>6.5</td>\n",
       "      <td>3.0</td>\n",
       "    </tr>\n",
       "  </tbody>\n",
       "</table>\n",
       "</div>"
      ],
      "text/plain": [
       "     0    1    2\n",
       "0  1.0  6.5  3.0\n",
       "1  1.0  NaN  NaN\n",
       "3  NaN  6.5  3.0"
      ]
     },
     "execution_count": 233,
     "metadata": {},
     "output_type": "execute_result"
    }
   ],
   "source": [
    "df12.dropna(how='all')"
   ]
  },
  {
   "cell_type": "code",
   "execution_count": 234,
   "metadata": {},
   "outputs": [
    {
     "data": {
      "text/html": [
       "<div>\n",
       "<style scoped>\n",
       "    .dataframe tbody tr th:only-of-type {\n",
       "        vertical-align: middle;\n",
       "    }\n",
       "\n",
       "    .dataframe tbody tr th {\n",
       "        vertical-align: top;\n",
       "    }\n",
       "\n",
       "    .dataframe thead th {\n",
       "        text-align: right;\n",
       "    }\n",
       "</style>\n",
       "<table border=\"1\" class=\"dataframe\">\n",
       "  <thead>\n",
       "    <tr style=\"text-align: right;\">\n",
       "      <th></th>\n",
       "      <th>0</th>\n",
       "      <th>1</th>\n",
       "      <th>2</th>\n",
       "    </tr>\n",
       "  </thead>\n",
       "  <tbody>\n",
       "    <tr>\n",
       "      <th>0</th>\n",
       "      <td>1.0</td>\n",
       "      <td>6.5</td>\n",
       "      <td>3.0</td>\n",
       "    </tr>\n",
       "    <tr>\n",
       "      <th>1</th>\n",
       "      <td>1.0</td>\n",
       "      <td>99.0</td>\n",
       "      <td>99.0</td>\n",
       "    </tr>\n",
       "    <tr>\n",
       "      <th>2</th>\n",
       "      <td>99.0</td>\n",
       "      <td>99.0</td>\n",
       "      <td>99.0</td>\n",
       "    </tr>\n",
       "    <tr>\n",
       "      <th>3</th>\n",
       "      <td>99.0</td>\n",
       "      <td>6.5</td>\n",
       "      <td>3.0</td>\n",
       "    </tr>\n",
       "  </tbody>\n",
       "</table>\n",
       "</div>"
      ],
      "text/plain": [
       "      0     1     2\n",
       "0   1.0   6.5   3.0\n",
       "1   1.0  99.0  99.0\n",
       "2  99.0  99.0  99.0\n",
       "3  99.0   6.5   3.0"
      ]
     },
     "execution_count": 234,
     "metadata": {},
     "output_type": "execute_result"
    }
   ],
   "source": [
    "df12.fillna(99)"
   ]
  },
  {
   "cell_type": "code",
   "execution_count": 235,
   "metadata": {
    "scrolled": true
   },
   "outputs": [
    {
     "data": {
      "text/html": [
       "<div>\n",
       "<style scoped>\n",
       "    .dataframe tbody tr th:only-of-type {\n",
       "        vertical-align: middle;\n",
       "    }\n",
       "\n",
       "    .dataframe tbody tr th {\n",
       "        vertical-align: top;\n",
       "    }\n",
       "\n",
       "    .dataframe thead th {\n",
       "        text-align: right;\n",
       "    }\n",
       "</style>\n",
       "<table border=\"1\" class=\"dataframe\">\n",
       "  <thead>\n",
       "    <tr style=\"text-align: right;\">\n",
       "      <th></th>\n",
       "      <th>0</th>\n",
       "      <th>1</th>\n",
       "      <th>2</th>\n",
       "    </tr>\n",
       "  </thead>\n",
       "  <tbody>\n",
       "    <tr>\n",
       "      <th>0</th>\n",
       "      <td>1.0</td>\n",
       "      <td>6.5</td>\n",
       "      <td>3.0</td>\n",
       "    </tr>\n",
       "    <tr>\n",
       "      <th>1</th>\n",
       "      <td>1.0</td>\n",
       "      <td>11.0</td>\n",
       "      <td>22.0</td>\n",
       "    </tr>\n",
       "    <tr>\n",
       "      <th>2</th>\n",
       "      <td>NaN</td>\n",
       "      <td>11.0</td>\n",
       "      <td>22.0</td>\n",
       "    </tr>\n",
       "    <tr>\n",
       "      <th>3</th>\n",
       "      <td>NaN</td>\n",
       "      <td>6.5</td>\n",
       "      <td>3.0</td>\n",
       "    </tr>\n",
       "  </tbody>\n",
       "</table>\n",
       "</div>"
      ],
      "text/plain": [
       "     0     1     2\n",
       "0  1.0   6.5   3.0\n",
       "1  1.0  11.0  22.0\n",
       "2  NaN  11.0  22.0\n",
       "3  NaN   6.5   3.0"
      ]
     },
     "execution_count": 235,
     "metadata": {},
     "output_type": "execute_result"
    }
   ],
   "source": [
    "df12.fillna({1: 11, 2: 22})"
   ]
  },
  {
   "cell_type": "code",
   "execution_count": 236,
   "metadata": {},
   "outputs": [
    {
     "data": {
      "text/html": [
       "<div>\n",
       "<style scoped>\n",
       "    .dataframe tbody tr th:only-of-type {\n",
       "        vertical-align: middle;\n",
       "    }\n",
       "\n",
       "    .dataframe tbody tr th {\n",
       "        vertical-align: top;\n",
       "    }\n",
       "\n",
       "    .dataframe thead th {\n",
       "        text-align: right;\n",
       "    }\n",
       "</style>\n",
       "<table border=\"1\" class=\"dataframe\">\n",
       "  <thead>\n",
       "    <tr style=\"text-align: right;\">\n",
       "      <th></th>\n",
       "      <th>a3</th>\n",
       "      <th>b5</th>\n",
       "      <th>c8</th>\n",
       "      <th>d12</th>\n",
       "    </tr>\n",
       "  </thead>\n",
       "  <tbody>\n",
       "    <tr>\n",
       "      <th>I</th>\n",
       "      <td>3</td>\n",
       "      <td>5</td>\n",
       "      <td>8</td>\n",
       "      <td>12</td>\n",
       "    </tr>\n",
       "    <tr>\n",
       "      <th>II</th>\n",
       "      <td>6</td>\n",
       "      <td>10</td>\n",
       "      <td>16</td>\n",
       "      <td>24</td>\n",
       "    </tr>\n",
       "    <tr>\n",
       "      <th>III</th>\n",
       "      <td>9</td>\n",
       "      <td>15</td>\n",
       "      <td>24</td>\n",
       "      <td>36</td>\n",
       "    </tr>\n",
       "    <tr>\n",
       "      <th>IV</th>\n",
       "      <td>12</td>\n",
       "      <td>20</td>\n",
       "      <td>32</td>\n",
       "      <td>48</td>\n",
       "    </tr>\n",
       "    <tr>\n",
       "      <th>V</th>\n",
       "      <td>15</td>\n",
       "      <td>25</td>\n",
       "      <td>40</td>\n",
       "      <td>60</td>\n",
       "    </tr>\n",
       "    <tr>\n",
       "      <th>VI</th>\n",
       "      <td>18</td>\n",
       "      <td>30</td>\n",
       "      <td>48</td>\n",
       "      <td>72</td>\n",
       "    </tr>\n",
       "  </tbody>\n",
       "</table>\n",
       "</div>"
      ],
      "text/plain": [
       "     a3  b5  c8  d12\n",
       "I     3   5   8   12\n",
       "II    6  10  16   24\n",
       "III   9  15  24   36\n",
       "IV   12  20  32   48\n",
       "V    15  25  40   60\n",
       "VI   18  30  48   72"
      ]
     },
     "execution_count": 236,
     "metadata": {},
     "output_type": "execute_result"
    }
   ],
   "source": [
    "df6"
   ]
  },
  {
   "cell_type": "code",
   "execution_count": 237,
   "metadata": {},
   "outputs": [
    {
     "data": {
      "text/plain": [
       "I      False\n",
       "II     False\n",
       "III    False\n",
       "IV      True\n",
       "V       True\n",
       "VI      True\n",
       "Name: b5, dtype: bool"
      ]
     },
     "execution_count": 237,
     "metadata": {},
     "output_type": "execute_result"
    }
   ],
   "source": [
    "df6['b5'] > 15"
   ]
  },
  {
   "cell_type": "code",
   "execution_count": 238,
   "metadata": {},
   "outputs": [
    {
     "data": {
      "text/html": [
       "<div>\n",
       "<style scoped>\n",
       "    .dataframe tbody tr th:only-of-type {\n",
       "        vertical-align: middle;\n",
       "    }\n",
       "\n",
       "    .dataframe tbody tr th {\n",
       "        vertical-align: top;\n",
       "    }\n",
       "\n",
       "    .dataframe thead th {\n",
       "        text-align: right;\n",
       "    }\n",
       "</style>\n",
       "<table border=\"1\" class=\"dataframe\">\n",
       "  <thead>\n",
       "    <tr style=\"text-align: right;\">\n",
       "      <th></th>\n",
       "      <th>a3</th>\n",
       "      <th>b5</th>\n",
       "      <th>c8</th>\n",
       "      <th>d12</th>\n",
       "    </tr>\n",
       "  </thead>\n",
       "  <tbody>\n",
       "    <tr>\n",
       "      <th>IV</th>\n",
       "      <td>12</td>\n",
       "      <td>20</td>\n",
       "      <td>32</td>\n",
       "      <td>48</td>\n",
       "    </tr>\n",
       "    <tr>\n",
       "      <th>V</th>\n",
       "      <td>15</td>\n",
       "      <td>25</td>\n",
       "      <td>40</td>\n",
       "      <td>60</td>\n",
       "    </tr>\n",
       "    <tr>\n",
       "      <th>VI</th>\n",
       "      <td>18</td>\n",
       "      <td>30</td>\n",
       "      <td>48</td>\n",
       "      <td>72</td>\n",
       "    </tr>\n",
       "  </tbody>\n",
       "</table>\n",
       "</div>"
      ],
      "text/plain": [
       "    a3  b5  c8  d12\n",
       "IV  12  20  32   48\n",
       "V   15  25  40   60\n",
       "VI  18  30  48   72"
      ]
     },
     "execution_count": 238,
     "metadata": {},
     "output_type": "execute_result"
    }
   ],
   "source": [
    "df6[df6['b5'] > 15]       # the mask is applied across all and returns a DataFrame"
   ]
  },
  {
   "cell_type": "code",
   "execution_count": 239,
   "metadata": {},
   "outputs": [
    {
     "data": {
      "text/plain": [
       "IV    20\n",
       "V     25\n",
       "VI    30\n",
       "Name: b5, dtype: int64"
      ]
     },
     "execution_count": 239,
     "metadata": {},
     "output_type": "execute_result"
    }
   ],
   "source": [
    "df6[df6['b5'] > 15]['b5']"
   ]
  },
  {
   "cell_type": "code",
   "execution_count": 240,
   "metadata": {},
   "outputs": [
    {
     "data": {
      "text/plain": [
       "25.0"
      ]
     },
     "execution_count": 240,
     "metadata": {},
     "output_type": "execute_result"
    }
   ],
   "source": [
    "df6[df6['b5'] > 15]['b5'].mean()"
   ]
  },
  {
   "cell_type": "code",
   "execution_count": 241,
   "metadata": {},
   "outputs": [
    {
     "data": {
      "text/html": [
       "<div>\n",
       "<style scoped>\n",
       "    .dataframe tbody tr th:only-of-type {\n",
       "        vertical-align: middle;\n",
       "    }\n",
       "\n",
       "    .dataframe tbody tr th {\n",
       "        vertical-align: top;\n",
       "    }\n",
       "\n",
       "    .dataframe thead th {\n",
       "        text-align: right;\n",
       "    }\n",
       "</style>\n",
       "<table border=\"1\" class=\"dataframe\">\n",
       "  <thead>\n",
       "    <tr style=\"text-align: right;\">\n",
       "      <th></th>\n",
       "      <th>b5</th>\n",
       "      <th>c8</th>\n",
       "      <th>d12</th>\n",
       "    </tr>\n",
       "  </thead>\n",
       "  <tbody>\n",
       "    <tr>\n",
       "      <th>I</th>\n",
       "      <td>5</td>\n",
       "      <td>8</td>\n",
       "      <td>12</td>\n",
       "    </tr>\n",
       "    <tr>\n",
       "      <th>II</th>\n",
       "      <td>10</td>\n",
       "      <td>16</td>\n",
       "      <td>24</td>\n",
       "    </tr>\n",
       "    <tr>\n",
       "      <th>III</th>\n",
       "      <td>15</td>\n",
       "      <td>24</td>\n",
       "      <td>36</td>\n",
       "    </tr>\n",
       "    <tr>\n",
       "      <th>IV</th>\n",
       "      <td>20</td>\n",
       "      <td>32</td>\n",
       "      <td>48</td>\n",
       "    </tr>\n",
       "    <tr>\n",
       "      <th>V</th>\n",
       "      <td>25</td>\n",
       "      <td>40</td>\n",
       "      <td>60</td>\n",
       "    </tr>\n",
       "    <tr>\n",
       "      <th>VI</th>\n",
       "      <td>30</td>\n",
       "      <td>48</td>\n",
       "      <td>72</td>\n",
       "    </tr>\n",
       "  </tbody>\n",
       "</table>\n",
       "</div>"
      ],
      "text/plain": [
       "     b5  c8  d12\n",
       "I     5   8   12\n",
       "II   10  16   24\n",
       "III  15  24   36\n",
       "IV   20  32   48\n",
       "V    25  40   60\n",
       "VI   30  48   72"
      ]
     },
     "execution_count": 241,
     "metadata": {},
     "output_type": "execute_result"
    }
   ],
   "source": [
    "df6.drop('a3', axis=1)"
   ]
  },
  {
   "cell_type": "code",
   "execution_count": 242,
   "metadata": {},
   "outputs": [
    {
     "data": {
      "text/html": [
       "<div>\n",
       "<style scoped>\n",
       "    .dataframe tbody tr th:only-of-type {\n",
       "        vertical-align: middle;\n",
       "    }\n",
       "\n",
       "    .dataframe tbody tr th {\n",
       "        vertical-align: top;\n",
       "    }\n",
       "\n",
       "    .dataframe thead th {\n",
       "        text-align: right;\n",
       "    }\n",
       "</style>\n",
       "<table border=\"1\" class=\"dataframe\">\n",
       "  <thead>\n",
       "    <tr style=\"text-align: right;\">\n",
       "      <th></th>\n",
       "      <th>a3</th>\n",
       "      <th>b5</th>\n",
       "      <th>c8</th>\n",
       "      <th>d12</th>\n",
       "    </tr>\n",
       "  </thead>\n",
       "  <tbody>\n",
       "    <tr>\n",
       "      <th>I</th>\n",
       "      <td>3</td>\n",
       "      <td>5</td>\n",
       "      <td>8</td>\n",
       "      <td>12</td>\n",
       "    </tr>\n",
       "    <tr>\n",
       "      <th>II</th>\n",
       "      <td>6</td>\n",
       "      <td>10</td>\n",
       "      <td>16</td>\n",
       "      <td>24</td>\n",
       "    </tr>\n",
       "    <tr>\n",
       "      <th>III</th>\n",
       "      <td>9</td>\n",
       "      <td>15</td>\n",
       "      <td>24</td>\n",
       "      <td>36</td>\n",
       "    </tr>\n",
       "    <tr>\n",
       "      <th>IV</th>\n",
       "      <td>12</td>\n",
       "      <td>20</td>\n",
       "      <td>32</td>\n",
       "      <td>48</td>\n",
       "    </tr>\n",
       "    <tr>\n",
       "      <th>V</th>\n",
       "      <td>15</td>\n",
       "      <td>25</td>\n",
       "      <td>40</td>\n",
       "      <td>60</td>\n",
       "    </tr>\n",
       "    <tr>\n",
       "      <th>VI</th>\n",
       "      <td>18</td>\n",
       "      <td>30</td>\n",
       "      <td>48</td>\n",
       "      <td>72</td>\n",
       "    </tr>\n",
       "  </tbody>\n",
       "</table>\n",
       "</div>"
      ],
      "text/plain": [
       "     a3  b5  c8  d12\n",
       "I     3   5   8   12\n",
       "II    6  10  16   24\n",
       "III   9  15  24   36\n",
       "IV   12  20  32   48\n",
       "V    15  25  40   60\n",
       "VI   18  30  48   72"
      ]
     },
     "execution_count": 242,
     "metadata": {},
     "output_type": "execute_result"
    }
   ],
   "source": [
    "df6"
   ]
  },
  {
   "cell_type": "code",
   "execution_count": 243,
   "metadata": {},
   "outputs": [
    {
     "data": {
      "text/plain": [
       "Index(['a3', 'b5', 'c8', 'd12'], dtype='object')"
      ]
     },
     "execution_count": 243,
     "metadata": {},
     "output_type": "execute_result"
    }
   ],
   "source": [
    "df6.columns"
   ]
  },
  {
   "cell_type": "code",
   "execution_count": 244,
   "metadata": {},
   "outputs": [
    {
     "data": {
      "text/html": [
       "<div>\n",
       "<style scoped>\n",
       "    .dataframe tbody tr th:only-of-type {\n",
       "        vertical-align: middle;\n",
       "    }\n",
       "\n",
       "    .dataframe tbody tr th {\n",
       "        vertical-align: top;\n",
       "    }\n",
       "\n",
       "    .dataframe thead th {\n",
       "        text-align: right;\n",
       "    }\n",
       "</style>\n",
       "<table border=\"1\" class=\"dataframe\">\n",
       "  <thead>\n",
       "    <tr style=\"text-align: right;\">\n",
       "      <th></th>\n",
       "      <th>_a3</th>\n",
       "      <th>_b5</th>\n",
       "      <th>_c8</th>\n",
       "      <th>_d12</th>\n",
       "    </tr>\n",
       "  </thead>\n",
       "  <tbody>\n",
       "    <tr>\n",
       "      <th>I</th>\n",
       "      <td>3</td>\n",
       "      <td>5</td>\n",
       "      <td>8</td>\n",
       "      <td>12</td>\n",
       "    </tr>\n",
       "    <tr>\n",
       "      <th>II</th>\n",
       "      <td>6</td>\n",
       "      <td>10</td>\n",
       "      <td>16</td>\n",
       "      <td>24</td>\n",
       "    </tr>\n",
       "    <tr>\n",
       "      <th>III</th>\n",
       "      <td>9</td>\n",
       "      <td>15</td>\n",
       "      <td>24</td>\n",
       "      <td>36</td>\n",
       "    </tr>\n",
       "    <tr>\n",
       "      <th>IV</th>\n",
       "      <td>12</td>\n",
       "      <td>20</td>\n",
       "      <td>32</td>\n",
       "      <td>48</td>\n",
       "    </tr>\n",
       "    <tr>\n",
       "      <th>V</th>\n",
       "      <td>15</td>\n",
       "      <td>25</td>\n",
       "      <td>40</td>\n",
       "      <td>60</td>\n",
       "    </tr>\n",
       "    <tr>\n",
       "      <th>VI</th>\n",
       "      <td>18</td>\n",
       "      <td>30</td>\n",
       "      <td>48</td>\n",
       "      <td>72</td>\n",
       "    </tr>\n",
       "  </tbody>\n",
       "</table>\n",
       "</div>"
      ],
      "text/plain": [
       "     _a3  _b5  _c8  _d12\n",
       "I      3    5    8    12\n",
       "II     6   10   16    24\n",
       "III    9   15   24    36\n",
       "IV    12   20   32    48\n",
       "V     15   25   40    60\n",
       "VI    18   30   48    72"
      ]
     },
     "execution_count": 244,
     "metadata": {},
     "output_type": "execute_result"
    }
   ],
   "source": [
    "df6.columns = ['_a3', '_b5', '_c8', '_d12']\n",
    "df6"
   ]
  },
  {
   "cell_type": "code",
   "execution_count": 245,
   "metadata": {},
   "outputs": [
    {
     "name": "stdout",
     "output_type": "stream",
     "text": [
      "A3\n",
      "B5\n",
      "C8\n",
      "D12\n"
     ]
    },
    {
     "data": {
      "text/html": [
       "<div>\n",
       "<style scoped>\n",
       "    .dataframe tbody tr th:only-of-type {\n",
       "        vertical-align: middle;\n",
       "    }\n",
       "\n",
       "    .dataframe tbody tr th {\n",
       "        vertical-align: top;\n",
       "    }\n",
       "\n",
       "    .dataframe thead th {\n",
       "        text-align: right;\n",
       "    }\n",
       "</style>\n",
       "<table border=\"1\" class=\"dataframe\">\n",
       "  <thead>\n",
       "    <tr style=\"text-align: right;\">\n",
       "      <th></th>\n",
       "      <th>_a3</th>\n",
       "      <th>_b5</th>\n",
       "      <th>_c8</th>\n",
       "      <th>_d12</th>\n",
       "    </tr>\n",
       "  </thead>\n",
       "  <tbody>\n",
       "    <tr>\n",
       "      <th>I</th>\n",
       "      <td>3</td>\n",
       "      <td>5</td>\n",
       "      <td>8</td>\n",
       "      <td>12</td>\n",
       "    </tr>\n",
       "    <tr>\n",
       "      <th>II</th>\n",
       "      <td>6</td>\n",
       "      <td>10</td>\n",
       "      <td>16</td>\n",
       "      <td>24</td>\n",
       "    </tr>\n",
       "    <tr>\n",
       "      <th>III</th>\n",
       "      <td>9</td>\n",
       "      <td>15</td>\n",
       "      <td>24</td>\n",
       "      <td>36</td>\n",
       "    </tr>\n",
       "    <tr>\n",
       "      <th>IV</th>\n",
       "      <td>12</td>\n",
       "      <td>20</td>\n",
       "      <td>32</td>\n",
       "      <td>48</td>\n",
       "    </tr>\n",
       "    <tr>\n",
       "      <th>V</th>\n",
       "      <td>15</td>\n",
       "      <td>25</td>\n",
       "      <td>40</td>\n",
       "      <td>60</td>\n",
       "    </tr>\n",
       "    <tr>\n",
       "      <th>VI</th>\n",
       "      <td>18</td>\n",
       "      <td>30</td>\n",
       "      <td>48</td>\n",
       "      <td>72</td>\n",
       "    </tr>\n",
       "  </tbody>\n",
       "</table>\n",
       "</div>"
      ],
      "text/plain": [
       "     _a3  _b5  _c8  _d12\n",
       "I      3    5    8    12\n",
       "II     6   10   16    24\n",
       "III    9   15   24    36\n",
       "IV    12   20   32    48\n",
       "V     15   25   40    60\n",
       "VI    18   30   48    72"
      ]
     },
     "execution_count": 245,
     "metadata": {},
     "output_type": "execute_result"
    }
   ],
   "source": [
    "for i in df6.columns:\n",
    "    i = i.upper()\n",
    "    i = i.strip('_')\n",
    "    print(i)\n",
    "df6              # nope, changed i's aren't assigned back to df6.columns"
   ]
  },
  {
   "cell_type": "code",
   "execution_count": 246,
   "metadata": {},
   "outputs": [
    {
     "data": {
      "text/html": [
       "<div>\n",
       "<style scoped>\n",
       "    .dataframe tbody tr th:only-of-type {\n",
       "        vertical-align: middle;\n",
       "    }\n",
       "\n",
       "    .dataframe tbody tr th {\n",
       "        vertical-align: top;\n",
       "    }\n",
       "\n",
       "    .dataframe thead th {\n",
       "        text-align: right;\n",
       "    }\n",
       "</style>\n",
       "<table border=\"1\" class=\"dataframe\">\n",
       "  <thead>\n",
       "    <tr style=\"text-align: right;\">\n",
       "      <th></th>\n",
       "      <th>A3</th>\n",
       "      <th>B5</th>\n",
       "      <th>C8</th>\n",
       "      <th>D12</th>\n",
       "    </tr>\n",
       "  </thead>\n",
       "  <tbody>\n",
       "    <tr>\n",
       "      <th>I</th>\n",
       "      <td>3</td>\n",
       "      <td>5</td>\n",
       "      <td>8</td>\n",
       "      <td>12</td>\n",
       "    </tr>\n",
       "    <tr>\n",
       "      <th>II</th>\n",
       "      <td>6</td>\n",
       "      <td>10</td>\n",
       "      <td>16</td>\n",
       "      <td>24</td>\n",
       "    </tr>\n",
       "    <tr>\n",
       "      <th>III</th>\n",
       "      <td>9</td>\n",
       "      <td>15</td>\n",
       "      <td>24</td>\n",
       "      <td>36</td>\n",
       "    </tr>\n",
       "    <tr>\n",
       "      <th>IV</th>\n",
       "      <td>12</td>\n",
       "      <td>20</td>\n",
       "      <td>32</td>\n",
       "      <td>48</td>\n",
       "    </tr>\n",
       "    <tr>\n",
       "      <th>V</th>\n",
       "      <td>15</td>\n",
       "      <td>25</td>\n",
       "      <td>40</td>\n",
       "      <td>60</td>\n",
       "    </tr>\n",
       "    <tr>\n",
       "      <th>VI</th>\n",
       "      <td>18</td>\n",
       "      <td>30</td>\n",
       "      <td>48</td>\n",
       "      <td>72</td>\n",
       "    </tr>\n",
       "  </tbody>\n",
       "</table>\n",
       "</div>"
      ],
      "text/plain": [
       "     A3  B5  C8  D12\n",
       "I     3   5   8   12\n",
       "II    6  10  16   24\n",
       "III   9  15  24   36\n",
       "IV   12  20  32   48\n",
       "V    15  25  40   60\n",
       "VI   18  30  48   72"
      ]
     },
     "execution_count": 246,
     "metadata": {},
     "output_type": "execute_result"
    }
   ],
   "source": [
    "# ...to fix this:\n",
    "df6.columns = [i.upper().strip('_') for i in df6.columns]\n",
    "df6"
   ]
  },
  {
   "cell_type": "code",
   "execution_count": 247,
   "metadata": {},
   "outputs": [
    {
     "data": {
      "text/html": [
       "<div>\n",
       "<style scoped>\n",
       "    .dataframe tbody tr th:only-of-type {\n",
       "        vertical-align: middle;\n",
       "    }\n",
       "\n",
       "    .dataframe tbody tr th {\n",
       "        vertical-align: top;\n",
       "    }\n",
       "\n",
       "    .dataframe thead th {\n",
       "        text-align: right;\n",
       "    }\n",
       "</style>\n",
       "<table border=\"1\" class=\"dataframe\">\n",
       "  <thead>\n",
       "    <tr style=\"text-align: right;\">\n",
       "      <th></th>\n",
       "      <th>A3</th>\n",
       "      <th>B5</th>\n",
       "      <th>C8</th>\n",
       "      <th>D12</th>\n",
       "    </tr>\n",
       "  </thead>\n",
       "  <tbody>\n",
       "    <tr>\n",
       "      <th>III</th>\n",
       "      <td>9</td>\n",
       "      <td>15</td>\n",
       "      <td>24</td>\n",
       "      <td>36</td>\n",
       "    </tr>\n",
       "    <tr>\n",
       "      <th>IV</th>\n",
       "      <td>12</td>\n",
       "      <td>20</td>\n",
       "      <td>32</td>\n",
       "      <td>48</td>\n",
       "    </tr>\n",
       "    <tr>\n",
       "      <th>V</th>\n",
       "      <td>15</td>\n",
       "      <td>25</td>\n",
       "      <td>40</td>\n",
       "      <td>60</td>\n",
       "    </tr>\n",
       "    <tr>\n",
       "      <th>VI</th>\n",
       "      <td>18</td>\n",
       "      <td>30</td>\n",
       "      <td>48</td>\n",
       "      <td>72</td>\n",
       "    </tr>\n",
       "  </tbody>\n",
       "</table>\n",
       "</div>"
      ],
      "text/plain": [
       "     A3  B5  C8  D12\n",
       "III   9  15  24   36\n",
       "IV   12  20  32   48\n",
       "V    15  25  40   60\n",
       "VI   18  30  48   72"
      ]
     },
     "execution_count": 247,
     "metadata": {},
     "output_type": "execute_result"
    }
   ],
   "source": [
    "df6[(df6['B5'] > 10) & (df6['C8'] < 50)]"
   ]
  },
  {
   "cell_type": "code",
   "execution_count": 248,
   "metadata": {},
   "outputs": [
    {
     "data": {
      "text/html": [
       "<div>\n",
       "<style scoped>\n",
       "    .dataframe tbody tr th:only-of-type {\n",
       "        vertical-align: middle;\n",
       "    }\n",
       "\n",
       "    .dataframe tbody tr th {\n",
       "        vertical-align: top;\n",
       "    }\n",
       "\n",
       "    .dataframe thead th {\n",
       "        text-align: right;\n",
       "    }\n",
       "</style>\n",
       "<table border=\"1\" class=\"dataframe\">\n",
       "  <thead>\n",
       "    <tr style=\"text-align: right;\">\n",
       "      <th></th>\n",
       "      <th>A3</th>\n",
       "      <th>B5</th>\n",
       "      <th>C8</th>\n",
       "      <th>D12</th>\n",
       "    </tr>\n",
       "  </thead>\n",
       "  <tbody>\n",
       "    <tr>\n",
       "      <th>III</th>\n",
       "      <td>9</td>\n",
       "      <td>15</td>\n",
       "      <td>24</td>\n",
       "      <td>36</td>\n",
       "    </tr>\n",
       "    <tr>\n",
       "      <th>IV</th>\n",
       "      <td>12</td>\n",
       "      <td>20</td>\n",
       "      <td>32</td>\n",
       "      <td>48</td>\n",
       "    </tr>\n",
       "    <tr>\n",
       "      <th>V</th>\n",
       "      <td>15</td>\n",
       "      <td>25</td>\n",
       "      <td>40</td>\n",
       "      <td>60</td>\n",
       "    </tr>\n",
       "  </tbody>\n",
       "</table>\n",
       "</div>"
      ],
      "text/plain": [
       "     A3  B5  C8  D12\n",
       "III   9  15  24   36\n",
       "IV   12  20  32   48\n",
       "V    15  25  40   60"
      ]
     },
     "execution_count": 248,
     "metadata": {},
     "output_type": "execute_result"
    }
   ],
   "source": [
    "df6[df6['B5'].isin(range(15,30))]"
   ]
  },
  {
   "cell_type": "code",
   "execution_count": 249,
   "metadata": {},
   "outputs": [
    {
     "data": {
      "text/html": [
       "<div>\n",
       "<style scoped>\n",
       "    .dataframe tbody tr th:only-of-type {\n",
       "        vertical-align: middle;\n",
       "    }\n",
       "\n",
       "    .dataframe tbody tr th {\n",
       "        vertical-align: top;\n",
       "    }\n",
       "\n",
       "    .dataframe thead th {\n",
       "        text-align: right;\n",
       "    }\n",
       "</style>\n",
       "<table border=\"1\" class=\"dataframe\">\n",
       "  <thead>\n",
       "    <tr style=\"text-align: right;\">\n",
       "      <th></th>\n",
       "      <th>_A3</th>\n",
       "      <th>B5</th>\n",
       "      <th>C8</th>\n",
       "      <th>D12</th>\n",
       "    </tr>\n",
       "  </thead>\n",
       "  <tbody>\n",
       "    <tr>\n",
       "      <th>I</th>\n",
       "      <td>3</td>\n",
       "      <td>5</td>\n",
       "      <td>8</td>\n",
       "      <td>12</td>\n",
       "    </tr>\n",
       "    <tr>\n",
       "      <th>II</th>\n",
       "      <td>6</td>\n",
       "      <td>10</td>\n",
       "      <td>16</td>\n",
       "      <td>24</td>\n",
       "    </tr>\n",
       "    <tr>\n",
       "      <th>III</th>\n",
       "      <td>9</td>\n",
       "      <td>15</td>\n",
       "      <td>24</td>\n",
       "      <td>36</td>\n",
       "    </tr>\n",
       "    <tr>\n",
       "      <th>IV</th>\n",
       "      <td>12</td>\n",
       "      <td>20</td>\n",
       "      <td>32</td>\n",
       "      <td>48</td>\n",
       "    </tr>\n",
       "    <tr>\n",
       "      <th>V</th>\n",
       "      <td>15</td>\n",
       "      <td>25</td>\n",
       "      <td>40</td>\n",
       "      <td>60</td>\n",
       "    </tr>\n",
       "    <tr>\n",
       "      <th>VI</th>\n",
       "      <td>18</td>\n",
       "      <td>30</td>\n",
       "      <td>48</td>\n",
       "      <td>72</td>\n",
       "    </tr>\n",
       "  </tbody>\n",
       "</table>\n",
       "</div>"
      ],
      "text/plain": [
       "     _A3  B5  C8  D12\n",
       "I      3   5   8   12\n",
       "II     6  10  16   24\n",
       "III    9  15  24   36\n",
       "IV    12  20  32   48\n",
       "V     15  25  40   60\n",
       "VI    18  30  48   72"
      ]
     },
     "execution_count": 249,
     "metadata": {},
     "output_type": "execute_result"
    }
   ],
   "source": [
    "df6.rename(columns={'A3': '_A3'}, inplace=True)\n",
    "df6"
   ]
  },
  {
   "cell_type": "code",
   "execution_count": 250,
   "metadata": {},
   "outputs": [
    {
     "data": {
      "text/html": [
       "<div>\n",
       "<style scoped>\n",
       "    .dataframe tbody tr th:only-of-type {\n",
       "        vertical-align: middle;\n",
       "    }\n",
       "\n",
       "    .dataframe tbody tr th {\n",
       "        vertical-align: top;\n",
       "    }\n",
       "\n",
       "    .dataframe thead th {\n",
       "        text-align: right;\n",
       "    }\n",
       "</style>\n",
       "<table border=\"1\" class=\"dataframe\">\n",
       "  <thead>\n",
       "    <tr style=\"text-align: right;\">\n",
       "      <th></th>\n",
       "      <th>A3</th>\n",
       "      <th>B5</th>\n",
       "      <th>C8</th>\n",
       "      <th>D12</th>\n",
       "    </tr>\n",
       "  </thead>\n",
       "  <tbody>\n",
       "    <tr>\n",
       "      <th>I</th>\n",
       "      <td>3</td>\n",
       "      <td>5</td>\n",
       "      <td>8</td>\n",
       "      <td>12</td>\n",
       "    </tr>\n",
       "    <tr>\n",
       "      <th>II</th>\n",
       "      <td>6</td>\n",
       "      <td>10</td>\n",
       "      <td>16</td>\n",
       "      <td>24</td>\n",
       "    </tr>\n",
       "    <tr>\n",
       "      <th>III</th>\n",
       "      <td>9</td>\n",
       "      <td>15</td>\n",
       "      <td>24</td>\n",
       "      <td>36</td>\n",
       "    </tr>\n",
       "    <tr>\n",
       "      <th>IV</th>\n",
       "      <td>12</td>\n",
       "      <td>20</td>\n",
       "      <td>32</td>\n",
       "      <td>48</td>\n",
       "    </tr>\n",
       "    <tr>\n",
       "      <th>V</th>\n",
       "      <td>15</td>\n",
       "      <td>25</td>\n",
       "      <td>40</td>\n",
       "      <td>60</td>\n",
       "    </tr>\n",
       "    <tr>\n",
       "      <th>VI</th>\n",
       "      <td>18</td>\n",
       "      <td>30</td>\n",
       "      <td>48</td>\n",
       "      <td>72</td>\n",
       "    </tr>\n",
       "  </tbody>\n",
       "</table>\n",
       "</div>"
      ],
      "text/plain": [
       "        A3     B5  C8  D12\n",
       "I           3   5   8   12\n",
       "II          6  10  16   24\n",
       "III         9  15  24   36\n",
       "IV         12  20  32   48\n",
       "V          15  25  40   60\n",
       "VI         18  30  48   72"
      ]
     },
     "execution_count": 250,
     "metadata": {},
     "output_type": "execute_result"
    }
   ],
   "source": [
    "df6.rename(mapper={'_A3': '   A3   '}, axis=1, inplace=True)\n",
    "df6"
   ]
  },
  {
   "cell_type": "code",
   "execution_count": 251,
   "metadata": {},
   "outputs": [
    {
     "data": {
      "text/html": [
       "<div>\n",
       "<style scoped>\n",
       "    .dataframe tbody tr th:only-of-type {\n",
       "        vertical-align: middle;\n",
       "    }\n",
       "\n",
       "    .dataframe tbody tr th {\n",
       "        vertical-align: top;\n",
       "    }\n",
       "\n",
       "    .dataframe thead th {\n",
       "        text-align: right;\n",
       "    }\n",
       "</style>\n",
       "<table border=\"1\" class=\"dataframe\">\n",
       "  <thead>\n",
       "    <tr style=\"text-align: right;\">\n",
       "      <th></th>\n",
       "      <th>A3</th>\n",
       "      <th>B5</th>\n",
       "      <th>C8</th>\n",
       "      <th>D12</th>\n",
       "    </tr>\n",
       "  </thead>\n",
       "  <tbody>\n",
       "    <tr>\n",
       "      <th>I</th>\n",
       "      <td>3</td>\n",
       "      <td>5</td>\n",
       "      <td>8</td>\n",
       "      <td>12</td>\n",
       "    </tr>\n",
       "    <tr>\n",
       "      <th>II</th>\n",
       "      <td>6</td>\n",
       "      <td>10</td>\n",
       "      <td>16</td>\n",
       "      <td>24</td>\n",
       "    </tr>\n",
       "    <tr>\n",
       "      <th>III</th>\n",
       "      <td>9</td>\n",
       "      <td>15</td>\n",
       "      <td>24</td>\n",
       "      <td>36</td>\n",
       "    </tr>\n",
       "    <tr>\n",
       "      <th>IV</th>\n",
       "      <td>12</td>\n",
       "      <td>20</td>\n",
       "      <td>32</td>\n",
       "      <td>48</td>\n",
       "    </tr>\n",
       "    <tr>\n",
       "      <th>V</th>\n",
       "      <td>15</td>\n",
       "      <td>25</td>\n",
       "      <td>40</td>\n",
       "      <td>60</td>\n",
       "    </tr>\n",
       "    <tr>\n",
       "      <th>VI</th>\n",
       "      <td>18</td>\n",
       "      <td>30</td>\n",
       "      <td>48</td>\n",
       "      <td>72</td>\n",
       "    </tr>\n",
       "  </tbody>\n",
       "</table>\n",
       "</div>"
      ],
      "text/plain": [
       "     A3  B5  C8  D12\n",
       "I     3   5   8   12\n",
       "II    6  10  16   24\n",
       "III   9  15  24   36\n",
       "IV   12  20  32   48\n",
       "V    15  25  40   60\n",
       "VI   18  30  48   72"
      ]
     },
     "execution_count": 251,
     "metadata": {},
     "output_type": "execute_result"
    }
   ],
   "source": [
    "df6.rename(mapper=str.strip, axis=1, inplace=True)\n",
    "df6"
   ]
  },
  {
   "cell_type": "code",
   "execution_count": 252,
   "metadata": {},
   "outputs": [
    {
     "data": {
      "text/html": [
       "<div>\n",
       "<style scoped>\n",
       "    .dataframe tbody tr th:only-of-type {\n",
       "        vertical-align: middle;\n",
       "    }\n",
       "\n",
       "    .dataframe tbody tr th {\n",
       "        vertical-align: top;\n",
       "    }\n",
       "\n",
       "    .dataframe thead th {\n",
       "        text-align: right;\n",
       "    }\n",
       "</style>\n",
       "<table border=\"1\" class=\"dataframe\">\n",
       "  <thead>\n",
       "    <tr style=\"text-align: right;\">\n",
       "      <th></th>\n",
       "      <th>A3</th>\n",
       "      <th>B5</th>\n",
       "      <th>C8</th>\n",
       "      <th>D12</th>\n",
       "    </tr>\n",
       "  </thead>\n",
       "  <tbody>\n",
       "    <tr>\n",
       "      <th>I</th>\n",
       "      <td>99.0</td>\n",
       "      <td>5</td>\n",
       "      <td>8</td>\n",
       "      <td>12</td>\n",
       "    </tr>\n",
       "    <tr>\n",
       "      <th>II</th>\n",
       "      <td>88.0</td>\n",
       "      <td>10</td>\n",
       "      <td>16</td>\n",
       "      <td>24</td>\n",
       "    </tr>\n",
       "    <tr>\n",
       "      <th>III</th>\n",
       "      <td>77.0</td>\n",
       "      <td>15</td>\n",
       "      <td>24</td>\n",
       "      <td>36</td>\n",
       "    </tr>\n",
       "    <tr>\n",
       "      <th>IV</th>\n",
       "      <td>66.0</td>\n",
       "      <td>20</td>\n",
       "      <td>32</td>\n",
       "      <td>48</td>\n",
       "    </tr>\n",
       "    <tr>\n",
       "      <th>V</th>\n",
       "      <td>NaN</td>\n",
       "      <td>25</td>\n",
       "      <td>40</td>\n",
       "      <td>60</td>\n",
       "    </tr>\n",
       "    <tr>\n",
       "      <th>VI</th>\n",
       "      <td>NaN</td>\n",
       "      <td>30</td>\n",
       "      <td>48</td>\n",
       "      <td>72</td>\n",
       "    </tr>\n",
       "  </tbody>\n",
       "</table>\n",
       "</div>"
      ],
      "text/plain": [
       "       A3  B5  C8  D12\n",
       "I    99.0   5   8   12\n",
       "II   88.0  10  16   24\n",
       "III  77.0  15  24   36\n",
       "IV   66.0  20  32   48\n",
       "V     NaN  25  40   60\n",
       "VI    NaN  30  48   72"
      ]
     },
     "execution_count": 252,
     "metadata": {},
     "output_type": "execute_result"
    }
   ],
   "source": [
    "df6['A3'] = df6['A3'].map({3: 99, 6: 88, 9: 77, 12: 66})\n",
    "df6"
   ]
  },
  {
   "cell_type": "code",
   "execution_count": 253,
   "metadata": {},
   "outputs": [
    {
     "data": {
      "text/html": [
       "<div>\n",
       "<style scoped>\n",
       "    .dataframe tbody tr th:only-of-type {\n",
       "        vertical-align: middle;\n",
       "    }\n",
       "\n",
       "    .dataframe tbody tr th {\n",
       "        vertical-align: top;\n",
       "    }\n",
       "\n",
       "    .dataframe thead th {\n",
       "        text-align: right;\n",
       "    }\n",
       "</style>\n",
       "<table border=\"1\" class=\"dataframe\">\n",
       "  <thead>\n",
       "    <tr style=\"text-align: right;\">\n",
       "      <th></th>\n",
       "      <th>A3</th>\n",
       "      <th>B5</th>\n",
       "      <th>C8</th>\n",
       "      <th>D12</th>\n",
       "    </tr>\n",
       "  </thead>\n",
       "  <tbody>\n",
       "    <tr>\n",
       "      <th>I</th>\n",
       "      <td>101.0</td>\n",
       "      <td>7</td>\n",
       "      <td>10</td>\n",
       "      <td>14</td>\n",
       "    </tr>\n",
       "    <tr>\n",
       "      <th>II</th>\n",
       "      <td>90.0</td>\n",
       "      <td>12</td>\n",
       "      <td>18</td>\n",
       "      <td>26</td>\n",
       "    </tr>\n",
       "    <tr>\n",
       "      <th>III</th>\n",
       "      <td>79.0</td>\n",
       "      <td>17</td>\n",
       "      <td>26</td>\n",
       "      <td>38</td>\n",
       "    </tr>\n",
       "    <tr>\n",
       "      <th>IV</th>\n",
       "      <td>68.0</td>\n",
       "      <td>22</td>\n",
       "      <td>34</td>\n",
       "      <td>50</td>\n",
       "    </tr>\n",
       "    <tr>\n",
       "      <th>V</th>\n",
       "      <td>NaN</td>\n",
       "      <td>27</td>\n",
       "      <td>42</td>\n",
       "      <td>62</td>\n",
       "    </tr>\n",
       "    <tr>\n",
       "      <th>VI</th>\n",
       "      <td>NaN</td>\n",
       "      <td>32</td>\n",
       "      <td>50</td>\n",
       "      <td>74</td>\n",
       "    </tr>\n",
       "  </tbody>\n",
       "</table>\n",
       "</div>"
      ],
      "text/plain": [
       "        A3  B5  C8  D12\n",
       "I    101.0   7  10   14\n",
       "II    90.0  12  18   26\n",
       "III   79.0  17  26   38\n",
       "IV    68.0  22  34   50\n",
       "V      NaN  27  42   62\n",
       "VI     NaN  32  50   74"
      ]
     },
     "execution_count": 253,
     "metadata": {},
     "output_type": "execute_result"
    }
   ],
   "source": [
    "df6 = df6.applymap(lambda x: x+2)\n",
    "df6"
   ]
  },
  {
   "cell_type": "code",
   "execution_count": 254,
   "metadata": {},
   "outputs": [
    {
     "data": {
      "text/html": [
       "<div>\n",
       "<style scoped>\n",
       "    .dataframe tbody tr th:only-of-type {\n",
       "        vertical-align: middle;\n",
       "    }\n",
       "\n",
       "    .dataframe tbody tr th {\n",
       "        vertical-align: top;\n",
       "    }\n",
       "\n",
       "    .dataframe thead th {\n",
       "        text-align: right;\n",
       "    }\n",
       "</style>\n",
       "<table border=\"1\" class=\"dataframe\">\n",
       "  <thead>\n",
       "    <tr style=\"text-align: right;\">\n",
       "      <th></th>\n",
       "      <th>A3</th>\n",
       "      <th>B5</th>\n",
       "      <th>C8</th>\n",
       "      <th>D12</th>\n",
       "      <th>mod1</th>\n",
       "    </tr>\n",
       "  </thead>\n",
       "  <tbody>\n",
       "    <tr>\n",
       "      <th>I</th>\n",
       "      <td>101.0</td>\n",
       "      <td>7</td>\n",
       "      <td>10</td>\n",
       "      <td>14</td>\n",
       "      <td>9.0</td>\n",
       "    </tr>\n",
       "    <tr>\n",
       "      <th>II</th>\n",
       "      <td>90.0</td>\n",
       "      <td>12</td>\n",
       "      <td>18</td>\n",
       "      <td>26</td>\n",
       "      <td>14.0</td>\n",
       "    </tr>\n",
       "    <tr>\n",
       "      <th>III</th>\n",
       "      <td>79.0</td>\n",
       "      <td>17</td>\n",
       "      <td>26</td>\n",
       "      <td>38</td>\n",
       "      <td>19.0</td>\n",
       "    </tr>\n",
       "    <tr>\n",
       "      <th>IV</th>\n",
       "      <td>68.0</td>\n",
       "      <td>22</td>\n",
       "      <td>34</td>\n",
       "      <td>50</td>\n",
       "      <td>24.0</td>\n",
       "    </tr>\n",
       "    <tr>\n",
       "      <th>V</th>\n",
       "      <td>NaN</td>\n",
       "      <td>27</td>\n",
       "      <td>42</td>\n",
       "      <td>62</td>\n",
       "      <td>29.0</td>\n",
       "    </tr>\n",
       "    <tr>\n",
       "      <th>VI</th>\n",
       "      <td>NaN</td>\n",
       "      <td>32</td>\n",
       "      <td>50</td>\n",
       "      <td>74</td>\n",
       "      <td>34.0</td>\n",
       "    </tr>\n",
       "  </tbody>\n",
       "</table>\n",
       "</div>"
      ],
      "text/plain": [
       "        A3  B5  C8  D12  mod1\n",
       "I    101.0   7  10   14   9.0\n",
       "II    90.0  12  18   26  14.0\n",
       "III   79.0  17  26   38  19.0\n",
       "IV    68.0  22  34   50  24.0\n",
       "V      NaN  27  42   62  29.0\n",
       "VI     NaN  32  50   74  34.0"
      ]
     },
     "execution_count": 254,
     "metadata": {},
     "output_type": "execute_result"
    }
   ],
   "source": [
    "df6['mod1'] = df6.apply(lambda x: x['B5']+2, axis=1)\n",
    "df6"
   ]
  },
  {
   "cell_type": "code",
   "execution_count": 255,
   "metadata": {},
   "outputs": [
    {
     "data": {
      "text/html": [
       "<div>\n",
       "<style scoped>\n",
       "    .dataframe tbody tr th:only-of-type {\n",
       "        vertical-align: middle;\n",
       "    }\n",
       "\n",
       "    .dataframe tbody tr th {\n",
       "        vertical-align: top;\n",
       "    }\n",
       "\n",
       "    .dataframe thead th {\n",
       "        text-align: right;\n",
       "    }\n",
       "</style>\n",
       "<table border=\"1\" class=\"dataframe\">\n",
       "  <thead>\n",
       "    <tr style=\"text-align: right;\">\n",
       "      <th></th>\n",
       "      <th>President</th>\n",
       "    </tr>\n",
       "  </thead>\n",
       "  <tbody>\n",
       "    <tr>\n",
       "      <th>0</th>\n",
       "      <td>George Washington</td>\n",
       "    </tr>\n",
       "    <tr>\n",
       "      <th>1</th>\n",
       "      <td>John Adams</td>\n",
       "    </tr>\n",
       "    <tr>\n",
       "      <th>2</th>\n",
       "      <td>Thomas Jefferson</td>\n",
       "    </tr>\n",
       "    <tr>\n",
       "      <th>3</th>\n",
       "      <td>James Madison</td>\n",
       "    </tr>\n",
       "    <tr>\n",
       "      <th>4</th>\n",
       "      <td>James Monroe</td>\n",
       "    </tr>\n",
       "  </tbody>\n",
       "</table>\n",
       "</div>"
      ],
      "text/plain": [
       "           President\n",
       "0  George Washington\n",
       "1         John Adams\n",
       "2   Thomas Jefferson\n",
       "3      James Madison\n",
       "4       James Monroe"
      ]
     },
     "execution_count": 255,
     "metadata": {},
     "output_type": "execute_result"
    }
   ],
   "source": [
    "df13 = pd.DataFrame({'President': ['George Washington', 'John Adams', 'Thomas Jefferson', 'James Madison', 'James Monroe']})\n",
    "df13"
   ]
  },
  {
   "cell_type": "code",
   "execution_count": 256,
   "metadata": {},
   "outputs": [
    {
     "data": {
      "text/html": [
       "<div>\n",
       "<style scoped>\n",
       "    .dataframe tbody tr th:only-of-type {\n",
       "        vertical-align: middle;\n",
       "    }\n",
       "\n",
       "    .dataframe tbody tr th {\n",
       "        vertical-align: top;\n",
       "    }\n",
       "\n",
       "    .dataframe thead th {\n",
       "        text-align: right;\n",
       "    }\n",
       "</style>\n",
       "<table border=\"1\" class=\"dataframe\">\n",
       "  <thead>\n",
       "    <tr style=\"text-align: right;\">\n",
       "      <th></th>\n",
       "      <th>First</th>\n",
       "      <th>Last</th>\n",
       "    </tr>\n",
       "  </thead>\n",
       "  <tbody>\n",
       "    <tr>\n",
       "      <th>0</th>\n",
       "      <td>George</td>\n",
       "      <td>Washington</td>\n",
       "    </tr>\n",
       "    <tr>\n",
       "      <th>1</th>\n",
       "      <td>John</td>\n",
       "      <td>Adams</td>\n",
       "    </tr>\n",
       "    <tr>\n",
       "      <th>2</th>\n",
       "      <td>Thomas</td>\n",
       "      <td>Jefferson</td>\n",
       "    </tr>\n",
       "    <tr>\n",
       "      <th>3</th>\n",
       "      <td>James</td>\n",
       "      <td>Madison</td>\n",
       "    </tr>\n",
       "    <tr>\n",
       "      <th>4</th>\n",
       "      <td>James</td>\n",
       "      <td>Monroe</td>\n",
       "    </tr>\n",
       "  </tbody>\n",
       "</table>\n",
       "</div>"
      ],
      "text/plain": [
       "    First        Last\n",
       "0  George  Washington\n",
       "1    John       Adams\n",
       "2  Thomas   Jefferson\n",
       "3   James     Madison\n",
       "4   James      Monroe"
      ]
     },
     "execution_count": 256,
     "metadata": {},
     "output_type": "execute_result"
    }
   ],
   "source": [
    "pattern = '(?P<First>[\\w]+)(?:.* )(?P<Last>[\\w]+)'\n",
    "df14 = df13['President'].str.extract(pattern)\n",
    "df14"
   ]
  },
  {
   "cell_type": "code",
   "execution_count": 257,
   "metadata": {},
   "outputs": [
    {
     "data": {
      "text/html": [
       "<div>\n",
       "<style scoped>\n",
       "    .dataframe tbody tr th:only-of-type {\n",
       "        vertical-align: middle;\n",
       "    }\n",
       "\n",
       "    .dataframe tbody tr th {\n",
       "        vertical-align: top;\n",
       "    }\n",
       "\n",
       "    .dataframe thead th {\n",
       "        text-align: right;\n",
       "    }\n",
       "</style>\n",
       "<table border=\"1\" class=\"dataframe\">\n",
       "  <thead>\n",
       "    <tr style=\"text-align: right;\">\n",
       "      <th></th>\n",
       "      <th>President</th>\n",
       "      <th>First</th>\n",
       "      <th>Last</th>\n",
       "    </tr>\n",
       "  </thead>\n",
       "  <tbody>\n",
       "    <tr>\n",
       "      <th>0</th>\n",
       "      <td>George Washington</td>\n",
       "      <td>George</td>\n",
       "      <td>Washington</td>\n",
       "    </tr>\n",
       "    <tr>\n",
       "      <th>1</th>\n",
       "      <td>John Adams</td>\n",
       "      <td>John</td>\n",
       "      <td>Adams</td>\n",
       "    </tr>\n",
       "    <tr>\n",
       "      <th>2</th>\n",
       "      <td>Thomas Jefferson</td>\n",
       "      <td>Thomas</td>\n",
       "      <td>Jefferson</td>\n",
       "    </tr>\n",
       "    <tr>\n",
       "      <th>3</th>\n",
       "      <td>James Madison</td>\n",
       "      <td>James</td>\n",
       "      <td>Madison</td>\n",
       "    </tr>\n",
       "    <tr>\n",
       "      <th>4</th>\n",
       "      <td>James Monroe</td>\n",
       "      <td>James</td>\n",
       "      <td>Monroe</td>\n",
       "    </tr>\n",
       "  </tbody>\n",
       "</table>\n",
       "</div>"
      ],
      "text/plain": [
       "           President   First        Last\n",
       "0  George Washington  George  Washington\n",
       "1         John Adams    John       Adams\n",
       "2   Thomas Jefferson  Thomas   Jefferson\n",
       "3      James Madison   James     Madison\n",
       "4       James Monroe   James      Monroe"
      ]
     },
     "execution_count": 257,
     "metadata": {},
     "output_type": "execute_result"
    }
   ],
   "source": [
    "df13['First'] = df14['First']\n",
    "df13['Last'] = df14['Last']\n",
    "df13"
   ]
  },
  {
   "cell_type": "code",
   "execution_count": 258,
   "metadata": {},
   "outputs": [],
   "source": [
    "#help(pd.Series.str)\n",
    "# pd.Series.str.extract can work on regex\n",
    "# pd.Series.replace can also work on regex"
   ]
  },
  {
   "cell_type": "code",
   "execution_count": 259,
   "metadata": {},
   "outputs": [],
   "source": [
    "# (?P<#key>#value) to introduce a dict using regex\n",
    "# (?:) to not capture those in the parenthesis"
   ]
  },
  {
   "cell_type": "code",
   "execution_count": 296,
   "metadata": {},
   "outputs": [
    {
     "data": {
      "text/html": [
       "<div>\n",
       "<style scoped>\n",
       "    .dataframe tbody tr th:only-of-type {\n",
       "        vertical-align: middle;\n",
       "    }\n",
       "\n",
       "    .dataframe tbody tr th {\n",
       "        vertical-align: top;\n",
       "    }\n",
       "\n",
       "    .dataframe thead th {\n",
       "        text-align: right;\n",
       "    }\n",
       "</style>\n",
       "<table border=\"1\" class=\"dataframe\">\n",
       "  <thead>\n",
       "    <tr style=\"text-align: right;\">\n",
       "      <th></th>\n",
       "      <th>A</th>\n",
       "      <th>B</th>\n",
       "      <th>C</th>\n",
       "    </tr>\n",
       "  </thead>\n",
       "  <tbody>\n",
       "    <tr>\n",
       "      <th>I</th>\n",
       "      <td>2</td>\n",
       "      <td>3</td>\n",
       "      <td>5</td>\n",
       "    </tr>\n",
       "    <tr>\n",
       "      <th>II</th>\n",
       "      <td>7</td>\n",
       "      <td>3</td>\n",
       "      <td>1</td>\n",
       "    </tr>\n",
       "    <tr>\n",
       "      <th>III</th>\n",
       "      <td>3</td>\n",
       "      <td>1</td>\n",
       "      <td>9</td>\n",
       "    </tr>\n",
       "    <tr>\n",
       "      <th>IV</th>\n",
       "      <td>2</td>\n",
       "      <td>5</td>\n",
       "      <td>3</td>\n",
       "    </tr>\n",
       "    <tr>\n",
       "      <th>V</th>\n",
       "      <td>2</td>\n",
       "      <td>6</td>\n",
       "      <td>7</td>\n",
       "    </tr>\n",
       "    <tr>\n",
       "      <th>VI</th>\n",
       "      <td>7</td>\n",
       "      <td>5</td>\n",
       "      <td>8</td>\n",
       "    </tr>\n",
       "  </tbody>\n",
       "</table>\n",
       "</div>"
      ],
      "text/plain": [
       "     A  B  C\n",
       "I    2  3  5\n",
       "II   7  3  1\n",
       "III  3  1  9\n",
       "IV   2  5  3\n",
       "V    2  6  7\n",
       "VI   7  5  8"
      ]
     },
     "execution_count": 296,
     "metadata": {},
     "output_type": "execute_result"
    }
   ],
   "source": [
    "df15 = pd.DataFrame([[2,3,5],[7,3,1],[3,1,9],[2,5,3],[2,6,7],[7,5,8]],\n",
    "                   index=['I','II','III','IV','V','VI'],\n",
    "                   columns=['A','B','C'])\n",
    "df15"
   ]
  },
  {
   "cell_type": "code",
   "execution_count": 297,
   "metadata": {},
   "outputs": [
    {
     "name": "stdout",
     "output_type": "stream",
     "text": [
      "2 \n",
      "-------------------\n",
      "    A  B  C\n",
      "I   2  3  5\n",
      "IV  2  5  3\n",
      "V   2  6  7 \n",
      "-------------------\n",
      "3 \n",
      "-------------------\n",
      "     A  B  C\n",
      "III  3  1  9 \n",
      "-------------------\n",
      "7 \n",
      "-------------------\n",
      "    A  B  C\n",
      "II  7  3  1\n",
      "VI  7  5  8 \n",
      "-------------------\n"
     ]
    }
   ],
   "source": [
    "for group, frame in df15.groupby(by='A'):        # .groupby() returns a list of tuples\n",
    "    print (group,'\\n-------------------')\n",
    "    print (frame,'\\n-------------------')\n",
    "\n",
    "#help(pd.DataFrame.groupby)"
   ]
  },
  {
   "cell_type": "code",
   "execution_count": 298,
   "metadata": {},
   "outputs": [
    {
     "data": {
      "text/html": [
       "<div>\n",
       "<style scoped>\n",
       "    .dataframe tbody tr th:only-of-type {\n",
       "        vertical-align: middle;\n",
       "    }\n",
       "\n",
       "    .dataframe tbody tr th {\n",
       "        vertical-align: top;\n",
       "    }\n",
       "\n",
       "    .dataframe thead th {\n",
       "        text-align: right;\n",
       "    }\n",
       "</style>\n",
       "<table border=\"1\" class=\"dataframe\">\n",
       "  <thead>\n",
       "    <tr style=\"text-align: right;\">\n",
       "      <th></th>\n",
       "      <th>A</th>\n",
       "      <th>B</th>\n",
       "      <th>C</th>\n",
       "    </tr>\n",
       "  </thead>\n",
       "  <tbody>\n",
       "    <tr>\n",
       "      <th>I</th>\n",
       "      <td>2</td>\n",
       "      <td>3</td>\n",
       "      <td>5</td>\n",
       "    </tr>\n",
       "    <tr>\n",
       "      <th>IV</th>\n",
       "      <td>2</td>\n",
       "      <td>5</td>\n",
       "      <td>3</td>\n",
       "    </tr>\n",
       "    <tr>\n",
       "      <th>V</th>\n",
       "      <td>2</td>\n",
       "      <td>6</td>\n",
       "      <td>7</td>\n",
       "    </tr>\n",
       "  </tbody>\n",
       "</table>\n",
       "</div>"
      ],
      "text/plain": [
       "    A  B  C\n",
       "I   2  3  5\n",
       "IV  2  5  3\n",
       "V   2  6  7"
      ]
     },
     "execution_count": 298,
     "metadata": {},
     "output_type": "execute_result"
    }
   ],
   "source": [
    "df15.groupby('A').get_group(2)"
   ]
  },
  {
   "cell_type": "code",
   "execution_count": 301,
   "metadata": {},
   "outputs": [
    {
     "data": {
      "text/plain": [
       "{2:     A  B  C\n",
       " I   2  3  5\n",
       " IV  2  5  3\n",
       " V   2  6  7,\n",
       " 3:      A  B  C\n",
       " III  3  1  9,\n",
       " 7:     A  B  C\n",
       " II  7  3  1\n",
       " VI  7  5  8}"
      ]
     },
     "execution_count": 301,
     "metadata": {},
     "output_type": "execute_result"
    }
   ],
   "source": [
    "# [df15.groupby('A').get_group(i) for i in df15.groupby('A').groups]       list comprehension\n",
    "{i: df15.groupby('A').get_group(i) for i in df15.groupby('A').groups}    # dict comprehension"
   ]
  },
  {
   "cell_type": "code",
   "execution_count": 302,
   "metadata": {},
   "outputs": [
    {
     "data": {
      "text/html": [
       "<div>\n",
       "<style scoped>\n",
       "    .dataframe tbody tr th:only-of-type {\n",
       "        vertical-align: middle;\n",
       "    }\n",
       "\n",
       "    .dataframe tbody tr th {\n",
       "        vertical-align: top;\n",
       "    }\n",
       "\n",
       "    .dataframe thead th {\n",
       "        text-align: right;\n",
       "    }\n",
       "</style>\n",
       "<table border=\"1\" class=\"dataframe\">\n",
       "  <thead>\n",
       "    <tr style=\"text-align: right;\">\n",
       "      <th></th>\n",
       "      <th>B</th>\n",
       "      <th>C</th>\n",
       "    </tr>\n",
       "    <tr>\n",
       "      <th>A</th>\n",
       "      <th></th>\n",
       "      <th></th>\n",
       "    </tr>\n",
       "  </thead>\n",
       "  <tbody>\n",
       "    <tr>\n",
       "      <th>2</th>\n",
       "      <td>4.666667</td>\n",
       "      <td>5.0</td>\n",
       "    </tr>\n",
       "    <tr>\n",
       "      <th>3</th>\n",
       "      <td>1.000000</td>\n",
       "      <td>9.0</td>\n",
       "    </tr>\n",
       "    <tr>\n",
       "      <th>7</th>\n",
       "      <td>4.000000</td>\n",
       "      <td>4.5</td>\n",
       "    </tr>\n",
       "  </tbody>\n",
       "</table>\n",
       "</div>"
      ],
      "text/plain": [
       "          B    C\n",
       "A               \n",
       "2  4.666667  5.0\n",
       "3  1.000000  9.0\n",
       "7  4.000000  4.5"
      ]
     },
     "execution_count": 302,
     "metadata": {},
     "output_type": "execute_result"
    }
   ],
   "source": [
    "df15.groupby('A').mean()"
   ]
  },
  {
   "cell_type": "code",
   "execution_count": 307,
   "metadata": {},
   "outputs": [
    {
     "data": {
      "text/html": [
       "<div>\n",
       "<style scoped>\n",
       "    .dataframe tbody tr th:only-of-type {\n",
       "        vertical-align: middle;\n",
       "    }\n",
       "\n",
       "    .dataframe tbody tr th {\n",
       "        vertical-align: top;\n",
       "    }\n",
       "\n",
       "    .dataframe thead th {\n",
       "        text-align: right;\n",
       "    }\n",
       "</style>\n",
       "<table border=\"1\" class=\"dataframe\">\n",
       "  <thead>\n",
       "    <tr style=\"text-align: right;\">\n",
       "      <th></th>\n",
       "      <th>B</th>\n",
       "      <th>C</th>\n",
       "    </tr>\n",
       "    <tr>\n",
       "      <th>A</th>\n",
       "      <th></th>\n",
       "      <th></th>\n",
       "    </tr>\n",
       "  </thead>\n",
       "  <tbody>\n",
       "    <tr>\n",
       "      <th>2</th>\n",
       "      <td>4.666667</td>\n",
       "      <td>5.0</td>\n",
       "    </tr>\n",
       "    <tr>\n",
       "      <th>3</th>\n",
       "      <td>1.000000</td>\n",
       "      <td>9.0</td>\n",
       "    </tr>\n",
       "    <tr>\n",
       "      <th>7</th>\n",
       "      <td>4.000000</td>\n",
       "      <td>4.5</td>\n",
       "    </tr>\n",
       "  </tbody>\n",
       "</table>\n",
       "</div>"
      ],
      "text/plain": [
       "          B    C\n",
       "A               \n",
       "2  4.666667  5.0\n",
       "3  1.000000  9.0\n",
       "7  4.000000  4.5"
      ]
     },
     "execution_count": 307,
     "metadata": {},
     "output_type": "execute_result"
    }
   ],
   "source": [
    "df15.groupby('A').agg('mean')"
   ]
  },
  {
   "cell_type": "code",
   "execution_count": 308,
   "metadata": {},
   "outputs": [
    {
     "data": {
      "text/html": [
       "<div>\n",
       "<style scoped>\n",
       "    .dataframe tbody tr th:only-of-type {\n",
       "        vertical-align: middle;\n",
       "    }\n",
       "\n",
       "    .dataframe tbody tr th {\n",
       "        vertical-align: top;\n",
       "    }\n",
       "\n",
       "    .dataframe thead tr th {\n",
       "        text-align: left;\n",
       "    }\n",
       "\n",
       "    .dataframe thead tr:last-of-type th {\n",
       "        text-align: right;\n",
       "    }\n",
       "</style>\n",
       "<table border=\"1\" class=\"dataframe\">\n",
       "  <thead>\n",
       "    <tr>\n",
       "      <th></th>\n",
       "      <th>B</th>\n",
       "      <th>C</th>\n",
       "    </tr>\n",
       "    <tr>\n",
       "      <th></th>\n",
       "      <th>mean</th>\n",
       "      <th>mean</th>\n",
       "    </tr>\n",
       "    <tr>\n",
       "      <th>A</th>\n",
       "      <th></th>\n",
       "      <th></th>\n",
       "    </tr>\n",
       "  </thead>\n",
       "  <tbody>\n",
       "    <tr>\n",
       "      <th>2</th>\n",
       "      <td>4.666667</td>\n",
       "      <td>5.0</td>\n",
       "    </tr>\n",
       "    <tr>\n",
       "      <th>3</th>\n",
       "      <td>1.000000</td>\n",
       "      <td>9.0</td>\n",
       "    </tr>\n",
       "    <tr>\n",
       "      <th>7</th>\n",
       "      <td>4.000000</td>\n",
       "      <td>4.5</td>\n",
       "    </tr>\n",
       "  </tbody>\n",
       "</table>\n",
       "</div>"
      ],
      "text/plain": [
       "          B    C\n",
       "       mean mean\n",
       "A               \n",
       "2  4.666667  5.0\n",
       "3  1.000000  9.0\n",
       "7  4.000000  4.5"
      ]
     },
     "execution_count": 308,
     "metadata": {},
     "output_type": "execute_result"
    }
   ],
   "source": [
    "df15.groupby('A').agg(['mean'])"
   ]
  },
  {
   "cell_type": "code",
   "execution_count": 303,
   "metadata": {},
   "outputs": [
    {
     "data": {
      "text/html": [
       "<div>\n",
       "<style scoped>\n",
       "    .dataframe tbody tr th:only-of-type {\n",
       "        vertical-align: middle;\n",
       "    }\n",
       "\n",
       "    .dataframe tbody tr th {\n",
       "        vertical-align: top;\n",
       "    }\n",
       "\n",
       "    .dataframe thead tr th {\n",
       "        text-align: left;\n",
       "    }\n",
       "\n",
       "    .dataframe thead tr:last-of-type th {\n",
       "        text-align: right;\n",
       "    }\n",
       "</style>\n",
       "<table border=\"1\" class=\"dataframe\">\n",
       "  <thead>\n",
       "    <tr>\n",
       "      <th></th>\n",
       "      <th colspan=\"2\" halign=\"left\">B</th>\n",
       "      <th colspan=\"2\" halign=\"left\">C</th>\n",
       "    </tr>\n",
       "    <tr>\n",
       "      <th></th>\n",
       "      <th>mean</th>\n",
       "      <th>median</th>\n",
       "      <th>mean</th>\n",
       "      <th>median</th>\n",
       "    </tr>\n",
       "    <tr>\n",
       "      <th>A</th>\n",
       "      <th></th>\n",
       "      <th></th>\n",
       "      <th></th>\n",
       "      <th></th>\n",
       "    </tr>\n",
       "  </thead>\n",
       "  <tbody>\n",
       "    <tr>\n",
       "      <th>2</th>\n",
       "      <td>4.666667</td>\n",
       "      <td>5</td>\n",
       "      <td>5.0</td>\n",
       "      <td>5.0</td>\n",
       "    </tr>\n",
       "    <tr>\n",
       "      <th>3</th>\n",
       "      <td>1.000000</td>\n",
       "      <td>1</td>\n",
       "      <td>9.0</td>\n",
       "      <td>9.0</td>\n",
       "    </tr>\n",
       "    <tr>\n",
       "      <th>7</th>\n",
       "      <td>4.000000</td>\n",
       "      <td>4</td>\n",
       "      <td>4.5</td>\n",
       "      <td>4.5</td>\n",
       "    </tr>\n",
       "  </tbody>\n",
       "</table>\n",
       "</div>"
      ],
      "text/plain": [
       "          B           C       \n",
       "       mean median mean median\n",
       "A                             \n",
       "2  4.666667      5  5.0    5.0\n",
       "3  1.000000      1  9.0    9.0\n",
       "7  4.000000      4  4.5    4.5"
      ]
     },
     "execution_count": 303,
     "metadata": {},
     "output_type": "execute_result"
    }
   ],
   "source": [
    "df15.groupby('A').agg(['mean', 'median'])\n",
    "# doing a same list of things on all columns and aggregate - use list [] in .agg()"
   ]
  },
  {
   "cell_type": "code",
   "execution_count": 311,
   "metadata": {},
   "outputs": [
    {
     "data": {
      "text/html": [
       "<div>\n",
       "<style scoped>\n",
       "    .dataframe tbody tr th:only-of-type {\n",
       "        vertical-align: middle;\n",
       "    }\n",
       "\n",
       "    .dataframe tbody tr th {\n",
       "        vertical-align: top;\n",
       "    }\n",
       "\n",
       "    .dataframe thead tr th {\n",
       "        text-align: left;\n",
       "    }\n",
       "\n",
       "    .dataframe thead tr:last-of-type th {\n",
       "        text-align: right;\n",
       "    }\n",
       "</style>\n",
       "<table border=\"1\" class=\"dataframe\">\n",
       "  <thead>\n",
       "    <tr>\n",
       "      <th></th>\n",
       "      <th>B</th>\n",
       "      <th>C</th>\n",
       "    </tr>\n",
       "    <tr>\n",
       "      <th></th>\n",
       "      <th>median</th>\n",
       "      <th>mean</th>\n",
       "    </tr>\n",
       "    <tr>\n",
       "      <th>A</th>\n",
       "      <th></th>\n",
       "      <th></th>\n",
       "    </tr>\n",
       "  </thead>\n",
       "  <tbody>\n",
       "    <tr>\n",
       "      <th>2</th>\n",
       "      <td>5</td>\n",
       "      <td>5.0</td>\n",
       "    </tr>\n",
       "    <tr>\n",
       "      <th>3</th>\n",
       "      <td>1</td>\n",
       "      <td>9.0</td>\n",
       "    </tr>\n",
       "    <tr>\n",
       "      <th>7</th>\n",
       "      <td>4</td>\n",
       "      <td>4.5</td>\n",
       "    </tr>\n",
       "  </tbody>\n",
       "</table>\n",
       "</div>"
      ],
      "text/plain": [
       "       B    C\n",
       "  median mean\n",
       "A            \n",
       "2      5  5.0\n",
       "3      1  9.0\n",
       "7      4  4.5"
      ]
     },
     "execution_count": 311,
     "metadata": {},
     "output_type": "execute_result"
    }
   ],
   "source": [
    "df15.groupby('A').agg({'B': ['median'], 'C': ['mean']})  \n",
    "# doing different things on different columns and aggregate - use dict {} in .agg()"
   ]
  },
  {
   "cell_type": "code",
   "execution_count": 318,
   "metadata": {},
   "outputs": [],
   "source": [
    "# df15.resample('A').agg('mean')\n",
    "# WRONG! .resample only valid with index being DatetimeIndex, TimedeltaIndex or PeriodIndex\n",
    "# help(pd.DataFrame.resample)\n",
    "# then try matplotlib with <a series>.plot"
   ]
  },
  {
   "cell_type": "code",
   "execution_count": 262,
   "metadata": {},
   "outputs": [
    {
     "data": {
      "text/html": [
       "<div>\n",
       "<style scoped>\n",
       "    .dataframe tbody tr th:only-of-type {\n",
       "        vertical-align: middle;\n",
       "    }\n",
       "\n",
       "    .dataframe tbody tr th {\n",
       "        vertical-align: top;\n",
       "    }\n",
       "\n",
       "    .dataframe thead th {\n",
       "        text-align: right;\n",
       "    }\n",
       "</style>\n",
       "<table border=\"1\" class=\"dataframe\">\n",
       "  <thead>\n",
       "    <tr style=\"text-align: right;\">\n",
       "      <th></th>\n",
       "      <th>A</th>\n",
       "      <th>B</th>\n",
       "      <th>C</th>\n",
       "      <th>D</th>\n",
       "    </tr>\n",
       "  </thead>\n",
       "  <tbody>\n",
       "    <tr>\n",
       "      <th>I</th>\n",
       "      <td>6</td>\n",
       "      <td>1</td>\n",
       "      <td>5</td>\n",
       "      <td>3</td>\n",
       "    </tr>\n",
       "    <tr>\n",
       "      <th>II</th>\n",
       "      <td>2</td>\n",
       "      <td>6</td>\n",
       "      <td>2</td>\n",
       "      <td>1</td>\n",
       "    </tr>\n",
       "    <tr>\n",
       "      <th>III</th>\n",
       "      <td>3</td>\n",
       "      <td>7</td>\n",
       "      <td>2</td>\n",
       "      <td>5</td>\n",
       "    </tr>\n",
       "    <tr>\n",
       "      <th>IV</th>\n",
       "      <td>7</td>\n",
       "      <td>1</td>\n",
       "      <td>6</td>\n",
       "      <td>3</td>\n",
       "    </tr>\n",
       "    <tr>\n",
       "      <th>V</th>\n",
       "      <td>2</td>\n",
       "      <td>6</td>\n",
       "      <td>7</td>\n",
       "      <td>3</td>\n",
       "    </tr>\n",
       "    <tr>\n",
       "      <th>VI</th>\n",
       "      <td>7</td>\n",
       "      <td>1</td>\n",
       "      <td>4</td>\n",
       "      <td>3</td>\n",
       "    </tr>\n",
       "  </tbody>\n",
       "</table>\n",
       "</div>"
      ],
      "text/plain": [
       "     A  B  C  D\n",
       "I    6  1  5  3\n",
       "II   2  6  2  1\n",
       "III  3  7  2  5\n",
       "IV   7  1  6  3\n",
       "V    2  6  7  3\n",
       "VI   7  1  4  3"
      ]
     },
     "execution_count": 262,
     "metadata": {},
     "output_type": "execute_result"
    }
   ],
   "source": [
    "df16 = pd.DataFrame(np.random.randint(1,8, (6,4)),\n",
    "                   index=['I','II','III','IV','V','VI'],\n",
    "                   columns=['A','B','C','D'])\n",
    "df16"
   ]
  },
  {
   "cell_type": "code",
   "execution_count": 263,
   "metadata": {},
   "outputs": [
    {
     "name": "stdout",
     "output_type": "stream",
     "text": [
      "group of value 2 in A has an average B value of 6.0\n",
      "group of value 3 in A has an average B value of 7.0\n",
      "group of value 6 in A has an average B value of 1.0\n",
      "group of value 7 in A has an average B value of 1.0\n"
     ]
    }
   ],
   "source": [
    "for g,f in df16.groupby('A'):\n",
    "    avg_B = np.average(f['B'])\n",
    "    print('group of value {} in A has an average B value of {}'.format(g, avg_B))"
   ]
  },
  {
   "cell_type": "code",
   "execution_count": 264,
   "metadata": {},
   "outputs": [
    {
     "name": "stdout",
     "output_type": "stream",
     "text": [
      "batch batch 2 in A has 2 records\n",
      "batch batch 3 in A has 1 records\n",
      "batch batch 4 in A has 3 records\n"
     ]
    }
   ],
   "source": [
    "def batch(g_item):\n",
    "    if g_item < 1:\n",
    "        return 'batch 1'\n",
    "    if g_item < 3:\n",
    "        return 'batch 2'\n",
    "    if g_item < 5:\n",
    "        return 'batch 3'\n",
    "    return 'batch 4'\n",
    "\n",
    "df16.set_index('A', inplace=True)    # when group by a function, the function \n",
    "                                     # automatically looks at the index column!\n",
    "for g,f in df16.groupby(batch):      # hence we need to reset to the desired index first  \n",
    "    rec = len(f)\n",
    "    print('batch {} in A has {} records'.format(g, rec))"
   ]
  },
  {
   "cell_type": "code",
   "execution_count": 265,
   "metadata": {},
   "outputs": [
    {
     "data": {
      "text/html": [
       "<div>\n",
       "<style scoped>\n",
       "    .dataframe tbody tr th:only-of-type {\n",
       "        vertical-align: middle;\n",
       "    }\n",
       "\n",
       "    .dataframe tbody tr th {\n",
       "        vertical-align: top;\n",
       "    }\n",
       "\n",
       "    .dataframe thead th {\n",
       "        text-align: right;\n",
       "    }\n",
       "</style>\n",
       "<table border=\"1\" class=\"dataframe\">\n",
       "  <thead>\n",
       "    <tr style=\"text-align: right;\">\n",
       "      <th></th>\n",
       "      <th>A</th>\n",
       "      <th>B</th>\n",
       "      <th>C</th>\n",
       "    </tr>\n",
       "  </thead>\n",
       "  <tbody>\n",
       "    <tr>\n",
       "      <th>I</th>\n",
       "      <td>2</td>\n",
       "      <td>5</td>\n",
       "      <td>5</td>\n",
       "    </tr>\n",
       "    <tr>\n",
       "      <th>II</th>\n",
       "      <td>5</td>\n",
       "      <td>5</td>\n",
       "      <td>1</td>\n",
       "    </tr>\n",
       "    <tr>\n",
       "      <th>III</th>\n",
       "      <td>5</td>\n",
       "      <td>1</td>\n",
       "      <td>5</td>\n",
       "    </tr>\n",
       "    <tr>\n",
       "      <th>IV</th>\n",
       "      <td>2</td>\n",
       "      <td>5</td>\n",
       "      <td>5</td>\n",
       "    </tr>\n",
       "    <tr>\n",
       "      <th>V</th>\n",
       "      <td>2</td>\n",
       "      <td>5</td>\n",
       "      <td>5</td>\n",
       "    </tr>\n",
       "    <tr>\n",
       "      <th>VI</th>\n",
       "      <td>5</td>\n",
       "      <td>5</td>\n",
       "      <td>5</td>\n",
       "    </tr>\n",
       "  </tbody>\n",
       "</table>\n",
       "</div>"
      ],
      "text/plain": [
       "     A  B  C\n",
       "I    2  5  5\n",
       "II   5  5  1\n",
       "III  5  1  5\n",
       "IV   2  5  5\n",
       "V    2  5  5\n",
       "VI   5  5  5"
      ]
     },
     "execution_count": 265,
     "metadata": {},
     "output_type": "execute_result"
    }
   ],
   "source": [
    "def mask_to_df15(v):\n",
    "    if v >= 3:\n",
    "        return 5\n",
    "    return v\n",
    "df15 = df15.applymap(mask_to_df15)\n",
    "df15"
   ]
  },
  {
   "cell_type": "code",
   "execution_count": 266,
   "metadata": {},
   "outputs": [
    {
     "data": {
      "text/html": [
       "<div>\n",
       "<style scoped>\n",
       "    .dataframe tbody tr th:only-of-type {\n",
       "        vertical-align: middle;\n",
       "    }\n",
       "\n",
       "    .dataframe tbody tr th {\n",
       "        vertical-align: top;\n",
       "    }\n",
       "\n",
       "    .dataframe thead th {\n",
       "        text-align: right;\n",
       "    }\n",
       "</style>\n",
       "<table border=\"1\" class=\"dataframe\">\n",
       "  <thead>\n",
       "    <tr style=\"text-align: right;\">\n",
       "      <th></th>\n",
       "      <th>B</th>\n",
       "      <th>C</th>\n",
       "    </tr>\n",
       "    <tr>\n",
       "      <th>A</th>\n",
       "      <th></th>\n",
       "      <th></th>\n",
       "    </tr>\n",
       "  </thead>\n",
       "  <tbody>\n",
       "    <tr>\n",
       "      <th>2</th>\n",
       "      <td>5.000000</td>\n",
       "      <td>5.000000</td>\n",
       "    </tr>\n",
       "    <tr>\n",
       "      <th>5</th>\n",
       "      <td>3.666667</td>\n",
       "      <td>3.666667</td>\n",
       "    </tr>\n",
       "  </tbody>\n",
       "</table>\n",
       "</div>"
      ],
      "text/plain": [
       "          B         C\n",
       "A                    \n",
       "2  5.000000  5.000000\n",
       "5  3.666667  3.666667"
      ]
     },
     "execution_count": 266,
     "metadata": {},
     "output_type": "execute_result"
    }
   ],
   "source": [
    "df15.groupby('A').mean()"
   ]
  },
  {
   "cell_type": "code",
   "execution_count": 267,
   "metadata": {},
   "outputs": [
    {
     "data": {
      "text/html": [
       "<div>\n",
       "<style scoped>\n",
       "    .dataframe tbody tr th:only-of-type {\n",
       "        vertical-align: middle;\n",
       "    }\n",
       "\n",
       "    .dataframe tbody tr th {\n",
       "        vertical-align: top;\n",
       "    }\n",
       "\n",
       "    .dataframe thead th {\n",
       "        text-align: right;\n",
       "    }\n",
       "</style>\n",
       "<table border=\"1\" class=\"dataframe\">\n",
       "  <thead>\n",
       "    <tr style=\"text-align: right;\">\n",
       "      <th></th>\n",
       "      <th>B</th>\n",
       "      <th>C</th>\n",
       "    </tr>\n",
       "  </thead>\n",
       "  <tbody>\n",
       "    <tr>\n",
       "      <th>I</th>\n",
       "      <td>5.000000</td>\n",
       "      <td>5.000000</td>\n",
       "    </tr>\n",
       "    <tr>\n",
       "      <th>II</th>\n",
       "      <td>3.666667</td>\n",
       "      <td>3.666667</td>\n",
       "    </tr>\n",
       "    <tr>\n",
       "      <th>III</th>\n",
       "      <td>3.666667</td>\n",
       "      <td>3.666667</td>\n",
       "    </tr>\n",
       "    <tr>\n",
       "      <th>IV</th>\n",
       "      <td>5.000000</td>\n",
       "      <td>5.000000</td>\n",
       "    </tr>\n",
       "    <tr>\n",
       "      <th>V</th>\n",
       "      <td>5.000000</td>\n",
       "      <td>5.000000</td>\n",
       "    </tr>\n",
       "    <tr>\n",
       "      <th>VI</th>\n",
       "      <td>3.666667</td>\n",
       "      <td>3.666667</td>\n",
       "    </tr>\n",
       "  </tbody>\n",
       "</table>\n",
       "</div>"
      ],
      "text/plain": [
       "            B         C\n",
       "I    5.000000  5.000000\n",
       "II   3.666667  3.666667\n",
       "III  3.666667  3.666667\n",
       "IV   5.000000  5.000000\n",
       "V    5.000000  5.000000\n",
       "VI   3.666667  3.666667"
      ]
     },
     "execution_count": 267,
     "metadata": {},
     "output_type": "execute_result"
    }
   ],
   "source": [
    "df15_alt = df15.groupby('A').transform(np.mean)   # .transform works on the frame part of the groupby\n",
    "df15_alt                                          # and returns that frame,\n",
    "                                                  # which later can be merged to the original DataFrame  "
   ]
  },
  {
   "cell_type": "code",
   "execution_count": 268,
   "metadata": {},
   "outputs": [
    {
     "data": {
      "text/html": [
       "<div>\n",
       "<style scoped>\n",
       "    .dataframe tbody tr th:only-of-type {\n",
       "        vertical-align: middle;\n",
       "    }\n",
       "\n",
       "    .dataframe tbody tr th {\n",
       "        vertical-align: top;\n",
       "    }\n",
       "\n",
       "    .dataframe thead th {\n",
       "        text-align: right;\n",
       "    }\n",
       "</style>\n",
       "<table border=\"1\" class=\"dataframe\">\n",
       "  <thead>\n",
       "    <tr style=\"text-align: right;\">\n",
       "      <th></th>\n",
       "      <th>avg_B_by_A</th>\n",
       "      <th>avg_C_by_A</th>\n",
       "    </tr>\n",
       "  </thead>\n",
       "  <tbody>\n",
       "    <tr>\n",
       "      <th>I</th>\n",
       "      <td>5.00</td>\n",
       "      <td>5.00</td>\n",
       "    </tr>\n",
       "    <tr>\n",
       "      <th>II</th>\n",
       "      <td>3.67</td>\n",
       "      <td>3.67</td>\n",
       "    </tr>\n",
       "    <tr>\n",
       "      <th>III</th>\n",
       "      <td>3.67</td>\n",
       "      <td>3.67</td>\n",
       "    </tr>\n",
       "    <tr>\n",
       "      <th>IV</th>\n",
       "      <td>5.00</td>\n",
       "      <td>5.00</td>\n",
       "    </tr>\n",
       "    <tr>\n",
       "      <th>V</th>\n",
       "      <td>5.00</td>\n",
       "      <td>5.00</td>\n",
       "    </tr>\n",
       "    <tr>\n",
       "      <th>VI</th>\n",
       "      <td>3.67</td>\n",
       "      <td>3.67</td>\n",
       "    </tr>\n",
       "  </tbody>\n",
       "</table>\n",
       "</div>"
      ],
      "text/plain": [
       "     avg_B_by_A  avg_C_by_A\n",
       "I          5.00        5.00\n",
       "II         3.67        3.67\n",
       "III        3.67        3.67\n",
       "IV         5.00        5.00\n",
       "V          5.00        5.00\n",
       "VI         3.67        3.67"
      ]
     },
     "execution_count": 268,
     "metadata": {},
     "output_type": "execute_result"
    }
   ],
   "source": [
    "df15_alt = df15_alt.rename(mapper={'B': 'avg_B_by_A', 'C': 'avg_C_by_A'}, axis=1)\n",
    "df15_alt = round(df15_alt, 2)\n",
    "df15_alt"
   ]
  },
  {
   "cell_type": "code",
   "execution_count": 269,
   "metadata": {},
   "outputs": [
    {
     "data": {
      "text/html": [
       "<div>\n",
       "<style scoped>\n",
       "    .dataframe tbody tr th:only-of-type {\n",
       "        vertical-align: middle;\n",
       "    }\n",
       "\n",
       "    .dataframe tbody tr th {\n",
       "        vertical-align: top;\n",
       "    }\n",
       "\n",
       "    .dataframe thead th {\n",
       "        text-align: right;\n",
       "    }\n",
       "</style>\n",
       "<table border=\"1\" class=\"dataframe\">\n",
       "  <thead>\n",
       "    <tr style=\"text-align: right;\">\n",
       "      <th></th>\n",
       "      <th>A</th>\n",
       "      <th>B</th>\n",
       "      <th>C</th>\n",
       "      <th>avg_B_by_A</th>\n",
       "      <th>avg_C_by_A</th>\n",
       "    </tr>\n",
       "  </thead>\n",
       "  <tbody>\n",
       "    <tr>\n",
       "      <th>I</th>\n",
       "      <td>2</td>\n",
       "      <td>5</td>\n",
       "      <td>5</td>\n",
       "      <td>5.00</td>\n",
       "      <td>5.00</td>\n",
       "    </tr>\n",
       "    <tr>\n",
       "      <th>II</th>\n",
       "      <td>5</td>\n",
       "      <td>5</td>\n",
       "      <td>1</td>\n",
       "      <td>3.67</td>\n",
       "      <td>3.67</td>\n",
       "    </tr>\n",
       "    <tr>\n",
       "      <th>III</th>\n",
       "      <td>5</td>\n",
       "      <td>1</td>\n",
       "      <td>5</td>\n",
       "      <td>3.67</td>\n",
       "      <td>3.67</td>\n",
       "    </tr>\n",
       "    <tr>\n",
       "      <th>IV</th>\n",
       "      <td>2</td>\n",
       "      <td>5</td>\n",
       "      <td>5</td>\n",
       "      <td>5.00</td>\n",
       "      <td>5.00</td>\n",
       "    </tr>\n",
       "    <tr>\n",
       "      <th>V</th>\n",
       "      <td>2</td>\n",
       "      <td>5</td>\n",
       "      <td>5</td>\n",
       "      <td>5.00</td>\n",
       "      <td>5.00</td>\n",
       "    </tr>\n",
       "    <tr>\n",
       "      <th>VI</th>\n",
       "      <td>5</td>\n",
       "      <td>5</td>\n",
       "      <td>5</td>\n",
       "      <td>3.67</td>\n",
       "      <td>3.67</td>\n",
       "    </tr>\n",
       "  </tbody>\n",
       "</table>\n",
       "</div>"
      ],
      "text/plain": [
       "     A  B  C  avg_B_by_A  avg_C_by_A\n",
       "I    2  5  5        5.00        5.00\n",
       "II   5  5  1        3.67        3.67\n",
       "III  5  1  5        3.67        3.67\n",
       "IV   2  5  5        5.00        5.00\n",
       "V    2  5  5        5.00        5.00\n",
       "VI   5  5  5        3.67        3.67"
      ]
     },
     "execution_count": 269,
     "metadata": {},
     "output_type": "execute_result"
    }
   ],
   "source": [
    "df15_alt1 = df15.merge(df15_alt, left_index=True, right_index=True)\n",
    "df15_alt1"
   ]
  },
  {
   "cell_type": "code",
   "execution_count": 270,
   "metadata": {},
   "outputs": [
    {
     "data": {
      "text/html": [
       "<div>\n",
       "<style scoped>\n",
       "    .dataframe tbody tr th:only-of-type {\n",
       "        vertical-align: middle;\n",
       "    }\n",
       "\n",
       "    .dataframe tbody tr th {\n",
       "        vertical-align: top;\n",
       "    }\n",
       "\n",
       "    .dataframe thead th {\n",
       "        text-align: right;\n",
       "    }\n",
       "</style>\n",
       "<table border=\"1\" class=\"dataframe\">\n",
       "  <thead>\n",
       "    <tr style=\"text-align: right;\">\n",
       "      <th></th>\n",
       "      <th>A</th>\n",
       "      <th>B</th>\n",
       "      <th>avg_B_by_A</th>\n",
       "      <th>C</th>\n",
       "      <th>avg_C_by_A</th>\n",
       "    </tr>\n",
       "  </thead>\n",
       "  <tbody>\n",
       "    <tr>\n",
       "      <th>I</th>\n",
       "      <td>2</td>\n",
       "      <td>5</td>\n",
       "      <td>5</td>\n",
       "      <td>5.00</td>\n",
       "      <td>5.00</td>\n",
       "    </tr>\n",
       "    <tr>\n",
       "      <th>II</th>\n",
       "      <td>5</td>\n",
       "      <td>5</td>\n",
       "      <td>1</td>\n",
       "      <td>3.67</td>\n",
       "      <td>3.67</td>\n",
       "    </tr>\n",
       "    <tr>\n",
       "      <th>III</th>\n",
       "      <td>5</td>\n",
       "      <td>1</td>\n",
       "      <td>5</td>\n",
       "      <td>3.67</td>\n",
       "      <td>3.67</td>\n",
       "    </tr>\n",
       "    <tr>\n",
       "      <th>IV</th>\n",
       "      <td>2</td>\n",
       "      <td>5</td>\n",
       "      <td>5</td>\n",
       "      <td>5.00</td>\n",
       "      <td>5.00</td>\n",
       "    </tr>\n",
       "    <tr>\n",
       "      <th>V</th>\n",
       "      <td>2</td>\n",
       "      <td>5</td>\n",
       "      <td>5</td>\n",
       "      <td>5.00</td>\n",
       "      <td>5.00</td>\n",
       "    </tr>\n",
       "    <tr>\n",
       "      <th>VI</th>\n",
       "      <td>5</td>\n",
       "      <td>5</td>\n",
       "      <td>5</td>\n",
       "      <td>3.67</td>\n",
       "      <td>3.67</td>\n",
       "    </tr>\n",
       "  </tbody>\n",
       "</table>\n",
       "</div>"
      ],
      "text/plain": [
       "     A  B  avg_B_by_A     C  avg_C_by_A\n",
       "I    2  5           5  5.00        5.00\n",
       "II   5  5           1  3.67        3.67\n",
       "III  5  1           5  3.67        3.67\n",
       "IV   2  5           5  5.00        5.00\n",
       "V    2  5           5  5.00        5.00\n",
       "VI   5  5           5  3.67        3.67"
      ]
     },
     "execution_count": 270,
     "metadata": {},
     "output_type": "execute_result"
    }
   ],
   "source": [
    "df15_alt1.columns = ['A', 'B', 'avg_B_by_A', 'C', 'avg_C_by_A']\n",
    "df15_alt1"
   ]
  },
  {
   "cell_type": "code",
   "execution_count": 271,
   "metadata": {},
   "outputs": [
    {
     "data": {
      "text/html": [
       "<div>\n",
       "<style scoped>\n",
       "    .dataframe tbody tr th:only-of-type {\n",
       "        vertical-align: middle;\n",
       "    }\n",
       "\n",
       "    .dataframe tbody tr th {\n",
       "        vertical-align: top;\n",
       "    }\n",
       "\n",
       "    .dataframe thead th {\n",
       "        text-align: right;\n",
       "    }\n",
       "</style>\n",
       "<table border=\"1\" class=\"dataframe\">\n",
       "  <thead>\n",
       "    <tr style=\"text-align: right;\">\n",
       "      <th></th>\n",
       "      <th>A</th>\n",
       "      <th>B</th>\n",
       "      <th>C</th>\n",
       "    </tr>\n",
       "  </thead>\n",
       "  <tbody>\n",
       "    <tr>\n",
       "      <th>I</th>\n",
       "      <td>2</td>\n",
       "      <td>5</td>\n",
       "      <td>5</td>\n",
       "    </tr>\n",
       "    <tr>\n",
       "      <th>II</th>\n",
       "      <td>5</td>\n",
       "      <td>5</td>\n",
       "      <td>1</td>\n",
       "    </tr>\n",
       "    <tr>\n",
       "      <th>III</th>\n",
       "      <td>5</td>\n",
       "      <td>1</td>\n",
       "      <td>5</td>\n",
       "    </tr>\n",
       "    <tr>\n",
       "      <th>IV</th>\n",
       "      <td>2</td>\n",
       "      <td>5</td>\n",
       "      <td>5</td>\n",
       "    </tr>\n",
       "    <tr>\n",
       "      <th>V</th>\n",
       "      <td>2</td>\n",
       "      <td>5</td>\n",
       "      <td>5</td>\n",
       "    </tr>\n",
       "    <tr>\n",
       "      <th>VI</th>\n",
       "      <td>5</td>\n",
       "      <td>5</td>\n",
       "      <td>5</td>\n",
       "    </tr>\n",
       "  </tbody>\n",
       "</table>\n",
       "</div>"
      ],
      "text/plain": [
       "     A  B  C\n",
       "I    2  5  5\n",
       "II   5  5  1\n",
       "III  5  1  5\n",
       "IV   2  5  5\n",
       "V    2  5  5\n",
       "VI   5  5  5"
      ]
     },
     "execution_count": 271,
     "metadata": {},
     "output_type": "execute_result"
    }
   ],
   "source": [
    "df15"
   ]
  },
  {
   "cell_type": "code",
   "execution_count": 272,
   "metadata": {},
   "outputs": [
    {
     "data": {
      "text/html": [
       "<div>\n",
       "<style scoped>\n",
       "    .dataframe tbody tr th:only-of-type {\n",
       "        vertical-align: middle;\n",
       "    }\n",
       "\n",
       "    .dataframe tbody tr th {\n",
       "        vertical-align: top;\n",
       "    }\n",
       "\n",
       "    .dataframe thead th {\n",
       "        text-align: right;\n",
       "    }\n",
       "</style>\n",
       "<table border=\"1\" class=\"dataframe\">\n",
       "  <thead>\n",
       "    <tr style=\"text-align: right;\">\n",
       "      <th></th>\n",
       "      <th>A</th>\n",
       "      <th>B</th>\n",
       "      <th>C</th>\n",
       "    </tr>\n",
       "  </thead>\n",
       "  <tbody>\n",
       "    <tr>\n",
       "      <th>I</th>\n",
       "      <td>2</td>\n",
       "      <td>5</td>\n",
       "      <td>5</td>\n",
       "    </tr>\n",
       "    <tr>\n",
       "      <th>IV</th>\n",
       "      <td>2</td>\n",
       "      <td>5</td>\n",
       "      <td>5</td>\n",
       "    </tr>\n",
       "    <tr>\n",
       "      <th>V</th>\n",
       "      <td>2</td>\n",
       "      <td>5</td>\n",
       "      <td>5</td>\n",
       "    </tr>\n",
       "  </tbody>\n",
       "</table>\n",
       "</div>"
      ],
      "text/plain": [
       "    A  B  C\n",
       "I   2  5  5\n",
       "IV  2  5  5\n",
       "V   2  5  5"
      ]
     },
     "execution_count": 272,
     "metadata": {},
     "output_type": "execute_result"
    }
   ],
   "source": [
    "df15.groupby('A').filter(lambda x: x['B'].mean() > 4)    # .groupby().filter(), so it only works on row by row within each group\n",
    "                                                         # works on the frame part of the groupby\n",
    "                                                         # and returns the group(s) that match the filter"
   ]
  },
  {
   "cell_type": "code",
   "execution_count": 273,
   "metadata": {},
   "outputs": [
    {
     "data": {
      "text/html": [
       "<div>\n",
       "<style scoped>\n",
       "    .dataframe tbody tr th:only-of-type {\n",
       "        vertical-align: middle;\n",
       "    }\n",
       "\n",
       "    .dataframe tbody tr th {\n",
       "        vertical-align: top;\n",
       "    }\n",
       "\n",
       "    .dataframe thead th {\n",
       "        text-align: right;\n",
       "    }\n",
       "</style>\n",
       "<table border=\"1\" class=\"dataframe\">\n",
       "  <thead>\n",
       "    <tr style=\"text-align: right;\">\n",
       "      <th></th>\n",
       "      <th>A</th>\n",
       "      <th>B</th>\n",
       "      <th>C</th>\n",
       "      <th>avg_B_by_A</th>\n",
       "    </tr>\n",
       "  </thead>\n",
       "  <tbody>\n",
       "    <tr>\n",
       "      <th>I</th>\n",
       "      <td>2</td>\n",
       "      <td>5</td>\n",
       "      <td>5</td>\n",
       "      <td>5.00</td>\n",
       "    </tr>\n",
       "    <tr>\n",
       "      <th>II</th>\n",
       "      <td>5</td>\n",
       "      <td>5</td>\n",
       "      <td>1</td>\n",
       "      <td>3.67</td>\n",
       "    </tr>\n",
       "    <tr>\n",
       "      <th>III</th>\n",
       "      <td>5</td>\n",
       "      <td>1</td>\n",
       "      <td>5</td>\n",
       "      <td>3.67</td>\n",
       "    </tr>\n",
       "    <tr>\n",
       "      <th>IV</th>\n",
       "      <td>2</td>\n",
       "      <td>5</td>\n",
       "      <td>5</td>\n",
       "      <td>5.00</td>\n",
       "    </tr>\n",
       "    <tr>\n",
       "      <th>V</th>\n",
       "      <td>2</td>\n",
       "      <td>5</td>\n",
       "      <td>5</td>\n",
       "      <td>5.00</td>\n",
       "    </tr>\n",
       "    <tr>\n",
       "      <th>VI</th>\n",
       "      <td>5</td>\n",
       "      <td>5</td>\n",
       "      <td>5</td>\n",
       "      <td>3.67</td>\n",
       "    </tr>\n",
       "  </tbody>\n",
       "</table>\n",
       "</div>"
      ],
      "text/plain": [
       "     A  B  C  avg_B_by_A\n",
       "I    2  5  5        5.00\n",
       "II   5  5  1        3.67\n",
       "III  5  1  5        3.67\n",
       "IV   2  5  5        5.00\n",
       "V    2  5  5        5.00\n",
       "VI   5  5  5        3.67"
      ]
     },
     "execution_count": 273,
     "metadata": {},
     "output_type": "execute_result"
    }
   ],
   "source": [
    "def get_mean(g_frame):                       # frame for each group from .groupby() below\n",
    "    group_mean = np.mean(g_frame['B'])\n",
    "    g_frame['avg_B_by_A'] = round(group_mean,2)\n",
    "    return g_frame\n",
    "\n",
    "df15.groupby('A').apply(get_mean)          # again, .groupby() then .apply() so it only works on row by row within each group\n",
    "                                           # again, works on the frame part of each group \n",
    "                                           # and returns whatever the applied function calls!"
   ]
  },
  {
   "cell_type": "code",
   "execution_count": 274,
   "metadata": {},
   "outputs": [
    {
     "data": {
      "text/html": [
       "<div>\n",
       "<style scoped>\n",
       "    .dataframe tbody tr th:only-of-type {\n",
       "        vertical-align: middle;\n",
       "    }\n",
       "\n",
       "    .dataframe tbody tr th {\n",
       "        vertical-align: top;\n",
       "    }\n",
       "\n",
       "    .dataframe thead th {\n",
       "        text-align: right;\n",
       "    }\n",
       "</style>\n",
       "<table border=\"1\" class=\"dataframe\">\n",
       "  <thead>\n",
       "    <tr style=\"text-align: right;\">\n",
       "      <th></th>\n",
       "      <th>Grades</th>\n",
       "    </tr>\n",
       "  </thead>\n",
       "  <tbody>\n",
       "    <tr>\n",
       "      <th>excellent</th>\n",
       "      <td>A+</td>\n",
       "    </tr>\n",
       "    <tr>\n",
       "      <th>excellent</th>\n",
       "      <td>A</td>\n",
       "    </tr>\n",
       "    <tr>\n",
       "      <th>excellent</th>\n",
       "      <td>A-</td>\n",
       "    </tr>\n",
       "    <tr>\n",
       "      <th>good</th>\n",
       "      <td>B+</td>\n",
       "    </tr>\n",
       "    <tr>\n",
       "      <th>good</th>\n",
       "      <td>B</td>\n",
       "    </tr>\n",
       "    <tr>\n",
       "      <th>good</th>\n",
       "      <td>B-</td>\n",
       "    </tr>\n",
       "    <tr>\n",
       "      <th>ok</th>\n",
       "      <td>C+</td>\n",
       "    </tr>\n",
       "    <tr>\n",
       "      <th>ok</th>\n",
       "      <td>C</td>\n",
       "    </tr>\n",
       "    <tr>\n",
       "      <th>ok</th>\n",
       "      <td>C-</td>\n",
       "    </tr>\n",
       "    <tr>\n",
       "      <th>poor</th>\n",
       "      <td>D+</td>\n",
       "    </tr>\n",
       "    <tr>\n",
       "      <th>poor</th>\n",
       "      <td>D</td>\n",
       "    </tr>\n",
       "  </tbody>\n",
       "</table>\n",
       "</div>"
      ],
      "text/plain": [
       "          Grades\n",
       "excellent     A+\n",
       "excellent      A\n",
       "excellent     A-\n",
       "good          B+\n",
       "good           B\n",
       "good          B-\n",
       "ok            C+\n",
       "ok             C\n",
       "ok            C-\n",
       "poor          D+\n",
       "poor           D"
      ]
     },
     "execution_count": 274,
     "metadata": {},
     "output_type": "execute_result"
    }
   ],
   "source": [
    "df17 = pd.DataFrame(['A+', 'A', 'A-', 'B+', 'B', 'B-', 'C+', 'C', 'C-', 'D+', 'D'],\n",
    "                  index=['excellent', 'excellent', 'excellent', 'good', 'good', 'good', \n",
    "                         'ok', 'ok', 'ok', 'poor', 'poor'],\n",
    "                  columns=[\"Grades\"])\n",
    "df17"
   ]
  },
  {
   "cell_type": "code",
   "execution_count": 275,
   "metadata": {},
   "outputs": [
    {
     "data": {
      "text/html": [
       "<div>\n",
       "<style scoped>\n",
       "    .dataframe tbody tr th:only-of-type {\n",
       "        vertical-align: middle;\n",
       "    }\n",
       "\n",
       "    .dataframe tbody tr th {\n",
       "        vertical-align: top;\n",
       "    }\n",
       "\n",
       "    .dataframe thead th {\n",
       "        text-align: right;\n",
       "    }\n",
       "</style>\n",
       "<table border=\"1\" class=\"dataframe\">\n",
       "  <thead>\n",
       "    <tr style=\"text-align: right;\">\n",
       "      <th></th>\n",
       "      <th>Grades</th>\n",
       "    </tr>\n",
       "  </thead>\n",
       "  <tbody>\n",
       "    <tr>\n",
       "      <th>ok</th>\n",
       "      <td>C+</td>\n",
       "    </tr>\n",
       "    <tr>\n",
       "      <th>ok</th>\n",
       "      <td>C-</td>\n",
       "    </tr>\n",
       "    <tr>\n",
       "      <th>poor</th>\n",
       "      <td>D+</td>\n",
       "    </tr>\n",
       "    <tr>\n",
       "      <th>poor</th>\n",
       "      <td>D</td>\n",
       "    </tr>\n",
       "  </tbody>\n",
       "</table>\n",
       "</div>"
      ],
      "text/plain": [
       "     Grades\n",
       "ok       C+\n",
       "ok       C-\n",
       "poor     D+\n",
       "poor      D"
      ]
     },
     "execution_count": 275,
     "metadata": {},
     "output_type": "execute_result"
    }
   ],
   "source": [
    "df17[df17 > 'C'].dropna()          # NO! This is wrong because 'Grades' are not ordered by categorical scale"
   ]
  },
  {
   "cell_type": "code",
   "execution_count": 276,
   "metadata": {},
   "outputs": [
    {
     "data": {
      "text/plain": [
       "Grades    object\n",
       "dtype: object"
      ]
     },
     "execution_count": 276,
     "metadata": {},
     "output_type": "execute_result"
    }
   ],
   "source": [
    "df17.dtypes"
   ]
  },
  {
   "cell_type": "code",
   "execution_count": 277,
   "metadata": {},
   "outputs": [
    {
     "data": {
      "text/plain": [
       "CategoricalDtype(categories=['A', 'A+', 'A-', 'B', 'B+', 'B-', 'C', 'C+', 'C-', 'D',\n",
       "                  'D+'],\n",
       "                 ordered=False)"
      ]
     },
     "execution_count": 277,
     "metadata": {},
     "output_type": "execute_result"
    }
   ],
   "source": [
    "# now change Series.dtype to categorical but the ranking is not ordered by default\n",
    "df17['Grades'].astype('category').dtype"
   ]
  },
  {
   "cell_type": "code",
   "execution_count": 278,
   "metadata": {},
   "outputs": [
    {
     "data": {
      "text/plain": [
       "CategoricalDtype(categories=['D', 'D+', 'C-', 'C', 'C+', 'B-', 'B', 'B+', 'A-', 'A',\n",
       "                  'A+'],\n",
       "                 ordered=True)"
      ]
     },
     "execution_count": 278,
     "metadata": {},
     "output_type": "execute_result"
    }
   ],
   "source": [
    "# now need to modify the category ranking and set ordered=True\n",
    "my_category = pd.CategoricalDtype(categories=['D', 'D+', 'C-', 'C', 'C+', 'B-', 'B', 'B+', 'A-', 'A', \n",
    "                    'A+'],\n",
    "                 ordered=True)\n",
    "my_category"
   ]
  },
  {
   "cell_type": "code",
   "execution_count": 279,
   "metadata": {},
   "outputs": [
    {
     "data": {
      "text/plain": [
       "CategoricalDtype(categories=['D', 'D+', 'C-', 'C', 'C+', 'B-', 'B', 'B+', 'A-', 'A',\n",
       "                  'A+'],\n",
       "                 ordered=True)"
      ]
     },
     "execution_count": 279,
     "metadata": {},
     "output_type": "execute_result"
    }
   ],
   "source": [
    "# now apply AND ASSIGN! this - note: ('category') vs (my_category)\n",
    "df17['Grades'] = df17['Grades'].astype(my_category)\n",
    "df17['Grades'].dtype"
   ]
  },
  {
   "cell_type": "code",
   "execution_count": 280,
   "metadata": {},
   "outputs": [
    {
     "data": {
      "text/plain": [
       "Grades    category\n",
       "dtype: object"
      ]
     },
     "execution_count": 280,
     "metadata": {},
     "output_type": "execute_result"
    }
   ],
   "source": [
    "df17.dtypes"
   ]
  },
  {
   "cell_type": "code",
   "execution_count": 281,
   "metadata": {},
   "outputs": [
    {
     "data": {
      "text/html": [
       "<div>\n",
       "<style scoped>\n",
       "    .dataframe tbody tr th:only-of-type {\n",
       "        vertical-align: middle;\n",
       "    }\n",
       "\n",
       "    .dataframe tbody tr th {\n",
       "        vertical-align: top;\n",
       "    }\n",
       "\n",
       "    .dataframe thead th {\n",
       "        text-align: right;\n",
       "    }\n",
       "</style>\n",
       "<table border=\"1\" class=\"dataframe\">\n",
       "  <thead>\n",
       "    <tr style=\"text-align: right;\">\n",
       "      <th></th>\n",
       "      <th>Grades</th>\n",
       "    </tr>\n",
       "  </thead>\n",
       "  <tbody>\n",
       "    <tr>\n",
       "      <th>excellent</th>\n",
       "      <td>A+</td>\n",
       "    </tr>\n",
       "    <tr>\n",
       "      <th>excellent</th>\n",
       "      <td>A</td>\n",
       "    </tr>\n",
       "    <tr>\n",
       "      <th>excellent</th>\n",
       "      <td>A-</td>\n",
       "    </tr>\n",
       "    <tr>\n",
       "      <th>good</th>\n",
       "      <td>B+</td>\n",
       "    </tr>\n",
       "    <tr>\n",
       "      <th>good</th>\n",
       "      <td>B</td>\n",
       "    </tr>\n",
       "    <tr>\n",
       "      <th>good</th>\n",
       "      <td>B-</td>\n",
       "    </tr>\n",
       "    <tr>\n",
       "      <th>ok</th>\n",
       "      <td>C+</td>\n",
       "    </tr>\n",
       "  </tbody>\n",
       "</table>\n",
       "</div>"
      ],
      "text/plain": [
       "          Grades\n",
       "excellent     A+\n",
       "excellent      A\n",
       "excellent     A-\n",
       "good          B+\n",
       "good           B\n",
       "good          B-\n",
       "ok            C+"
      ]
     },
     "execution_count": 281,
     "metadata": {},
     "output_type": "execute_result"
    }
   ],
   "source": [
    "df17[df17 > 'C'].dropna()"
   ]
  },
  {
   "cell_type": "code",
   "execution_count": null,
   "metadata": {},
   "outputs": [],
   "source": []
  }
 ],
 "metadata": {
  "kernelspec": {
   "display_name": "Python 3",
   "language": "python",
   "name": "python3"
  },
  "language_info": {
   "codemirror_mode": {
    "name": "ipython",
    "version": 3
   },
   "file_extension": ".py",
   "mimetype": "text/x-python",
   "name": "python",
   "nbconvert_exporter": "python",
   "pygments_lexer": "ipython3",
   "version": "3.8.5"
  },
  "toc": {
   "base_numbering": 1,
   "nav_menu": {},
   "number_sections": true,
   "sideBar": true,
   "skip_h1_title": false,
   "title_cell": "Table of Contents",
   "title_sidebar": "Contents",
   "toc_cell": false,
   "toc_position": {
    "height": "calc(100% - 180px)",
    "left": "10px",
    "top": "150px",
    "width": "165px"
   },
   "toc_section_display": true,
   "toc_window_display": true
  },
  "varInspector": {
   "cols": {
    "lenName": 16,
    "lenType": 16,
    "lenVar": 40
   },
   "kernels_config": {
    "python": {
     "delete_cmd_postfix": "",
     "delete_cmd_prefix": "del ",
     "library": "var_list.py",
     "varRefreshCmd": "print(var_dic_list())"
    },
    "r": {
     "delete_cmd_postfix": ") ",
     "delete_cmd_prefix": "rm(",
     "library": "var_list.r",
     "varRefreshCmd": "cat(var_dic_list()) "
    }
   },
   "oldHeight": 292,
   "position": {
    "height": "747px",
    "left": "2px",
    "right": "20px",
    "top": "278px",
    "width": "161px"
   },
   "types_to_exclude": [
    "module",
    "function",
    "builtin_function_or_method",
    "instance",
    "_Feature"
   ],
   "varInspector_section_display": "block",
   "window_display": true
  }
 },
 "nbformat": 4,
 "nbformat_minor": 4
}
